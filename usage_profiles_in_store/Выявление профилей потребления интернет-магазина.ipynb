{
 "cells": [
  {
   "cell_type": "markdown",
   "id": "6e178f31",
   "metadata": {},
   "source": [
    "# Выявление профилей потребления"
   ]
  },
  {
   "cell_type": "markdown",
   "id": "bb7d1d84",
   "metadata": {},
   "source": [
    "Заказчиком выступает интернет-магазин товаров для дома \"Пока все ещё тут\". В последнее время они испытывают проблемы и хотят понять в каком направлении стоит развиваться и какие проблемы необходимо решить для этого. \n",
    "\n",
    "Среди **задач** можно выделить:\n",
    "- проведение исследовательского анализа данных;\n",
    "- сегментация покупателей на основе информации об их покупках;\n",
    "- анализ выделенных сегментов пользователей;\n",
    "- формулирование и проверка статистических гипотез."
   ]
  },
  {
   "cell_type": "markdown",
   "id": "57963c8e",
   "metadata": {},
   "source": [
    "**Оглавление**\n",
    "* [[Декомпозиция](#p1)](#section_id)<a id='section_id1'></a>\n",
    "* [[Открытие файла и изучение общей информации](#p2)](#section_id)<a id='section_id2'></a>\n",
    "* [[Предобработка данных](#p3)](#section_id)<a id='section_id3'></a>\n",
    "* [[Исследовательский анализ данных](#p4)](#section_id)<a id='section_id4'></a>\n",
    "* [[Сегментация пользователей и дальнейший анализ](#p5)](#section_id)<a id='section_id5'></a>\n",
    "* [[Статистический анализ гипотез](#p6)](#section_id)<a id='section_id6'></a>\n",
    "* [[Выводы](#p7)](#section_id)<a id='section_id7'></a>\n",
    "* [[Рекомендации](#p8)](#section_id)<a id='section_id8'></a>"
   ]
  },
  {
   "cell_type": "markdown",
   "id": "465edb18",
   "metadata": {},
   "source": [
    "<a id='p1'></a>\n",
    "### [Декомпозиция](#section_id1)"
   ]
  },
  {
   "cell_type": "markdown",
   "id": "632150c4",
   "metadata": {},
   "source": [
    "**Предобработка данных**\n",
    "- проверить соответствие типов значений в столбцах;\n",
    "- проверить пропуски в данных;\n",
    "- проверить дубликаты;\n",
    "- проверить выбросы в данных;\n",
    "- при необходимости скорректировать все вышеперечисленное;\n",
    "- добавить дополнительные столбцы с информацией о стоимости товара в заказе и категорией товара.\n",
    "\n",
    "**Исследовательский анализ данных**\n",
    "- выявить динамику выручки по месяцам (возможно, по дням недели);\n",
    "- рассчитать средний чек (AOV) и посмотреть его динамику по месяцам;\n",
    "- рассчитать среднюю выручку с покупателя (ARPU) и посмотреть ее динамику по месяцам;\n",
    "- рассчитать сезонность товаров и построить ее динамику по месяцам;\n",
    "- рассчитать сезонность категорий и построить ее динамику по месяцам.\n",
    "\n",
    "**Сементация пользователей и дальнейший анализ**\n",
    "- осуществить сегментацию пользователей с помощью RFM-анализа;\n",
    "- для каждого сегмента выявить категории товаров, приносящих максимальный доход и визуализировать результат;\n",
    "- для каждого сегмента выявить категории товаров, пользующихся максимальным спросом и визуализировать результат;\n",
    "- для каждого сегмента выявить сезонность покупок и визуализировать результат.\n",
    "\n",
    "**Статистический анализ гипотез**\n",
    "- 1 гипотеза: у оптовых и розничных покупателей разная частота заказов;\n",
    "- проверка 1 гипотезы;\n",
    "- 2 гипотеза: у оптовых и розничных покупателей разная частота заказов;\n",
    "- проверка 2 гипотезы;\n",
    "- 3 гипотеза: разные категории покупателей имеют разную сезонность покупок категорий товаров;\n",
    "- проверка 3 гипотезы.\n",
    "\n",
    "**Выводы**\n",
    "- краткие выводы по каждому этапу исследования;\n",
    "- общие рекомендации."
   ]
  },
  {
   "cell_type": "markdown",
   "id": "03022dad",
   "metadata": {},
   "source": [
    "<a id='p2'></a>\n",
    "### [Открытие файла и изучение общей информации](#section_id2)"
   ]
  },
  {
   "cell_type": "code",
   "execution_count": 1,
   "id": "4c582ec6",
   "metadata": {},
   "outputs": [],
   "source": [
    "import pandas as pd\n",
    "import matplotlib.pyplot as plt\n",
    "import numpy as np\n",
    "import seaborn as sns\n",
    "from scipy import stats as st\n",
    "import re\n",
    "import plotly.express as px\n",
    "import warnings "
   ]
  },
  {
   "cell_type": "code",
   "execution_count": 2,
   "id": "5552b499",
   "metadata": {},
   "outputs": [],
   "source": [
    "# отключение предупреждений об ошибках\n",
    "warnings.filterwarnings('ignore')\n",
    "\n",
    "# снятие ограничений ширины столбцов выводимых таблиц\n",
    "pd.set_option('display.max.colwidth', None)"
   ]
  },
  {
   "cell_type": "code",
   "execution_count": 3,
   "id": "ae3e9059",
   "metadata": {},
   "outputs": [],
   "source": [
    "try:\n",
    "    orders = pd.read_csv('https://code.s3.yandex.net//datasets/ecommerce_dataset.csv')\n",
    "except:\n",
    "    orders = pd.read_csv(r'C:\\Users\\spk-s\\Desktop\\Диплом\\Основной\\ecommerce_dataset.csv')"
   ]
  },
  {
   "cell_type": "code",
   "execution_count": 4,
   "id": "f28290dc",
   "metadata": {},
   "outputs": [
    {
     "data": {
      "text/html": [
       "<div>\n",
       "<style scoped>\n",
       "    .dataframe tbody tr th:only-of-type {\n",
       "        vertical-align: middle;\n",
       "    }\n",
       "\n",
       "    .dataframe tbody tr th {\n",
       "        vertical-align: top;\n",
       "    }\n",
       "\n",
       "    .dataframe thead th {\n",
       "        text-align: right;\n",
       "    }\n",
       "</style>\n",
       "<table border=\"1\" class=\"dataframe\">\n",
       "  <thead>\n",
       "    <tr style=\"text-align: right;\">\n",
       "      <th></th>\n",
       "      <th>date</th>\n",
       "      <th>customer_id</th>\n",
       "      <th>order_id</th>\n",
       "      <th>product</th>\n",
       "      <th>quantity</th>\n",
       "      <th>price</th>\n",
       "    </tr>\n",
       "  </thead>\n",
       "  <tbody>\n",
       "    <tr>\n",
       "      <th>5326</th>\n",
       "      <td>2019061507</td>\n",
       "      <td>1d6c8c1f-a799-4418-9af2-1ded47d7a85c</td>\n",
       "      <td>14833</td>\n",
       "      <td>Рассада Огурца сорт Каролина кассета 6 шт E6</td>\n",
       "      <td>1</td>\n",
       "      <td>120.0</td>\n",
       "    </tr>\n",
       "    <tr>\n",
       "      <th>6715</th>\n",
       "      <td>2019102915</td>\n",
       "      <td>cdaf413b-09ae-48c0-8cfa-5cd6b71948c6</td>\n",
       "      <td>73131</td>\n",
       "      <td>Пеларгония розебудная Red Pandora укорененный черенок</td>\n",
       "      <td>1</td>\n",
       "      <td>149.0</td>\n",
       "    </tr>\n",
       "    <tr>\n",
       "      <th>141</th>\n",
       "      <td>2018100815</td>\n",
       "      <td>3de09660-90bc-4a28-aaf1-34c8435fe59c</td>\n",
       "      <td>68574</td>\n",
       "      <td>Таз пластмассовый 18,0 л пищевой (Иж), 1404047</td>\n",
       "      <td>1</td>\n",
       "      <td>194.0</td>\n",
       "    </tr>\n",
       "    <tr>\n",
       "      <th>3365</th>\n",
       "      <td>2019050216</td>\n",
       "      <td>760aa067-90c3-4794-b7a9-a8831197388b</td>\n",
       "      <td>14715</td>\n",
       "      <td>Пеларгония зональная Мультиблум Скарлет Ай d-7 см h-10 см укорененный черенок</td>\n",
       "      <td>1</td>\n",
       "      <td>75.0</td>\n",
       "    </tr>\n",
       "    <tr>\n",
       "      <th>2381</th>\n",
       "      <td>2019031816</td>\n",
       "      <td>54417722-4dc6-40b3-bc5a-f71fc905583e</td>\n",
       "      <td>14578</td>\n",
       "      <td>Цикламен комнатный D15 см H20 см розовый с белым</td>\n",
       "      <td>1</td>\n",
       "      <td>195.0</td>\n",
       "    </tr>\n",
       "    <tr>\n",
       "      <th>278</th>\n",
       "      <td>2018101711</td>\n",
       "      <td>4d93d3f6-8b24-403b-a74b-f5173e40d7db</td>\n",
       "      <td>68668</td>\n",
       "      <td>Щетка для посуды *Мила* SV3182 1807009</td>\n",
       "      <td>50</td>\n",
       "      <td>27.0</td>\n",
       "    </tr>\n",
       "    <tr>\n",
       "      <th>3512</th>\n",
       "      <td>2019051019</td>\n",
       "      <td>494d68a8-d133-4622-89a1-7743e142f8c1</td>\n",
       "      <td>71392</td>\n",
       "      <td>Искусственный цветок Букет Примулы пластиковая красная</td>\n",
       "      <td>4</td>\n",
       "      <td>52.0</td>\n",
       "    </tr>\n",
       "    <tr>\n",
       "      <th>2683</th>\n",
       "      <td>2019040512</td>\n",
       "      <td>cca3f0b3-fede-4ece-8b0e-096175e5a54a</td>\n",
       "      <td>14619</td>\n",
       "      <td>Лилейник высокорослый смесь окрасок объем 1 л</td>\n",
       "      <td>2</td>\n",
       "      <td>202.0</td>\n",
       "    </tr>\n",
       "    <tr>\n",
       "      <th>397</th>\n",
       "      <td>2018102409</td>\n",
       "      <td>67c1705b-597d-4d06-ab3b-7fd7c3038198</td>\n",
       "      <td>68736</td>\n",
       "      <td>Сушилка для белья потолочная ЛИАНА ЛЮКС 140, ЛДН-Т</td>\n",
       "      <td>1</td>\n",
       "      <td>449.0</td>\n",
       "    </tr>\n",
       "    <tr>\n",
       "      <th>4638</th>\n",
       "      <td>2019060514</td>\n",
       "      <td>1d6c8c1f-a799-4418-9af2-1ded47d7a85c</td>\n",
       "      <td>14833</td>\n",
       "      <td>Рассада Огурца сорт Каролина кассета 6 шт E6</td>\n",
       "      <td>1</td>\n",
       "      <td>120.0</td>\n",
       "    </tr>\n",
       "  </tbody>\n",
       "</table>\n",
       "</div>"
      ],
      "text/plain": [
       "            date                           customer_id  order_id  \\\n",
       "5326  2019061507  1d6c8c1f-a799-4418-9af2-1ded47d7a85c     14833   \n",
       "6715  2019102915  cdaf413b-09ae-48c0-8cfa-5cd6b71948c6     73131   \n",
       "141   2018100815  3de09660-90bc-4a28-aaf1-34c8435fe59c     68574   \n",
       "3365  2019050216  760aa067-90c3-4794-b7a9-a8831197388b     14715   \n",
       "2381  2019031816  54417722-4dc6-40b3-bc5a-f71fc905583e     14578   \n",
       "278   2018101711  4d93d3f6-8b24-403b-a74b-f5173e40d7db     68668   \n",
       "3512  2019051019  494d68a8-d133-4622-89a1-7743e142f8c1     71392   \n",
       "2683  2019040512  cca3f0b3-fede-4ece-8b0e-096175e5a54a     14619   \n",
       "397   2018102409  67c1705b-597d-4d06-ab3b-7fd7c3038198     68736   \n",
       "4638  2019060514  1d6c8c1f-a799-4418-9af2-1ded47d7a85c     14833   \n",
       "\n",
       "                                                                            product  \\\n",
       "5326                                   Рассада Огурца сорт Каролина кассета 6 шт E6   \n",
       "6715                          Пеларгония розебудная Red Pandora укорененный черенок   \n",
       "141                                  Таз пластмассовый 18,0 л пищевой (Иж), 1404047   \n",
       "3365  Пеларгония зональная Мультиблум Скарлет Ай d-7 см h-10 см укорененный черенок   \n",
       "2381                               Цикламен комнатный D15 см H20 см розовый с белым   \n",
       "278                                          Щетка для посуды *Мила* SV3182 1807009   \n",
       "3512                         Искусственный цветок Букет Примулы пластиковая красная   \n",
       "2683                                  Лилейник высокорослый смесь окрасок объем 1 л   \n",
       "397                              Сушилка для белья потолочная ЛИАНА ЛЮКС 140, ЛДН-Т   \n",
       "4638                                   Рассада Огурца сорт Каролина кассета 6 шт E6   \n",
       "\n",
       "      quantity  price  \n",
       "5326         1  120.0  \n",
       "6715         1  149.0  \n",
       "141          1  194.0  \n",
       "3365         1   75.0  \n",
       "2381         1  195.0  \n",
       "278         50   27.0  \n",
       "3512         4   52.0  \n",
       "2683         2  202.0  \n",
       "397          1  449.0  \n",
       "4638         1  120.0  "
      ]
     },
     "execution_count": 4,
     "metadata": {},
     "output_type": "execute_result"
    }
   ],
   "source": [
    "# общий вид датасета\n",
    "orders.sample(10)"
   ]
  },
  {
   "cell_type": "code",
   "execution_count": 5,
   "id": "9727e318",
   "metadata": {},
   "outputs": [
    {
     "name": "stdout",
     "output_type": "stream",
     "text": [
      "<class 'pandas.core.frame.DataFrame'>\n",
      "RangeIndex: 6737 entries, 0 to 6736\n",
      "Data columns (total 6 columns):\n",
      " #   Column       Non-Null Count  Dtype  \n",
      "---  ------       --------------  -----  \n",
      " 0   date         6737 non-null   int64  \n",
      " 1   customer_id  6737 non-null   object \n",
      " 2   order_id     6737 non-null   int64  \n",
      " 3   product      6737 non-null   object \n",
      " 4   quantity     6737 non-null   int64  \n",
      " 5   price        6737 non-null   float64\n",
      "dtypes: float64(1), int64(3), object(2)\n",
      "memory usage: 315.9+ KB\n"
     ]
    }
   ],
   "source": [
    "# общая информация о датасете\n",
    "orders.info()"
   ]
  },
  {
   "cell_type": "markdown",
   "id": "18d39983",
   "metadata": {},
   "source": [
    "В предоставленном датасете, состоящем из 6737 строк, приведены данные о дате и идентификаторе заказа, идентификаторе покупателя, а также названии, количестве и цене товаров.\n",
    "<br>Все столбцы, кроме даты заказа имеют соответствующий содержащимся данным тип. \n",
    "<br>Пропусков не обнаружено."
   ]
  },
  {
   "cell_type": "markdown",
   "id": "a247c25e",
   "metadata": {},
   "source": [
    "<a id='p3'></a>\n",
    "### [Предобработка данных](#section_id3)\n",
    "* [Обработка типов данных в столбцах](#p3s1) \n",
    "* [Обработка дубликатов](#p3s2)\n",
    "* [Добавление столбцов](#p3s3)\n",
    "* [Обработка аномальных значений](#p3s4)"
   ]
  },
  {
   "cell_type": "markdown",
   "id": "bd09cb23",
   "metadata": {},
   "source": [
    "<a id='p3s1'></a>\n",
    "#### Обработка типов данных в столбцах"
   ]
  },
  {
   "cell_type": "code",
   "execution_count": 6,
   "id": "b98198f1",
   "metadata": {},
   "outputs": [
    {
     "data": {
      "text/html": [
       "<div>\n",
       "<style scoped>\n",
       "    .dataframe tbody tr th:only-of-type {\n",
       "        vertical-align: middle;\n",
       "    }\n",
       "\n",
       "    .dataframe tbody tr th {\n",
       "        vertical-align: top;\n",
       "    }\n",
       "\n",
       "    .dataframe thead th {\n",
       "        text-align: right;\n",
       "    }\n",
       "</style>\n",
       "<table border=\"1\" class=\"dataframe\">\n",
       "  <thead>\n",
       "    <tr style=\"text-align: right;\">\n",
       "      <th></th>\n",
       "      <th>date</th>\n",
       "      <th>customer_id</th>\n",
       "      <th>order_id</th>\n",
       "      <th>product</th>\n",
       "      <th>quantity</th>\n",
       "      <th>price</th>\n",
       "    </tr>\n",
       "  </thead>\n",
       "  <tbody>\n",
       "    <tr>\n",
       "      <th>3252</th>\n",
       "      <td>2019-04-28</td>\n",
       "      <td>b6da6f7a-d2a3-424a-878e-1876c8b88126</td>\n",
       "      <td>14700</td>\n",
       "      <td>Рассада Дыни сорт Эфиопка горшок 9х9 см P-9</td>\n",
       "      <td>3</td>\n",
       "      <td>38.0</td>\n",
       "    </tr>\n",
       "    <tr>\n",
       "      <th>5676</th>\n",
       "      <td>2019-07-05</td>\n",
       "      <td>7e53225d-2df9-4484-95a5-3c73c6084a6c</td>\n",
       "      <td>14892</td>\n",
       "      <td>Аквилегия обыкновенная Барлоу микс объем 1 л</td>\n",
       "      <td>1</td>\n",
       "      <td>105.0</td>\n",
       "    </tr>\n",
       "    <tr>\n",
       "      <th>1839</th>\n",
       "      <td>2019-02-15</td>\n",
       "      <td>f5afedc6-884f-4da5-9f00-c4f608dfba33</td>\n",
       "      <td>70282</td>\n",
       "      <td>Гладильная доска НИКА БЕЛЛЬ Классик 2 122х34,5 см БК2</td>\n",
       "      <td>1</td>\n",
       "      <td>787.0</td>\n",
       "    </tr>\n",
       "  </tbody>\n",
       "</table>\n",
       "</div>"
      ],
      "text/plain": [
       "            date                           customer_id  order_id  \\\n",
       "3252  2019-04-28  b6da6f7a-d2a3-424a-878e-1876c8b88126     14700   \n",
       "5676  2019-07-05  7e53225d-2df9-4484-95a5-3c73c6084a6c     14892   \n",
       "1839  2019-02-15  f5afedc6-884f-4da5-9f00-c4f608dfba33     70282   \n",
       "\n",
       "                                                    product  quantity  price  \n",
       "3252            Рассада Дыни сорт Эфиопка горшок 9х9 см P-9         3   38.0  \n",
       "5676           Аквилегия обыкновенная Барлоу микс объем 1 л         1  105.0  \n",
       "1839  Гладильная доска НИКА БЕЛЛЬ Классик 2 122х34,5 см БК2         1  787.0  "
      ]
     },
     "execution_count": 6,
     "metadata": {},
     "output_type": "execute_result"
    }
   ],
   "source": [
    "# изменение типа данных в столбце с датой заказа\n",
    "orders['date'] = pd.to_datetime(orders['date'], format = '%Y%m%d%H').dt.date\n",
    "orders.sample(3)"
   ]
  },
  {
   "cell_type": "markdown",
   "id": "0fbf85e0",
   "metadata": {},
   "source": [
    "<a id='p3s2'></a>\n",
    "#### Обработка дубликатов"
   ]
  },
  {
   "cell_type": "code",
   "execution_count": 7,
   "id": "de58add2",
   "metadata": {},
   "outputs": [
    {
     "name": "stdout",
     "output_type": "stream",
     "text": [
      "Выявлено 966 явных дубликатов.\n"
     ]
    }
   ],
   "source": [
    "# проверка явных дубликатов\n",
    "orders['product'] = orders['product'].str.lower()\n",
    "orders['product'] = orders['product'].str.replace('ё', 'е')\n",
    "\n",
    "dup = orders.duplicated().sum()\n",
    "print(f'Выявлено {dup} явных дубликатов.')"
   ]
  },
  {
   "cell_type": "code",
   "execution_count": 8,
   "id": "5e2155a1",
   "metadata": {},
   "outputs": [
    {
     "name": "stdout",
     "output_type": "stream",
     "text": [
      "Выявлено 1886 неявных дубликатов.\n"
     ]
    }
   ],
   "source": [
    "# проверка неявных дубликатов\n",
    "dupl = orders.duplicated(subset=['customer_id', 'order_id', 'product']).sum()\n",
    "print(f'Выявлено {dupl} неявных дубликатов.')"
   ]
  },
  {
   "cell_type": "code",
   "execution_count": 9,
   "id": "3455695e",
   "metadata": {},
   "outputs": [
    {
     "name": "stdout",
     "output_type": "stream",
     "text": [
      "После очистки осталось 0 неявных дубликатов.\n",
      "После очистки осталось 0 явных дубликатов.\n"
     ]
    }
   ],
   "source": [
    "# удаление неявных дубликатов\n",
    "orders = orders.drop_duplicates(subset=['customer_id', 'order_id', 'product'], keep='first').reset_index(drop=True)\n",
    "\n",
    "dupl = orders.duplicated(subset=['customer_id', 'order_id', 'product']).sum()\n",
    "dup = orders.duplicated().sum()\n",
    "print(f'После очистки осталось {dupl} неявных дубликатов.')\n",
    "print(f'После очистки осталось {dup} явных дубликатов.')"
   ]
  },
  {
   "cell_type": "markdown",
   "id": "2d57f82c",
   "metadata": {},
   "source": [
    "В ходе проверки было обнаружено 966 явных и 1886 неявных дубликатов. Эти дубликаты идентичны между собой по всем столбцам, кроме даты, значит, вероятнее всего, заказчик делал выгрузку с разных источников и некоторые заказы задублировались, но время проставилось по-разному. Для корректности дальнейшего исследования, дубликаты были удалены."
   ]
  },
  {
   "cell_type": "markdown",
   "id": "f90a9428",
   "metadata": {},
   "source": [
    "<a id='p3s3'></a>\n",
    "#### Добавление столбцов"
   ]
  },
  {
   "cell_type": "code",
   "execution_count": 10,
   "id": "aa195d82",
   "metadata": {},
   "outputs": [],
   "source": [
    "# добавление столбца со стоимостью товара\n",
    "orders['cost'] = orders['quantity'] * orders['price']"
   ]
  },
  {
   "cell_type": "code",
   "execution_count": 11,
   "id": "83b40d5f",
   "metadata": {},
   "outputs": [],
   "source": [
    "# добавление столбца с месяцем заказа\n",
    "orders.insert(1, 'month', pd.to_datetime(orders['date']).dt.strftime('%Y-%m'))"
   ]
  },
  {
   "cell_type": "code",
   "execution_count": 12,
   "id": "3dc77fc3",
   "metadata": {},
   "outputs": [],
   "source": [
    "# создание столбца с названием товара\n",
    "orders['name'] = orders['product']\n",
    "for i in range(len(orders[\"product\"].str.split(\" \"))):\n",
    "    orders['name'][i] = ' '.join(orders[\"product\"].str.split(\" \")[i][:1])\n",
    "\n",
    "# разбиение названий товаров на списки категорий\n",
    "house = ['автоматическая', 'бак', 'бельевые', 'бензин', 'ваза', 'вакуумный', 'вантуз', 'ведро', 'веник', \\\n",
    "         'вешалка', 'вешалка-перекладина', 'вешалка-плечики', 'вешалка-стойка', \\\n",
    "         'вешалка-сушилка', 'вешалки', 'вкладыши', 'губка', 'декоративная', 'держатель', 'дозатор', 'доска', \\\n",
    "         'емкость', 'ерш', 'жестяная', 'завертка', 'запасная', 'защитная', 'защитный', 'измерительный', \\\n",
    "         'ключница', 'комплект', 'контейнер', 'корзина', 'корзинка', 'коробка', 'корыто', 'котел', 'крышка', \\\n",
    "         'крючок', 'лопатка', 'лоток', 'мешок', 'многофункциональный', 'модульная', 'мусорный', 'мыльница', \\\n",
    "         'насадка', 'насадка-моп', 'насадка-отжим', 'настенная', 'настольная', 'новогоднее', 'обувница-3', \\\n",
    "         'ополаскиватель', 'основание', 'отжим', 'плечики', 'подарочный', 'подвесное', 'подголовник', 'подкладка', \\\n",
    "         'подрукавник', 'подставка', 'покрытие', 'прищепки', 'пробка', 'пьезозажигалка', 'ролик', 'ручка', 'сетка', \\\n",
    "         'сиденье', 'складная', 'складной', 'сменная', 'сменный', 'сметка', 'совок', 'средство', 'сумка', \\\n",
    "         'сумка-тележка', 'сушилка', 'таз', 'тележка', 'тряпка', 'тряпкодержатель', 'урна', 'урна-пепельница', 'фиксатор-шар', \\\n",
    "         'холодная', 'чехол', 'чистящий', 'швабра', 'штанга', 'щетка', 'щетка-сметка', 'щетка-утюжок', \\\n",
    "         'этажерка', 'ящик', 'антижир', 'антинакипин', 'ароматизированное', \\\n",
    "         'гипоаллергенный', 'жидкое', 'зубная', 'кондиционер', 'ополаскиватель', 'чистящий', 'стиральный', \\\n",
    "         'увлажняющая', 'отбеливатель', 'концентрат', 'мыло', 'мыло-скраб']\n",
    "\n",
    "kitchen = ['tepмокружка', 'бидон', 'блюдо', 'блюдце', 'бульонница', 'венчик', 'картофелемялка', 'кастрюля', \\\n",
    "           'кипятильник', 'кисточка', 'ковш', 'кофе', 'кружка', 'кувшин', 'кухонное', 'кухонные', 'мантоварка', \\\n",
    "           'мантоварка-пароварка', 'масленка', 'мерный', 'миксер', 'мини-сковорода', 'миска', 'нож', 'ножеточка', \\\n",
    "           'овощеварка', 'овощечистка', 'орехоколка', 'отделитель', 'половник', 'пресс', 'просеиватель', 'противень', \\\n",
    "           'разделочная', 'рассекатель', 'рукав', 'рыбочистка', 'салатник', 'салфетка', 'салфетница', 'сахарница', \\\n",
    "           'сервировочная', 'сито', 'скалка', 'сковорода', 'соковарка', 'соковыжималка', 'сотейник', 'стакан', \\\n",
    "           'стеклянная', 'столовая', 'столовый', 'тарелка', 'терка', 'термокружка', 'термометр', 'термос', \\\n",
    "           'термостакан', 'толкушка', 'тортница', 'универсальный', 'фарфоровая', 'форма', 'хлебница', 'чайная', \\\n",
    "           'чайник', 'чайный', 'шприц', 'электроштопор', 'вилка', 'ложка']\n",
    "\n",
    "build = ['сверло', 'сверло-фреза,', 'стремянка', 'стремянка-табурет', 'стремянки', 'универсальное', 'шило', \\\n",
    "           'штангенциркуль', 'шпингалет', 'стяжки', 'стяжка', 'стеллаж', 'пружина', 'шнур', 'шпагат', 'утюг', 'фен', \\\n",
    "           'уголок', 'скребок', 'светильник', 'ручка-скоба', 'решетка', 'пылесос', 'полка', 'полки', 'петля-стрела', \\\n",
    "           'перчатки', 'петля', 'паста', 'пена', 'окномойка', 'кофр', 'крепеж', 'весы', 'веревка', 'ванна', 'гладильная', \\\n",
    "           'измельчитель', 'карниз', 'кольца', 'лестница', 'лестница-стремянка', 'линейка,', 'короб', 'набор']\n",
    "\n",
    "decor = ['готовая', 'двуспальное', 'наволочка', 'наматрасник', 'наматрацник', 'наматрицник-чехол', 'нетканые', 'одеяло', \\\n",
    "         'плед', 'пододеяльник', 'подушка', 'покрывало', 'полотенце', 'простынь', 'простыня', 'скатерть', 'ткань', 'халат', \\\n",
    "         'штора', 'искусственная', 'искусственный', 'муляж', 'фоторамка', 'ковер', 'коврик', 'комод']\n",
    "\n",
    "plants = ['агератум', 'адиантум', 'азалия', 'аквилегия', 'алиссум', 'алоэ', 'альбука', 'амариллис', 'анемона', 'антуриум', \\\n",
    "          'аптения', 'арбуз', 'аргирантерум', 'артемизия', 'аспарагус', 'астра', 'афеляндра', 'бадан', 'базилик', 'баклажан', \\\n",
    "          'бакопа', 'бальзам', 'бальзамин', 'банка', 'барвинок', 'бархатцы', 'бегония', 'буддлея', 'бузульник', 'валериана', \\\n",
    "          'вербейник', 'вербена', 'вероника', 'вигна', 'виола', 'газания', 'гайлардия', 'гардения', 'гвоздика', 'георгина', \\\n",
    "          'герань', 'гербера', 'гиацинт', 'гимнокалициум', 'гиностемма', 'гипсофила', 'глоксиния', 'годеция', 'горох', \\\n",
    "          'гортензия', 'девичий', 'декабрист', 'дендробиум', 'джункус', 'диффенбахия', 'драцена', 'душица', 'дыня', 'ель', \\\n",
    "          'замиокулькас', 'зверобой', 'земляника', 'змееголовник', 'импатиенс', 'иссоп', 'кабачок', 'каланхое', 'калатея', \\\n",
    "          'календула', 'калибрахоа', 'калла', 'каллуна', 'калоцефалус', 'камнеломка', 'кампанула', 'капсикум', 'капуста', \\\n",
    "          'кипарисовик', 'клен', 'клубника', 'кодонанта', 'колеус', 'колокольчик', 'комнатное', 'кореопсис', 'кориандр', \\\n",
    "          'космея', 'котовник', 'крассула', 'крокусы', 'лаванда', 'лаватера', 'лавр', 'лантана', 'лапчатка', 'левкой', \\\n",
    "          'лен', 'лилейник', 'литопс', 'лобелия', 'лук', 'львиный', 'любисток', 'маттиола', 'махровое', 'махровый', \\\n",
    "          'мединилла', 'мелисса', 'мимоза', 'мирт', 'многолетнее', 'молодило', 'монарда', 'морковь', 'муррайя', 'мускари', \\\n",
    "          'мята', 'настурция', 'незабудка', 'нефролепис', 'нивянник', 'нолина', 'овсянница', 'огурец', 'однолетнее', 'осина', \\\n",
    "          'папоротник', 'патиссон', 'пахира', 'пеларгония', 'пеперомия', 'петрушка', 'петуния', 'пиретрум', 'платикодон', \\\n",
    "          'подсолнечник', 'портулак', 'примула', 'пряные', 'пуансетия', 'пуансеттия', 'радермахера', 'ранункулус', 'рассада', \\\n",
    "          'роза', 'розмарин', 'рудбекия', 'салат', 'сальвия', 'сантолина', 'седум', 'сельдерей', 'синнингия', 'скиммия', \\\n",
    "          'смолевка', 'соланум', 'солидаго', 'спатифиллум', 'суккулент', 'сциндапсус', 'табак', 'тагетис', 'тимьян', 'томат', \\\n",
    "          'томата', 'тыква', 'тюльпан', 'укроп', 'фал', 'фаленопсис', 'фатсия', 'фиалка', 'физостегия', 'фикус', 'фиттония', \\\n",
    "          'флокс', 'фуксия', 'хамедорея', 'хлорофитум', 'хоста', 'хризантема', 'хризолидокарпус', 'цветок', 'цветущее', \\\n",
    "          'целозия', 'цикламен,', 'цикламен', 'цинерания', 'цинерария', 'циния', 'цинния', 'циперус', 'цитрофортунелла', \\\n",
    "          'чабер', 'шалфей', 'шеффлера', 'эвкалипт', 'энотера', 'эпипремнум', 'эхеверия', 'эхинацея', 'эхинокактус', \\\n",
    "          'эшшольция', 'юкка', 'ясколка']"
   ]
  },
  {
   "cell_type": "code",
   "execution_count": 13,
   "id": "605ee8a7",
   "metadata": {
    "scrolled": false
   },
   "outputs": [
    {
     "data": {
      "text/html": [
       "<div>\n",
       "<style scoped>\n",
       "    .dataframe tbody tr th:only-of-type {\n",
       "        vertical-align: middle;\n",
       "    }\n",
       "\n",
       "    .dataframe tbody tr th {\n",
       "        vertical-align: top;\n",
       "    }\n",
       "\n",
       "    .dataframe thead th {\n",
       "        text-align: right;\n",
       "    }\n",
       "</style>\n",
       "<table border=\"1\" class=\"dataframe\">\n",
       "  <thead>\n",
       "    <tr style=\"text-align: right;\">\n",
       "      <th></th>\n",
       "      <th>date</th>\n",
       "      <th>month</th>\n",
       "      <th>customer_id</th>\n",
       "      <th>order_id</th>\n",
       "      <th>product</th>\n",
       "      <th>quantity</th>\n",
       "      <th>price</th>\n",
       "      <th>cost</th>\n",
       "      <th>products_category</th>\n",
       "    </tr>\n",
       "  </thead>\n",
       "  <tbody>\n",
       "    <tr>\n",
       "      <th>763</th>\n",
       "      <td>2018-11-20</td>\n",
       "      <td>2018-11</td>\n",
       "      <td>d0bd3cb4-d63b-4f71-9a56-8ffaa6e5f090</td>\n",
       "      <td>69065</td>\n",
       "      <td>герань домашняя (пеларгония зональная) цветущая d12, h25-30, ярко красная, махровая</td>\n",
       "      <td>1</td>\n",
       "      <td>149.0</td>\n",
       "      <td>149.0</td>\n",
       "      <td>Растения и рассада</td>\n",
       "    </tr>\n",
       "    <tr>\n",
       "      <th>630</th>\n",
       "      <td>2018-11-10</td>\n",
       "      <td>2018-11</td>\n",
       "      <td>d5e3fb18-e36f-49a2-98e6-af8ae1a3d5b8</td>\n",
       "      <td>68940</td>\n",
       "      <td>терка webber из нержавеющей стали ве-054 6 граней 21 см</td>\n",
       "      <td>1</td>\n",
       "      <td>239.0</td>\n",
       "      <td>239.0</td>\n",
       "      <td>Кухонные принадлежности</td>\n",
       "    </tr>\n",
       "    <tr>\n",
       "      <th>802</th>\n",
       "      <td>2018-11-23</td>\n",
       "      <td>2018-11</td>\n",
       "      <td>81a07ad7-0646-477c-9e11-0a52c6f6f7e1</td>\n",
       "      <td>69090</td>\n",
       "      <td>мимоза стыдливая d-9 см</td>\n",
       "      <td>1</td>\n",
       "      <td>314.0</td>\n",
       "      <td>314.0</td>\n",
       "      <td>Растения и рассада</td>\n",
       "    </tr>\n",
       "  </tbody>\n",
       "</table>\n",
       "</div>"
      ],
      "text/plain": [
       "           date    month                           customer_id  order_id  \\\n",
       "763  2018-11-20  2018-11  d0bd3cb4-d63b-4f71-9a56-8ffaa6e5f090     69065   \n",
       "630  2018-11-10  2018-11  d5e3fb18-e36f-49a2-98e6-af8ae1a3d5b8     68940   \n",
       "802  2018-11-23  2018-11  81a07ad7-0646-477c-9e11-0a52c6f6f7e1     69090   \n",
       "\n",
       "                                                                                 product  \\\n",
       "763  герань домашняя (пеларгония зональная) цветущая d12, h25-30, ярко красная, махровая   \n",
       "630                              терка webber из нержавеющей стали ве-054 6 граней 21 см   \n",
       "802                                                              мимоза стыдливая d-9 см   \n",
       "\n",
       "     quantity  price   cost        products_category  \n",
       "763         1  149.0  149.0       Растения и рассада  \n",
       "630         1  239.0  239.0  Кухонные принадлежности  \n",
       "802         1  314.0  314.0       Растения и рассада  "
      ]
     },
     "execution_count": 13,
     "metadata": {},
     "output_type": "execute_result"
    }
   ],
   "source": [
    "# добавление столбца с категориями товаров\n",
    "def f(row):\n",
    "    val = 0\n",
    "    if row['name'] in house:\n",
    "        val = 'Хозтовары'\n",
    "    elif row['name'] in kitchen:\n",
    "        val = 'Кухонные принадлежности'\n",
    "    elif row['name'] in build:\n",
    "        val = 'Стройматериалы и бытовая техника'\n",
    "    elif row['name'] in decor:\n",
    "        val = 'Декор и текстиль'\n",
    "    elif row['name'] in plants:\n",
    "        val = 'Растения и рассада'\n",
    "    return val\n",
    "\n",
    "orders['products_category'] = orders.apply(f, axis=1)\n",
    "orders = orders.drop('name', axis=1)\n",
    "\n",
    "orders.sample(3)"
   ]
  },
  {
   "cell_type": "markdown",
   "id": "c073faa1",
   "metadata": {},
   "source": [
    "Для удобства представления результатов добавлены столбцы с месяцем и годом заказа, стоимостью и категориями товаров. <br>Товары разделены на категории: хозтовары, кухонные принадлежности, стройматериалы и бытовая техника, декор и текстиль, растения и рассада."
   ]
  },
  {
   "cell_type": "markdown",
   "id": "48a46672",
   "metadata": {},
   "source": [
    "<a id='p3s4'></a>\n",
    "#### Обработка аномальных значений"
   ]
  },
  {
   "cell_type": "markdown",
   "id": "a4aa6e28",
   "metadata": {},
   "source": [
    "***Столбец с идентификатором заказа***"
   ]
  },
  {
   "cell_type": "code",
   "execution_count": 21,
   "id": "1890cf11",
   "metadata": {},
   "outputs": [
    {
     "name": "stdout",
     "output_type": "stream",
     "text": [
      "В датасете выявлено и удалено 0 строк, соответствующих идентификаторам заказов, оформленных на нескольких покупателей.\n"
     ]
    }
   ],
   "source": [
    "# удаление из датасета заказов с несколькими идентификаторами пользователей\n",
    "dubl_user = orders.pivot_table(index='order_id', values='customer_id', aggfunc='nunique').reset_index() \\\n",
    "                                                                             .sort_values(by='customer_id', ascending=False) \\\n",
    "                                                                             .query('customer_id > 1')\n",
    "delete = dubl_user['order_id'].to_list()\n",
    "orders = orders.query('~(order_id in @delete)').reset_index(drop=True)\n",
    "\n",
    "print(f'В датасете выявлено и удалено {len(delete)} строк, соответствующих идентификаторам заказов, оформленных на нескольких покупателей.')"
   ]
  },
  {
   "cell_type": "markdown",
   "id": "d33f5e09",
   "metadata": {},
   "source": [
    "***Столбцы с ценой и количеством товара в заказе***"
   ]
  },
  {
   "cell_type": "code",
   "execution_count": 22,
   "id": "0ecec896",
   "metadata": {},
   "outputs": [
    {
     "data": {
      "text/html": [
       "<div>\n",
       "<style scoped>\n",
       "    .dataframe tbody tr th:only-of-type {\n",
       "        vertical-align: middle;\n",
       "    }\n",
       "\n",
       "    .dataframe tbody tr th {\n",
       "        vertical-align: top;\n",
       "    }\n",
       "\n",
       "    .dataframe thead th {\n",
       "        text-align: right;\n",
       "    }\n",
       "</style>\n",
       "<table border=\"1\" class=\"dataframe\">\n",
       "  <thead>\n",
       "    <tr style=\"text-align: right;\">\n",
       "      <th></th>\n",
       "      <th>price</th>\n",
       "      <th>quantity</th>\n",
       "    </tr>\n",
       "  </thead>\n",
       "  <tbody>\n",
       "    <tr>\n",
       "      <th>count</th>\n",
       "      <td>4783.0</td>\n",
       "      <td>4783.0</td>\n",
       "    </tr>\n",
       "    <tr>\n",
       "      <th>mean</th>\n",
       "      <td>513.0</td>\n",
       "      <td>3.0</td>\n",
       "    </tr>\n",
       "    <tr>\n",
       "      <th>std</th>\n",
       "      <td>925.0</td>\n",
       "      <td>10.0</td>\n",
       "    </tr>\n",
       "    <tr>\n",
       "      <th>min</th>\n",
       "      <td>9.0</td>\n",
       "      <td>1.0</td>\n",
       "    </tr>\n",
       "    <tr>\n",
       "      <th>25%</th>\n",
       "      <td>90.0</td>\n",
       "      <td>1.0</td>\n",
       "    </tr>\n",
       "    <tr>\n",
       "      <th>50%</th>\n",
       "      <td>150.0</td>\n",
       "      <td>1.0</td>\n",
       "    </tr>\n",
       "    <tr>\n",
       "      <th>75%</th>\n",
       "      <td>488.0</td>\n",
       "      <td>1.0</td>\n",
       "    </tr>\n",
       "    <tr>\n",
       "      <th>max</th>\n",
       "      <td>8737.0</td>\n",
       "      <td>334.0</td>\n",
       "    </tr>\n",
       "  </tbody>\n",
       "</table>\n",
       "</div>"
      ],
      "text/plain": [
       "        price  quantity\n",
       "count  4783.0    4783.0\n",
       "mean    513.0       3.0\n",
       "std     925.0      10.0\n",
       "min       9.0       1.0\n",
       "25%      90.0       1.0\n",
       "50%     150.0       1.0\n",
       "75%     488.0       1.0\n",
       "max    8737.0     334.0"
      ]
     },
     "execution_count": 22,
     "metadata": {},
     "output_type": "execute_result"
    }
   ],
   "source": [
    "# общая информация о данных в столбцах\n",
    "orders[['price', 'quantity']].describe().round()"
   ]
  },
  {
   "cell_type": "code",
   "execution_count": 23,
   "id": "edf71a05",
   "metadata": {},
   "outputs": [
    {
     "data": {
      "image/png": "[encoded data removed]",
      "text/plain": [
       "<Figure size 1152x360 with 2 Axes>"
      ]
     },
     "metadata": {
      "needs_background": "light"
     },
     "output_type": "display_data"
    }
   ],
   "source": [
    "# диаграмма размаха цен и количества товара\n",
    "\n",
    "fig, ax = plt.subplots(1, 2, figsize=(16, 5))\n",
    "sns.boxplot(orders['price'], ax=ax[0])\n",
    "sns.boxplot(orders['quantity'], ax=ax[1])\n",
    "\n",
    "ax[0].set_xlabel(\"\\n\" + 'Цена товара', fontsize=13)\n",
    "ax[0].set_title('Диаграмма размаха цен товаров' + \"\\n\", fontsize=18)\n",
    "\n",
    "ax[1].set_xlabel(\"\\n\" + 'Количество товара в заказе', fontsize=13)\n",
    "ax[1].set_title('Диаграмма размаха количества товара в заказе' + \"\\n\", fontsize=18)\n",
    "fig.show();"
   ]
  },
  {
   "cell_type": "code",
   "execution_count": 24,
   "id": "a09f008a",
   "metadata": {},
   "outputs": [],
   "source": [
    "# исключение товара с аномальной ценой из датасета\n",
    "orders = orders.query('price < 9000').reset_index(drop=True)\n",
    "\n",
    "# исключение товара с аномальным количеством позиций одного товара в заказе\n",
    "orders = orders.query('quantity < 400').reset_index(drop=True)"
   ]
  },
  {
   "cell_type": "markdown",
   "id": "6f18fbbf",
   "metadata": {},
   "source": [
    "В рамках данного исследования, товар с ценой 14917 рублей можно считать выбросом, т. к. он сильно выбивается из общей массы и может вносить погрешность в дальнейшие расчеты. Пренебрежем им и исключим из датасета.\n",
    "<br>Видно, что заказ, в котором 1000 позиций одного товара, является аномалией по отношению к остальным товарам. Исключим его из исследования, чтобы исключить внесение им погрешностей."
   ]
  },
  {
   "cell_type": "markdown",
   "id": "4878e1cc",
   "metadata": {},
   "source": [
    "<a id='p4'></a>\n",
    "### [Исследовательский анализ данных](#section_id4)\n",
    "* [Динамика выручки по месяцам](#p4s1) \n",
    "* [Динамика среднего чека по месяцам (AOV)](#p4s2)\n",
    "* [Динамика средней выручки с покупателя (ARPU)](#p4s3)\n",
    "* [Выявление сезонности топ-10 товаров, приносящих наибольшую прибыль](#p4s4)\n",
    "* [Расчет сезонности для категорий товаров](#p4s5)"
   ]
  },
  {
   "cell_type": "code",
   "execution_count": 25,
   "id": "e5b994f9",
   "metadata": {},
   "outputs": [
    {
     "name": "stdout",
     "output_type": "stream",
     "text": [
      "В датасете представлены данные на период с 2018-10-01 по 2019-10-31.\n"
     ]
    }
   ],
   "source": [
    "# вывод временного интервала представленных данных\n",
    "print(f'В датасете представлены данные на период с {orders.date.min()} по {orders.date.max()}.')"
   ]
  },
  {
   "cell_type": "markdown",
   "id": "2d19bda3",
   "metadata": {},
   "source": [
    "<a id='p4s1'></a>\n",
    "#### Динамика выручки по месяцам"
   ]
  },
  {
   "cell_type": "code",
   "execution_count": 26,
   "id": "69cd2bdb",
   "metadata": {},
   "outputs": [
    {
     "data": {
      "text/html": [
       "<div>\n",
       "<style scoped>\n",
       "    .dataframe tbody tr th:only-of-type {\n",
       "        vertical-align: middle;\n",
       "    }\n",
       "\n",
       "    .dataframe tbody tr th {\n",
       "        vertical-align: top;\n",
       "    }\n",
       "\n",
       "    .dataframe thead th {\n",
       "        text-align: right;\n",
       "    }\n",
       "</style>\n",
       "<table border=\"1\" class=\"dataframe\">\n",
       "  <thead>\n",
       "    <tr style=\"text-align: right;\">\n",
       "      <th></th>\n",
       "      <th>Месяц</th>\n",
       "      <th>Выручка</th>\n",
       "    </tr>\n",
       "  </thead>\n",
       "  <tbody>\n",
       "    <tr>\n",
       "      <th>0</th>\n",
       "      <td>2018-10</td>\n",
       "      <td>351162.0</td>\n",
       "    </tr>\n",
       "    <tr>\n",
       "      <th>1</th>\n",
       "      <td>2018-11</td>\n",
       "      <td>359348.0</td>\n",
       "    </tr>\n",
       "    <tr>\n",
       "      <th>2</th>\n",
       "      <td>2018-12</td>\n",
       "      <td>345921.0</td>\n",
       "    </tr>\n",
       "    <tr>\n",
       "      <th>3</th>\n",
       "      <td>2019-01</td>\n",
       "      <td>230097.0</td>\n",
       "    </tr>\n",
       "    <tr>\n",
       "      <th>4</th>\n",
       "      <td>2019-02</td>\n",
       "      <td>305183.0</td>\n",
       "    </tr>\n",
       "    <tr>\n",
       "      <th>5</th>\n",
       "      <td>2019-03</td>\n",
       "      <td>249429.0</td>\n",
       "    </tr>\n",
       "    <tr>\n",
       "      <th>6</th>\n",
       "      <td>2019-04</td>\n",
       "      <td>316469.0</td>\n",
       "    </tr>\n",
       "    <tr>\n",
       "      <th>7</th>\n",
       "      <td>2019-05</td>\n",
       "      <td>233874.0</td>\n",
       "    </tr>\n",
       "    <tr>\n",
       "      <th>8</th>\n",
       "      <td>2019-06</td>\n",
       "      <td>225116.0</td>\n",
       "    </tr>\n",
       "    <tr>\n",
       "      <th>9</th>\n",
       "      <td>2019-07</td>\n",
       "      <td>220015.0</td>\n",
       "    </tr>\n",
       "    <tr>\n",
       "      <th>10</th>\n",
       "      <td>2019-08</td>\n",
       "      <td>172100.0</td>\n",
       "    </tr>\n",
       "    <tr>\n",
       "      <th>11</th>\n",
       "      <td>2019-09</td>\n",
       "      <td>177951.0</td>\n",
       "    </tr>\n",
       "    <tr>\n",
       "      <th>12</th>\n",
       "      <td>2019-10</td>\n",
       "      <td>206490.0</td>\n",
       "    </tr>\n",
       "  </tbody>\n",
       "</table>\n",
       "</div>"
      ],
      "text/plain": [
       "      Месяц   Выручка\n",
       "0   2018-10  351162.0\n",
       "1   2018-11  359348.0\n",
       "2   2018-12  345921.0\n",
       "3   2019-01  230097.0\n",
       "4   2019-02  305183.0\n",
       "5   2019-03  249429.0\n",
       "6   2019-04  316469.0\n",
       "7   2019-05  233874.0\n",
       "8   2019-06  225116.0\n",
       "9   2019-07  220015.0\n",
       "10  2019-08  172100.0\n",
       "11  2019-09  177951.0\n",
       "12  2019-10  206490.0"
      ]
     },
     "execution_count": 26,
     "metadata": {},
     "output_type": "execute_result"
    }
   ],
   "source": [
    "# таблица выручки по месяцам\n",
    "revenue = orders.pivot_table(index='month', values='cost', aggfunc='sum').reset_index() \\\n",
    "                                                               .rename(columns={'month': 'Месяц', 'cost': 'Выручка'})\n",
    "revenue"
   ]
  },
  {
   "cell_type": "code",
   "execution_count": 27,
   "id": "593ff801",
   "metadata": {},
   "outputs": [
    {
     "data": {
      "application/vnd.plotly.v1+json": {
       "config": {
        "plotlyServerURL": "https://plot.ly"
       },
       "data": [
        {
         "alignmentgroup": "True",
         "cliponaxis": false,
         "hovertemplate": "Месяц=%{x}<br>Выручка=%{text}<extra></extra>",
         "legendgroup": "2018-10",
         "marker": {
          "color": "rgb(188,128,189)",
          "pattern": {
           "shape": ""
          }
         },
         "name": "2018-10",
         "offsetgroup": "2018-10",
         "orientation": "v",
         "showlegend": true,
         "text": [
          351162
         ],
         "textangle": 0,
         "textfont": {
          "size": 12
         },
         "textposition": "outside",
         "type": "bar",
         "x": [
          "2018-10"
         ],
         "xaxis": "x",
         "y": [
          351162
         ],
         "yaxis": "y"
        },
        {
         "alignmentgroup": "True",
         "cliponaxis": false,
         "hovertemplate": "Месяц=%{x}<br>Выручка=%{text}<extra></extra>",
         "legendgroup": "2018-11",
         "marker": {
          "color": "rgb(190,186,218)",
          "pattern": {
           "shape": ""
          }
         },
         "name": "2018-11",
         "offsetgroup": "2018-11",
         "orientation": "v",
         "showlegend": true,
         "text": [
          359348
         ],
         "textangle": 0,
         "textfont": {
          "size": 12
         },
         "textposition": "outside",
         "type": "bar",
         "x": [
          "2018-11"
         ],
         "xaxis": "x",
         "y": [
          359348
         ],
         "yaxis": "y"
        },
        {
         "alignmentgroup": "True",
         "cliponaxis": false,
         "hovertemplate": "Месяц=%{x}<br>Выручка=%{text}<extra></extra>",
         "legendgroup": "2018-12",
         "marker": {
          "color": "rgb(141,160,203)",
          "pattern": {
           "shape": ""
          }
         },
         "name": "2018-12",
         "offsetgroup": "2018-12",
         "orientation": "v",
         "showlegend": true,
         "text": [
          345921
         ],
         "textangle": 0,
         "textfont": {
          "size": 12
         },
         "textposition": "outside",
         "type": "bar",
         "x": [
          "2018-12"
         ],
         "xaxis": "x",
         "y": [
          345921
         ],
         "yaxis": "y"
        },
        {
         "alignmentgroup": "True",
         "cliponaxis": false,
         "hovertemplate": "Месяц=%{x}<br>Выручка=%{text}<extra></extra>",
         "legendgroup": "2019-01",
         "marker": {
          "color": "rgb(128,177,211)",
          "pattern": {
           "shape": ""
          }
         },
         "name": "2019-01",
         "offsetgroup": "2019-01",
         "orientation": "v",
         "showlegend": true,
         "text": [
          230097
         ],
         "textangle": 0,
         "textfont": {
          "size": 12
         },
         "textposition": "outside",
         "type": "bar",
         "x": [
          "2019-01"
         ],
         "xaxis": "x",
         "y": [
          230097
         ],
         "yaxis": "y"
        },
        {
         "alignmentgroup": "True",
         "cliponaxis": false,
         "hovertemplate": "Месяц=%{x}<br>Выручка=%{text}<extra></extra>",
         "legendgroup": "2019-02",
         "marker": {
          "color": "rgb(141,211,199)",
          "pattern": {
           "shape": ""
          }
         },
         "name": "2019-02",
         "offsetgroup": "2019-02",
         "orientation": "v",
         "showlegend": true,
         "text": [
          305183
         ],
         "textangle": 0,
         "textfont": {
          "size": 12
         },
         "textposition": "outside",
         "type": "bar",
         "x": [
          "2019-02"
         ],
         "xaxis": "x",
         "y": [
          305183
         ],
         "yaxis": "y"
        },
        {
         "alignmentgroup": "True",
         "cliponaxis": false,
         "hovertemplate": "Месяц=%{x}<br>Выручка=%{text}<extra></extra>",
         "legendgroup": "2019-03",
         "marker": {
          "color": "rgb(204,235,197)",
          "pattern": {
           "shape": ""
          }
         },
         "name": "2019-03",
         "offsetgroup": "2019-03",
         "orientation": "v",
         "showlegend": true,
         "text": [
          249429
         ],
         "textangle": 0,
         "textfont": {
          "size": 12
         },
         "textposition": "outside",
         "type": "bar",
         "x": [
          "2019-03"
         ],
         "xaxis": "x",
         "y": [
          249429
         ],
         "yaxis": "y"
        },
        {
         "alignmentgroup": "True",
         "cliponaxis": false,
         "hovertemplate": "Месяц=%{x}<br>Выручка=%{text}<extra></extra>",
         "legendgroup": "2019-04",
         "marker": {
          "color": "rgb(179,222,105)",
          "pattern": {
           "shape": ""
          }
         },
         "name": "2019-04",
         "offsetgroup": "2019-04",
         "orientation": "v",
         "showlegend": true,
         "text": [
          316469
         ],
         "textangle": 0,
         "textfont": {
          "size": 12
         },
         "textposition": "outside",
         "type": "bar",
         "x": [
          "2019-04"
         ],
         "xaxis": "x",
         "y": [
          316469
         ],
         "yaxis": "y"
        },
        {
         "alignmentgroup": "True",
         "cliponaxis": false,
         "hovertemplate": "Месяц=%{x}<br>Выручка=%{text}<extra></extra>",
         "legendgroup": "2019-05",
         "marker": {
          "color": "rgb(255,237,111)",
          "pattern": {
           "shape": ""
          }
         },
         "name": "2019-05",
         "offsetgroup": "2019-05",
         "orientation": "v",
         "showlegend": true,
         "text": [
          233874
         ],
         "textangle": 0,
         "textfont": {
          "size": 12
         },
         "textposition": "outside",
         "type": "bar",
         "x": [
          "2019-05"
         ],
         "xaxis": "x",
         "y": [
          233874
         ],
         "yaxis": "y"
        },
        {
         "alignmentgroup": "True",
         "cliponaxis": false,
         "hovertemplate": "Месяц=%{x}<br>Выручка=%{text}<extra></extra>",
         "legendgroup": "2019-06",
         "marker": {
          "color": "rgb(255,255,179)",
          "pattern": {
           "shape": ""
          }
         },
         "name": "2019-06",
         "offsetgroup": "2019-06",
         "orientation": "v",
         "showlegend": true,
         "text": [
          225116
         ],
         "textangle": 0,
         "textfont": {
          "size": 12
         },
         "textposition": "outside",
         "type": "bar",
         "x": [
          "2019-06"
         ],
         "xaxis": "x",
         "y": [
          225116
         ],
         "yaxis": "y"
        },
        {
         "alignmentgroup": "True",
         "cliponaxis": false,
         "hovertemplate": "Месяц=%{x}<br>Выручка=%{text}<extra></extra>",
         "legendgroup": "2019-07",
         "marker": {
          "color": "rgb(253,180,98)",
          "pattern": {
           "shape": ""
          }
         },
         "name": "2019-07",
         "offsetgroup": "2019-07",
         "orientation": "v",
         "showlegend": true,
         "text": [
          220015
         ],
         "textangle": 0,
         "textfont": {
          "size": 12
         },
         "textposition": "outside",
         "type": "bar",
         "x": [
          "2019-07"
         ],
         "xaxis": "x",
         "y": [
          220015
         ],
         "yaxis": "y"
        },
        {
         "alignmentgroup": "True",
         "cliponaxis": false,
         "hovertemplate": "Месяц=%{x}<br>Выручка=%{text}<extra></extra>",
         "legendgroup": "2019-08",
         "marker": {
          "color": "rgb(251,128,114)",
          "pattern": {
           "shape": ""
          }
         },
         "name": "2019-08",
         "offsetgroup": "2019-08",
         "orientation": "v",
         "showlegend": true,
         "text": [
          172100
         ],
         "textangle": 0,
         "textfont": {
          "size": 12
         },
         "textposition": "outside",
         "type": "bar",
         "x": [
          "2019-08"
         ],
         "xaxis": "x",
         "y": [
          172100
         ],
         "yaxis": "y"
        },
        {
         "alignmentgroup": "True",
         "cliponaxis": false,
         "hovertemplate": "Месяц=%{x}<br>Выручка=%{text}<extra></extra>",
         "legendgroup": "2019-09",
         "marker": {
          "color": "rgb(231,138,195)",
          "pattern": {
           "shape": ""
          }
         },
         "name": "2019-09",
         "offsetgroup": "2019-09",
         "orientation": "v",
         "showlegend": true,
         "text": [
          177951
         ],
         "textangle": 0,
         "textfont": {
          "size": 12
         },
         "textposition": "outside",
         "type": "bar",
         "x": [
          "2019-09"
         ],
         "xaxis": "x",
         "y": [
          177951
         ],
         "yaxis": "y"
        },
        {
         "alignmentgroup": "True",
         "cliponaxis": false,
         "hovertemplate": "Месяц=%{x}<br>Выручка=%{text}<extra></extra>",
         "legendgroup": "2019-10",
         "marker": {
          "color": "rgb(188,128,189)",
          "pattern": {
           "shape": ""
          }
         },
         "name": "2019-10",
         "offsetgroup": "2019-10",
         "orientation": "v",
         "showlegend": true,
         "text": [
          206490
         ],
         "textangle": 0,
         "textfont": {
          "size": 12
         },
         "textposition": "outside",
         "type": "bar",
         "x": [
          "2019-10"
         ],
         "xaxis": "x",
         "y": [
          206490
         ],
         "yaxis": "y"
        }
       ],
       "layout": {
        "barmode": "relative",
        "legend": {
         "title": {
          "text": "Месяц"
         },
         "tracegroupgap": 0
        },
        "template": {
         "data": {
          "bar": [
           {
            "error_x": {
             "color": "#2a3f5f"
            },
            "error_y": {
             "color": "#2a3f5f"
            },
            "marker": {
             "line": {
              "color": "#E5ECF6",
              "width": 0.5
             },
             "pattern": {
              "fillmode": "overlay",
              "size": 10,
              "solidity": 0.2
             }
            },
            "type": "bar"
           }
          ],
          "barpolar": [
           {
            "marker": {
             "line": {
              "color": "#E5ECF6",
              "width": 0.5
             },
             "pattern": {
              "fillmode": "overlay",
              "size": 10,
              "solidity": 0.2
             }
            },
            "type": "barpolar"
           }
          ],
          "carpet": [
           {
            "aaxis": {
             "endlinecolor": "#2a3f5f",
             "gridcolor": "white",
             "linecolor": "white",
             "minorgridcolor": "white",
             "startlinecolor": "#2a3f5f"
            },
            "baxis": {
             "endlinecolor": "#2a3f5f",
             "gridcolor": "white",
             "linecolor": "white",
             "minorgridcolor": "white",
             "startlinecolor": "#2a3f5f"
            },
            "type": "carpet"
           }
          ],
          "choropleth": [
           {
            "colorbar": {
             "outlinewidth": 0,
             "ticks": ""
            },
            "type": "choropleth"
           }
          ],
          "contour": [
           {
            "colorbar": {
             "outlinewidth": 0,
             "ticks": ""
            },
            "colorscale": [
             [
              0,
              "#0d0887"
             ],
             [
              0.1111111111111111,
              "#46039f"
             ],
             [
              0.2222222222222222,
              "#7201a8"
             ],
             [
              0.3333333333333333,
              "#9c179e"
             ],
             [
              0.4444444444444444,
              "#bd3786"
             ],
             [
              0.5555555555555556,
              "#d8576b"
             ],
             [
              0.6666666666666666,
              "#ed7953"
             ],
             [
              0.7777777777777778,
              "#fb9f3a"
             ],
             [
              0.8888888888888888,
              "#fdca26"
             ],
             [
              1,
              "#f0f921"
             ]
            ],
            "type": "contour"
           }
          ],
          "contourcarpet": [
           {
            "colorbar": {
             "outlinewidth": 0,
             "ticks": ""
            },
            "type": "contourcarpet"
           }
          ],
          "heatmap": [
           {
            "colorbar": {
             "outlinewidth": 0,
             "ticks": ""
            },
            "colorscale": [
             [
              0,
              "#0d0887"
             ],
             [
              0.1111111111111111,
              "#46039f"
             ],
             [
              0.2222222222222222,
              "#7201a8"
             ],
             [
              0.3333333333333333,
              "#9c179e"
             ],
             [
              0.4444444444444444,
              "#bd3786"
             ],
             [
              0.5555555555555556,
              "#d8576b"
             ],
             [
              0.6666666666666666,
              "#ed7953"
             ],
             [
              0.7777777777777778,
              "#fb9f3a"
             ],
             [
              0.8888888888888888,
              "#fdca26"
             ],
             [
              1,
              "#f0f921"
             ]
            ],
            "type": "heatmap"
           }
          ],
          "heatmapgl": [
           {
            "colorbar": {
             "outlinewidth": 0,
             "ticks": ""
            },
            "colorscale": [
             [
              0,
              "#0d0887"
             ],
             [
              0.1111111111111111,
              "#46039f"
             ],
             [
              0.2222222222222222,
              "#7201a8"
             ],
             [
              0.3333333333333333,
              "#9c179e"
             ],
             [
              0.4444444444444444,
              "#bd3786"
             ],
             [
              0.5555555555555556,
              "#d8576b"
             ],
             [
              0.6666666666666666,
              "#ed7953"
             ],
             [
              0.7777777777777778,
              "#fb9f3a"
             ],
             [
              0.8888888888888888,
              "#fdca26"
             ],
             [
              1,
              "#f0f921"
             ]
            ],
            "type": "heatmapgl"
           }
          ],
          "histogram": [
           {
            "marker": {
             "pattern": {
              "fillmode": "overlay",
              "size": 10,
              "solidity": 0.2
             }
            },
            "type": "histogram"
           }
          ],
          "histogram2d": [
           {
            "colorbar": {
             "outlinewidth": 0,
             "ticks": ""
            },
            "colorscale": [
             [
              0,
              "#0d0887"
             ],
             [
              0.1111111111111111,
              "#46039f"
             ],
             [
              0.2222222222222222,
              "#7201a8"
             ],
             [
              0.3333333333333333,
              "#9c179e"
             ],
             [
              0.4444444444444444,
              "#bd3786"
             ],
             [
              0.5555555555555556,
              "#d8576b"
             ],
             [
              0.6666666666666666,
              "#ed7953"
             ],
             [
              0.7777777777777778,
              "#fb9f3a"
             ],
             [
              0.8888888888888888,
              "#fdca26"
             ],
             [
              1,
              "#f0f921"
             ]
            ],
            "type": "histogram2d"
           }
          ],
          "histogram2dcontour": [
           {
            "colorbar": {
             "outlinewidth": 0,
             "ticks": ""
            },
            "colorscale": [
             [
              0,
              "#0d0887"
             ],
             [
              0.1111111111111111,
              "#46039f"
             ],
             [
              0.2222222222222222,
              "#7201a8"
             ],
             [
              0.3333333333333333,
              "#9c179e"
             ],
             [
              0.4444444444444444,
              "#bd3786"
             ],
             [
              0.5555555555555556,
              "#d8576b"
             ],
             [
              0.6666666666666666,
              "#ed7953"
             ],
             [
              0.7777777777777778,
              "#fb9f3a"
             ],
             [
              0.8888888888888888,
              "#fdca26"
             ],
             [
              1,
              "#f0f921"
             ]
            ],
            "type": "histogram2dcontour"
           }
          ],
          "mesh3d": [
           {
            "colorbar": {
             "outlinewidth": 0,
             "ticks": ""
            },
            "type": "mesh3d"
           }
          ],
          "parcoords": [
           {
            "line": {
             "colorbar": {
              "outlinewidth": 0,
              "ticks": ""
             }
            },
            "type": "parcoords"
           }
          ],
          "pie": [
           {
            "automargin": true,
            "type": "pie"
           }
          ],
          "scatter": [
           {
            "marker": {
             "colorbar": {
              "outlinewidth": 0,
              "ticks": ""
             }
            },
            "type": "scatter"
           }
          ],
          "scatter3d": [
           {
            "line": {
             "colorbar": {
              "outlinewidth": 0,
              "ticks": ""
             }
            },
            "marker": {
             "colorbar": {
              "outlinewidth": 0,
              "ticks": ""
             }
            },
            "type": "scatter3d"
           }
          ],
          "scattercarpet": [
           {
            "marker": {
             "colorbar": {
              "outlinewidth": 0,
              "ticks": ""
             }
            },
            "type": "scattercarpet"
           }
          ],
          "scattergeo": [
           {
            "marker": {
             "colorbar": {
              "outlinewidth": 0,
              "ticks": ""
             }
            },
            "type": "scattergeo"
           }
          ],
          "scattergl": [
           {
            "marker": {
             "colorbar": {
              "outlinewidth": 0,
              "ticks": ""
             }
            },
            "type": "scattergl"
           }
          ],
          "scattermapbox": [
           {
            "marker": {
             "colorbar": {
              "outlinewidth": 0,
              "ticks": ""
             }
            },
            "type": "scattermapbox"
           }
          ],
          "scatterpolar": [
           {
            "marker": {
             "colorbar": {
              "outlinewidth": 0,
              "ticks": ""
             }
            },
            "type": "scatterpolar"
           }
          ],
          "scatterpolargl": [
           {
            "marker": {
             "colorbar": {
              "outlinewidth": 0,
              "ticks": ""
             }
            },
            "type": "scatterpolargl"
           }
          ],
          "scatterternary": [
           {
            "marker": {
             "colorbar": {
              "outlinewidth": 0,
              "ticks": ""
             }
            },
            "type": "scatterternary"
           }
          ],
          "surface": [
           {
            "colorbar": {
             "outlinewidth": 0,
             "ticks": ""
            },
            "colorscale": [
             [
              0,
              "#0d0887"
             ],
             [
              0.1111111111111111,
              "#46039f"
             ],
             [
              0.2222222222222222,
              "#7201a8"
             ],
             [
              0.3333333333333333,
              "#9c179e"
             ],
             [
              0.4444444444444444,
              "#bd3786"
             ],
             [
              0.5555555555555556,
              "#d8576b"
             ],
             [
              0.6666666666666666,
              "#ed7953"
             ],
             [
              0.7777777777777778,
              "#fb9f3a"
             ],
             [
              0.8888888888888888,
              "#fdca26"
             ],
             [
              1,
              "#f0f921"
             ]
            ],
            "type": "surface"
           }
          ],
          "table": [
           {
            "cells": {
             "fill": {
              "color": "#EBF0F8"
             },
             "line": {
              "color": "white"
             }
            },
            "header": {
             "fill": {
              "color": "#C8D4E3"
             },
             "line": {
              "color": "white"
             }
            },
            "type": "table"
           }
          ]
         },
         "layout": {
          "annotationdefaults": {
           "arrowcolor": "#2a3f5f",
           "arrowhead": 0,
           "arrowwidth": 1
          },
          "autotypenumbers": "strict",
          "coloraxis": {
           "colorbar": {
            "outlinewidth": 0,
            "ticks": ""
           }
          },
          "colorscale": {
           "diverging": [
            [
             0,
             "#8e0152"
            ],
            [
             0.1,
             "#c51b7d"
            ],
            [
             0.2,
             "#de77ae"
            ],
            [
             0.3,
             "#f1b6da"
            ],
            [
             0.4,
             "#fde0ef"
            ],
            [
             0.5,
             "#f7f7f7"
            ],
            [
             0.6,
             "#e6f5d0"
            ],
            [
             0.7,
             "#b8e186"
            ],
            [
             0.8,
             "#7fbc41"
            ],
            [
             0.9,
             "#4d9221"
            ],
            [
             1,
             "#276419"
            ]
           ],
           "sequential": [
            [
             0,
             "#0d0887"
            ],
            [
             0.1111111111111111,
             "#46039f"
            ],
            [
             0.2222222222222222,
             "#7201a8"
            ],
            [
             0.3333333333333333,
             "#9c179e"
            ],
            [
             0.4444444444444444,
             "#bd3786"
            ],
            [
             0.5555555555555556,
             "#d8576b"
            ],
            [
             0.6666666666666666,
             "#ed7953"
            ],
            [
             0.7777777777777778,
             "#fb9f3a"
            ],
            [
             0.8888888888888888,
             "#fdca26"
            ],
            [
             1,
             "#f0f921"
            ]
           ],
           "sequentialminus": [
            [
             0,
             "#0d0887"
            ],
            [
             0.1111111111111111,
             "#46039f"
            ],
            [
             0.2222222222222222,
             "#7201a8"
            ],
            [
             0.3333333333333333,
             "#9c179e"
            ],
            [
             0.4444444444444444,
             "#bd3786"
            ],
            [
             0.5555555555555556,
             "#d8576b"
            ],
            [
             0.6666666666666666,
             "#ed7953"
            ],
            [
             0.7777777777777778,
             "#fb9f3a"
            ],
            [
             0.8888888888888888,
             "#fdca26"
            ],
            [
             1,
             "#f0f921"
            ]
           ]
          },
          "colorway": [
           "#636efa",
           "#EF553B",
           "#00cc96",
           "#ab63fa",
           "#FFA15A",
           "#19d3f3",
           "#FF6692",
           "#B6E880",
           "#FF97FF",
           "#FECB52"
          ],
          "font": {
           "color": "#2a3f5f"
          },
          "geo": {
           "bgcolor": "white",
           "lakecolor": "white",
           "landcolor": "#E5ECF6",
           "showlakes": true,
           "showland": true,
           "subunitcolor": "white"
          },
          "hoverlabel": {
           "align": "left"
          },
          "hovermode": "closest",
          "mapbox": {
           "style": "light"
          },
          "paper_bgcolor": "white",
          "plot_bgcolor": "#E5ECF6",
          "polar": {
           "angularaxis": {
            "gridcolor": "white",
            "linecolor": "white",
            "ticks": ""
           },
           "bgcolor": "#E5ECF6",
           "radialaxis": {
            "gridcolor": "white",
            "linecolor": "white",
            "ticks": ""
           }
          },
          "scene": {
           "xaxis": {
            "backgroundcolor": "#E5ECF6",
            "gridcolor": "white",
            "gridwidth": 2,
            "linecolor": "white",
            "showbackground": true,
            "ticks": "",
            "zerolinecolor": "white"
           },
           "yaxis": {
            "backgroundcolor": "#E5ECF6",
            "gridcolor": "white",
            "gridwidth": 2,
            "linecolor": "white",
            "showbackground": true,
            "ticks": "",
            "zerolinecolor": "white"
           },
           "zaxis": {
            "backgroundcolor": "#E5ECF6",
            "gridcolor": "white",
            "gridwidth": 2,
            "linecolor": "white",
            "showbackground": true,
            "ticks": "",
            "zerolinecolor": "white"
           }
          },
          "shapedefaults": {
           "line": {
            "color": "#2a3f5f"
           }
          },
          "ternary": {
           "aaxis": {
            "gridcolor": "white",
            "linecolor": "white",
            "ticks": ""
           },
           "baxis": {
            "gridcolor": "white",
            "linecolor": "white",
            "ticks": ""
           },
           "bgcolor": "#E5ECF6",
           "caxis": {
            "gridcolor": "white",
            "linecolor": "white",
            "ticks": ""
           }
          },
          "title": {
           "x": 0.05
          },
          "xaxis": {
           "automargin": true,
           "gridcolor": "white",
           "linecolor": "white",
           "ticks": "",
           "title": {
            "standoff": 15
           },
           "zerolinecolor": "white",
           "zerolinewidth": 2
          },
          "yaxis": {
           "automargin": true,
           "gridcolor": "white",
           "linecolor": "white",
           "ticks": "",
           "title": {
            "standoff": 15
           },
           "zerolinecolor": "white",
           "zerolinewidth": 2
          }
         }
        },
        "title": {
         "text": "Динамика выручки по месяцам",
         "x": 0.5
        },
        "xaxis": {
         "anchor": "y",
         "categoryarray": [
          "2018-10",
          "2018-11",
          "2018-12",
          "2019-01",
          "2019-02",
          "2019-03",
          "2019-04",
          "2019-05",
          "2019-06",
          "2019-07",
          "2019-08",
          "2019-09",
          "2019-10"
         ],
         "categoryorder": "array",
         "domain": [
          0,
          1
         ],
         "tickangle": -45,
         "title": {
          "text": "Месяц"
         },
         "type": "category"
        },
        "yaxis": {
         "anchor": "x",
         "domain": [
          0,
          1
         ],
         "title": {
          "text": "Выручка"
         }
        }
       }
      },
      "text/html": [
       "<div>                            <div id=\"218acfff-5f0f-42f3-b1cb-cf360dc14cfd\" class=\"plotly-graph-div\" style=\"height:525px; width:100%;\"></div>            <script type=\"text/javascript\">                require([\"plotly\"], function(Plotly) {                    window.PLOTLYENV=window.PLOTLYENV || {};                                    if (document.getElementById(\"218acfff-5f0f-42f3-b1cb-cf360dc14cfd\")) {                    Plotly.newPlot(                        \"218acfff-5f0f-42f3-b1cb-cf360dc14cfd\",                        [{\"alignmentgroup\":\"True\",\"hovertemplate\":\"\\u041c\\u0435\\u0441\\u044f\\u0446=%{x}<br>\\u0412\\u044b\\u0440\\u0443\\u0447\\u043a\\u0430=%{text}<extra></extra>\",\"legendgroup\":\"2018-10\",\"marker\":{\"color\":\"rgb(188,128,189)\",\"pattern\":{\"shape\":\"\"}},\"name\":\"2018-10\",\"offsetgroup\":\"2018-10\",\"orientation\":\"v\",\"showlegend\":true,\"text\":[351162.0],\"textposition\":\"outside\",\"x\":[\"2018-10\"],\"xaxis\":\"x\",\"y\":[351162.0],\"yaxis\":\"y\",\"type\":\"bar\",\"textfont\":{\"size\":12},\"cliponaxis\":false,\"textangle\":0},{\"alignmentgroup\":\"True\",\"hovertemplate\":\"\\u041c\\u0435\\u0441\\u044f\\u0446=%{x}<br>\\u0412\\u044b\\u0440\\u0443\\u0447\\u043a\\u0430=%{text}<extra></extra>\",\"legendgroup\":\"2018-11\",\"marker\":{\"color\":\"rgb(190,186,218)\",\"pattern\":{\"shape\":\"\"}},\"name\":\"2018-11\",\"offsetgroup\":\"2018-11\",\"orientation\":\"v\",\"showlegend\":true,\"text\":[359348.0],\"textposition\":\"outside\",\"x\":[\"2018-11\"],\"xaxis\":\"x\",\"y\":[359348.0],\"yaxis\":\"y\",\"type\":\"bar\",\"textfont\":{\"size\":12},\"cliponaxis\":false,\"textangle\":0},{\"alignmentgroup\":\"True\",\"hovertemplate\":\"\\u041c\\u0435\\u0441\\u044f\\u0446=%{x}<br>\\u0412\\u044b\\u0440\\u0443\\u0447\\u043a\\u0430=%{text}<extra></extra>\",\"legendgroup\":\"2018-12\",\"marker\":{\"color\":\"rgb(141,160,203)\",\"pattern\":{\"shape\":\"\"}},\"name\":\"2018-12\",\"offsetgroup\":\"2018-12\",\"orientation\":\"v\",\"showlegend\":true,\"text\":[345921.0],\"textposition\":\"outside\",\"x\":[\"2018-12\"],\"xaxis\":\"x\",\"y\":[345921.0],\"yaxis\":\"y\",\"type\":\"bar\",\"textfont\":{\"size\":12},\"cliponaxis\":false,\"textangle\":0},{\"alignmentgroup\":\"True\",\"hovertemplate\":\"\\u041c\\u0435\\u0441\\u044f\\u0446=%{x}<br>\\u0412\\u044b\\u0440\\u0443\\u0447\\u043a\\u0430=%{text}<extra></extra>\",\"legendgroup\":\"2019-01\",\"marker\":{\"color\":\"rgb(128,177,211)\",\"pattern\":{\"shape\":\"\"}},\"name\":\"2019-01\",\"offsetgroup\":\"2019-01\",\"orientation\":\"v\",\"showlegend\":true,\"text\":[230097.0],\"textposition\":\"outside\",\"x\":[\"2019-01\"],\"xaxis\":\"x\",\"y\":[230097.0],\"yaxis\":\"y\",\"type\":\"bar\",\"textfont\":{\"size\":12},\"cliponaxis\":false,\"textangle\":0},{\"alignmentgroup\":\"True\",\"hovertemplate\":\"\\u041c\\u0435\\u0441\\u044f\\u0446=%{x}<br>\\u0412\\u044b\\u0440\\u0443\\u0447\\u043a\\u0430=%{text}<extra></extra>\",\"legendgroup\":\"2019-02\",\"marker\":{\"color\":\"rgb(141,211,199)\",\"pattern\":{\"shape\":\"\"}},\"name\":\"2019-02\",\"offsetgroup\":\"2019-02\",\"orientation\":\"v\",\"showlegend\":true,\"text\":[305183.0],\"textposition\":\"outside\",\"x\":[\"2019-02\"],\"xaxis\":\"x\",\"y\":[305183.0],\"yaxis\":\"y\",\"type\":\"bar\",\"textfont\":{\"size\":12},\"cliponaxis\":false,\"textangle\":0},{\"alignmentgroup\":\"True\",\"hovertemplate\":\"\\u041c\\u0435\\u0441\\u044f\\u0446=%{x}<br>\\u0412\\u044b\\u0440\\u0443\\u0447\\u043a\\u0430=%{text}<extra></extra>\",\"legendgroup\":\"2019-03\",\"marker\":{\"color\":\"rgb(204,235,197)\",\"pattern\":{\"shape\":\"\"}},\"name\":\"2019-03\",\"offsetgroup\":\"2019-03\",\"orientation\":\"v\",\"showlegend\":true,\"text\":[249429.0],\"textposition\":\"outside\",\"x\":[\"2019-03\"],\"xaxis\":\"x\",\"y\":[249429.0],\"yaxis\":\"y\",\"type\":\"bar\",\"textfont\":{\"size\":12},\"cliponaxis\":false,\"textangle\":0},{\"alignmentgroup\":\"True\",\"hovertemplate\":\"\\u041c\\u0435\\u0441\\u044f\\u0446=%{x}<br>\\u0412\\u044b\\u0440\\u0443\\u0447\\u043a\\u0430=%{text}<extra></extra>\",\"legendgroup\":\"2019-04\",\"marker\":{\"color\":\"rgb(179,222,105)\",\"pattern\":{\"shape\":\"\"}},\"name\":\"2019-04\",\"offsetgroup\":\"2019-04\",\"orientation\":\"v\",\"showlegend\":true,\"text\":[316469.0],\"textposition\":\"outside\",\"x\":[\"2019-04\"],\"xaxis\":\"x\",\"y\":[316469.0],\"yaxis\":\"y\",\"type\":\"bar\",\"textfont\":{\"size\":12},\"cliponaxis\":false,\"textangle\":0},{\"alignmentgroup\":\"True\",\"hovertemplate\":\"\\u041c\\u0435\\u0441\\u044f\\u0446=%{x}<br>\\u0412\\u044b\\u0440\\u0443\\u0447\\u043a\\u0430=%{text}<extra></extra>\",\"legendgroup\":\"2019-05\",\"marker\":{\"color\":\"rgb(255,237,111)\",\"pattern\":{\"shape\":\"\"}},\"name\":\"2019-05\",\"offsetgroup\":\"2019-05\",\"orientation\":\"v\",\"showlegend\":true,\"text\":[233874.0],\"textposition\":\"outside\",\"x\":[\"2019-05\"],\"xaxis\":\"x\",\"y\":[233874.0],\"yaxis\":\"y\",\"type\":\"bar\",\"textfont\":{\"size\":12},\"cliponaxis\":false,\"textangle\":0},{\"alignmentgroup\":\"True\",\"hovertemplate\":\"\\u041c\\u0435\\u0441\\u044f\\u0446=%{x}<br>\\u0412\\u044b\\u0440\\u0443\\u0447\\u043a\\u0430=%{text}<extra></extra>\",\"legendgroup\":\"2019-06\",\"marker\":{\"color\":\"rgb(255,255,179)\",\"pattern\":{\"shape\":\"\"}},\"name\":\"2019-06\",\"offsetgroup\":\"2019-06\",\"orientation\":\"v\",\"showlegend\":true,\"text\":[225116.0],\"textposition\":\"outside\",\"x\":[\"2019-06\"],\"xaxis\":\"x\",\"y\":[225116.0],\"yaxis\":\"y\",\"type\":\"bar\",\"textfont\":{\"size\":12},\"cliponaxis\":false,\"textangle\":0},{\"alignmentgroup\":\"True\",\"hovertemplate\":\"\\u041c\\u0435\\u0441\\u044f\\u0446=%{x}<br>\\u0412\\u044b\\u0440\\u0443\\u0447\\u043a\\u0430=%{text}<extra></extra>\",\"legendgroup\":\"2019-07\",\"marker\":{\"color\":\"rgb(253,180,98)\",\"pattern\":{\"shape\":\"\"}},\"name\":\"2019-07\",\"offsetgroup\":\"2019-07\",\"orientation\":\"v\",\"showlegend\":true,\"text\":[220015.0],\"textposition\":\"outside\",\"x\":[\"2019-07\"],\"xaxis\":\"x\",\"y\":[220015.0],\"yaxis\":\"y\",\"type\":\"bar\",\"textfont\":{\"size\":12},\"cliponaxis\":false,\"textangle\":0},{\"alignmentgroup\":\"True\",\"hovertemplate\":\"\\u041c\\u0435\\u0441\\u044f\\u0446=%{x}<br>\\u0412\\u044b\\u0440\\u0443\\u0447\\u043a\\u0430=%{text}<extra></extra>\",\"legendgroup\":\"2019-08\",\"marker\":{\"color\":\"rgb(251,128,114)\",\"pattern\":{\"shape\":\"\"}},\"name\":\"2019-08\",\"offsetgroup\":\"2019-08\",\"orientation\":\"v\",\"showlegend\":true,\"text\":[172100.0],\"textposition\":\"outside\",\"x\":[\"2019-08\"],\"xaxis\":\"x\",\"y\":[172100.0],\"yaxis\":\"y\",\"type\":\"bar\",\"textfont\":{\"size\":12},\"cliponaxis\":false,\"textangle\":0},{\"alignmentgroup\":\"True\",\"hovertemplate\":\"\\u041c\\u0435\\u0441\\u044f\\u0446=%{x}<br>\\u0412\\u044b\\u0440\\u0443\\u0447\\u043a\\u0430=%{text}<extra></extra>\",\"legendgroup\":\"2019-09\",\"marker\":{\"color\":\"rgb(231,138,195)\",\"pattern\":{\"shape\":\"\"}},\"name\":\"2019-09\",\"offsetgroup\":\"2019-09\",\"orientation\":\"v\",\"showlegend\":true,\"text\":[177951.0],\"textposition\":\"outside\",\"x\":[\"2019-09\"],\"xaxis\":\"x\",\"y\":[177951.0],\"yaxis\":\"y\",\"type\":\"bar\",\"textfont\":{\"size\":12},\"cliponaxis\":false,\"textangle\":0},{\"alignmentgroup\":\"True\",\"hovertemplate\":\"\\u041c\\u0435\\u0441\\u044f\\u0446=%{x}<br>\\u0412\\u044b\\u0440\\u0443\\u0447\\u043a\\u0430=%{text}<extra></extra>\",\"legendgroup\":\"2019-10\",\"marker\":{\"color\":\"rgb(188,128,189)\",\"pattern\":{\"shape\":\"\"}},\"name\":\"2019-10\",\"offsetgroup\":\"2019-10\",\"orientation\":\"v\",\"showlegend\":true,\"text\":[206490.0],\"textposition\":\"outside\",\"x\":[\"2019-10\"],\"xaxis\":\"x\",\"y\":[206490.0],\"yaxis\":\"y\",\"type\":\"bar\",\"textfont\":{\"size\":12},\"cliponaxis\":false,\"textangle\":0}],                        {\"template\":{\"data\":{\"bar\":[{\"error_x\":{\"color\":\"#2a3f5f\"},\"error_y\":{\"color\":\"#2a3f5f\"},\"marker\":{\"line\":{\"color\":\"#E5ECF6\",\"width\":0.5},\"pattern\":{\"fillmode\":\"overlay\",\"size\":10,\"solidity\":0.2}},\"type\":\"bar\"}],\"barpolar\":[{\"marker\":{\"line\":{\"color\":\"#E5ECF6\",\"width\":0.5},\"pattern\":{\"fillmode\":\"overlay\",\"size\":10,\"solidity\":0.2}},\"type\":\"barpolar\"}],\"carpet\":[{\"aaxis\":{\"endlinecolor\":\"#2a3f5f\",\"gridcolor\":\"white\",\"linecolor\":\"white\",\"minorgridcolor\":\"white\",\"startlinecolor\":\"#2a3f5f\"},\"baxis\":{\"endlinecolor\":\"#2a3f5f\",\"gridcolor\":\"white\",\"linecolor\":\"white\",\"minorgridcolor\":\"white\",\"startlinecolor\":\"#2a3f5f\"},\"type\":\"carpet\"}],\"choropleth\":[{\"colorbar\":{\"outlinewidth\":0,\"ticks\":\"\"},\"type\":\"choropleth\"}],\"contour\":[{\"colorbar\":{\"outlinewidth\":0,\"ticks\":\"\"},\"colorscale\":[[0.0,\"#0d0887\"],[0.1111111111111111,\"#46039f\"],[0.2222222222222222,\"#7201a8\"],[0.3333333333333333,\"#9c179e\"],[0.4444444444444444,\"#bd3786\"],[0.5555555555555556,\"#d8576b\"],[0.6666666666666666,\"#ed7953\"],[0.7777777777777778,\"#fb9f3a\"],[0.8888888888888888,\"#fdca26\"],[1.0,\"#f0f921\"]],\"type\":\"contour\"}],\"contourcarpet\":[{\"colorbar\":{\"outlinewidth\":0,\"ticks\":\"\"},\"type\":\"contourcarpet\"}],\"heatmap\":[{\"colorbar\":{\"outlinewidth\":0,\"ticks\":\"\"},\"colorscale\":[[0.0,\"#0d0887\"],[0.1111111111111111,\"#46039f\"],[0.2222222222222222,\"#7201a8\"],[0.3333333333333333,\"#9c179e\"],[0.4444444444444444,\"#bd3786\"],[0.5555555555555556,\"#d8576b\"],[0.6666666666666666,\"#ed7953\"],[0.7777777777777778,\"#fb9f3a\"],[0.8888888888888888,\"#fdca26\"],[1.0,\"#f0f921\"]],\"type\":\"heatmap\"}],\"heatmapgl\":[{\"colorbar\":{\"outlinewidth\":0,\"ticks\":\"\"},\"colorscale\":[[0.0,\"#0d0887\"],[0.1111111111111111,\"#46039f\"],[0.2222222222222222,\"#7201a8\"],[0.3333333333333333,\"#9c179e\"],[0.4444444444444444,\"#bd3786\"],[0.5555555555555556,\"#d8576b\"],[0.6666666666666666,\"#ed7953\"],[0.7777777777777778,\"#fb9f3a\"],[0.8888888888888888,\"#fdca26\"],[1.0,\"#f0f921\"]],\"type\":\"heatmapgl\"}],\"histogram\":[{\"marker\":{\"pattern\":{\"fillmode\":\"overlay\",\"size\":10,\"solidity\":0.2}},\"type\":\"histogram\"}],\"histogram2d\":[{\"colorbar\":{\"outlinewidth\":0,\"ticks\":\"\"},\"colorscale\":[[0.0,\"#0d0887\"],[0.1111111111111111,\"#46039f\"],[0.2222222222222222,\"#7201a8\"],[0.3333333333333333,\"#9c179e\"],[0.4444444444444444,\"#bd3786\"],[0.5555555555555556,\"#d8576b\"],[0.6666666666666666,\"#ed7953\"],[0.7777777777777778,\"#fb9f3a\"],[0.8888888888888888,\"#fdca26\"],[1.0,\"#f0f921\"]],\"type\":\"histogram2d\"}],\"histogram2dcontour\":[{\"colorbar\":{\"outlinewidth\":0,\"ticks\":\"\"},\"colorscale\":[[0.0,\"#0d0887\"],[0.1111111111111111,\"#46039f\"],[0.2222222222222222,\"#7201a8\"],[0.3333333333333333,\"#9c179e\"],[0.4444444444444444,\"#bd3786\"],[0.5555555555555556,\"#d8576b\"],[0.6666666666666666,\"#ed7953\"],[0.7777777777777778,\"#fb9f3a\"],[0.8888888888888888,\"#fdca26\"],[1.0,\"#f0f921\"]],\"type\":\"histogram2dcontour\"}],\"mesh3d\":[{\"colorbar\":{\"outlinewidth\":0,\"ticks\":\"\"},\"type\":\"mesh3d\"}],\"parcoords\":[{\"line\":{\"colorbar\":{\"outlinewidth\":0,\"ticks\":\"\"}},\"type\":\"parcoords\"}],\"pie\":[{\"automargin\":true,\"type\":\"pie\"}],\"scatter\":[{\"marker\":{\"colorbar\":{\"outlinewidth\":0,\"ticks\":\"\"}},\"type\":\"scatter\"}],\"scatter3d\":[{\"line\":{\"colorbar\":{\"outlinewidth\":0,\"ticks\":\"\"}},\"marker\":{\"colorbar\":{\"outlinewidth\":0,\"ticks\":\"\"}},\"type\":\"scatter3d\"}],\"scattercarpet\":[{\"marker\":{\"colorbar\":{\"outlinewidth\":0,\"ticks\":\"\"}},\"type\":\"scattercarpet\"}],\"scattergeo\":[{\"marker\":{\"colorbar\":{\"outlinewidth\":0,\"ticks\":\"\"}},\"type\":\"scattergeo\"}],\"scattergl\":[{\"marker\":{\"colorbar\":{\"outlinewidth\":0,\"ticks\":\"\"}},\"type\":\"scattergl\"}],\"scattermapbox\":[{\"marker\":{\"colorbar\":{\"outlinewidth\":0,\"ticks\":\"\"}},\"type\":\"scattermapbox\"}],\"scatterpolar\":[{\"marker\":{\"colorbar\":{\"outlinewidth\":0,\"ticks\":\"\"}},\"type\":\"scatterpolar\"}],\"scatterpolargl\":[{\"marker\":{\"colorbar\":{\"outlinewidth\":0,\"ticks\":\"\"}},\"type\":\"scatterpolargl\"}],\"scatterternary\":[{\"marker\":{\"colorbar\":{\"outlinewidth\":0,\"ticks\":\"\"}},\"type\":\"scatterternary\"}],\"surface\":[{\"colorbar\":{\"outlinewidth\":0,\"ticks\":\"\"},\"colorscale\":[[0.0,\"#0d0887\"],[0.1111111111111111,\"#46039f\"],[0.2222222222222222,\"#7201a8\"],[0.3333333333333333,\"#9c179e\"],[0.4444444444444444,\"#bd3786\"],[0.5555555555555556,\"#d8576b\"],[0.6666666666666666,\"#ed7953\"],[0.7777777777777778,\"#fb9f3a\"],[0.8888888888888888,\"#fdca26\"],[1.0,\"#f0f921\"]],\"type\":\"surface\"}],\"table\":[{\"cells\":{\"fill\":{\"color\":\"#EBF0F8\"},\"line\":{\"color\":\"white\"}},\"header\":{\"fill\":{\"color\":\"#C8D4E3\"},\"line\":{\"color\":\"white\"}},\"type\":\"table\"}]},\"layout\":{\"annotationdefaults\":{\"arrowcolor\":\"#2a3f5f\",\"arrowhead\":0,\"arrowwidth\":1},\"autotypenumbers\":\"strict\",\"coloraxis\":{\"colorbar\":{\"outlinewidth\":0,\"ticks\":\"\"}},\"colorscale\":{\"diverging\":[[0,\"#8e0152\"],[0.1,\"#c51b7d\"],[0.2,\"#de77ae\"],[0.3,\"#f1b6da\"],[0.4,\"#fde0ef\"],[0.5,\"#f7f7f7\"],[0.6,\"#e6f5d0\"],[0.7,\"#b8e186\"],[0.8,\"#7fbc41\"],[0.9,\"#4d9221\"],[1,\"#276419\"]],\"sequential\":[[0.0,\"#0d0887\"],[0.1111111111111111,\"#46039f\"],[0.2222222222222222,\"#7201a8\"],[0.3333333333333333,\"#9c179e\"],[0.4444444444444444,\"#bd3786\"],[0.5555555555555556,\"#d8576b\"],[0.6666666666666666,\"#ed7953\"],[0.7777777777777778,\"#fb9f3a\"],[0.8888888888888888,\"#fdca26\"],[1.0,\"#f0f921\"]],\"sequentialminus\":[[0.0,\"#0d0887\"],[0.1111111111111111,\"#46039f\"],[0.2222222222222222,\"#7201a8\"],[0.3333333333333333,\"#9c179e\"],[0.4444444444444444,\"#bd3786\"],[0.5555555555555556,\"#d8576b\"],[0.6666666666666666,\"#ed7953\"],[0.7777777777777778,\"#fb9f3a\"],[0.8888888888888888,\"#fdca26\"],[1.0,\"#f0f921\"]]},\"colorway\":[\"#636efa\",\"#EF553B\",\"#00cc96\",\"#ab63fa\",\"#FFA15A\",\"#19d3f3\",\"#FF6692\",\"#B6E880\",\"#FF97FF\",\"#FECB52\"],\"font\":{\"color\":\"#2a3f5f\"},\"geo\":{\"bgcolor\":\"white\",\"lakecolor\":\"white\",\"landcolor\":\"#E5ECF6\",\"showlakes\":true,\"showland\":true,\"subunitcolor\":\"white\"},\"hoverlabel\":{\"align\":\"left\"},\"hovermode\":\"closest\",\"mapbox\":{\"style\":\"light\"},\"paper_bgcolor\":\"white\",\"plot_bgcolor\":\"#E5ECF6\",\"polar\":{\"angularaxis\":{\"gridcolor\":\"white\",\"linecolor\":\"white\",\"ticks\":\"\"},\"bgcolor\":\"#E5ECF6\",\"radialaxis\":{\"gridcolor\":\"white\",\"linecolor\":\"white\",\"ticks\":\"\"}},\"scene\":{\"xaxis\":{\"backgroundcolor\":\"#E5ECF6\",\"gridcolor\":\"white\",\"gridwidth\":2,\"linecolor\":\"white\",\"showbackground\":true,\"ticks\":\"\",\"zerolinecolor\":\"white\"},\"yaxis\":{\"backgroundcolor\":\"#E5ECF6\",\"gridcolor\":\"white\",\"gridwidth\":2,\"linecolor\":\"white\",\"showbackground\":true,\"ticks\":\"\",\"zerolinecolor\":\"white\"},\"zaxis\":{\"backgroundcolor\":\"#E5ECF6\",\"gridcolor\":\"white\",\"gridwidth\":2,\"linecolor\":\"white\",\"showbackground\":true,\"ticks\":\"\",\"zerolinecolor\":\"white\"}},\"shapedefaults\":{\"line\":{\"color\":\"#2a3f5f\"}},\"ternary\":{\"aaxis\":{\"gridcolor\":\"white\",\"linecolor\":\"white\",\"ticks\":\"\"},\"baxis\":{\"gridcolor\":\"white\",\"linecolor\":\"white\",\"ticks\":\"\"},\"bgcolor\":\"#E5ECF6\",\"caxis\":{\"gridcolor\":\"white\",\"linecolor\":\"white\",\"ticks\":\"\"}},\"title\":{\"x\":0.05},\"xaxis\":{\"automargin\":true,\"gridcolor\":\"white\",\"linecolor\":\"white\",\"ticks\":\"\",\"title\":{\"standoff\":15},\"zerolinecolor\":\"white\",\"zerolinewidth\":2},\"yaxis\":{\"automargin\":true,\"gridcolor\":\"white\",\"linecolor\":\"white\",\"ticks\":\"\",\"title\":{\"standoff\":15},\"zerolinecolor\":\"white\",\"zerolinewidth\":2}}},\"xaxis\":{\"anchor\":\"y\",\"domain\":[0.0,1.0],\"title\":{\"text\":\"\\u041c\\u0435\\u0441\\u044f\\u0446\"},\"categoryorder\":\"array\",\"categoryarray\":[\"2018-10\",\"2018-11\",\"2018-12\",\"2019-01\",\"2019-02\",\"2019-03\",\"2019-04\",\"2019-05\",\"2019-06\",\"2019-07\",\"2019-08\",\"2019-09\",\"2019-10\"],\"tickangle\":-45,\"type\":\"category\"},\"yaxis\":{\"anchor\":\"x\",\"domain\":[0.0,1.0],\"title\":{\"text\":\"\\u0412\\u044b\\u0440\\u0443\\u0447\\u043a\\u0430\"}},\"legend\":{\"title\":{\"text\":\"\\u041c\\u0435\\u0441\\u044f\\u0446\"},\"tracegroupgap\":0},\"title\":{\"text\":\"\\u0414\\u0438\\u043d\\u0430\\u043c\\u0438\\u043a\\u0430 \\u0432\\u044b\\u0440\\u0443\\u0447\\u043a\\u0438 \\u043f\\u043e \\u043c\\u0435\\u0441\\u044f\\u0446\\u0430\\u043c\",\"x\":0.5},\"barmode\":\"relative\"},                        {\"responsive\": true}                    ).then(function(){\n",
       "                            \n",
       "var gd = document.getElementById('218acfff-5f0f-42f3-b1cb-cf360dc14cfd');\n",
       "var x = new MutationObserver(function (mutations, observer) {{\n",
       "        var display = window.getComputedStyle(gd).display;\n",
       "        if (!display || display === 'none') {{\n",
       "            console.log([gd, 'removed!']);\n",
       "            Plotly.purge(gd);\n",
       "            observer.disconnect();\n",
       "        }}\n",
       "}});\n",
       "\n",
       "// Listen for the removal of the full notebook cells\n",
       "var notebookContainer = gd.closest('#notebook-container');\n",
       "if (notebookContainer) {{\n",
       "    x.observe(notebookContainer, {childList: true});\n",
       "}}\n",
       "\n",
       "// Listen for the clearing of the current output cell\n",
       "var outputEl = gd.closest('.output');\n",
       "if (outputEl) {{\n",
       "    x.observe(outputEl, {childList: true});\n",
       "}}\n",
       "\n",
       "                        })                };                });            </script>        </div>"
      ]
     },
     "metadata": {},
     "output_type": "display_data"
    }
   ],
   "source": [
    "# график динамики выручки по месяцам\n",
    "fig = px.bar(revenue, x='Месяц', y='Выручка', color='Месяц',\n",
    "             title = 'Динамика выручки по месяцам',\n",
    "             text = 'Выручка',\n",
    "             color_discrete_sequence=[px.colors.qualitative.Set3[9], px.colors.qualitative.Set3[2], \\\n",
    "                                     px.colors.qualitative.Set2[2], px.colors.qualitative.Set3[4], \\\n",
    "                                     px.colors.qualitative.Set3[0], px.colors.qualitative.Set3[10], \\\n",
    "                                     px.colors.qualitative.Set3[6], px.colors.qualitative.Set3[11], \\\n",
    "                                     px.colors.qualitative.Set3[1], px.colors.qualitative.Set3[5], \\\n",
    "                                     px.colors.qualitative.Set3[3], px.colors.qualitative.Set2[3]])\n",
    "fig.update_traces(textfont_size=12, textangle=0, textposition=\"outside\", cliponaxis=False)\n",
    "fig.update_layout(title_x = 0.5, xaxis_tickangle=-45)\n",
    "fig.update_xaxes(type='category')\n",
    "fig.show()"
   ]
  },
  {
   "cell_type": "markdown",
   "id": "d8fa726b",
   "metadata": {},
   "source": [
    "По графику видно, что с января 2019 года выручка магазина резко сократилась в 1,5 раза, но в феврале и апреле наблюдаются скачки. Скорей всего это связано с сезонностью покупок продаваемых товаров. Далее попробуем дать объяснение этому."
   ]
  },
  {
   "cell_type": "markdown",
   "id": "a86710fa",
   "metadata": {},
   "source": [
    "<a id='p4s2'></a>\n",
    "#### Динамика среднего чека по месяцам (AOV)"
   ]
  },
  {
   "cell_type": "code",
   "execution_count": 28,
   "id": "c6d8850d",
   "metadata": {},
   "outputs": [
    {
     "data": {
      "text/html": [
       "<div>\n",
       "<style scoped>\n",
       "    .dataframe tbody tr th:only-of-type {\n",
       "        vertical-align: middle;\n",
       "    }\n",
       "\n",
       "    .dataframe tbody tr th {\n",
       "        vertical-align: top;\n",
       "    }\n",
       "\n",
       "    .dataframe thead th {\n",
       "        text-align: right;\n",
       "    }\n",
       "</style>\n",
       "<table border=\"1\" class=\"dataframe\">\n",
       "  <thead>\n",
       "    <tr style=\"text-align: right;\">\n",
       "      <th></th>\n",
       "      <th>Месяц</th>\n",
       "      <th>Выручка</th>\n",
       "      <th>Количество заказов</th>\n",
       "      <th>Средний чек</th>\n",
       "    </tr>\n",
       "  </thead>\n",
       "  <tbody>\n",
       "    <tr>\n",
       "      <th>0</th>\n",
       "      <td>2018-10</td>\n",
       "      <td>351162.0</td>\n",
       "      <td>238</td>\n",
       "      <td>1475.0</td>\n",
       "    </tr>\n",
       "    <tr>\n",
       "      <th>1</th>\n",
       "      <td>2018-11</td>\n",
       "      <td>359348.0</td>\n",
       "      <td>204</td>\n",
       "      <td>1762.0</td>\n",
       "    </tr>\n",
       "    <tr>\n",
       "      <th>2</th>\n",
       "      <td>2018-12</td>\n",
       "      <td>345921.0</td>\n",
       "      <td>278</td>\n",
       "      <td>1244.0</td>\n",
       "    </tr>\n",
       "    <tr>\n",
       "      <th>3</th>\n",
       "      <td>2019-01</td>\n",
       "      <td>230097.0</td>\n",
       "      <td>165</td>\n",
       "      <td>1395.0</td>\n",
       "    </tr>\n",
       "    <tr>\n",
       "      <th>4</th>\n",
       "      <td>2019-02</td>\n",
       "      <td>305183.0</td>\n",
       "      <td>286</td>\n",
       "      <td>1067.0</td>\n",
       "    </tr>\n",
       "    <tr>\n",
       "      <th>5</th>\n",
       "      <td>2019-03</td>\n",
       "      <td>249429.0</td>\n",
       "      <td>242</td>\n",
       "      <td>1031.0</td>\n",
       "    </tr>\n",
       "    <tr>\n",
       "      <th>6</th>\n",
       "      <td>2019-04</td>\n",
       "      <td>316469.0</td>\n",
       "      <td>264</td>\n",
       "      <td>1199.0</td>\n",
       "    </tr>\n",
       "    <tr>\n",
       "      <th>7</th>\n",
       "      <td>2019-05</td>\n",
       "      <td>233874.0</td>\n",
       "      <td>178</td>\n",
       "      <td>1314.0</td>\n",
       "    </tr>\n",
       "    <tr>\n",
       "      <th>8</th>\n",
       "      <td>2019-06</td>\n",
       "      <td>225116.0</td>\n",
       "      <td>156</td>\n",
       "      <td>1443.0</td>\n",
       "    </tr>\n",
       "    <tr>\n",
       "      <th>9</th>\n",
       "      <td>2019-07</td>\n",
       "      <td>220015.0</td>\n",
       "      <td>197</td>\n",
       "      <td>1117.0</td>\n",
       "    </tr>\n",
       "    <tr>\n",
       "      <th>10</th>\n",
       "      <td>2019-08</td>\n",
       "      <td>172100.0</td>\n",
       "      <td>172</td>\n",
       "      <td>1001.0</td>\n",
       "    </tr>\n",
       "    <tr>\n",
       "      <th>11</th>\n",
       "      <td>2019-09</td>\n",
       "      <td>177951.0</td>\n",
       "      <td>179</td>\n",
       "      <td>994.0</td>\n",
       "    </tr>\n",
       "    <tr>\n",
       "      <th>12</th>\n",
       "      <td>2019-10</td>\n",
       "      <td>206490.0</td>\n",
       "      <td>196</td>\n",
       "      <td>1054.0</td>\n",
       "    </tr>\n",
       "  </tbody>\n",
       "</table>\n",
       "</div>"
      ],
      "text/plain": [
       "      Месяц   Выручка  Количество заказов  Средний чек\n",
       "0   2018-10  351162.0                 238       1475.0\n",
       "1   2018-11  359348.0                 204       1762.0\n",
       "2   2018-12  345921.0                 278       1244.0\n",
       "3   2019-01  230097.0                 165       1395.0\n",
       "4   2019-02  305183.0                 286       1067.0\n",
       "5   2019-03  249429.0                 242       1031.0\n",
       "6   2019-04  316469.0                 264       1199.0\n",
       "7   2019-05  233874.0                 178       1314.0\n",
       "8   2019-06  225116.0                 156       1443.0\n",
       "9   2019-07  220015.0                 197       1117.0\n",
       "10  2019-08  172100.0                 172       1001.0\n",
       "11  2019-09  177951.0                 179        994.0\n",
       "12  2019-10  206490.0                 196       1054.0"
      ]
     },
     "execution_count": 28,
     "metadata": {},
     "output_type": "execute_result"
    }
   ],
   "source": [
    "# таблица выручки, количества заказов и среднего чека по месяцам\n",
    "check = orders.pivot_table(index='month', values=['order_id', 'cost'], aggfunc={'order_id': 'nunique', 'cost': 'sum'}) \\\n",
    "              .reset_index() \\\n",
    "              .rename(columns={'month': 'Месяц', 'cost': 'Выручка', 'order_id': 'Количество заказов'})\n",
    "check['Средний чек'] = round(check['Выручка'] / check['Количество заказов'], 0)\n",
    "check"
   ]
  },
  {
   "cell_type": "code",
   "execution_count": 29,
   "id": "899d84b2",
   "metadata": {},
   "outputs": [
    {
     "data": {
      "application/vnd.plotly.v1+json": {
       "config": {
        "plotlyServerURL": "https://plot.ly"
       },
       "data": [
        {
         "alignmentgroup": "True",
         "hovertemplate": "Месяц=%{x}<br>Средний чек=%{text}<extra></extra>",
         "legendgroup": "2018-10",
         "marker": {
          "color": "rgb(188,128,189)",
          "pattern": {
           "shape": ""
          }
         },
         "name": "2018-10",
         "offsetgroup": "2018-10",
         "orientation": "v",
         "showlegend": true,
         "text": [
          1475
         ],
         "textposition": "auto",
         "type": "bar",
         "x": [
          "2018-10"
         ],
         "xaxis": "x",
         "y": [
          1475
         ],
         "yaxis": "y"
        },
        {
         "alignmentgroup": "True",
         "hovertemplate": "Месяц=%{x}<br>Средний чек=%{text}<extra></extra>",
         "legendgroup": "2018-11",
         "marker": {
          "color": "rgb(190,186,218)",
          "pattern": {
           "shape": ""
          }
         },
         "name": "2018-11",
         "offsetgroup": "2018-11",
         "orientation": "v",
         "showlegend": true,
         "text": [
          1762
         ],
         "textposition": "auto",
         "type": "bar",
         "x": [
          "2018-11"
         ],
         "xaxis": "x",
         "y": [
          1762
         ],
         "yaxis": "y"
        },
        {
         "alignmentgroup": "True",
         "hovertemplate": "Месяц=%{x}<br>Средний чек=%{text}<extra></extra>",
         "legendgroup": "2018-12",
         "marker": {
          "color": "rgb(141,160,203)",
          "pattern": {
           "shape": ""
          }
         },
         "name": "2018-12",
         "offsetgroup": "2018-12",
         "orientation": "v",
         "showlegend": true,
         "text": [
          1244
         ],
         "textposition": "auto",
         "type": "bar",
         "x": [
          "2018-12"
         ],
         "xaxis": "x",
         "y": [
          1244
         ],
         "yaxis": "y"
        },
        {
         "alignmentgroup": "True",
         "hovertemplate": "Месяц=%{x}<br>Средний чек=%{text}<extra></extra>",
         "legendgroup": "2019-01",
         "marker": {
          "color": "rgb(128,177,211)",
          "pattern": {
           "shape": ""
          }
         },
         "name": "2019-01",
         "offsetgroup": "2019-01",
         "orientation": "v",
         "showlegend": true,
         "text": [
          1395
         ],
         "textposition": "auto",
         "type": "bar",
         "x": [
          "2019-01"
         ],
         "xaxis": "x",
         "y": [
          1395
         ],
         "yaxis": "y"
        },
        {
         "alignmentgroup": "True",
         "hovertemplate": "Месяц=%{x}<br>Средний чек=%{text}<extra></extra>",
         "legendgroup": "2019-02",
         "marker": {
          "color": "rgb(141,211,199)",
          "pattern": {
           "shape": ""
          }
         },
         "name": "2019-02",
         "offsetgroup": "2019-02",
         "orientation": "v",
         "showlegend": true,
         "text": [
          1067
         ],
         "textposition": "auto",
         "type": "bar",
         "x": [
          "2019-02"
         ],
         "xaxis": "x",
         "y": [
          1067
         ],
         "yaxis": "y"
        },
        {
         "alignmentgroup": "True",
         "hovertemplate": "Месяц=%{x}<br>Средний чек=%{text}<extra></extra>",
         "legendgroup": "2019-03",
         "marker": {
          "color": "rgb(204,235,197)",
          "pattern": {
           "shape": ""
          }
         },
         "name": "2019-03",
         "offsetgroup": "2019-03",
         "orientation": "v",
         "showlegend": true,
         "text": [
          1031
         ],
         "textposition": "auto",
         "type": "bar",
         "x": [
          "2019-03"
         ],
         "xaxis": "x",
         "y": [
          1031
         ],
         "yaxis": "y"
        },
        {
         "alignmentgroup": "True",
         "hovertemplate": "Месяц=%{x}<br>Средний чек=%{text}<extra></extra>",
         "legendgroup": "2019-04",
         "marker": {
          "color": "rgb(179,222,105)",
          "pattern": {
           "shape": ""
          }
         },
         "name": "2019-04",
         "offsetgroup": "2019-04",
         "orientation": "v",
         "showlegend": true,
         "text": [
          1199
         ],
         "textposition": "auto",
         "type": "bar",
         "x": [
          "2019-04"
         ],
         "xaxis": "x",
         "y": [
          1199
         ],
         "yaxis": "y"
        },
        {
         "alignmentgroup": "True",
         "hovertemplate": "Месяц=%{x}<br>Средний чек=%{text}<extra></extra>",
         "legendgroup": "2019-05",
         "marker": {
          "color": "rgb(255,237,111)",
          "pattern": {
           "shape": ""
          }
         },
         "name": "2019-05",
         "offsetgroup": "2019-05",
         "orientation": "v",
         "showlegend": true,
         "text": [
          1314
         ],
         "textposition": "auto",
         "type": "bar",
         "x": [
          "2019-05"
         ],
         "xaxis": "x",
         "y": [
          1314
         ],
         "yaxis": "y"
        },
        {
         "alignmentgroup": "True",
         "hovertemplate": "Месяц=%{x}<br>Средний чек=%{text}<extra></extra>",
         "legendgroup": "2019-06",
         "marker": {
          "color": "rgb(255,255,179)",
          "pattern": {
           "shape": ""
          }
         },
         "name": "2019-06",
         "offsetgroup": "2019-06",
         "orientation": "v",
         "showlegend": true,
         "text": [
          1443
         ],
         "textposition": "auto",
         "type": "bar",
         "x": [
          "2019-06"
         ],
         "xaxis": "x",
         "y": [
          1443
         ],
         "yaxis": "y"
        },
        {
         "alignmentgroup": "True",
         "hovertemplate": "Месяц=%{x}<br>Средний чек=%{text}<extra></extra>",
         "legendgroup": "2019-07",
         "marker": {
          "color": "rgb(253,180,98)",
          "pattern": {
           "shape": ""
          }
         },
         "name": "2019-07",
         "offsetgroup": "2019-07",
         "orientation": "v",
         "showlegend": true,
         "text": [
          1117
         ],
         "textposition": "auto",
         "type": "bar",
         "x": [
          "2019-07"
         ],
         "xaxis": "x",
         "y": [
          1117
         ],
         "yaxis": "y"
        },
        {
         "alignmentgroup": "True",
         "hovertemplate": "Месяц=%{x}<br>Средний чек=%{text}<extra></extra>",
         "legendgroup": "2019-08",
         "marker": {
          "color": "rgb(251,128,114)",
          "pattern": {
           "shape": ""
          }
         },
         "name": "2019-08",
         "offsetgroup": "2019-08",
         "orientation": "v",
         "showlegend": true,
         "text": [
          1001
         ],
         "textposition": "auto",
         "type": "bar",
         "x": [
          "2019-08"
         ],
         "xaxis": "x",
         "y": [
          1001
         ],
         "yaxis": "y"
        },
        {
         "alignmentgroup": "True",
         "hovertemplate": "Месяц=%{x}<br>Средний чек=%{text}<extra></extra>",
         "legendgroup": "2019-09",
         "marker": {
          "color": "rgb(231,138,195)",
          "pattern": {
           "shape": ""
          }
         },
         "name": "2019-09",
         "offsetgroup": "2019-09",
         "orientation": "v",
         "showlegend": true,
         "text": [
          994
         ],
         "textposition": "auto",
         "type": "bar",
         "x": [
          "2019-09"
         ],
         "xaxis": "x",
         "y": [
          994
         ],
         "yaxis": "y"
        },
        {
         "alignmentgroup": "True",
         "hovertemplate": "Месяц=%{x}<br>Средний чек=%{text}<extra></extra>",
         "legendgroup": "2019-10",
         "marker": {
          "color": "rgb(188,128,189)",
          "pattern": {
           "shape": ""
          }
         },
         "name": "2019-10",
         "offsetgroup": "2019-10",
         "orientation": "v",
         "showlegend": true,
         "text": [
          1054
         ],
         "textposition": "auto",
         "type": "bar",
         "x": [
          "2019-10"
         ],
         "xaxis": "x",
         "y": [
          1054
         ],
         "yaxis": "y"
        }
       ],
       "layout": {
        "barmode": "relative",
        "legend": {
         "title": {
          "text": "Месяц"
         },
         "tracegroupgap": 0
        },
        "template": {
         "data": {
          "bar": [
           {
            "error_x": {
             "color": "#2a3f5f"
            },
            "error_y": {
             "color": "#2a3f5f"
            },
            "marker": {
             "line": {
              "color": "#E5ECF6",
              "width": 0.5
             },
             "pattern": {
              "fillmode": "overlay",
              "size": 10,
              "solidity": 0.2
             }
            },
            "type": "bar"
           }
          ],
          "barpolar": [
           {
            "marker": {
             "line": {
              "color": "#E5ECF6",
              "width": 0.5
             },
             "pattern": {
              "fillmode": "overlay",
              "size": 10,
              "solidity": 0.2
             }
            },
            "type": "barpolar"
           }
          ],
          "carpet": [
           {
            "aaxis": {
             "endlinecolor": "#2a3f5f",
             "gridcolor": "white",
             "linecolor": "white",
             "minorgridcolor": "white",
             "startlinecolor": "#2a3f5f"
            },
            "baxis": {
             "endlinecolor": "#2a3f5f",
             "gridcolor": "white",
             "linecolor": "white",
             "minorgridcolor": "white",
             "startlinecolor": "#2a3f5f"
            },
            "type": "carpet"
           }
          ],
          "choropleth": [
           {
            "colorbar": {
             "outlinewidth": 0,
             "ticks": ""
            },
            "type": "choropleth"
           }
          ],
          "contour": [
           {
            "colorbar": {
             "outlinewidth": 0,
             "ticks": ""
            },
            "colorscale": [
             [
              0,
              "#0d0887"
             ],
             [
              0.1111111111111111,
              "#46039f"
             ],
             [
              0.2222222222222222,
              "#7201a8"
             ],
             [
              0.3333333333333333,
              "#9c179e"
             ],
             [
              0.4444444444444444,
              "#bd3786"
             ],
             [
              0.5555555555555556,
              "#d8576b"
             ],
             [
              0.6666666666666666,
              "#ed7953"
             ],
             [
              0.7777777777777778,
              "#fb9f3a"
             ],
             [
              0.8888888888888888,
              "#fdca26"
             ],
             [
              1,
              "#f0f921"
             ]
            ],
            "type": "contour"
           }
          ],
          "contourcarpet": [
           {
            "colorbar": {
             "outlinewidth": 0,
             "ticks": ""
            },
            "type": "contourcarpet"
           }
          ],
          "heatmap": [
           {
            "colorbar": {
             "outlinewidth": 0,
             "ticks": ""
            },
            "colorscale": [
             [
              0,
              "#0d0887"
             ],
             [
              0.1111111111111111,
              "#46039f"
             ],
             [
              0.2222222222222222,
              "#7201a8"
             ],
             [
              0.3333333333333333,
              "#9c179e"
             ],
             [
              0.4444444444444444,
              "#bd3786"
             ],
             [
              0.5555555555555556,
              "#d8576b"
             ],
             [
              0.6666666666666666,
              "#ed7953"
             ],
             [
              0.7777777777777778,
              "#fb9f3a"
             ],
             [
              0.8888888888888888,
              "#fdca26"
             ],
             [
              1,
              "#f0f921"
             ]
            ],
            "type": "heatmap"
           }
          ],
          "heatmapgl": [
           {
            "colorbar": {
             "outlinewidth": 0,
             "ticks": ""
            },
            "colorscale": [
             [
              0,
              "#0d0887"
             ],
             [
              0.1111111111111111,
              "#46039f"
             ],
             [
              0.2222222222222222,
              "#7201a8"
             ],
             [
              0.3333333333333333,
              "#9c179e"
             ],
             [
              0.4444444444444444,
              "#bd3786"
             ],
             [
              0.5555555555555556,
              "#d8576b"
             ],
             [
              0.6666666666666666,
              "#ed7953"
             ],
             [
              0.7777777777777778,
              "#fb9f3a"
             ],
             [
              0.8888888888888888,
              "#fdca26"
             ],
             [
              1,
              "#f0f921"
             ]
            ],
            "type": "heatmapgl"
           }
          ],
          "histogram": [
           {
            "marker": {
             "pattern": {
              "fillmode": "overlay",
              "size": 10,
              "solidity": 0.2
             }
            },
            "type": "histogram"
           }
          ],
          "histogram2d": [
           {
            "colorbar": {
             "outlinewidth": 0,
             "ticks": ""
            },
            "colorscale": [
             [
              0,
              "#0d0887"
             ],
             [
              0.1111111111111111,
              "#46039f"
             ],
             [
              0.2222222222222222,
              "#7201a8"
             ],
             [
              0.3333333333333333,
              "#9c179e"
             ],
             [
              0.4444444444444444,
              "#bd3786"
             ],
             [
              0.5555555555555556,
              "#d8576b"
             ],
             [
              0.6666666666666666,
              "#ed7953"
             ],
             [
              0.7777777777777778,
              "#fb9f3a"
             ],
             [
              0.8888888888888888,
              "#fdca26"
             ],
             [
              1,
              "#f0f921"
             ]
            ],
            "type": "histogram2d"
           }
          ],
          "histogram2dcontour": [
           {
            "colorbar": {
             "outlinewidth": 0,
             "ticks": ""
            },
            "colorscale": [
             [
              0,
              "#0d0887"
             ],
             [
              0.1111111111111111,
              "#46039f"
             ],
             [
              0.2222222222222222,
              "#7201a8"
             ],
             [
              0.3333333333333333,
              "#9c179e"
             ],
             [
              0.4444444444444444,
              "#bd3786"
             ],
             [
              0.5555555555555556,
              "#d8576b"
             ],
             [
              0.6666666666666666,
              "#ed7953"
             ],
             [
              0.7777777777777778,
              "#fb9f3a"
             ],
             [
              0.8888888888888888,
              "#fdca26"
             ],
             [
              1,
              "#f0f921"
             ]
            ],
            "type": "histogram2dcontour"
           }
          ],
          "mesh3d": [
           {
            "colorbar": {
             "outlinewidth": 0,
             "ticks": ""
            },
            "type": "mesh3d"
           }
          ],
          "parcoords": [
           {
            "line": {
             "colorbar": {
              "outlinewidth": 0,
              "ticks": ""
             }
            },
            "type": "parcoords"
           }
          ],
          "pie": [
           {
            "automargin": true,
            "type": "pie"
           }
          ],
          "scatter": [
           {
            "marker": {
             "colorbar": {
              "outlinewidth": 0,
              "ticks": ""
             }
            },
            "type": "scatter"
           }
          ],
          "scatter3d": [
           {
            "line": {
             "colorbar": {
              "outlinewidth": 0,
              "ticks": ""
             }
            },
            "marker": {
             "colorbar": {
              "outlinewidth": 0,
              "ticks": ""
             }
            },
            "type": "scatter3d"
           }
          ],
          "scattercarpet": [
           {
            "marker": {
             "colorbar": {
              "outlinewidth": 0,
              "ticks": ""
             }
            },
            "type": "scattercarpet"
           }
          ],
          "scattergeo": [
           {
            "marker": {
             "colorbar": {
              "outlinewidth": 0,
              "ticks": ""
             }
            },
            "type": "scattergeo"
           }
          ],
          "scattergl": [
           {
            "marker": {
             "colorbar": {
              "outlinewidth": 0,
              "ticks": ""
             }
            },
            "type": "scattergl"
           }
          ],
          "scattermapbox": [
           {
            "marker": {
             "colorbar": {
              "outlinewidth": 0,
              "ticks": ""
             }
            },
            "type": "scattermapbox"
           }
          ],
          "scatterpolar": [
           {
            "marker": {
             "colorbar": {
              "outlinewidth": 0,
              "ticks": ""
             }
            },
            "type": "scatterpolar"
           }
          ],
          "scatterpolargl": [
           {
            "marker": {
             "colorbar": {
              "outlinewidth": 0,
              "ticks": ""
             }
            },
            "type": "scatterpolargl"
           }
          ],
          "scatterternary": [
           {
            "marker": {
             "colorbar": {
              "outlinewidth": 0,
              "ticks": ""
             }
            },
            "type": "scatterternary"
           }
          ],
          "surface": [
           {
            "colorbar": {
             "outlinewidth": 0,
             "ticks": ""
            },
            "colorscale": [
             [
              0,
              "#0d0887"
             ],
             [
              0.1111111111111111,
              "#46039f"
             ],
             [
              0.2222222222222222,
              "#7201a8"
             ],
             [
              0.3333333333333333,
              "#9c179e"
             ],
             [
              0.4444444444444444,
              "#bd3786"
             ],
             [
              0.5555555555555556,
              "#d8576b"
             ],
             [
              0.6666666666666666,
              "#ed7953"
             ],
             [
              0.7777777777777778,
              "#fb9f3a"
             ],
             [
              0.8888888888888888,
              "#fdca26"
             ],
             [
              1,
              "#f0f921"
             ]
            ],
            "type": "surface"
           }
          ],
          "table": [
           {
            "cells": {
             "fill": {
              "color": "#EBF0F8"
             },
             "line": {
              "color": "white"
             }
            },
            "header": {
             "fill": {
              "color": "#C8D4E3"
             },
             "line": {
              "color": "white"
             }
            },
            "type": "table"
           }
          ]
         },
         "layout": {
          "annotationdefaults": {
           "arrowcolor": "#2a3f5f",
           "arrowhead": 0,
           "arrowwidth": 1
          },
          "autotypenumbers": "strict",
          "coloraxis": {
           "colorbar": {
            "outlinewidth": 0,
            "ticks": ""
           }
          },
          "colorscale": {
           "diverging": [
            [
             0,
             "#8e0152"
            ],
            [
             0.1,
             "#c51b7d"
            ],
            [
             0.2,
             "#de77ae"
            ],
            [
             0.3,
             "#f1b6da"
            ],
            [
             0.4,
             "#fde0ef"
            ],
            [
             0.5,
             "#f7f7f7"
            ],
            [
             0.6,
             "#e6f5d0"
            ],
            [
             0.7,
             "#b8e186"
            ],
            [
             0.8,
             "#7fbc41"
            ],
            [
             0.9,
             "#4d9221"
            ],
            [
             1,
             "#276419"
            ]
           ],
           "sequential": [
            [
             0,
             "#0d0887"
            ],
            [
             0.1111111111111111,
             "#46039f"
            ],
            [
             0.2222222222222222,
             "#7201a8"
            ],
            [
             0.3333333333333333,
             "#9c179e"
            ],
            [
             0.4444444444444444,
             "#bd3786"
            ],
            [
             0.5555555555555556,
             "#d8576b"
            ],
            [
             0.6666666666666666,
             "#ed7953"
            ],
            [
             0.7777777777777778,
             "#fb9f3a"
            ],
            [
             0.8888888888888888,
             "#fdca26"
            ],
            [
             1,
             "#f0f921"
            ]
           ],
           "sequentialminus": [
            [
             0,
             "#0d0887"
            ],
            [
             0.1111111111111111,
             "#46039f"
            ],
            [
             0.2222222222222222,
             "#7201a8"
            ],
            [
             0.3333333333333333,
             "#9c179e"
            ],
            [
             0.4444444444444444,
             "#bd3786"
            ],
            [
             0.5555555555555556,
             "#d8576b"
            ],
            [
             0.6666666666666666,
             "#ed7953"
            ],
            [
             0.7777777777777778,
             "#fb9f3a"
            ],
            [
             0.8888888888888888,
             "#fdca26"
            ],
            [
             1,
             "#f0f921"
            ]
           ]
          },
          "colorway": [
           "#636efa",
           "#EF553B",
           "#00cc96",
           "#ab63fa",
           "#FFA15A",
           "#19d3f3",
           "#FF6692",
           "#B6E880",
           "#FF97FF",
           "#FECB52"
          ],
          "font": {
           "color": "#2a3f5f"
          },
          "geo": {
           "bgcolor": "white",
           "lakecolor": "white",
           "landcolor": "#E5ECF6",
           "showlakes": true,
           "showland": true,
           "subunitcolor": "white"
          },
          "hoverlabel": {
           "align": "left"
          },
          "hovermode": "closest",
          "mapbox": {
           "style": "light"
          },
          "paper_bgcolor": "white",
          "plot_bgcolor": "#E5ECF6",
          "polar": {
           "angularaxis": {
            "gridcolor": "white",
            "linecolor": "white",
            "ticks": ""
           },
           "bgcolor": "#E5ECF6",
           "radialaxis": {
            "gridcolor": "white",
            "linecolor": "white",
            "ticks": ""
           }
          },
          "scene": {
           "xaxis": {
            "backgroundcolor": "#E5ECF6",
            "gridcolor": "white",
            "gridwidth": 2,
            "linecolor": "white",
            "showbackground": true,
            "ticks": "",
            "zerolinecolor": "white"
           },
           "yaxis": {
            "backgroundcolor": "#E5ECF6",
            "gridcolor": "white",
            "gridwidth": 2,
            "linecolor": "white",
            "showbackground": true,
            "ticks": "",
            "zerolinecolor": "white"
           },
           "zaxis": {
            "backgroundcolor": "#E5ECF6",
            "gridcolor": "white",
            "gridwidth": 2,
            "linecolor": "white",
            "showbackground": true,
            "ticks": "",
            "zerolinecolor": "white"
           }
          },
          "shapedefaults": {
           "line": {
            "color": "#2a3f5f"
           }
          },
          "ternary": {
           "aaxis": {
            "gridcolor": "white",
            "linecolor": "white",
            "ticks": ""
           },
           "baxis": {
            "gridcolor": "white",
            "linecolor": "white",
            "ticks": ""
           },
           "bgcolor": "#E5ECF6",
           "caxis": {
            "gridcolor": "white",
            "linecolor": "white",
            "ticks": ""
           }
          },
          "title": {
           "x": 0.05
          },
          "xaxis": {
           "automargin": true,
           "gridcolor": "white",
           "linecolor": "white",
           "ticks": "",
           "title": {
            "standoff": 15
           },
           "zerolinecolor": "white",
           "zerolinewidth": 2
          },
          "yaxis": {
           "automargin": true,
           "gridcolor": "white",
           "linecolor": "white",
           "ticks": "",
           "title": {
            "standoff": 15
           },
           "zerolinecolor": "white",
           "zerolinewidth": 2
          }
         }
        },
        "title": {
         "text": "Динамика среднего чека по месяцам",
         "x": 0.5
        },
        "xaxis": {
         "anchor": "y",
         "categoryarray": [
          "2018-10",
          "2018-11",
          "2018-12",
          "2019-01",
          "2019-02",
          "2019-03",
          "2019-04",
          "2019-05",
          "2019-06",
          "2019-07",
          "2019-08",
          "2019-09",
          "2019-10"
         ],
         "categoryorder": "array",
         "domain": [
          0,
          1
         ],
         "tickangle": -45,
         "title": {
          "text": "Месяц"
         },
         "type": "category"
        },
        "yaxis": {
         "anchor": "x",
         "domain": [
          0,
          1
         ],
         "title": {
          "text": "Средний чек"
         }
        }
       }
      },
      "text/html": [
       "<div>                            <div id=\"e605d784-fa19-446f-8fdc-56209d364dea\" class=\"plotly-graph-div\" style=\"height:525px; width:100%;\"></div>            <script type=\"text/javascript\">                require([\"plotly\"], function(Plotly) {                    window.PLOTLYENV=window.PLOTLYENV || {};                                    if (document.getElementById(\"e605d784-fa19-446f-8fdc-56209d364dea\")) {                    Plotly.newPlot(                        \"e605d784-fa19-446f-8fdc-56209d364dea\",                        [{\"alignmentgroup\":\"True\",\"hovertemplate\":\"\\u041c\\u0435\\u0441\\u044f\\u0446=%{x}<br>\\u0421\\u0440\\u0435\\u0434\\u043d\\u0438\\u0439 \\u0447\\u0435\\u043a=%{text}<extra></extra>\",\"legendgroup\":\"2018-10\",\"marker\":{\"color\":\"rgb(188,128,189)\",\"pattern\":{\"shape\":\"\"}},\"name\":\"2018-10\",\"offsetgroup\":\"2018-10\",\"orientation\":\"v\",\"showlegend\":true,\"text\":[1475.0],\"textposition\":\"auto\",\"x\":[\"2018-10\"],\"xaxis\":\"x\",\"y\":[1475.0],\"yaxis\":\"y\",\"type\":\"bar\"},{\"alignmentgroup\":\"True\",\"hovertemplate\":\"\\u041c\\u0435\\u0441\\u044f\\u0446=%{x}<br>\\u0421\\u0440\\u0435\\u0434\\u043d\\u0438\\u0439 \\u0447\\u0435\\u043a=%{text}<extra></extra>\",\"legendgroup\":\"2018-11\",\"marker\":{\"color\":\"rgb(190,186,218)\",\"pattern\":{\"shape\":\"\"}},\"name\":\"2018-11\",\"offsetgroup\":\"2018-11\",\"orientation\":\"v\",\"showlegend\":true,\"text\":[1762.0],\"textposition\":\"auto\",\"x\":[\"2018-11\"],\"xaxis\":\"x\",\"y\":[1762.0],\"yaxis\":\"y\",\"type\":\"bar\"},{\"alignmentgroup\":\"True\",\"hovertemplate\":\"\\u041c\\u0435\\u0441\\u044f\\u0446=%{x}<br>\\u0421\\u0440\\u0435\\u0434\\u043d\\u0438\\u0439 \\u0447\\u0435\\u043a=%{text}<extra></extra>\",\"legendgroup\":\"2018-12\",\"marker\":{\"color\":\"rgb(141,160,203)\",\"pattern\":{\"shape\":\"\"}},\"name\":\"2018-12\",\"offsetgroup\":\"2018-12\",\"orientation\":\"v\",\"showlegend\":true,\"text\":[1244.0],\"textposition\":\"auto\",\"x\":[\"2018-12\"],\"xaxis\":\"x\",\"y\":[1244.0],\"yaxis\":\"y\",\"type\":\"bar\"},{\"alignmentgroup\":\"True\",\"hovertemplate\":\"\\u041c\\u0435\\u0441\\u044f\\u0446=%{x}<br>\\u0421\\u0440\\u0435\\u0434\\u043d\\u0438\\u0439 \\u0447\\u0435\\u043a=%{text}<extra></extra>\",\"legendgroup\":\"2019-01\",\"marker\":{\"color\":\"rgb(128,177,211)\",\"pattern\":{\"shape\":\"\"}},\"name\":\"2019-01\",\"offsetgroup\":\"2019-01\",\"orientation\":\"v\",\"showlegend\":true,\"text\":[1395.0],\"textposition\":\"auto\",\"x\":[\"2019-01\"],\"xaxis\":\"x\",\"y\":[1395.0],\"yaxis\":\"y\",\"type\":\"bar\"},{\"alignmentgroup\":\"True\",\"hovertemplate\":\"\\u041c\\u0435\\u0441\\u044f\\u0446=%{x}<br>\\u0421\\u0440\\u0435\\u0434\\u043d\\u0438\\u0439 \\u0447\\u0435\\u043a=%{text}<extra></extra>\",\"legendgroup\":\"2019-02\",\"marker\":{\"color\":\"rgb(141,211,199)\",\"pattern\":{\"shape\":\"\"}},\"name\":\"2019-02\",\"offsetgroup\":\"2019-02\",\"orientation\":\"v\",\"showlegend\":true,\"text\":[1067.0],\"textposition\":\"auto\",\"x\":[\"2019-02\"],\"xaxis\":\"x\",\"y\":[1067.0],\"yaxis\":\"y\",\"type\":\"bar\"},{\"alignmentgroup\":\"True\",\"hovertemplate\":\"\\u041c\\u0435\\u0441\\u044f\\u0446=%{x}<br>\\u0421\\u0440\\u0435\\u0434\\u043d\\u0438\\u0439 \\u0447\\u0435\\u043a=%{text}<extra></extra>\",\"legendgroup\":\"2019-03\",\"marker\":{\"color\":\"rgb(204,235,197)\",\"pattern\":{\"shape\":\"\"}},\"name\":\"2019-03\",\"offsetgroup\":\"2019-03\",\"orientation\":\"v\",\"showlegend\":true,\"text\":[1031.0],\"textposition\":\"auto\",\"x\":[\"2019-03\"],\"xaxis\":\"x\",\"y\":[1031.0],\"yaxis\":\"y\",\"type\":\"bar\"},{\"alignmentgroup\":\"True\",\"hovertemplate\":\"\\u041c\\u0435\\u0441\\u044f\\u0446=%{x}<br>\\u0421\\u0440\\u0435\\u0434\\u043d\\u0438\\u0439 \\u0447\\u0435\\u043a=%{text}<extra></extra>\",\"legendgroup\":\"2019-04\",\"marker\":{\"color\":\"rgb(179,222,105)\",\"pattern\":{\"shape\":\"\"}},\"name\":\"2019-04\",\"offsetgroup\":\"2019-04\",\"orientation\":\"v\",\"showlegend\":true,\"text\":[1199.0],\"textposition\":\"auto\",\"x\":[\"2019-04\"],\"xaxis\":\"x\",\"y\":[1199.0],\"yaxis\":\"y\",\"type\":\"bar\"},{\"alignmentgroup\":\"True\",\"hovertemplate\":\"\\u041c\\u0435\\u0441\\u044f\\u0446=%{x}<br>\\u0421\\u0440\\u0435\\u0434\\u043d\\u0438\\u0439 \\u0447\\u0435\\u043a=%{text}<extra></extra>\",\"legendgroup\":\"2019-05\",\"marker\":{\"color\":\"rgb(255,237,111)\",\"pattern\":{\"shape\":\"\"}},\"name\":\"2019-05\",\"offsetgroup\":\"2019-05\",\"orientation\":\"v\",\"showlegend\":true,\"text\":[1314.0],\"textposition\":\"auto\",\"x\":[\"2019-05\"],\"xaxis\":\"x\",\"y\":[1314.0],\"yaxis\":\"y\",\"type\":\"bar\"},{\"alignmentgroup\":\"True\",\"hovertemplate\":\"\\u041c\\u0435\\u0441\\u044f\\u0446=%{x}<br>\\u0421\\u0440\\u0435\\u0434\\u043d\\u0438\\u0439 \\u0447\\u0435\\u043a=%{text}<extra></extra>\",\"legendgroup\":\"2019-06\",\"marker\":{\"color\":\"rgb(255,255,179)\",\"pattern\":{\"shape\":\"\"}},\"name\":\"2019-06\",\"offsetgroup\":\"2019-06\",\"orientation\":\"v\",\"showlegend\":true,\"text\":[1443.0],\"textposition\":\"auto\",\"x\":[\"2019-06\"],\"xaxis\":\"x\",\"y\":[1443.0],\"yaxis\":\"y\",\"type\":\"bar\"},{\"alignmentgroup\":\"True\",\"hovertemplate\":\"\\u041c\\u0435\\u0441\\u044f\\u0446=%{x}<br>\\u0421\\u0440\\u0435\\u0434\\u043d\\u0438\\u0439 \\u0447\\u0435\\u043a=%{text}<extra></extra>\",\"legendgroup\":\"2019-07\",\"marker\":{\"color\":\"rgb(253,180,98)\",\"pattern\":{\"shape\":\"\"}},\"name\":\"2019-07\",\"offsetgroup\":\"2019-07\",\"orientation\":\"v\",\"showlegend\":true,\"text\":[1117.0],\"textposition\":\"auto\",\"x\":[\"2019-07\"],\"xaxis\":\"x\",\"y\":[1117.0],\"yaxis\":\"y\",\"type\":\"bar\"},{\"alignmentgroup\":\"True\",\"hovertemplate\":\"\\u041c\\u0435\\u0441\\u044f\\u0446=%{x}<br>\\u0421\\u0440\\u0435\\u0434\\u043d\\u0438\\u0439 \\u0447\\u0435\\u043a=%{text}<extra></extra>\",\"legendgroup\":\"2019-08\",\"marker\":{\"color\":\"rgb(251,128,114)\",\"pattern\":{\"shape\":\"\"}},\"name\":\"2019-08\",\"offsetgroup\":\"2019-08\",\"orientation\":\"v\",\"showlegend\":true,\"text\":[1001.0],\"textposition\":\"auto\",\"x\":[\"2019-08\"],\"xaxis\":\"x\",\"y\":[1001.0],\"yaxis\":\"y\",\"type\":\"bar\"},{\"alignmentgroup\":\"True\",\"hovertemplate\":\"\\u041c\\u0435\\u0441\\u044f\\u0446=%{x}<br>\\u0421\\u0440\\u0435\\u0434\\u043d\\u0438\\u0439 \\u0447\\u0435\\u043a=%{text}<extra></extra>\",\"legendgroup\":\"2019-09\",\"marker\":{\"color\":\"rgb(231,138,195)\",\"pattern\":{\"shape\":\"\"}},\"name\":\"2019-09\",\"offsetgroup\":\"2019-09\",\"orientation\":\"v\",\"showlegend\":true,\"text\":[994.0],\"textposition\":\"auto\",\"x\":[\"2019-09\"],\"xaxis\":\"x\",\"y\":[994.0],\"yaxis\":\"y\",\"type\":\"bar\"},{\"alignmentgroup\":\"True\",\"hovertemplate\":\"\\u041c\\u0435\\u0441\\u044f\\u0446=%{x}<br>\\u0421\\u0440\\u0435\\u0434\\u043d\\u0438\\u0439 \\u0447\\u0435\\u043a=%{text}<extra></extra>\",\"legendgroup\":\"2019-10\",\"marker\":{\"color\":\"rgb(188,128,189)\",\"pattern\":{\"shape\":\"\"}},\"name\":\"2019-10\",\"offsetgroup\":\"2019-10\",\"orientation\":\"v\",\"showlegend\":true,\"text\":[1054.0],\"textposition\":\"auto\",\"x\":[\"2019-10\"],\"xaxis\":\"x\",\"y\":[1054.0],\"yaxis\":\"y\",\"type\":\"bar\"}],                        {\"template\":{\"data\":{\"bar\":[{\"error_x\":{\"color\":\"#2a3f5f\"},\"error_y\":{\"color\":\"#2a3f5f\"},\"marker\":{\"line\":{\"color\":\"#E5ECF6\",\"width\":0.5},\"pattern\":{\"fillmode\":\"overlay\",\"size\":10,\"solidity\":0.2}},\"type\":\"bar\"}],\"barpolar\":[{\"marker\":{\"line\":{\"color\":\"#E5ECF6\",\"width\":0.5},\"pattern\":{\"fillmode\":\"overlay\",\"size\":10,\"solidity\":0.2}},\"type\":\"barpolar\"}],\"carpet\":[{\"aaxis\":{\"endlinecolor\":\"#2a3f5f\",\"gridcolor\":\"white\",\"linecolor\":\"white\",\"minorgridcolor\":\"white\",\"startlinecolor\":\"#2a3f5f\"},\"baxis\":{\"endlinecolor\":\"#2a3f5f\",\"gridcolor\":\"white\",\"linecolor\":\"white\",\"minorgridcolor\":\"white\",\"startlinecolor\":\"#2a3f5f\"},\"type\":\"carpet\"}],\"choropleth\":[{\"colorbar\":{\"outlinewidth\":0,\"ticks\":\"\"},\"type\":\"choropleth\"}],\"contour\":[{\"colorbar\":{\"outlinewidth\":0,\"ticks\":\"\"},\"colorscale\":[[0.0,\"#0d0887\"],[0.1111111111111111,\"#46039f\"],[0.2222222222222222,\"#7201a8\"],[0.3333333333333333,\"#9c179e\"],[0.4444444444444444,\"#bd3786\"],[0.5555555555555556,\"#d8576b\"],[0.6666666666666666,\"#ed7953\"],[0.7777777777777778,\"#fb9f3a\"],[0.8888888888888888,\"#fdca26\"],[1.0,\"#f0f921\"]],\"type\":\"contour\"}],\"contourcarpet\":[{\"colorbar\":{\"outlinewidth\":0,\"ticks\":\"\"},\"type\":\"contourcarpet\"}],\"heatmap\":[{\"colorbar\":{\"outlinewidth\":0,\"ticks\":\"\"},\"colorscale\":[[0.0,\"#0d0887\"],[0.1111111111111111,\"#46039f\"],[0.2222222222222222,\"#7201a8\"],[0.3333333333333333,\"#9c179e\"],[0.4444444444444444,\"#bd3786\"],[0.5555555555555556,\"#d8576b\"],[0.6666666666666666,\"#ed7953\"],[0.7777777777777778,\"#fb9f3a\"],[0.8888888888888888,\"#fdca26\"],[1.0,\"#f0f921\"]],\"type\":\"heatmap\"}],\"heatmapgl\":[{\"colorbar\":{\"outlinewidth\":0,\"ticks\":\"\"},\"colorscale\":[[0.0,\"#0d0887\"],[0.1111111111111111,\"#46039f\"],[0.2222222222222222,\"#7201a8\"],[0.3333333333333333,\"#9c179e\"],[0.4444444444444444,\"#bd3786\"],[0.5555555555555556,\"#d8576b\"],[0.6666666666666666,\"#ed7953\"],[0.7777777777777778,\"#fb9f3a\"],[0.8888888888888888,\"#fdca26\"],[1.0,\"#f0f921\"]],\"type\":\"heatmapgl\"}],\"histogram\":[{\"marker\":{\"pattern\":{\"fillmode\":\"overlay\",\"size\":10,\"solidity\":0.2}},\"type\":\"histogram\"}],\"histogram2d\":[{\"colorbar\":{\"outlinewidth\":0,\"ticks\":\"\"},\"colorscale\":[[0.0,\"#0d0887\"],[0.1111111111111111,\"#46039f\"],[0.2222222222222222,\"#7201a8\"],[0.3333333333333333,\"#9c179e\"],[0.4444444444444444,\"#bd3786\"],[0.5555555555555556,\"#d8576b\"],[0.6666666666666666,\"#ed7953\"],[0.7777777777777778,\"#fb9f3a\"],[0.8888888888888888,\"#fdca26\"],[1.0,\"#f0f921\"]],\"type\":\"histogram2d\"}],\"histogram2dcontour\":[{\"colorbar\":{\"outlinewidth\":0,\"ticks\":\"\"},\"colorscale\":[[0.0,\"#0d0887\"],[0.1111111111111111,\"#46039f\"],[0.2222222222222222,\"#7201a8\"],[0.3333333333333333,\"#9c179e\"],[0.4444444444444444,\"#bd3786\"],[0.5555555555555556,\"#d8576b\"],[0.6666666666666666,\"#ed7953\"],[0.7777777777777778,\"#fb9f3a\"],[0.8888888888888888,\"#fdca26\"],[1.0,\"#f0f921\"]],\"type\":\"histogram2dcontour\"}],\"mesh3d\":[{\"colorbar\":{\"outlinewidth\":0,\"ticks\":\"\"},\"type\":\"mesh3d\"}],\"parcoords\":[{\"line\":{\"colorbar\":{\"outlinewidth\":0,\"ticks\":\"\"}},\"type\":\"parcoords\"}],\"pie\":[{\"automargin\":true,\"type\":\"pie\"}],\"scatter\":[{\"marker\":{\"colorbar\":{\"outlinewidth\":0,\"ticks\":\"\"}},\"type\":\"scatter\"}],\"scatter3d\":[{\"line\":{\"colorbar\":{\"outlinewidth\":0,\"ticks\":\"\"}},\"marker\":{\"colorbar\":{\"outlinewidth\":0,\"ticks\":\"\"}},\"type\":\"scatter3d\"}],\"scattercarpet\":[{\"marker\":{\"colorbar\":{\"outlinewidth\":0,\"ticks\":\"\"}},\"type\":\"scattercarpet\"}],\"scattergeo\":[{\"marker\":{\"colorbar\":{\"outlinewidth\":0,\"ticks\":\"\"}},\"type\":\"scattergeo\"}],\"scattergl\":[{\"marker\":{\"colorbar\":{\"outlinewidth\":0,\"ticks\":\"\"}},\"type\":\"scattergl\"}],\"scattermapbox\":[{\"marker\":{\"colorbar\":{\"outlinewidth\":0,\"ticks\":\"\"}},\"type\":\"scattermapbox\"}],\"scatterpolar\":[{\"marker\":{\"colorbar\":{\"outlinewidth\":0,\"ticks\":\"\"}},\"type\":\"scatterpolar\"}],\"scatterpolargl\":[{\"marker\":{\"colorbar\":{\"outlinewidth\":0,\"ticks\":\"\"}},\"type\":\"scatterpolargl\"}],\"scatterternary\":[{\"marker\":{\"colorbar\":{\"outlinewidth\":0,\"ticks\":\"\"}},\"type\":\"scatterternary\"}],\"surface\":[{\"colorbar\":{\"outlinewidth\":0,\"ticks\":\"\"},\"colorscale\":[[0.0,\"#0d0887\"],[0.1111111111111111,\"#46039f\"],[0.2222222222222222,\"#7201a8\"],[0.3333333333333333,\"#9c179e\"],[0.4444444444444444,\"#bd3786\"],[0.5555555555555556,\"#d8576b\"],[0.6666666666666666,\"#ed7953\"],[0.7777777777777778,\"#fb9f3a\"],[0.8888888888888888,\"#fdca26\"],[1.0,\"#f0f921\"]],\"type\":\"surface\"}],\"table\":[{\"cells\":{\"fill\":{\"color\":\"#EBF0F8\"},\"line\":{\"color\":\"white\"}},\"header\":{\"fill\":{\"color\":\"#C8D4E3\"},\"line\":{\"color\":\"white\"}},\"type\":\"table\"}]},\"layout\":{\"annotationdefaults\":{\"arrowcolor\":\"#2a3f5f\",\"arrowhead\":0,\"arrowwidth\":1},\"autotypenumbers\":\"strict\",\"coloraxis\":{\"colorbar\":{\"outlinewidth\":0,\"ticks\":\"\"}},\"colorscale\":{\"diverging\":[[0,\"#8e0152\"],[0.1,\"#c51b7d\"],[0.2,\"#de77ae\"],[0.3,\"#f1b6da\"],[0.4,\"#fde0ef\"],[0.5,\"#f7f7f7\"],[0.6,\"#e6f5d0\"],[0.7,\"#b8e186\"],[0.8,\"#7fbc41\"],[0.9,\"#4d9221\"],[1,\"#276419\"]],\"sequential\":[[0.0,\"#0d0887\"],[0.1111111111111111,\"#46039f\"],[0.2222222222222222,\"#7201a8\"],[0.3333333333333333,\"#9c179e\"],[0.4444444444444444,\"#bd3786\"],[0.5555555555555556,\"#d8576b\"],[0.6666666666666666,\"#ed7953\"],[0.7777777777777778,\"#fb9f3a\"],[0.8888888888888888,\"#fdca26\"],[1.0,\"#f0f921\"]],\"sequentialminus\":[[0.0,\"#0d0887\"],[0.1111111111111111,\"#46039f\"],[0.2222222222222222,\"#7201a8\"],[0.3333333333333333,\"#9c179e\"],[0.4444444444444444,\"#bd3786\"],[0.5555555555555556,\"#d8576b\"],[0.6666666666666666,\"#ed7953\"],[0.7777777777777778,\"#fb9f3a\"],[0.8888888888888888,\"#fdca26\"],[1.0,\"#f0f921\"]]},\"colorway\":[\"#636efa\",\"#EF553B\",\"#00cc96\",\"#ab63fa\",\"#FFA15A\",\"#19d3f3\",\"#FF6692\",\"#B6E880\",\"#FF97FF\",\"#FECB52\"],\"font\":{\"color\":\"#2a3f5f\"},\"geo\":{\"bgcolor\":\"white\",\"lakecolor\":\"white\",\"landcolor\":\"#E5ECF6\",\"showlakes\":true,\"showland\":true,\"subunitcolor\":\"white\"},\"hoverlabel\":{\"align\":\"left\"},\"hovermode\":\"closest\",\"mapbox\":{\"style\":\"light\"},\"paper_bgcolor\":\"white\",\"plot_bgcolor\":\"#E5ECF6\",\"polar\":{\"angularaxis\":{\"gridcolor\":\"white\",\"linecolor\":\"white\",\"ticks\":\"\"},\"bgcolor\":\"#E5ECF6\",\"radialaxis\":{\"gridcolor\":\"white\",\"linecolor\":\"white\",\"ticks\":\"\"}},\"scene\":{\"xaxis\":{\"backgroundcolor\":\"#E5ECF6\",\"gridcolor\":\"white\",\"gridwidth\":2,\"linecolor\":\"white\",\"showbackground\":true,\"ticks\":\"\",\"zerolinecolor\":\"white\"},\"yaxis\":{\"backgroundcolor\":\"#E5ECF6\",\"gridcolor\":\"white\",\"gridwidth\":2,\"linecolor\":\"white\",\"showbackground\":true,\"ticks\":\"\",\"zerolinecolor\":\"white\"},\"zaxis\":{\"backgroundcolor\":\"#E5ECF6\",\"gridcolor\":\"white\",\"gridwidth\":2,\"linecolor\":\"white\",\"showbackground\":true,\"ticks\":\"\",\"zerolinecolor\":\"white\"}},\"shapedefaults\":{\"line\":{\"color\":\"#2a3f5f\"}},\"ternary\":{\"aaxis\":{\"gridcolor\":\"white\",\"linecolor\":\"white\",\"ticks\":\"\"},\"baxis\":{\"gridcolor\":\"white\",\"linecolor\":\"white\",\"ticks\":\"\"},\"bgcolor\":\"#E5ECF6\",\"caxis\":{\"gridcolor\":\"white\",\"linecolor\":\"white\",\"ticks\":\"\"}},\"title\":{\"x\":0.05},\"xaxis\":{\"automargin\":true,\"gridcolor\":\"white\",\"linecolor\":\"white\",\"ticks\":\"\",\"title\":{\"standoff\":15},\"zerolinecolor\":\"white\",\"zerolinewidth\":2},\"yaxis\":{\"automargin\":true,\"gridcolor\":\"white\",\"linecolor\":\"white\",\"ticks\":\"\",\"title\":{\"standoff\":15},\"zerolinecolor\":\"white\",\"zerolinewidth\":2}}},\"xaxis\":{\"anchor\":\"y\",\"domain\":[0.0,1.0],\"title\":{\"text\":\"\\u041c\\u0435\\u0441\\u044f\\u0446\"},\"categoryorder\":\"array\",\"categoryarray\":[\"2018-10\",\"2018-11\",\"2018-12\",\"2019-01\",\"2019-02\",\"2019-03\",\"2019-04\",\"2019-05\",\"2019-06\",\"2019-07\",\"2019-08\",\"2019-09\",\"2019-10\"],\"tickangle\":-45,\"type\":\"category\"},\"yaxis\":{\"anchor\":\"x\",\"domain\":[0.0,1.0],\"title\":{\"text\":\"\\u0421\\u0440\\u0435\\u0434\\u043d\\u0438\\u0439 \\u0447\\u0435\\u043a\"}},\"legend\":{\"title\":{\"text\":\"\\u041c\\u0435\\u0441\\u044f\\u0446\"},\"tracegroupgap\":0},\"title\":{\"text\":\"\\u0414\\u0438\\u043d\\u0430\\u043c\\u0438\\u043a\\u0430 \\u0441\\u0440\\u0435\\u0434\\u043d\\u0435\\u0433\\u043e \\u0447\\u0435\\u043a\\u0430 \\u043f\\u043e \\u043c\\u0435\\u0441\\u044f\\u0446\\u0430\\u043c\",\"x\":0.5},\"barmode\":\"relative\"},                        {\"responsive\": true}                    ).then(function(){\n",
       "                            \n",
       "var gd = document.getElementById('e605d784-fa19-446f-8fdc-56209d364dea');\n",
       "var x = new MutationObserver(function (mutations, observer) {{\n",
       "        var display = window.getComputedStyle(gd).display;\n",
       "        if (!display || display === 'none') {{\n",
       "            console.log([gd, 'removed!']);\n",
       "            Plotly.purge(gd);\n",
       "            observer.disconnect();\n",
       "        }}\n",
       "}});\n",
       "\n",
       "// Listen for the removal of the full notebook cells\n",
       "var notebookContainer = gd.closest('#notebook-container');\n",
       "if (notebookContainer) {{\n",
       "    x.observe(notebookContainer, {childList: true});\n",
       "}}\n",
       "\n",
       "// Listen for the clearing of the current output cell\n",
       "var outputEl = gd.closest('.output');\n",
       "if (outputEl) {{\n",
       "    x.observe(outputEl, {childList: true});\n",
       "}}\n",
       "\n",
       "                        })                };                });            </script>        </div>"
      ]
     },
     "metadata": {},
     "output_type": "display_data"
    }
   ],
   "source": [
    "# график динамики среднего чека по месяцам\n",
    "fig = px.bar(check, x='Месяц', y='Средний чек', color='Месяц',\n",
    "             title = 'Динамика среднего чека по месяцам',\n",
    "             text = 'Средний чек',\n",
    "             color_discrete_sequence=[px.colors.qualitative.Set3[9], px.colors.qualitative.Set3[2], \\\n",
    "                                     px.colors.qualitative.Set2[2], px.colors.qualitative.Set3[4], \\\n",
    "                                     px.colors.qualitative.Set3[0], px.colors.qualitative.Set3[10], \\\n",
    "                                     px.colors.qualitative.Set3[6], px.colors.qualitative.Set3[11], \\\n",
    "                                     px.colors.qualitative.Set3[1], px.colors.qualitative.Set3[5], \\\n",
    "                                     px.colors.qualitative.Set3[3], px.colors.qualitative.Set2[3]])\n",
    "fig.update_layout(title_x = 0.5, xaxis_tickangle=-45)\n",
    "fig.update_xaxes(type='category')\n",
    "fig.show()"
   ]
  },
  {
   "cell_type": "markdown",
   "id": "7ca1339a",
   "metadata": {},
   "source": [
    "Максимальный средний чек, как и выручка, был в ноябре 2018 года. В то время, как в октябре, декабре и апреле (остальных лидерах по выручке) средний чек не такой высокий. Это говорит о том, что в эти месяцы было больше количество покупок, нежели в ноябре, а выручку они принесли в итоге такую же. <br>Здесь одним из лидеров является июнь, не смотря на низкую (относительно) выручку, значит, что имело место меньшее количество заказов на большие суммы."
   ]
  },
  {
   "cell_type": "markdown",
   "id": "15462679",
   "metadata": {},
   "source": [
    "<a id='p4s3'></a>\n",
    "#### Динамика средней выручки с покупателя (ARPU)"
   ]
  },
  {
   "cell_type": "code",
   "execution_count": 35,
   "id": "9b7eeacc",
   "metadata": {},
   "outputs": [
    {
     "data": {
      "text/html": [
       "<div>\n",
       "<style scoped>\n",
       "    .dataframe tbody tr th:only-of-type {\n",
       "        vertical-align: middle;\n",
       "    }\n",
       "\n",
       "    .dataframe tbody tr th {\n",
       "        vertical-align: top;\n",
       "    }\n",
       "\n",
       "    .dataframe thead th {\n",
       "        text-align: right;\n",
       "    }\n",
       "</style>\n",
       "<table border=\"1\" class=\"dataframe\">\n",
       "  <thead>\n",
       "    <tr style=\"text-align: right;\">\n",
       "      <th></th>\n",
       "      <th>Месяц</th>\n",
       "      <th>Выручка</th>\n",
       "      <th>Количество клиентов</th>\n",
       "      <th>ARPU</th>\n",
       "    </tr>\n",
       "  </thead>\n",
       "  <tbody>\n",
       "    <tr>\n",
       "      <th>0</th>\n",
       "      <td>2018-10</td>\n",
       "      <td>351162.0</td>\n",
       "      <td>179</td>\n",
       "      <td>1962.0</td>\n",
       "    </tr>\n",
       "    <tr>\n",
       "      <th>1</th>\n",
       "      <td>2018-11</td>\n",
       "      <td>359348.0</td>\n",
       "      <td>178</td>\n",
       "      <td>2019.0</td>\n",
       "    </tr>\n",
       "    <tr>\n",
       "      <th>2</th>\n",
       "      <td>2018-12</td>\n",
       "      <td>345921.0</td>\n",
       "      <td>228</td>\n",
       "      <td>1517.0</td>\n",
       "    </tr>\n",
       "    <tr>\n",
       "      <th>3</th>\n",
       "      <td>2019-01</td>\n",
       "      <td>230097.0</td>\n",
       "      <td>149</td>\n",
       "      <td>1544.0</td>\n",
       "    </tr>\n",
       "    <tr>\n",
       "      <th>4</th>\n",
       "      <td>2019-02</td>\n",
       "      <td>305183.0</td>\n",
       "      <td>244</td>\n",
       "      <td>1251.0</td>\n",
       "    </tr>\n",
       "    <tr>\n",
       "      <th>5</th>\n",
       "      <td>2019-03</td>\n",
       "      <td>249429.0</td>\n",
       "      <td>227</td>\n",
       "      <td>1099.0</td>\n",
       "    </tr>\n",
       "    <tr>\n",
       "      <th>6</th>\n",
       "      <td>2019-04</td>\n",
       "      <td>316469.0</td>\n",
       "      <td>235</td>\n",
       "      <td>1347.0</td>\n",
       "    </tr>\n",
       "    <tr>\n",
       "      <th>7</th>\n",
       "      <td>2019-05</td>\n",
       "      <td>233874.0</td>\n",
       "      <td>164</td>\n",
       "      <td>1426.0</td>\n",
       "    </tr>\n",
       "    <tr>\n",
       "      <th>8</th>\n",
       "      <td>2019-06</td>\n",
       "      <td>225116.0</td>\n",
       "      <td>147</td>\n",
       "      <td>1531.0</td>\n",
       "    </tr>\n",
       "    <tr>\n",
       "      <th>9</th>\n",
       "      <td>2019-07</td>\n",
       "      <td>220015.0</td>\n",
       "      <td>185</td>\n",
       "      <td>1189.0</td>\n",
       "    </tr>\n",
       "    <tr>\n",
       "      <th>10</th>\n",
       "      <td>2019-08</td>\n",
       "      <td>172100.0</td>\n",
       "      <td>164</td>\n",
       "      <td>1049.0</td>\n",
       "    </tr>\n",
       "    <tr>\n",
       "      <th>11</th>\n",
       "      <td>2019-09</td>\n",
       "      <td>177951.0</td>\n",
       "      <td>171</td>\n",
       "      <td>1041.0</td>\n",
       "    </tr>\n",
       "    <tr>\n",
       "      <th>12</th>\n",
       "      <td>2019-10</td>\n",
       "      <td>206490.0</td>\n",
       "      <td>167</td>\n",
       "      <td>1236.0</td>\n",
       "    </tr>\n",
       "  </tbody>\n",
       "</table>\n",
       "</div>"
      ],
      "text/plain": [
       "      Месяц   Выручка  Количество клиентов    ARPU\n",
       "0   2018-10  351162.0                  179  1962.0\n",
       "1   2018-11  359348.0                  178  2019.0\n",
       "2   2018-12  345921.0                  228  1517.0\n",
       "3   2019-01  230097.0                  149  1544.0\n",
       "4   2019-02  305183.0                  244  1251.0\n",
       "5   2019-03  249429.0                  227  1099.0\n",
       "6   2019-04  316469.0                  235  1347.0\n",
       "7   2019-05  233874.0                  164  1426.0\n",
       "8   2019-06  225116.0                  147  1531.0\n",
       "9   2019-07  220015.0                  185  1189.0\n",
       "10  2019-08  172100.0                  164  1049.0\n",
       "11  2019-09  177951.0                  171  1041.0\n",
       "12  2019-10  206490.0                  167  1236.0"
      ]
     },
     "execution_count": 35,
     "metadata": {},
     "output_type": "execute_result"
    }
   ],
   "source": [
    "# таблица выручки, количества покупателей и средней выручки с покупателя по месяцам\n",
    "avg_revenue = orders.pivot_table(index='month', values=['customer_id', 'cost'], \\\n",
    "                                 aggfunc={'customer_id': 'nunique', 'cost': 'sum'}) \\\n",
    "                    .reset_index() \\\n",
    "                    .rename(columns={'month': 'Месяц', 'cost': 'Выручка', 'customer_id': 'Количество клиентов'})\n",
    "avg_revenue['ARPU'] = round(avg_revenue['Выручка'] / avg_revenue['Количество клиентов'], 0)\n",
    "avg_revenue"
   ]
  },
  {
   "cell_type": "code",
   "execution_count": 36,
   "id": "24119248",
   "metadata": {},
   "outputs": [
    {
     "data": {
      "application/vnd.plotly.v1+json": {
       "config": {
        "plotlyServerURL": "https://plot.ly"
       },
       "data": [
        {
         "alignmentgroup": "True",
         "hovertemplate": "Месяц=%{x}<br>ARPU=%{text}<extra></extra>",
         "legendgroup": "2018-10",
         "marker": {
          "color": "rgb(188,128,189)",
          "pattern": {
           "shape": ""
          }
         },
         "name": "2018-10",
         "offsetgroup": "2018-10",
         "orientation": "v",
         "showlegend": true,
         "text": [
          1962
         ],
         "textposition": "auto",
         "type": "bar",
         "x": [
          "2018-10"
         ],
         "xaxis": "x",
         "y": [
          1962
         ],
         "yaxis": "y"
        },
        {
         "alignmentgroup": "True",
         "hovertemplate": "Месяц=%{x}<br>ARPU=%{text}<extra></extra>",
         "legendgroup": "2018-11",
         "marker": {
          "color": "rgb(190,186,218)",
          "pattern": {
           "shape": ""
          }
         },
         "name": "2018-11",
         "offsetgroup": "2018-11",
         "orientation": "v",
         "showlegend": true,
         "text": [
          2019
         ],
         "textposition": "auto",
         "type": "bar",
         "x": [
          "2018-11"
         ],
         "xaxis": "x",
         "y": [
          2019
         ],
         "yaxis": "y"
        },
        {
         "alignmentgroup": "True",
         "hovertemplate": "Месяц=%{x}<br>ARPU=%{text}<extra></extra>",
         "legendgroup": "2018-12",
         "marker": {
          "color": "rgb(141,160,203)",
          "pattern": {
           "shape": ""
          }
         },
         "name": "2018-12",
         "offsetgroup": "2018-12",
         "orientation": "v",
         "showlegend": true,
         "text": [
          1517
         ],
         "textposition": "auto",
         "type": "bar",
         "x": [
          "2018-12"
         ],
         "xaxis": "x",
         "y": [
          1517
         ],
         "yaxis": "y"
        },
        {
         "alignmentgroup": "True",
         "hovertemplate": "Месяц=%{x}<br>ARPU=%{text}<extra></extra>",
         "legendgroup": "2019-01",
         "marker": {
          "color": "rgb(128,177,211)",
          "pattern": {
           "shape": ""
          }
         },
         "name": "2019-01",
         "offsetgroup": "2019-01",
         "orientation": "v",
         "showlegend": true,
         "text": [
          1544
         ],
         "textposition": "auto",
         "type": "bar",
         "x": [
          "2019-01"
         ],
         "xaxis": "x",
         "y": [
          1544
         ],
         "yaxis": "y"
        },
        {
         "alignmentgroup": "True",
         "hovertemplate": "Месяц=%{x}<br>ARPU=%{text}<extra></extra>",
         "legendgroup": "2019-02",
         "marker": {
          "color": "rgb(141,211,199)",
          "pattern": {
           "shape": ""
          }
         },
         "name": "2019-02",
         "offsetgroup": "2019-02",
         "orientation": "v",
         "showlegend": true,
         "text": [
          1251
         ],
         "textposition": "auto",
         "type": "bar",
         "x": [
          "2019-02"
         ],
         "xaxis": "x",
         "y": [
          1251
         ],
         "yaxis": "y"
        },
        {
         "alignmentgroup": "True",
         "hovertemplate": "Месяц=%{x}<br>ARPU=%{text}<extra></extra>",
         "legendgroup": "2019-03",
         "marker": {
          "color": "rgb(204,235,197)",
          "pattern": {
           "shape": ""
          }
         },
         "name": "2019-03",
         "offsetgroup": "2019-03",
         "orientation": "v",
         "showlegend": true,
         "text": [
          1099
         ],
         "textposition": "auto",
         "type": "bar",
         "x": [
          "2019-03"
         ],
         "xaxis": "x",
         "y": [
          1099
         ],
         "yaxis": "y"
        },
        {
         "alignmentgroup": "True",
         "hovertemplate": "Месяц=%{x}<br>ARPU=%{text}<extra></extra>",
         "legendgroup": "2019-04",
         "marker": {
          "color": "rgb(179,222,105)",
          "pattern": {
           "shape": ""
          }
         },
         "name": "2019-04",
         "offsetgroup": "2019-04",
         "orientation": "v",
         "showlegend": true,
         "text": [
          1347
         ],
         "textposition": "auto",
         "type": "bar",
         "x": [
          "2019-04"
         ],
         "xaxis": "x",
         "y": [
          1347
         ],
         "yaxis": "y"
        },
        {
         "alignmentgroup": "True",
         "hovertemplate": "Месяц=%{x}<br>ARPU=%{text}<extra></extra>",
         "legendgroup": "2019-05",
         "marker": {
          "color": "rgb(255,237,111)",
          "pattern": {
           "shape": ""
          }
         },
         "name": "2019-05",
         "offsetgroup": "2019-05",
         "orientation": "v",
         "showlegend": true,
         "text": [
          1426
         ],
         "textposition": "auto",
         "type": "bar",
         "x": [
          "2019-05"
         ],
         "xaxis": "x",
         "y": [
          1426
         ],
         "yaxis": "y"
        },
        {
         "alignmentgroup": "True",
         "hovertemplate": "Месяц=%{x}<br>ARPU=%{text}<extra></extra>",
         "legendgroup": "2019-06",
         "marker": {
          "color": "rgb(255,255,179)",
          "pattern": {
           "shape": ""
          }
         },
         "name": "2019-06",
         "offsetgroup": "2019-06",
         "orientation": "v",
         "showlegend": true,
         "text": [
          1531
         ],
         "textposition": "auto",
         "type": "bar",
         "x": [
          "2019-06"
         ],
         "xaxis": "x",
         "y": [
          1531
         ],
         "yaxis": "y"
        },
        {
         "alignmentgroup": "True",
         "hovertemplate": "Месяц=%{x}<br>ARPU=%{text}<extra></extra>",
         "legendgroup": "2019-07",
         "marker": {
          "color": "rgb(253,180,98)",
          "pattern": {
           "shape": ""
          }
         },
         "name": "2019-07",
         "offsetgroup": "2019-07",
         "orientation": "v",
         "showlegend": true,
         "text": [
          1189
         ],
         "textposition": "auto",
         "type": "bar",
         "x": [
          "2019-07"
         ],
         "xaxis": "x",
         "y": [
          1189
         ],
         "yaxis": "y"
        },
        {
         "alignmentgroup": "True",
         "hovertemplate": "Месяц=%{x}<br>ARPU=%{text}<extra></extra>",
         "legendgroup": "2019-08",
         "marker": {
          "color": "rgb(251,128,114)",
          "pattern": {
           "shape": ""
          }
         },
         "name": "2019-08",
         "offsetgroup": "2019-08",
         "orientation": "v",
         "showlegend": true,
         "text": [
          1049
         ],
         "textposition": "auto",
         "type": "bar",
         "x": [
          "2019-08"
         ],
         "xaxis": "x",
         "y": [
          1049
         ],
         "yaxis": "y"
        },
        {
         "alignmentgroup": "True",
         "hovertemplate": "Месяц=%{x}<br>ARPU=%{text}<extra></extra>",
         "legendgroup": "2019-09",
         "marker": {
          "color": "rgb(231,138,195)",
          "pattern": {
           "shape": ""
          }
         },
         "name": "2019-09",
         "offsetgroup": "2019-09",
         "orientation": "v",
         "showlegend": true,
         "text": [
          1041
         ],
         "textposition": "auto",
         "type": "bar",
         "x": [
          "2019-09"
         ],
         "xaxis": "x",
         "y": [
          1041
         ],
         "yaxis": "y"
        },
        {
         "alignmentgroup": "True",
         "hovertemplate": "Месяц=%{x}<br>ARPU=%{text}<extra></extra>",
         "legendgroup": "2019-10",
         "marker": {
          "color": "rgb(188,128,189)",
          "pattern": {
           "shape": ""
          }
         },
         "name": "2019-10",
         "offsetgroup": "2019-10",
         "orientation": "v",
         "showlegend": true,
         "text": [
          1236
         ],
         "textposition": "auto",
         "type": "bar",
         "x": [
          "2019-10"
         ],
         "xaxis": "x",
         "y": [
          1236
         ],
         "yaxis": "y"
        }
       ],
       "layout": {
        "barmode": "relative",
        "legend": {
         "title": {
          "text": "Месяц"
         },
         "tracegroupgap": 0
        },
        "template": {
         "data": {
          "bar": [
           {
            "error_x": {
             "color": "#2a3f5f"
            },
            "error_y": {
             "color": "#2a3f5f"
            },
            "marker": {
             "line": {
              "color": "#E5ECF6",
              "width": 0.5
             },
             "pattern": {
              "fillmode": "overlay",
              "size": 10,
              "solidity": 0.2
             }
            },
            "type": "bar"
           }
          ],
          "barpolar": [
           {
            "marker": {
             "line": {
              "color": "#E5ECF6",
              "width": 0.5
             },
             "pattern": {
              "fillmode": "overlay",
              "size": 10,
              "solidity": 0.2
             }
            },
            "type": "barpolar"
           }
          ],
          "carpet": [
           {
            "aaxis": {
             "endlinecolor": "#2a3f5f",
             "gridcolor": "white",
             "linecolor": "white",
             "minorgridcolor": "white",
             "startlinecolor": "#2a3f5f"
            },
            "baxis": {
             "endlinecolor": "#2a3f5f",
             "gridcolor": "white",
             "linecolor": "white",
             "minorgridcolor": "white",
             "startlinecolor": "#2a3f5f"
            },
            "type": "carpet"
           }
          ],
          "choropleth": [
           {
            "colorbar": {
             "outlinewidth": 0,
             "ticks": ""
            },
            "type": "choropleth"
           }
          ],
          "contour": [
           {
            "colorbar": {
             "outlinewidth": 0,
             "ticks": ""
            },
            "colorscale": [
             [
              0,
              "#0d0887"
             ],
             [
              0.1111111111111111,
              "#46039f"
             ],
             [
              0.2222222222222222,
              "#7201a8"
             ],
             [
              0.3333333333333333,
              "#9c179e"
             ],
             [
              0.4444444444444444,
              "#bd3786"
             ],
             [
              0.5555555555555556,
              "#d8576b"
             ],
             [
              0.6666666666666666,
              "#ed7953"
             ],
             [
              0.7777777777777778,
              "#fb9f3a"
             ],
             [
              0.8888888888888888,
              "#fdca26"
             ],
             [
              1,
              "#f0f921"
             ]
            ],
            "type": "contour"
           }
          ],
          "contourcarpet": [
           {
            "colorbar": {
             "outlinewidth": 0,
             "ticks": ""
            },
            "type": "contourcarpet"
           }
          ],
          "heatmap": [
           {
            "colorbar": {
             "outlinewidth": 0,
             "ticks": ""
            },
            "colorscale": [
             [
              0,
              "#0d0887"
             ],
             [
              0.1111111111111111,
              "#46039f"
             ],
             [
              0.2222222222222222,
              "#7201a8"
             ],
             [
              0.3333333333333333,
              "#9c179e"
             ],
             [
              0.4444444444444444,
              "#bd3786"
             ],
             [
              0.5555555555555556,
              "#d8576b"
             ],
             [
              0.6666666666666666,
              "#ed7953"
             ],
             [
              0.7777777777777778,
              "#fb9f3a"
             ],
             [
              0.8888888888888888,
              "#fdca26"
             ],
             [
              1,
              "#f0f921"
             ]
            ],
            "type": "heatmap"
           }
          ],
          "heatmapgl": [
           {
            "colorbar": {
             "outlinewidth": 0,
             "ticks": ""
            },
            "colorscale": [
             [
              0,
              "#0d0887"
             ],
             [
              0.1111111111111111,
              "#46039f"
             ],
             [
              0.2222222222222222,
              "#7201a8"
             ],
             [
              0.3333333333333333,
              "#9c179e"
             ],
             [
              0.4444444444444444,
              "#bd3786"
             ],
             [
              0.5555555555555556,
              "#d8576b"
             ],
             [
              0.6666666666666666,
              "#ed7953"
             ],
             [
              0.7777777777777778,
              "#fb9f3a"
             ],
             [
              0.8888888888888888,
              "#fdca26"
             ],
             [
              1,
              "#f0f921"
             ]
            ],
            "type": "heatmapgl"
           }
          ],
          "histogram": [
           {
            "marker": {
             "pattern": {
              "fillmode": "overlay",
              "size": 10,
              "solidity": 0.2
             }
            },
            "type": "histogram"
           }
          ],
          "histogram2d": [
           {
            "colorbar": {
             "outlinewidth": 0,
             "ticks": ""
            },
            "colorscale": [
             [
              0,
              "#0d0887"
             ],
             [
              0.1111111111111111,
              "#46039f"
             ],
             [
              0.2222222222222222,
              "#7201a8"
             ],
             [
              0.3333333333333333,
              "#9c179e"
             ],
             [
              0.4444444444444444,
              "#bd3786"
             ],
             [
              0.5555555555555556,
              "#d8576b"
             ],
             [
              0.6666666666666666,
              "#ed7953"
             ],
             [
              0.7777777777777778,
              "#fb9f3a"
             ],
             [
              0.8888888888888888,
              "#fdca26"
             ],
             [
              1,
              "#f0f921"
             ]
            ],
            "type": "histogram2d"
           }
          ],
          "histogram2dcontour": [
           {
            "colorbar": {
             "outlinewidth": 0,
             "ticks": ""
            },
            "colorscale": [
             [
              0,
              "#0d0887"
             ],
             [
              0.1111111111111111,
              "#46039f"
             ],
             [
              0.2222222222222222,
              "#7201a8"
             ],
             [
              0.3333333333333333,
              "#9c179e"
             ],
             [
              0.4444444444444444,
              "#bd3786"
             ],
             [
              0.5555555555555556,
              "#d8576b"
             ],
             [
              0.6666666666666666,
              "#ed7953"
             ],
             [
              0.7777777777777778,
              "#fb9f3a"
             ],
             [
              0.8888888888888888,
              "#fdca26"
             ],
             [
              1,
              "#f0f921"
             ]
            ],
            "type": "histogram2dcontour"
           }
          ],
          "mesh3d": [
           {
            "colorbar": {
             "outlinewidth": 0,
             "ticks": ""
            },
            "type": "mesh3d"
           }
          ],
          "parcoords": [
           {
            "line": {
             "colorbar": {
              "outlinewidth": 0,
              "ticks": ""
             }
            },
            "type": "parcoords"
           }
          ],
          "pie": [
           {
            "automargin": true,
            "type": "pie"
           }
          ],
          "scatter": [
           {
            "marker": {
             "colorbar": {
              "outlinewidth": 0,
              "ticks": ""
             }
            },
            "type": "scatter"
           }
          ],
          "scatter3d": [
           {
            "line": {
             "colorbar": {
              "outlinewidth": 0,
              "ticks": ""
             }
            },
            "marker": {
             "colorbar": {
              "outlinewidth": 0,
              "ticks": ""
             }
            },
            "type": "scatter3d"
           }
          ],
          "scattercarpet": [
           {
            "marker": {
             "colorbar": {
              "outlinewidth": 0,
              "ticks": ""
             }
            },
            "type": "scattercarpet"
           }
          ],
          "scattergeo": [
           {
            "marker": {
             "colorbar": {
              "outlinewidth": 0,
              "ticks": ""
             }
            },
            "type": "scattergeo"
           }
          ],
          "scattergl": [
           {
            "marker": {
             "colorbar": {
              "outlinewidth": 0,
              "ticks": ""
             }
            },
            "type": "scattergl"
           }
          ],
          "scattermapbox": [
           {
            "marker": {
             "colorbar": {
              "outlinewidth": 0,
              "ticks": ""
             }
            },
            "type": "scattermapbox"
           }
          ],
          "scatterpolar": [
           {
            "marker": {
             "colorbar": {
              "outlinewidth": 0,
              "ticks": ""
             }
            },
            "type": "scatterpolar"
           }
          ],
          "scatterpolargl": [
           {
            "marker": {
             "colorbar": {
              "outlinewidth": 0,
              "ticks": ""
             }
            },
            "type": "scatterpolargl"
           }
          ],
          "scatterternary": [
           {
            "marker": {
             "colorbar": {
              "outlinewidth": 0,
              "ticks": ""
             }
            },
            "type": "scatterternary"
           }
          ],
          "surface": [
           {
            "colorbar": {
             "outlinewidth": 0,
             "ticks": ""
            },
            "colorscale": [
             [
              0,
              "#0d0887"
             ],
             [
              0.1111111111111111,
              "#46039f"
             ],
             [
              0.2222222222222222,
              "#7201a8"
             ],
             [
              0.3333333333333333,
              "#9c179e"
             ],
             [
              0.4444444444444444,
              "#bd3786"
             ],
             [
              0.5555555555555556,
              "#d8576b"
             ],
             [
              0.6666666666666666,
              "#ed7953"
             ],
             [
              0.7777777777777778,
              "#fb9f3a"
             ],
             [
              0.8888888888888888,
              "#fdca26"
             ],
             [
              1,
              "#f0f921"
             ]
            ],
            "type": "surface"
           }
          ],
          "table": [
           {
            "cells": {
             "fill": {
              "color": "#EBF0F8"
             },
             "line": {
              "color": "white"
             }
            },
            "header": {
             "fill": {
              "color": "#C8D4E3"
             },
             "line": {
              "color": "white"
             }
            },
            "type": "table"
           }
          ]
         },
         "layout": {
          "annotationdefaults": {
           "arrowcolor": "#2a3f5f",
           "arrowhead": 0,
           "arrowwidth": 1
          },
          "autotypenumbers": "strict",
          "coloraxis": {
           "colorbar": {
            "outlinewidth": 0,
            "ticks": ""
           }
          },
          "colorscale": {
           "diverging": [
            [
             0,
             "#8e0152"
            ],
            [
             0.1,
             "#c51b7d"
            ],
            [
             0.2,
             "#de77ae"
            ],
            [
             0.3,
             "#f1b6da"
            ],
            [
             0.4,
             "#fde0ef"
            ],
            [
             0.5,
             "#f7f7f7"
            ],
            [
             0.6,
             "#e6f5d0"
            ],
            [
             0.7,
             "#b8e186"
            ],
            [
             0.8,
             "#7fbc41"
            ],
            [
             0.9,
             "#4d9221"
            ],
            [
             1,
             "#276419"
            ]
           ],
           "sequential": [
            [
             0,
             "#0d0887"
            ],
            [
             0.1111111111111111,
             "#46039f"
            ],
            [
             0.2222222222222222,
             "#7201a8"
            ],
            [
             0.3333333333333333,
             "#9c179e"
            ],
            [
             0.4444444444444444,
             "#bd3786"
            ],
            [
             0.5555555555555556,
             "#d8576b"
            ],
            [
             0.6666666666666666,
             "#ed7953"
            ],
            [
             0.7777777777777778,
             "#fb9f3a"
            ],
            [
             0.8888888888888888,
             "#fdca26"
            ],
            [
             1,
             "#f0f921"
            ]
           ],
           "sequentialminus": [
            [
             0,
             "#0d0887"
            ],
            [
             0.1111111111111111,
             "#46039f"
            ],
            [
             0.2222222222222222,
             "#7201a8"
            ],
            [
             0.3333333333333333,
             "#9c179e"
            ],
            [
             0.4444444444444444,
             "#bd3786"
            ],
            [
             0.5555555555555556,
             "#d8576b"
            ],
            [
             0.6666666666666666,
             "#ed7953"
            ],
            [
             0.7777777777777778,
             "#fb9f3a"
            ],
            [
             0.8888888888888888,
             "#fdca26"
            ],
            [
             1,
             "#f0f921"
            ]
           ]
          },
          "colorway": [
           "#636efa",
           "#EF553B",
           "#00cc96",
           "#ab63fa",
           "#FFA15A",
           "#19d3f3",
           "#FF6692",
           "#B6E880",
           "#FF97FF",
           "#FECB52"
          ],
          "font": {
           "color": "#2a3f5f"
          },
          "geo": {
           "bgcolor": "white",
           "lakecolor": "white",
           "landcolor": "#E5ECF6",
           "showlakes": true,
           "showland": true,
           "subunitcolor": "white"
          },
          "hoverlabel": {
           "align": "left"
          },
          "hovermode": "closest",
          "mapbox": {
           "style": "light"
          },
          "paper_bgcolor": "white",
          "plot_bgcolor": "#E5ECF6",
          "polar": {
           "angularaxis": {
            "gridcolor": "white",
            "linecolor": "white",
            "ticks": ""
           },
           "bgcolor": "#E5ECF6",
           "radialaxis": {
            "gridcolor": "white",
            "linecolor": "white",
            "ticks": ""
           }
          },
          "scene": {
           "xaxis": {
            "backgroundcolor": "#E5ECF6",
            "gridcolor": "white",
            "gridwidth": 2,
            "linecolor": "white",
            "showbackground": true,
            "ticks": "",
            "zerolinecolor": "white"
           },
           "yaxis": {
            "backgroundcolor": "#E5ECF6",
            "gridcolor": "white",
            "gridwidth": 2,
            "linecolor": "white",
            "showbackground": true,
            "ticks": "",
            "zerolinecolor": "white"
           },
           "zaxis": {
            "backgroundcolor": "#E5ECF6",
            "gridcolor": "white",
            "gridwidth": 2,
            "linecolor": "white",
            "showbackground": true,
            "ticks": "",
            "zerolinecolor": "white"
           }
          },
          "shapedefaults": {
           "line": {
            "color": "#2a3f5f"
           }
          },
          "ternary": {
           "aaxis": {
            "gridcolor": "white",
            "linecolor": "white",
            "ticks": ""
           },
           "baxis": {
            "gridcolor": "white",
            "linecolor": "white",
            "ticks": ""
           },
           "bgcolor": "#E5ECF6",
           "caxis": {
            "gridcolor": "white",
            "linecolor": "white",
            "ticks": ""
           }
          },
          "title": {
           "x": 0.05
          },
          "xaxis": {
           "automargin": true,
           "gridcolor": "white",
           "linecolor": "white",
           "ticks": "",
           "title": {
            "standoff": 15
           },
           "zerolinecolor": "white",
           "zerolinewidth": 2
          },
          "yaxis": {
           "automargin": true,
           "gridcolor": "white",
           "linecolor": "white",
           "ticks": "",
           "title": {
            "standoff": 15
           },
           "zerolinecolor": "white",
           "zerolinewidth": 2
          }
         }
        },
        "title": {
         "text": "Динамика средней выручки с покупателя по месяцам",
         "x": 0.5
        },
        "xaxis": {
         "anchor": "y",
         "categoryarray": [
          "2018-10",
          "2018-11",
          "2018-12",
          "2019-01",
          "2019-02",
          "2019-03",
          "2019-04",
          "2019-05",
          "2019-06",
          "2019-07",
          "2019-08",
          "2019-09",
          "2019-10"
         ],
         "categoryorder": "array",
         "domain": [
          0,
          1
         ],
         "tickangle": -45,
         "title": {
          "text": "Месяц"
         },
         "type": "category"
        },
        "yaxis": {
         "anchor": "x",
         "domain": [
          0,
          1
         ],
         "title": {
          "text": "Средняя выручка с покупателя"
         }
        }
       }
      },
      "text/html": [
       "<div>                            <div id=\"749a9014-a0ac-415c-8f68-f8f6feb0ffc8\" class=\"plotly-graph-div\" style=\"height:525px; width:100%;\"></div>            <script type=\"text/javascript\">                require([\"plotly\"], function(Plotly) {                    window.PLOTLYENV=window.PLOTLYENV || {};                                    if (document.getElementById(\"749a9014-a0ac-415c-8f68-f8f6feb0ffc8\")) {                    Plotly.newPlot(                        \"749a9014-a0ac-415c-8f68-f8f6feb0ffc8\",                        [{\"alignmentgroup\":\"True\",\"hovertemplate\":\"\\u041c\\u0435\\u0441\\u044f\\u0446=%{x}<br>ARPU=%{text}<extra></extra>\",\"legendgroup\":\"2018-10\",\"marker\":{\"color\":\"rgb(188,128,189)\",\"pattern\":{\"shape\":\"\"}},\"name\":\"2018-10\",\"offsetgroup\":\"2018-10\",\"orientation\":\"v\",\"showlegend\":true,\"text\":[1962.0],\"textposition\":\"auto\",\"x\":[\"2018-10\"],\"xaxis\":\"x\",\"y\":[1962.0],\"yaxis\":\"y\",\"type\":\"bar\"},{\"alignmentgroup\":\"True\",\"hovertemplate\":\"\\u041c\\u0435\\u0441\\u044f\\u0446=%{x}<br>ARPU=%{text}<extra></extra>\",\"legendgroup\":\"2018-11\",\"marker\":{\"color\":\"rgb(190,186,218)\",\"pattern\":{\"shape\":\"\"}},\"name\":\"2018-11\",\"offsetgroup\":\"2018-11\",\"orientation\":\"v\",\"showlegend\":true,\"text\":[2019.0],\"textposition\":\"auto\",\"x\":[\"2018-11\"],\"xaxis\":\"x\",\"y\":[2019.0],\"yaxis\":\"y\",\"type\":\"bar\"},{\"alignmentgroup\":\"True\",\"hovertemplate\":\"\\u041c\\u0435\\u0441\\u044f\\u0446=%{x}<br>ARPU=%{text}<extra></extra>\",\"legendgroup\":\"2018-12\",\"marker\":{\"color\":\"rgb(141,160,203)\",\"pattern\":{\"shape\":\"\"}},\"name\":\"2018-12\",\"offsetgroup\":\"2018-12\",\"orientation\":\"v\",\"showlegend\":true,\"text\":[1517.0],\"textposition\":\"auto\",\"x\":[\"2018-12\"],\"xaxis\":\"x\",\"y\":[1517.0],\"yaxis\":\"y\",\"type\":\"bar\"},{\"alignmentgroup\":\"True\",\"hovertemplate\":\"\\u041c\\u0435\\u0441\\u044f\\u0446=%{x}<br>ARPU=%{text}<extra></extra>\",\"legendgroup\":\"2019-01\",\"marker\":{\"color\":\"rgb(128,177,211)\",\"pattern\":{\"shape\":\"\"}},\"name\":\"2019-01\",\"offsetgroup\":\"2019-01\",\"orientation\":\"v\",\"showlegend\":true,\"text\":[1544.0],\"textposition\":\"auto\",\"x\":[\"2019-01\"],\"xaxis\":\"x\",\"y\":[1544.0],\"yaxis\":\"y\",\"type\":\"bar\"},{\"alignmentgroup\":\"True\",\"hovertemplate\":\"\\u041c\\u0435\\u0441\\u044f\\u0446=%{x}<br>ARPU=%{text}<extra></extra>\",\"legendgroup\":\"2019-02\",\"marker\":{\"color\":\"rgb(141,211,199)\",\"pattern\":{\"shape\":\"\"}},\"name\":\"2019-02\",\"offsetgroup\":\"2019-02\",\"orientation\":\"v\",\"showlegend\":true,\"text\":[1251.0],\"textposition\":\"auto\",\"x\":[\"2019-02\"],\"xaxis\":\"x\",\"y\":[1251.0],\"yaxis\":\"y\",\"type\":\"bar\"},{\"alignmentgroup\":\"True\",\"hovertemplate\":\"\\u041c\\u0435\\u0441\\u044f\\u0446=%{x}<br>ARPU=%{text}<extra></extra>\",\"legendgroup\":\"2019-03\",\"marker\":{\"color\":\"rgb(204,235,197)\",\"pattern\":{\"shape\":\"\"}},\"name\":\"2019-03\",\"offsetgroup\":\"2019-03\",\"orientation\":\"v\",\"showlegend\":true,\"text\":[1099.0],\"textposition\":\"auto\",\"x\":[\"2019-03\"],\"xaxis\":\"x\",\"y\":[1099.0],\"yaxis\":\"y\",\"type\":\"bar\"},{\"alignmentgroup\":\"True\",\"hovertemplate\":\"\\u041c\\u0435\\u0441\\u044f\\u0446=%{x}<br>ARPU=%{text}<extra></extra>\",\"legendgroup\":\"2019-04\",\"marker\":{\"color\":\"rgb(179,222,105)\",\"pattern\":{\"shape\":\"\"}},\"name\":\"2019-04\",\"offsetgroup\":\"2019-04\",\"orientation\":\"v\",\"showlegend\":true,\"text\":[1347.0],\"textposition\":\"auto\",\"x\":[\"2019-04\"],\"xaxis\":\"x\",\"y\":[1347.0],\"yaxis\":\"y\",\"type\":\"bar\"},{\"alignmentgroup\":\"True\",\"hovertemplate\":\"\\u041c\\u0435\\u0441\\u044f\\u0446=%{x}<br>ARPU=%{text}<extra></extra>\",\"legendgroup\":\"2019-05\",\"marker\":{\"color\":\"rgb(255,237,111)\",\"pattern\":{\"shape\":\"\"}},\"name\":\"2019-05\",\"offsetgroup\":\"2019-05\",\"orientation\":\"v\",\"showlegend\":true,\"text\":[1426.0],\"textposition\":\"auto\",\"x\":[\"2019-05\"],\"xaxis\":\"x\",\"y\":[1426.0],\"yaxis\":\"y\",\"type\":\"bar\"},{\"alignmentgroup\":\"True\",\"hovertemplate\":\"\\u041c\\u0435\\u0441\\u044f\\u0446=%{x}<br>ARPU=%{text}<extra></extra>\",\"legendgroup\":\"2019-06\",\"marker\":{\"color\":\"rgb(255,255,179)\",\"pattern\":{\"shape\":\"\"}},\"name\":\"2019-06\",\"offsetgroup\":\"2019-06\",\"orientation\":\"v\",\"showlegend\":true,\"text\":[1531.0],\"textposition\":\"auto\",\"x\":[\"2019-06\"],\"xaxis\":\"x\",\"y\":[1531.0],\"yaxis\":\"y\",\"type\":\"bar\"},{\"alignmentgroup\":\"True\",\"hovertemplate\":\"\\u041c\\u0435\\u0441\\u044f\\u0446=%{x}<br>ARPU=%{text}<extra></extra>\",\"legendgroup\":\"2019-07\",\"marker\":{\"color\":\"rgb(253,180,98)\",\"pattern\":{\"shape\":\"\"}},\"name\":\"2019-07\",\"offsetgroup\":\"2019-07\",\"orientation\":\"v\",\"showlegend\":true,\"text\":[1189.0],\"textposition\":\"auto\",\"x\":[\"2019-07\"],\"xaxis\":\"x\",\"y\":[1189.0],\"yaxis\":\"y\",\"type\":\"bar\"},{\"alignmentgroup\":\"True\",\"hovertemplate\":\"\\u041c\\u0435\\u0441\\u044f\\u0446=%{x}<br>ARPU=%{text}<extra></extra>\",\"legendgroup\":\"2019-08\",\"marker\":{\"color\":\"rgb(251,128,114)\",\"pattern\":{\"shape\":\"\"}},\"name\":\"2019-08\",\"offsetgroup\":\"2019-08\",\"orientation\":\"v\",\"showlegend\":true,\"text\":[1049.0],\"textposition\":\"auto\",\"x\":[\"2019-08\"],\"xaxis\":\"x\",\"y\":[1049.0],\"yaxis\":\"y\",\"type\":\"bar\"},{\"alignmentgroup\":\"True\",\"hovertemplate\":\"\\u041c\\u0435\\u0441\\u044f\\u0446=%{x}<br>ARPU=%{text}<extra></extra>\",\"legendgroup\":\"2019-09\",\"marker\":{\"color\":\"rgb(231,138,195)\",\"pattern\":{\"shape\":\"\"}},\"name\":\"2019-09\",\"offsetgroup\":\"2019-09\",\"orientation\":\"v\",\"showlegend\":true,\"text\":[1041.0],\"textposition\":\"auto\",\"x\":[\"2019-09\"],\"xaxis\":\"x\",\"y\":[1041.0],\"yaxis\":\"y\",\"type\":\"bar\"},{\"alignmentgroup\":\"True\",\"hovertemplate\":\"\\u041c\\u0435\\u0441\\u044f\\u0446=%{x}<br>ARPU=%{text}<extra></extra>\",\"legendgroup\":\"2019-10\",\"marker\":{\"color\":\"rgb(188,128,189)\",\"pattern\":{\"shape\":\"\"}},\"name\":\"2019-10\",\"offsetgroup\":\"2019-10\",\"orientation\":\"v\",\"showlegend\":true,\"text\":[1236.0],\"textposition\":\"auto\",\"x\":[\"2019-10\"],\"xaxis\":\"x\",\"y\":[1236.0],\"yaxis\":\"y\",\"type\":\"bar\"}],                        {\"template\":{\"data\":{\"bar\":[{\"error_x\":{\"color\":\"#2a3f5f\"},\"error_y\":{\"color\":\"#2a3f5f\"},\"marker\":{\"line\":{\"color\":\"#E5ECF6\",\"width\":0.5},\"pattern\":{\"fillmode\":\"overlay\",\"size\":10,\"solidity\":0.2}},\"type\":\"bar\"}],\"barpolar\":[{\"marker\":{\"line\":{\"color\":\"#E5ECF6\",\"width\":0.5},\"pattern\":{\"fillmode\":\"overlay\",\"size\":10,\"solidity\":0.2}},\"type\":\"barpolar\"}],\"carpet\":[{\"aaxis\":{\"endlinecolor\":\"#2a3f5f\",\"gridcolor\":\"white\",\"linecolor\":\"white\",\"minorgridcolor\":\"white\",\"startlinecolor\":\"#2a3f5f\"},\"baxis\":{\"endlinecolor\":\"#2a3f5f\",\"gridcolor\":\"white\",\"linecolor\":\"white\",\"minorgridcolor\":\"white\",\"startlinecolor\":\"#2a3f5f\"},\"type\":\"carpet\"}],\"choropleth\":[{\"colorbar\":{\"outlinewidth\":0,\"ticks\":\"\"},\"type\":\"choropleth\"}],\"contour\":[{\"colorbar\":{\"outlinewidth\":0,\"ticks\":\"\"},\"colorscale\":[[0.0,\"#0d0887\"],[0.1111111111111111,\"#46039f\"],[0.2222222222222222,\"#7201a8\"],[0.3333333333333333,\"#9c179e\"],[0.4444444444444444,\"#bd3786\"],[0.5555555555555556,\"#d8576b\"],[0.6666666666666666,\"#ed7953\"],[0.7777777777777778,\"#fb9f3a\"],[0.8888888888888888,\"#fdca26\"],[1.0,\"#f0f921\"]],\"type\":\"contour\"}],\"contourcarpet\":[{\"colorbar\":{\"outlinewidth\":0,\"ticks\":\"\"},\"type\":\"contourcarpet\"}],\"heatmap\":[{\"colorbar\":{\"outlinewidth\":0,\"ticks\":\"\"},\"colorscale\":[[0.0,\"#0d0887\"],[0.1111111111111111,\"#46039f\"],[0.2222222222222222,\"#7201a8\"],[0.3333333333333333,\"#9c179e\"],[0.4444444444444444,\"#bd3786\"],[0.5555555555555556,\"#d8576b\"],[0.6666666666666666,\"#ed7953\"],[0.7777777777777778,\"#fb9f3a\"],[0.8888888888888888,\"#fdca26\"],[1.0,\"#f0f921\"]],\"type\":\"heatmap\"}],\"heatmapgl\":[{\"colorbar\":{\"outlinewidth\":0,\"ticks\":\"\"},\"colorscale\":[[0.0,\"#0d0887\"],[0.1111111111111111,\"#46039f\"],[0.2222222222222222,\"#7201a8\"],[0.3333333333333333,\"#9c179e\"],[0.4444444444444444,\"#bd3786\"],[0.5555555555555556,\"#d8576b\"],[0.6666666666666666,\"#ed7953\"],[0.7777777777777778,\"#fb9f3a\"],[0.8888888888888888,\"#fdca26\"],[1.0,\"#f0f921\"]],\"type\":\"heatmapgl\"}],\"histogram\":[{\"marker\":{\"pattern\":{\"fillmode\":\"overlay\",\"size\":10,\"solidity\":0.2}},\"type\":\"histogram\"}],\"histogram2d\":[{\"colorbar\":{\"outlinewidth\":0,\"ticks\":\"\"},\"colorscale\":[[0.0,\"#0d0887\"],[0.1111111111111111,\"#46039f\"],[0.2222222222222222,\"#7201a8\"],[0.3333333333333333,\"#9c179e\"],[0.4444444444444444,\"#bd3786\"],[0.5555555555555556,\"#d8576b\"],[0.6666666666666666,\"#ed7953\"],[0.7777777777777778,\"#fb9f3a\"],[0.8888888888888888,\"#fdca26\"],[1.0,\"#f0f921\"]],\"type\":\"histogram2d\"}],\"histogram2dcontour\":[{\"colorbar\":{\"outlinewidth\":0,\"ticks\":\"\"},\"colorscale\":[[0.0,\"#0d0887\"],[0.1111111111111111,\"#46039f\"],[0.2222222222222222,\"#7201a8\"],[0.3333333333333333,\"#9c179e\"],[0.4444444444444444,\"#bd3786\"],[0.5555555555555556,\"#d8576b\"],[0.6666666666666666,\"#ed7953\"],[0.7777777777777778,\"#fb9f3a\"],[0.8888888888888888,\"#fdca26\"],[1.0,\"#f0f921\"]],\"type\":\"histogram2dcontour\"}],\"mesh3d\":[{\"colorbar\":{\"outlinewidth\":0,\"ticks\":\"\"},\"type\":\"mesh3d\"}],\"parcoords\":[{\"line\":{\"colorbar\":{\"outlinewidth\":0,\"ticks\":\"\"}},\"type\":\"parcoords\"}],\"pie\":[{\"automargin\":true,\"type\":\"pie\"}],\"scatter\":[{\"marker\":{\"colorbar\":{\"outlinewidth\":0,\"ticks\":\"\"}},\"type\":\"scatter\"}],\"scatter3d\":[{\"line\":{\"colorbar\":{\"outlinewidth\":0,\"ticks\":\"\"}},\"marker\":{\"colorbar\":{\"outlinewidth\":0,\"ticks\":\"\"}},\"type\":\"scatter3d\"}],\"scattercarpet\":[{\"marker\":{\"colorbar\":{\"outlinewidth\":0,\"ticks\":\"\"}},\"type\":\"scattercarpet\"}],\"scattergeo\":[{\"marker\":{\"colorbar\":{\"outlinewidth\":0,\"ticks\":\"\"}},\"type\":\"scattergeo\"}],\"scattergl\":[{\"marker\":{\"colorbar\":{\"outlinewidth\":0,\"ticks\":\"\"}},\"type\":\"scattergl\"}],\"scattermapbox\":[{\"marker\":{\"colorbar\":{\"outlinewidth\":0,\"ticks\":\"\"}},\"type\":\"scattermapbox\"}],\"scatterpolar\":[{\"marker\":{\"colorbar\":{\"outlinewidth\":0,\"ticks\":\"\"}},\"type\":\"scatterpolar\"}],\"scatterpolargl\":[{\"marker\":{\"colorbar\":{\"outlinewidth\":0,\"ticks\":\"\"}},\"type\":\"scatterpolargl\"}],\"scatterternary\":[{\"marker\":{\"colorbar\":{\"outlinewidth\":0,\"ticks\":\"\"}},\"type\":\"scatterternary\"}],\"surface\":[{\"colorbar\":{\"outlinewidth\":0,\"ticks\":\"\"},\"colorscale\":[[0.0,\"#0d0887\"],[0.1111111111111111,\"#46039f\"],[0.2222222222222222,\"#7201a8\"],[0.3333333333333333,\"#9c179e\"],[0.4444444444444444,\"#bd3786\"],[0.5555555555555556,\"#d8576b\"],[0.6666666666666666,\"#ed7953\"],[0.7777777777777778,\"#fb9f3a\"],[0.8888888888888888,\"#fdca26\"],[1.0,\"#f0f921\"]],\"type\":\"surface\"}],\"table\":[{\"cells\":{\"fill\":{\"color\":\"#EBF0F8\"},\"line\":{\"color\":\"white\"}},\"header\":{\"fill\":{\"color\":\"#C8D4E3\"},\"line\":{\"color\":\"white\"}},\"type\":\"table\"}]},\"layout\":{\"annotationdefaults\":{\"arrowcolor\":\"#2a3f5f\",\"arrowhead\":0,\"arrowwidth\":1},\"autotypenumbers\":\"strict\",\"coloraxis\":{\"colorbar\":{\"outlinewidth\":0,\"ticks\":\"\"}},\"colorscale\":{\"diverging\":[[0,\"#8e0152\"],[0.1,\"#c51b7d\"],[0.2,\"#de77ae\"],[0.3,\"#f1b6da\"],[0.4,\"#fde0ef\"],[0.5,\"#f7f7f7\"],[0.6,\"#e6f5d0\"],[0.7,\"#b8e186\"],[0.8,\"#7fbc41\"],[0.9,\"#4d9221\"],[1,\"#276419\"]],\"sequential\":[[0.0,\"#0d0887\"],[0.1111111111111111,\"#46039f\"],[0.2222222222222222,\"#7201a8\"],[0.3333333333333333,\"#9c179e\"],[0.4444444444444444,\"#bd3786\"],[0.5555555555555556,\"#d8576b\"],[0.6666666666666666,\"#ed7953\"],[0.7777777777777778,\"#fb9f3a\"],[0.8888888888888888,\"#fdca26\"],[1.0,\"#f0f921\"]],\"sequentialminus\":[[0.0,\"#0d0887\"],[0.1111111111111111,\"#46039f\"],[0.2222222222222222,\"#7201a8\"],[0.3333333333333333,\"#9c179e\"],[0.4444444444444444,\"#bd3786\"],[0.5555555555555556,\"#d8576b\"],[0.6666666666666666,\"#ed7953\"],[0.7777777777777778,\"#fb9f3a\"],[0.8888888888888888,\"#fdca26\"],[1.0,\"#f0f921\"]]},\"colorway\":[\"#636efa\",\"#EF553B\",\"#00cc96\",\"#ab63fa\",\"#FFA15A\",\"#19d3f3\",\"#FF6692\",\"#B6E880\",\"#FF97FF\",\"#FECB52\"],\"font\":{\"color\":\"#2a3f5f\"},\"geo\":{\"bgcolor\":\"white\",\"lakecolor\":\"white\",\"landcolor\":\"#E5ECF6\",\"showlakes\":true,\"showland\":true,\"subunitcolor\":\"white\"},\"hoverlabel\":{\"align\":\"left\"},\"hovermode\":\"closest\",\"mapbox\":{\"style\":\"light\"},\"paper_bgcolor\":\"white\",\"plot_bgcolor\":\"#E5ECF6\",\"polar\":{\"angularaxis\":{\"gridcolor\":\"white\",\"linecolor\":\"white\",\"ticks\":\"\"},\"bgcolor\":\"#E5ECF6\",\"radialaxis\":{\"gridcolor\":\"white\",\"linecolor\":\"white\",\"ticks\":\"\"}},\"scene\":{\"xaxis\":{\"backgroundcolor\":\"#E5ECF6\",\"gridcolor\":\"white\",\"gridwidth\":2,\"linecolor\":\"white\",\"showbackground\":true,\"ticks\":\"\",\"zerolinecolor\":\"white\"},\"yaxis\":{\"backgroundcolor\":\"#E5ECF6\",\"gridcolor\":\"white\",\"gridwidth\":2,\"linecolor\":\"white\",\"showbackground\":true,\"ticks\":\"\",\"zerolinecolor\":\"white\"},\"zaxis\":{\"backgroundcolor\":\"#E5ECF6\",\"gridcolor\":\"white\",\"gridwidth\":2,\"linecolor\":\"white\",\"showbackground\":true,\"ticks\":\"\",\"zerolinecolor\":\"white\"}},\"shapedefaults\":{\"line\":{\"color\":\"#2a3f5f\"}},\"ternary\":{\"aaxis\":{\"gridcolor\":\"white\",\"linecolor\":\"white\",\"ticks\":\"\"},\"baxis\":{\"gridcolor\":\"white\",\"linecolor\":\"white\",\"ticks\":\"\"},\"bgcolor\":\"#E5ECF6\",\"caxis\":{\"gridcolor\":\"white\",\"linecolor\":\"white\",\"ticks\":\"\"}},\"title\":{\"x\":0.05},\"xaxis\":{\"automargin\":true,\"gridcolor\":\"white\",\"linecolor\":\"white\",\"ticks\":\"\",\"title\":{\"standoff\":15},\"zerolinecolor\":\"white\",\"zerolinewidth\":2},\"yaxis\":{\"automargin\":true,\"gridcolor\":\"white\",\"linecolor\":\"white\",\"ticks\":\"\",\"title\":{\"standoff\":15},\"zerolinecolor\":\"white\",\"zerolinewidth\":2}}},\"xaxis\":{\"anchor\":\"y\",\"domain\":[0.0,1.0],\"title\":{\"text\":\"\\u041c\\u0435\\u0441\\u044f\\u0446\"},\"categoryorder\":\"array\",\"categoryarray\":[\"2018-10\",\"2018-11\",\"2018-12\",\"2019-01\",\"2019-02\",\"2019-03\",\"2019-04\",\"2019-05\",\"2019-06\",\"2019-07\",\"2019-08\",\"2019-09\",\"2019-10\"],\"tickangle\":-45,\"type\":\"category\"},\"yaxis\":{\"anchor\":\"x\",\"domain\":[0.0,1.0],\"title\":{\"text\":\"\\u0421\\u0440\\u0435\\u0434\\u043d\\u044f\\u044f \\u0432\\u044b\\u0440\\u0443\\u0447\\u043a\\u0430 \\u0441 \\u043f\\u043e\\u043a\\u0443\\u043f\\u0430\\u0442\\u0435\\u043b\\u044f\"}},\"legend\":{\"title\":{\"text\":\"\\u041c\\u0435\\u0441\\u044f\\u0446\"},\"tracegroupgap\":0},\"title\":{\"text\":\"\\u0414\\u0438\\u043d\\u0430\\u043c\\u0438\\u043a\\u0430 \\u0441\\u0440\\u0435\\u0434\\u043d\\u0435\\u0439 \\u0432\\u044b\\u0440\\u0443\\u0447\\u043a\\u0438 \\u0441 \\u043f\\u043e\\u043a\\u0443\\u043f\\u0430\\u0442\\u0435\\u043b\\u044f \\u043f\\u043e \\u043c\\u0435\\u0441\\u044f\\u0446\\u0430\\u043c\",\"x\":0.5},\"barmode\":\"relative\"},                        {\"responsive\": true}                    ).then(function(){\n",
       "                            \n",
       "var gd = document.getElementById('749a9014-a0ac-415c-8f68-f8f6feb0ffc8');\n",
       "var x = new MutationObserver(function (mutations, observer) {{\n",
       "        var display = window.getComputedStyle(gd).display;\n",
       "        if (!display || display === 'none') {{\n",
       "            console.log([gd, 'removed!']);\n",
       "            Plotly.purge(gd);\n",
       "            observer.disconnect();\n",
       "        }}\n",
       "}});\n",
       "\n",
       "// Listen for the removal of the full notebook cells\n",
       "var notebookContainer = gd.closest('#notebook-container');\n",
       "if (notebookContainer) {{\n",
       "    x.observe(notebookContainer, {childList: true});\n",
       "}}\n",
       "\n",
       "// Listen for the clearing of the current output cell\n",
       "var outputEl = gd.closest('.output');\n",
       "if (outputEl) {{\n",
       "    x.observe(outputEl, {childList: true});\n",
       "}}\n",
       "\n",
       "                        })                };                });            </script>        </div>"
      ]
     },
     "metadata": {},
     "output_type": "display_data"
    }
   ],
   "source": [
    "# график динамики средней выручки с покупателя по месяцам\n",
    "fig = px.bar(avg_revenue, x='Месяц', y='ARPU', color='Месяц',\n",
    "             title = 'Динамика средней выручки с покупателя по месяцам',\n",
    "             text = 'ARPU',\n",
    "             color_discrete_sequence=[px.colors.qualitative.Set3[9], px.colors.qualitative.Set3[2], \\\n",
    "                                     px.colors.qualitative.Set2[2], px.colors.qualitative.Set3[4], \\\n",
    "                                     px.colors.qualitative.Set3[0], px.colors.qualitative.Set3[10], \\\n",
    "                                     px.colors.qualitative.Set3[6], px.colors.qualitative.Set3[11], \\\n",
    "                                     px.colors.qualitative.Set3[1], px.colors.qualitative.Set3[5], \\\n",
    "                                     px.colors.qualitative.Set3[3], px.colors.qualitative.Set2[3]])\n",
    "fig.update_layout(title_x = 0.5, xaxis_tickangle=-45)\n",
    "fig.update_xaxes(type='category')\n",
    "fig.update_yaxes(title='Средняя выручка с покупателя')\n",
    "fig.show()"
   ]
  },
  {
   "cell_type": "markdown",
   "id": "7966e3fd",
   "metadata": {},
   "source": [
    "Как и на предыдущих двух графиках, лидирует по средней выручке с покупателя ноябрь 2018 года. <br>Но здесь, нет такого большого разрыва между октябрем и ноябрем 2018 года, как на предыдущем графике значит, что покупателей было примерно одинаковое количество, а отличались эти два месяца в большей степени количеством заказов. <br>В декабре же наблюдается большее количество и заказов, и покупателей, которые в итоге принесли почти такую же выручку, как меньшее количество покупателей в предыдущие два месяца. <br>Остальные месяцы имеют такие же тенденции, как и на графике динамики среднего чека. Это означает, что низкая выручка в эти месяцы не связана с количеством покупателей и заказов, а присутствует влияние других факторов."
   ]
  },
  {
   "cell_type": "markdown",
   "id": "3c2a2fca",
   "metadata": {},
   "source": [
    "<a id='p4s4'></a>\n",
    "#### Выявление сезонности топ-10 товаров, приносящих наибольшую прибыль"
   ]
  },
  {
   "cell_type": "code",
   "execution_count": 37,
   "id": "daa915c5",
   "metadata": {},
   "outputs": [
    {
     "data": {
      "text/html": [
       "<div>\n",
       "<style scoped>\n",
       "    .dataframe tbody tr th:only-of-type {\n",
       "        vertical-align: middle;\n",
       "    }\n",
       "\n",
       "    .dataframe tbody tr th {\n",
       "        vertical-align: top;\n",
       "    }\n",
       "\n",
       "    .dataframe thead th {\n",
       "        text-align: right;\n",
       "    }\n",
       "</style>\n",
       "<table border=\"1\" class=\"dataframe\">\n",
       "  <thead>\n",
       "    <tr style=\"text-align: right;\">\n",
       "      <th></th>\n",
       "      <th>Название товара</th>\n",
       "      <th>Прибыль за весь период</th>\n",
       "      <th>Продано за весь период, шт</th>\n",
       "    </tr>\n",
       "  </thead>\n",
       "  <tbody>\n",
       "    <tr>\n",
       "      <th>1188</th>\n",
       "      <td>простынь вафельная 200х180 см wellness rw180-01 100% хлопок</td>\n",
       "      <td>53232.0</td>\n",
       "      <td>30</td>\n",
       "    </tr>\n",
       "    <tr>\n",
       "      <th>1609</th>\n",
       "      <td>сумка-тележка 2-х колесная gimi argo синяя</td>\n",
       "      <td>50405.0</td>\n",
       "      <td>47</td>\n",
       "    </tr>\n",
       "    <tr>\n",
       "      <th>183</th>\n",
       "      <td>вешалки мягкие для деликатных вещей 3 шт шоколад</td>\n",
       "      <td>49596.0</td>\n",
       "      <td>335</td>\n",
       "    </tr>\n",
       "    <tr>\n",
       "      <th>1885</th>\n",
       "      <td>тележка багажная delta тбр-22 синий грузоподъемность 20 кг сумка и 50 кг каркас россия</td>\n",
       "      <td>33992.0</td>\n",
       "      <td>59</td>\n",
       "    </tr>\n",
       "    <tr>\n",
       "      <th>831</th>\n",
       "      <td>муляж яблоко 9 см красное</td>\n",
       "      <td>32702.0</td>\n",
       "      <td>618</td>\n",
       "    </tr>\n",
       "    <tr>\n",
       "      <th>870</th>\n",
       "      <td>набор ножей attribute chef 5 предметов akf522</td>\n",
       "      <td>29248.0</td>\n",
       "      <td>64</td>\n",
       "    </tr>\n",
       "    <tr>\n",
       "      <th>1635</th>\n",
       "      <td>сумка-тележка хозяйственная andersen scala shopper plus, lini, синяя 133-108-90</td>\n",
       "      <td>28045.0</td>\n",
       "      <td>5</td>\n",
       "    </tr>\n",
       "    <tr>\n",
       "      <th>2009</th>\n",
       "      <td>урна уличная \"гео\", hobbyka/хоббика, 59*37,5см, сталь</td>\n",
       "      <td>24370.0</td>\n",
       "      <td>5</td>\n",
       "    </tr>\n",
       "    <tr>\n",
       "      <th>124</th>\n",
       "      <td>веник сорго с деревянной ручкой с 4-мя швами, rozenbal, r206204</td>\n",
       "      <td>20010.0</td>\n",
       "      <td>37</td>\n",
       "    </tr>\n",
       "    <tr>\n",
       "      <th>1620</th>\n",
       "      <td>сумка-тележка 3-х колесная gimi tris floral синяя</td>\n",
       "      <td>18893.0</td>\n",
       "      <td>7</td>\n",
       "    </tr>\n",
       "  </tbody>\n",
       "</table>\n",
       "</div>"
      ],
      "text/plain": [
       "                                                                             Название товара  \\\n",
       "1188                             простынь вафельная 200х180 см wellness rw180-01 100% хлопок   \n",
       "1609                                              сумка-тележка 2-х колесная gimi argo синяя   \n",
       "183                                         вешалки мягкие для деликатных вещей 3 шт шоколад   \n",
       "1885  тележка багажная delta тбр-22 синий грузоподъемность 20 кг сумка и 50 кг каркас россия   \n",
       "831                                                                муляж яблоко 9 см красное   \n",
       "870                                            набор ножей attribute chef 5 предметов akf522   \n",
       "1635         сумка-тележка хозяйственная andersen scala shopper plus, lini, синяя 133-108-90   \n",
       "2009                                   урна уличная \"гео\", hobbyka/хоббика, 59*37,5см, сталь   \n",
       "124                          веник сорго с деревянной ручкой с 4-мя швами, rozenbal, r206204   \n",
       "1620                                       сумка-тележка 3-х колесная gimi tris floral синяя   \n",
       "\n",
       "      Прибыль за весь период  Продано за весь период, шт  \n",
       "1188                 53232.0                          30  \n",
       "1609                 50405.0                          47  \n",
       "183                  49596.0                         335  \n",
       "1885                 33992.0                          59  \n",
       "831                  32702.0                         618  \n",
       "870                  29248.0                          64  \n",
       "1635                 28045.0                           5  \n",
       "2009                 24370.0                           5  \n",
       "124                  20010.0                          37  \n",
       "1620                 18893.0                           7  "
      ]
     },
     "execution_count": 37,
     "metadata": {},
     "output_type": "execute_result"
    }
   ],
   "source": [
    "# топ-10 товаров по прибыльности\n",
    "top_10 = orders.pivot_table(index='product', values=['cost', 'quantity'], aggfunc={'cost': 'sum', 'quantity': 'sum'}) \\\n",
    "               .reset_index().sort_values(by='cost', ascending=False).head(10) \\\n",
    "               .rename(columns={'product': 'Название товара', \\\n",
    "                                'cost': 'Прибыль за весь период', \\\n",
    "                                'quantity': 'Продано за весь период, шт'})\n",
    "top_10"
   ]
  },
  {
   "cell_type": "code",
   "execution_count": 38,
   "id": "d3832d65",
   "metadata": {},
   "outputs": [
    {
     "data": {
      "text/html": [
       "<div>\n",
       "<style scoped>\n",
       "    .dataframe tbody tr th:only-of-type {\n",
       "        vertical-align: middle;\n",
       "    }\n",
       "\n",
       "    .dataframe tbody tr th {\n",
       "        vertical-align: top;\n",
       "    }\n",
       "\n",
       "    .dataframe thead th {\n",
       "        text-align: right;\n",
       "    }\n",
       "</style>\n",
       "<table border=\"1\" class=\"dataframe\">\n",
       "  <thead>\n",
       "    <tr style=\"text-align: right;\">\n",
       "      <th>month</th>\n",
       "      <th>2018-10</th>\n",
       "      <th>2018-11</th>\n",
       "      <th>2018-12</th>\n",
       "      <th>2019-01</th>\n",
       "      <th>2019-02</th>\n",
       "      <th>2019-03</th>\n",
       "      <th>2019-04</th>\n",
       "      <th>2019-05</th>\n",
       "      <th>2019-06</th>\n",
       "      <th>2019-07</th>\n",
       "      <th>2019-08</th>\n",
       "      <th>2019-09</th>\n",
       "      <th>2019-10</th>\n",
       "      <th>Количество продаж за весь период</th>\n",
       "    </tr>\n",
       "    <tr>\n",
       "      <th>product</th>\n",
       "      <th></th>\n",
       "      <th></th>\n",
       "      <th></th>\n",
       "      <th></th>\n",
       "      <th></th>\n",
       "      <th></th>\n",
       "      <th></th>\n",
       "      <th></th>\n",
       "      <th></th>\n",
       "      <th></th>\n",
       "      <th></th>\n",
       "      <th></th>\n",
       "      <th></th>\n",
       "      <th></th>\n",
       "    </tr>\n",
       "  </thead>\n",
       "  <tbody>\n",
       "    <tr>\n",
       "      <th>веник сорго с деревянной ручкой с 4-мя швами, rozenbal, r206204</th>\n",
       "      <td>0.46</td>\n",
       "      <td>0.00</td>\n",
       "      <td>0.00</td>\n",
       "      <td>0.00</td>\n",
       "      <td>0.54</td>\n",
       "      <td>0.00</td>\n",
       "      <td>0.00</td>\n",
       "      <td>0.00</td>\n",
       "      <td>0.00</td>\n",
       "      <td>0.00</td>\n",
       "      <td>0.00</td>\n",
       "      <td>0.00</td>\n",
       "      <td>0.00</td>\n",
       "      <td>1.0</td>\n",
       "    </tr>\n",
       "    <tr>\n",
       "      <th>вешалки мягкие для деликатных вещей 3 шт шоколад</th>\n",
       "      <td>0.00</td>\n",
       "      <td>0.00</td>\n",
       "      <td>0.00</td>\n",
       "      <td>0.00</td>\n",
       "      <td>0.00</td>\n",
       "      <td>0.00</td>\n",
       "      <td>0.00</td>\n",
       "      <td>0.00</td>\n",
       "      <td>1.00</td>\n",
       "      <td>0.00</td>\n",
       "      <td>0.00</td>\n",
       "      <td>0.00</td>\n",
       "      <td>0.00</td>\n",
       "      <td>1.0</td>\n",
       "    </tr>\n",
       "    <tr>\n",
       "      <th>муляж яблоко 9 см красное</th>\n",
       "      <td>0.01</td>\n",
       "      <td>0.50</td>\n",
       "      <td>0.00</td>\n",
       "      <td>0.00</td>\n",
       "      <td>0.00</td>\n",
       "      <td>0.00</td>\n",
       "      <td>0.00</td>\n",
       "      <td>0.49</td>\n",
       "      <td>0.00</td>\n",
       "      <td>0.00</td>\n",
       "      <td>0.00</td>\n",
       "      <td>0.00</td>\n",
       "      <td>0.00</td>\n",
       "      <td>1.0</td>\n",
       "    </tr>\n",
       "    <tr>\n",
       "      <th>набор ножей attribute chef 5 предметов akf522</th>\n",
       "      <td>0.00</td>\n",
       "      <td>1.00</td>\n",
       "      <td>0.00</td>\n",
       "      <td>0.00</td>\n",
       "      <td>0.00</td>\n",
       "      <td>0.00</td>\n",
       "      <td>0.00</td>\n",
       "      <td>0.00</td>\n",
       "      <td>0.00</td>\n",
       "      <td>0.00</td>\n",
       "      <td>0.00</td>\n",
       "      <td>0.00</td>\n",
       "      <td>0.00</td>\n",
       "      <td>1.0</td>\n",
       "    </tr>\n",
       "    <tr>\n",
       "      <th>простынь вафельная 200х180 см wellness rw180-01 100% хлопок</th>\n",
       "      <td>0.00</td>\n",
       "      <td>0.00</td>\n",
       "      <td>0.00</td>\n",
       "      <td>1.00</td>\n",
       "      <td>0.00</td>\n",
       "      <td>0.00</td>\n",
       "      <td>0.00</td>\n",
       "      <td>0.00</td>\n",
       "      <td>0.00</td>\n",
       "      <td>0.00</td>\n",
       "      <td>0.00</td>\n",
       "      <td>0.00</td>\n",
       "      <td>0.00</td>\n",
       "      <td>1.0</td>\n",
       "    </tr>\n",
       "    <tr>\n",
       "      <th>сумка-тележка 2-х колесная gimi argo синяя</th>\n",
       "      <td>0.09</td>\n",
       "      <td>0.02</td>\n",
       "      <td>0.26</td>\n",
       "      <td>0.02</td>\n",
       "      <td>0.06</td>\n",
       "      <td>0.06</td>\n",
       "      <td>0.09</td>\n",
       "      <td>0.04</td>\n",
       "      <td>0.02</td>\n",
       "      <td>0.04</td>\n",
       "      <td>0.13</td>\n",
       "      <td>0.06</td>\n",
       "      <td>0.11</td>\n",
       "      <td>1.0</td>\n",
       "    </tr>\n",
       "    <tr>\n",
       "      <th>сумка-тележка 3-х колесная gimi tris floral синяя</th>\n",
       "      <td>0.29</td>\n",
       "      <td>0.00</td>\n",
       "      <td>0.00</td>\n",
       "      <td>0.00</td>\n",
       "      <td>0.14</td>\n",
       "      <td>0.00</td>\n",
       "      <td>0.14</td>\n",
       "      <td>0.00</td>\n",
       "      <td>0.00</td>\n",
       "      <td>0.14</td>\n",
       "      <td>0.29</td>\n",
       "      <td>0.00</td>\n",
       "      <td>0.00</td>\n",
       "      <td>1.0</td>\n",
       "    </tr>\n",
       "    <tr>\n",
       "      <th>сумка-тележка хозяйственная andersen scala shopper plus, lini, синяя 133-108-90</th>\n",
       "      <td>0.00</td>\n",
       "      <td>0.20</td>\n",
       "      <td>0.20</td>\n",
       "      <td>0.00</td>\n",
       "      <td>0.20</td>\n",
       "      <td>0.00</td>\n",
       "      <td>0.40</td>\n",
       "      <td>0.00</td>\n",
       "      <td>0.00</td>\n",
       "      <td>0.00</td>\n",
       "      <td>0.00</td>\n",
       "      <td>0.00</td>\n",
       "      <td>0.00</td>\n",
       "      <td>1.0</td>\n",
       "    </tr>\n",
       "    <tr>\n",
       "      <th>тележка багажная delta тбр-22 синий грузоподъемность 20 кг сумка и 50 кг каркас россия</th>\n",
       "      <td>0.02</td>\n",
       "      <td>0.00</td>\n",
       "      <td>0.98</td>\n",
       "      <td>0.00</td>\n",
       "      <td>0.00</td>\n",
       "      <td>0.00</td>\n",
       "      <td>0.00</td>\n",
       "      <td>0.00</td>\n",
       "      <td>0.00</td>\n",
       "      <td>0.00</td>\n",
       "      <td>0.00</td>\n",
       "      <td>0.00</td>\n",
       "      <td>0.00</td>\n",
       "      <td>1.0</td>\n",
       "    </tr>\n",
       "    <tr>\n",
       "      <th>урна уличная \"гео\", hobbyka/хоббика, 59*37,5см, сталь</th>\n",
       "      <td>0.00</td>\n",
       "      <td>1.00</td>\n",
       "      <td>0.00</td>\n",
       "      <td>0.00</td>\n",
       "      <td>0.00</td>\n",
       "      <td>0.00</td>\n",
       "      <td>0.00</td>\n",
       "      <td>0.00</td>\n",
       "      <td>0.00</td>\n",
       "      <td>0.00</td>\n",
       "      <td>0.00</td>\n",
       "      <td>0.00</td>\n",
       "      <td>0.00</td>\n",
       "      <td>1.0</td>\n",
       "    </tr>\n",
       "  </tbody>\n",
       "</table>\n",
       "</div>"
      ],
      "text/plain": [
       "month                                                                                   2018-10  \\\n",
       "product                                                                                           \n",
       "веник сорго с деревянной ручкой с 4-мя швами, rozenbal, r206204                            0.46   \n",
       "вешалки мягкие для деликатных вещей 3 шт шоколад                                           0.00   \n",
       "муляж яблоко 9 см красное                                                                  0.01   \n",
       "набор ножей attribute chef 5 предметов akf522                                              0.00   \n",
       "простынь вафельная 200х180 см wellness rw180-01 100% хлопок                                0.00   \n",
       "сумка-тележка 2-х колесная gimi argo синяя                                                 0.09   \n",
       "сумка-тележка 3-х колесная gimi tris floral синяя                                          0.29   \n",
       "сумка-тележка хозяйственная andersen scala shopper plus, lini, синяя 133-108-90            0.00   \n",
       "тележка багажная delta тбр-22 синий грузоподъемность 20 кг сумка и 50 кг каркас россия     0.02   \n",
       "урна уличная \"гео\", hobbyka/хоббика, 59*37,5см, сталь                                      0.00   \n",
       "\n",
       "month                                                                                   2018-11  \\\n",
       "product                                                                                           \n",
       "веник сорго с деревянной ручкой с 4-мя швами, rozenbal, r206204                            0.00   \n",
       "вешалки мягкие для деликатных вещей 3 шт шоколад                                           0.00   \n",
       "муляж яблоко 9 см красное                                                                  0.50   \n",
       "набор ножей attribute chef 5 предметов akf522                                              1.00   \n",
       "простынь вафельная 200х180 см wellness rw180-01 100% хлопок                                0.00   \n",
       "сумка-тележка 2-х колесная gimi argo синяя                                                 0.02   \n",
       "сумка-тележка 3-х колесная gimi tris floral синяя                                          0.00   \n",
       "сумка-тележка хозяйственная andersen scala shopper plus, lini, синяя 133-108-90            0.20   \n",
       "тележка багажная delta тбр-22 синий грузоподъемность 20 кг сумка и 50 кг каркас россия     0.00   \n",
       "урна уличная \"гео\", hobbyka/хоббика, 59*37,5см, сталь                                      1.00   \n",
       "\n",
       "month                                                                                   2018-12  \\\n",
       "product                                                                                           \n",
       "веник сорго с деревянной ручкой с 4-мя швами, rozenbal, r206204                            0.00   \n",
       "вешалки мягкие для деликатных вещей 3 шт шоколад                                           0.00   \n",
       "муляж яблоко 9 см красное                                                                  0.00   \n",
       "набор ножей attribute chef 5 предметов akf522                                              0.00   \n",
       "простынь вафельная 200х180 см wellness rw180-01 100% хлопок                                0.00   \n",
       "сумка-тележка 2-х колесная gimi argo синяя                                                 0.26   \n",
       "сумка-тележка 3-х колесная gimi tris floral синяя                                          0.00   \n",
       "сумка-тележка хозяйственная andersen scala shopper plus, lini, синяя 133-108-90            0.20   \n",
       "тележка багажная delta тбр-22 синий грузоподъемность 20 кг сумка и 50 кг каркас россия     0.98   \n",
       "урна уличная \"гео\", hobbyka/хоббика, 59*37,5см, сталь                                      0.00   \n",
       "\n",
       "month                                                                                   2019-01  \\\n",
       "product                                                                                           \n",
       "веник сорго с деревянной ручкой с 4-мя швами, rozenbal, r206204                            0.00   \n",
       "вешалки мягкие для деликатных вещей 3 шт шоколад                                           0.00   \n",
       "муляж яблоко 9 см красное                                                                  0.00   \n",
       "набор ножей attribute chef 5 предметов akf522                                              0.00   \n",
       "простынь вафельная 200х180 см wellness rw180-01 100% хлопок                                1.00   \n",
       "сумка-тележка 2-х колесная gimi argo синяя                                                 0.02   \n",
       "сумка-тележка 3-х колесная gimi tris floral синяя                                          0.00   \n",
       "сумка-тележка хозяйственная andersen scala shopper plus, lini, синяя 133-108-90            0.00   \n",
       "тележка багажная delta тбр-22 синий грузоподъемность 20 кг сумка и 50 кг каркас россия     0.00   \n",
       "урна уличная \"гео\", hobbyka/хоббика, 59*37,5см, сталь                                      0.00   \n",
       "\n",
       "month                                                                                   2019-02  \\\n",
       "product                                                                                           \n",
       "веник сорго с деревянной ручкой с 4-мя швами, rozenbal, r206204                            0.54   \n",
       "вешалки мягкие для деликатных вещей 3 шт шоколад                                           0.00   \n",
       "муляж яблоко 9 см красное                                                                  0.00   \n",
       "набор ножей attribute chef 5 предметов akf522                                              0.00   \n",
       "простынь вафельная 200х180 см wellness rw180-01 100% хлопок                                0.00   \n",
       "сумка-тележка 2-х колесная gimi argo синяя                                                 0.06   \n",
       "сумка-тележка 3-х колесная gimi tris floral синяя                                          0.14   \n",
       "сумка-тележка хозяйственная andersen scala shopper plus, lini, синяя 133-108-90            0.20   \n",
       "тележка багажная delta тбр-22 синий грузоподъемность 20 кг сумка и 50 кг каркас россия     0.00   \n",
       "урна уличная \"гео\", hobbyka/хоббика, 59*37,5см, сталь                                      0.00   \n",
       "\n",
       "month                                                                                   2019-03  \\\n",
       "product                                                                                           \n",
       "веник сорго с деревянной ручкой с 4-мя швами, rozenbal, r206204                            0.00   \n",
       "вешалки мягкие для деликатных вещей 3 шт шоколад                                           0.00   \n",
       "муляж яблоко 9 см красное                                                                  0.00   \n",
       "набор ножей attribute chef 5 предметов akf522                                              0.00   \n",
       "простынь вафельная 200х180 см wellness rw180-01 100% хлопок                                0.00   \n",
       "сумка-тележка 2-х колесная gimi argo синяя                                                 0.06   \n",
       "сумка-тележка 3-х колесная gimi tris floral синяя                                          0.00   \n",
       "сумка-тележка хозяйственная andersen scala shopper plus, lini, синяя 133-108-90            0.00   \n",
       "тележка багажная delta тбр-22 синий грузоподъемность 20 кг сумка и 50 кг каркас россия     0.00   \n",
       "урна уличная \"гео\", hobbyka/хоббика, 59*37,5см, сталь                                      0.00   \n",
       "\n",
       "month                                                                                   2019-04  \\\n",
       "product                                                                                           \n",
       "веник сорго с деревянной ручкой с 4-мя швами, rozenbal, r206204                            0.00   \n",
       "вешалки мягкие для деликатных вещей 3 шт шоколад                                           0.00   \n",
       "муляж яблоко 9 см красное                                                                  0.00   \n",
       "набор ножей attribute chef 5 предметов akf522                                              0.00   \n",
       "простынь вафельная 200х180 см wellness rw180-01 100% хлопок                                0.00   \n",
       "сумка-тележка 2-х колесная gimi argo синяя                                                 0.09   \n",
       "сумка-тележка 3-х колесная gimi tris floral синяя                                          0.14   \n",
       "сумка-тележка хозяйственная andersen scala shopper plus, lini, синяя 133-108-90            0.40   \n",
       "тележка багажная delta тбр-22 синий грузоподъемность 20 кг сумка и 50 кг каркас россия     0.00   \n",
       "урна уличная \"гео\", hobbyka/хоббика, 59*37,5см, сталь                                      0.00   \n",
       "\n",
       "month                                                                                   2019-05  \\\n",
       "product                                                                                           \n",
       "веник сорго с деревянной ручкой с 4-мя швами, rozenbal, r206204                            0.00   \n",
       "вешалки мягкие для деликатных вещей 3 шт шоколад                                           0.00   \n",
       "муляж яблоко 9 см красное                                                                  0.49   \n",
       "набор ножей attribute chef 5 предметов akf522                                              0.00   \n",
       "простынь вафельная 200х180 см wellness rw180-01 100% хлопок                                0.00   \n",
       "сумка-тележка 2-х колесная gimi argo синяя                                                 0.04   \n",
       "сумка-тележка 3-х колесная gimi tris floral синяя                                          0.00   \n",
       "сумка-тележка хозяйственная andersen scala shopper plus, lini, синяя 133-108-90            0.00   \n",
       "тележка багажная delta тбр-22 синий грузоподъемность 20 кг сумка и 50 кг каркас россия     0.00   \n",
       "урна уличная \"гео\", hobbyka/хоббика, 59*37,5см, сталь                                      0.00   \n",
       "\n",
       "month                                                                                   2019-06  \\\n",
       "product                                                                                           \n",
       "веник сорго с деревянной ручкой с 4-мя швами, rozenbal, r206204                            0.00   \n",
       "вешалки мягкие для деликатных вещей 3 шт шоколад                                           1.00   \n",
       "муляж яблоко 9 см красное                                                                  0.00   \n",
       "набор ножей attribute chef 5 предметов akf522                                              0.00   \n",
       "простынь вафельная 200х180 см wellness rw180-01 100% хлопок                                0.00   \n",
       "сумка-тележка 2-х колесная gimi argo синяя                                                 0.02   \n",
       "сумка-тележка 3-х колесная gimi tris floral синяя                                          0.00   \n",
       "сумка-тележка хозяйственная andersen scala shopper plus, lini, синяя 133-108-90            0.00   \n",
       "тележка багажная delta тбр-22 синий грузоподъемность 20 кг сумка и 50 кг каркас россия     0.00   \n",
       "урна уличная \"гео\", hobbyka/хоббика, 59*37,5см, сталь                                      0.00   \n",
       "\n",
       "month                                                                                   2019-07  \\\n",
       "product                                                                                           \n",
       "веник сорго с деревянной ручкой с 4-мя швами, rozenbal, r206204                            0.00   \n",
       "вешалки мягкие для деликатных вещей 3 шт шоколад                                           0.00   \n",
       "муляж яблоко 9 см красное                                                                  0.00   \n",
       "набор ножей attribute chef 5 предметов akf522                                              0.00   \n",
       "простынь вафельная 200х180 см wellness rw180-01 100% хлопок                                0.00   \n",
       "сумка-тележка 2-х колесная gimi argo синяя                                                 0.04   \n",
       "сумка-тележка 3-х колесная gimi tris floral синяя                                          0.14   \n",
       "сумка-тележка хозяйственная andersen scala shopper plus, lini, синяя 133-108-90            0.00   \n",
       "тележка багажная delta тбр-22 синий грузоподъемность 20 кг сумка и 50 кг каркас россия     0.00   \n",
       "урна уличная \"гео\", hobbyka/хоббика, 59*37,5см, сталь                                      0.00   \n",
       "\n",
       "month                                                                                   2019-08  \\\n",
       "product                                                                                           \n",
       "веник сорго с деревянной ручкой с 4-мя швами, rozenbal, r206204                            0.00   \n",
       "вешалки мягкие для деликатных вещей 3 шт шоколад                                           0.00   \n",
       "муляж яблоко 9 см красное                                                                  0.00   \n",
       "набор ножей attribute chef 5 предметов akf522                                              0.00   \n",
       "простынь вафельная 200х180 см wellness rw180-01 100% хлопок                                0.00   \n",
       "сумка-тележка 2-х колесная gimi argo синяя                                                 0.13   \n",
       "сумка-тележка 3-х колесная gimi tris floral синяя                                          0.29   \n",
       "сумка-тележка хозяйственная andersen scala shopper plus, lini, синяя 133-108-90            0.00   \n",
       "тележка багажная delta тбр-22 синий грузоподъемность 20 кг сумка и 50 кг каркас россия     0.00   \n",
       "урна уличная \"гео\", hobbyka/хоббика, 59*37,5см, сталь                                      0.00   \n",
       "\n",
       "month                                                                                   2019-09  \\\n",
       "product                                                                                           \n",
       "веник сорго с деревянной ручкой с 4-мя швами, rozenbal, r206204                            0.00   \n",
       "вешалки мягкие для деликатных вещей 3 шт шоколад                                           0.00   \n",
       "муляж яблоко 9 см красное                                                                  0.00   \n",
       "набор ножей attribute chef 5 предметов akf522                                              0.00   \n",
       "простынь вафельная 200х180 см wellness rw180-01 100% хлопок                                0.00   \n",
       "сумка-тележка 2-х колесная gimi argo синяя                                                 0.06   \n",
       "сумка-тележка 3-х колесная gimi tris floral синяя                                          0.00   \n",
       "сумка-тележка хозяйственная andersen scala shopper plus, lini, синяя 133-108-90            0.00   \n",
       "тележка багажная delta тбр-22 синий грузоподъемность 20 кг сумка и 50 кг каркас россия     0.00   \n",
       "урна уличная \"гео\", hobbyka/хоббика, 59*37,5см, сталь                                      0.00   \n",
       "\n",
       "month                                                                                   2019-10  \\\n",
       "product                                                                                           \n",
       "веник сорго с деревянной ручкой с 4-мя швами, rozenbal, r206204                            0.00   \n",
       "вешалки мягкие для деликатных вещей 3 шт шоколад                                           0.00   \n",
       "муляж яблоко 9 см красное                                                                  0.00   \n",
       "набор ножей attribute chef 5 предметов akf522                                              0.00   \n",
       "простынь вафельная 200х180 см wellness rw180-01 100% хлопок                                0.00   \n",
       "сумка-тележка 2-х колесная gimi argo синяя                                                 0.11   \n",
       "сумка-тележка 3-х колесная gimi tris floral синяя                                          0.00   \n",
       "сумка-тележка хозяйственная andersen scala shopper plus, lini, синяя 133-108-90            0.00   \n",
       "тележка багажная delta тбр-22 синий грузоподъемность 20 кг сумка и 50 кг каркас россия     0.00   \n",
       "урна уличная \"гео\", hobbyka/хоббика, 59*37,5см, сталь                                      0.00   \n",
       "\n",
       "month                                                                                   Количество продаж за весь период  \n",
       "product                                                                                                                   \n",
       "веник сорго с деревянной ручкой с 4-мя швами, rozenbal, r206204                                                      1.0  \n",
       "вешалки мягкие для деликатных вещей 3 шт шоколад                                                                     1.0  \n",
       "муляж яблоко 9 см красное                                                                                            1.0  \n",
       "набор ножей attribute chef 5 предметов akf522                                                                        1.0  \n",
       "простынь вафельная 200х180 см wellness rw180-01 100% хлопок                                                          1.0  \n",
       "сумка-тележка 2-х колесная gimi argo синяя                                                                           1.0  \n",
       "сумка-тележка 3-х колесная gimi tris floral синяя                                                                    1.0  \n",
       "сумка-тележка хозяйственная andersen scala shopper plus, lini, синяя 133-108-90                                      1.0  \n",
       "тележка багажная delta тбр-22 синий грузоподъемность 20 кг сумка и 50 кг каркас россия                               1.0  \n",
       "урна уличная \"гео\", hobbyka/хоббика, 59*37,5см, сталь                                                                1.0  "
      ]
     },
     "execution_count": 38,
     "metadata": {},
     "output_type": "execute_result"
    }
   ],
   "source": [
    "# топ-10 товаров по прибыльности\n",
    "prod = top_10['Название товара'].to_list()\n",
    "\n",
    "# сводная таблица для расчета сезонности продаж топ-10 товаров\n",
    "seasonality = orders.query('product in @prod') \\\n",
    "                    .pivot_table(index='product', columns='month', \\\n",
    "                                 values='quantity', aggfunc='sum', \\\n",
    "                                 fill_value=0, margins=True, margins_name='Количество продаж за весь период')\n",
    "\n",
    "for mon in seasonality.columns:   \n",
    "    seasonality[mon] = round(seasonality[mon]/seasonality['Количество продаж за весь период'], 2)\n",
    "    \n",
    "seasonality=seasonality.query('(product in @prod)')\n",
    "seasonality"
   ]
  },
  {
   "cell_type": "code",
   "execution_count": 39,
   "id": "b1530bce",
   "metadata": {
    "scrolled": false
   },
   "outputs": [
    {
     "data": {
      "application/vnd.plotly.v1+json": {
       "config": {
        "plotlyServerURL": "https://plot.ly"
       },
       "data": [
        {
         "hovertemplate": "название товара=веник сорго с деревянной ручкой с 4-мя швами, rozenbal, r206204<br>Месяц=%{x}<br>Сезонность=%{y}<extra></extra>",
         "legendgroup": "веник сорго с деревянной ручкой с 4-мя швами, rozenbal, r206204",
         "line": {
          "color": "rgb(188,128,189)",
          "dash": "solid"
         },
         "marker": {
          "symbol": "circle"
         },
         "mode": "markers+lines",
         "name": "веник сорго с деревянной ручкой с 4-мя швами, rozenbal, r206204",
         "orientation": "v",
         "showlegend": true,
         "type": "scatter",
         "x": [
          "2018-10",
          "2018-11",
          "2018-12",
          "2019-01",
          "2019-02",
          "2019-03",
          "2019-04",
          "2019-05",
          "2019-06",
          "2019-07",
          "2019-08",
          "2019-09",
          "2019-10"
         ],
         "xaxis": "x",
         "y": [
          0.46,
          0,
          0,
          0,
          0.54,
          0,
          0,
          0,
          0,
          0,
          0,
          0,
          0
         ],
         "yaxis": "y"
        },
        {
         "hovertemplate": "название товара=вешалки мягкие для деликатных вещей 3 шт шоколад<br>Месяц=%{x}<br>Сезонность=%{y}<extra></extra>",
         "legendgroup": "вешалки мягкие для деликатных вещей 3 шт шоколад",
         "line": {
          "color": "rgb(190,186,218)",
          "dash": "solid"
         },
         "marker": {
          "symbol": "circle"
         },
         "mode": "markers+lines",
         "name": "вешалки мягкие для деликатных вещей 3 шт шоколад",
         "orientation": "v",
         "showlegend": true,
         "type": "scatter",
         "x": [
          "2018-10",
          "2018-11",
          "2018-12",
          "2019-01",
          "2019-02",
          "2019-03",
          "2019-04",
          "2019-05",
          "2019-06",
          "2019-07",
          "2019-08",
          "2019-09",
          "2019-10"
         ],
         "xaxis": "x",
         "y": [
          0,
          0,
          0,
          0,
          0,
          0,
          0,
          0,
          1,
          0,
          0,
          0,
          0
         ],
         "yaxis": "y"
        },
        {
         "hovertemplate": "название товара=муляж яблоко 9 см красное<br>Месяц=%{x}<br>Сезонность=%{y}<extra></extra>",
         "legendgroup": "муляж яблоко 9 см красное",
         "line": {
          "color": "rgb(141,160,203)",
          "dash": "solid"
         },
         "marker": {
          "symbol": "circle"
         },
         "mode": "markers+lines",
         "name": "муляж яблоко 9 см красное",
         "orientation": "v",
         "showlegend": true,
         "type": "scatter",
         "x": [
          "2018-10",
          "2018-11",
          "2018-12",
          "2019-01",
          "2019-02",
          "2019-03",
          "2019-04",
          "2019-05",
          "2019-06",
          "2019-07",
          "2019-08",
          "2019-09",
          "2019-10"
         ],
         "xaxis": "x",
         "y": [
          0.01,
          0.5,
          0,
          0,
          0,
          0,
          0,
          0.49,
          0,
          0,
          0,
          0,
          0
         ],
         "yaxis": "y"
        },
        {
         "hovertemplate": "название товара=набор ножей attribute chef 5 предметов akf522<br>Месяц=%{x}<br>Сезонность=%{y}<extra></extra>",
         "legendgroup": "набор ножей attribute chef 5 предметов akf522",
         "line": {
          "color": "rgb(128,177,211)",
          "dash": "solid"
         },
         "marker": {
          "symbol": "circle"
         },
         "mode": "markers+lines",
         "name": "набор ножей attribute chef 5 предметов akf522",
         "orientation": "v",
         "showlegend": true,
         "type": "scatter",
         "x": [
          "2018-10",
          "2018-11",
          "2018-12",
          "2019-01",
          "2019-02",
          "2019-03",
          "2019-04",
          "2019-05",
          "2019-06",
          "2019-07",
          "2019-08",
          "2019-09",
          "2019-10"
         ],
         "xaxis": "x",
         "y": [
          0,
          1,
          0,
          0,
          0,
          0,
          0,
          0,
          0,
          0,
          0,
          0,
          0
         ],
         "yaxis": "y"
        },
        {
         "hovertemplate": "название товара=простынь вафельная 200х180 см wellness rw180-01 100% хлопок<br>Месяц=%{x}<br>Сезонность=%{y}<extra></extra>",
         "legendgroup": "простынь вафельная 200х180 см wellness rw180-01 100% хлопок",
         "line": {
          "color": "rgb(141,211,199)",
          "dash": "solid"
         },
         "marker": {
          "symbol": "circle"
         },
         "mode": "markers+lines",
         "name": "простынь вафельная 200х180 см wellness rw180-01 100% хлопок",
         "orientation": "v",
         "showlegend": true,
         "type": "scatter",
         "x": [
          "2018-10",
          "2018-11",
          "2018-12",
          "2019-01",
          "2019-02",
          "2019-03",
          "2019-04",
          "2019-05",
          "2019-06",
          "2019-07",
          "2019-08",
          "2019-09",
          "2019-10"
         ],
         "xaxis": "x",
         "y": [
          0,
          0,
          0,
          1,
          0,
          0,
          0,
          0,
          0,
          0,
          0,
          0,
          0
         ],
         "yaxis": "y"
        },
        {
         "hovertemplate": "название товара=сумка-тележка 2-х колесная gimi argo синяя<br>Месяц=%{x}<br>Сезонность=%{y}<extra></extra>",
         "legendgroup": "сумка-тележка 2-х колесная gimi argo синяя",
         "line": {
          "color": "rgb(204,235,197)",
          "dash": "solid"
         },
         "marker": {
          "symbol": "circle"
         },
         "mode": "markers+lines",
         "name": "сумка-тележка 2-х колесная gimi argo синяя",
         "orientation": "v",
         "showlegend": true,
         "type": "scatter",
         "x": [
          "2018-10",
          "2018-11",
          "2018-12",
          "2019-01",
          "2019-02",
          "2019-03",
          "2019-04",
          "2019-05",
          "2019-06",
          "2019-07",
          "2019-08",
          "2019-09",
          "2019-10"
         ],
         "xaxis": "x",
         "y": [
          0.09,
          0.02,
          0.26,
          0.02,
          0.06,
          0.06,
          0.09,
          0.04,
          0.02,
          0.04,
          0.13,
          0.06,
          0.11
         ],
         "yaxis": "y"
        },
        {
         "hovertemplate": "название товара=сумка-тележка 3-х колесная gimi tris floral синяя<br>Месяц=%{x}<br>Сезонность=%{y}<extra></extra>",
         "legendgroup": "сумка-тележка 3-х колесная gimi tris floral синяя",
         "line": {
          "color": "rgb(179,222,105)",
          "dash": "solid"
         },
         "marker": {
          "symbol": "circle"
         },
         "mode": "markers+lines",
         "name": "сумка-тележка 3-х колесная gimi tris floral синяя",
         "orientation": "v",
         "showlegend": true,
         "type": "scatter",
         "x": [
          "2018-10",
          "2018-11",
          "2018-12",
          "2019-01",
          "2019-02",
          "2019-03",
          "2019-04",
          "2019-05",
          "2019-06",
          "2019-07",
          "2019-08",
          "2019-09",
          "2019-10"
         ],
         "xaxis": "x",
         "y": [
          0.29,
          0,
          0,
          0,
          0.14,
          0,
          0.14,
          0,
          0,
          0.14,
          0.29,
          0,
          0
         ],
         "yaxis": "y"
        },
        {
         "hovertemplate": "название товара=сумка-тележка хозяйственная andersen scala shopper plus, lini, синяя 133-108-90<br>Месяц=%{x}<br>Сезонность=%{y}<extra></extra>",
         "legendgroup": "сумка-тележка хозяйственная andersen scala shopper plus, lini, синяя 133-108-90",
         "line": {
          "color": "rgb(255,237,111)",
          "dash": "solid"
         },
         "marker": {
          "symbol": "circle"
         },
         "mode": "markers+lines",
         "name": "сумка-тележка хозяйственная andersen scala shopper plus, lini, синяя 133-108-90",
         "orientation": "v",
         "showlegend": true,
         "type": "scatter",
         "x": [
          "2018-10",
          "2018-11",
          "2018-12",
          "2019-01",
          "2019-02",
          "2019-03",
          "2019-04",
          "2019-05",
          "2019-06",
          "2019-07",
          "2019-08",
          "2019-09",
          "2019-10"
         ],
         "xaxis": "x",
         "y": [
          0,
          0.2,
          0.2,
          0,
          0.2,
          0,
          0.4,
          0,
          0,
          0,
          0,
          0,
          0
         ],
         "yaxis": "y"
        },
        {
         "hovertemplate": "название товара=тележка багажная delta тбр-22 синий грузоподъемность 20 кг сумка и 50 кг каркас россия<br>Месяц=%{x}<br>Сезонность=%{y}<extra></extra>",
         "legendgroup": "тележка багажная delta тбр-22 синий грузоподъемность 20 кг сумка и 50 кг каркас россия",
         "line": {
          "color": "rgb(255,255,179)",
          "dash": "solid"
         },
         "marker": {
          "symbol": "circle"
         },
         "mode": "markers+lines",
         "name": "тележка багажная delta тбр-22 синий грузоподъемность 20 кг сумка и 50 кг каркас россия",
         "orientation": "v",
         "showlegend": true,
         "type": "scatter",
         "x": [
          "2018-10",
          "2018-11",
          "2018-12",
          "2019-01",
          "2019-02",
          "2019-03",
          "2019-04",
          "2019-05",
          "2019-06",
          "2019-07",
          "2019-08",
          "2019-09",
          "2019-10"
         ],
         "xaxis": "x",
         "y": [
          0.02,
          0,
          0.98,
          0,
          0,
          0,
          0,
          0,
          0,
          0,
          0,
          0,
          0
         ],
         "yaxis": "y"
        },
        {
         "hovertemplate": "название товара=урна уличная \"гео\", hobbyka/хоббика, 59*37,5см, сталь<br>Месяц=%{x}<br>Сезонность=%{y}<extra></extra>",
         "legendgroup": "урна уличная \"гео\", hobbyka/хоббика, 59*37,5см, сталь",
         "line": {
          "color": "rgb(253,180,98)",
          "dash": "solid"
         },
         "marker": {
          "symbol": "circle"
         },
         "mode": "markers+lines",
         "name": "урна уличная \"гео\", hobbyka/хоббика, 59*37,5см, сталь",
         "orientation": "v",
         "showlegend": true,
         "type": "scatter",
         "x": [
          "2018-10",
          "2018-11",
          "2018-12",
          "2019-01",
          "2019-02",
          "2019-03",
          "2019-04",
          "2019-05",
          "2019-06",
          "2019-07",
          "2019-08",
          "2019-09",
          "2019-10"
         ],
         "xaxis": "x",
         "y": [
          0,
          1,
          0,
          0,
          0,
          0,
          0,
          0,
          0,
          0,
          0,
          0,
          0
         ],
         "yaxis": "y"
        }
       ],
       "layout": {
        "autosize": false,
        "height": 700,
        "legend": {
         "orientation": "h",
         "title": {
          "text": "название товара"
         },
         "tracegroupgap": 0,
         "x": 0.1,
         "y": -0.3
        },
        "margin": {
         "t": 60
        },
        "template": {
         "data": {
          "bar": [
           {
            "error_x": {
             "color": "#2a3f5f"
            },
            "error_y": {
             "color": "#2a3f5f"
            },
            "marker": {
             "line": {
              "color": "#E5ECF6",
              "width": 0.5
             },
             "pattern": {
              "fillmode": "overlay",
              "size": 10,
              "solidity": 0.2
             }
            },
            "type": "bar"
           }
          ],
          "barpolar": [
           {
            "marker": {
             "line": {
              "color": "#E5ECF6",
              "width": 0.5
             },
             "pattern": {
              "fillmode": "overlay",
              "size": 10,
              "solidity": 0.2
             }
            },
            "type": "barpolar"
           }
          ],
          "carpet": [
           {
            "aaxis": {
             "endlinecolor": "#2a3f5f",
             "gridcolor": "white",
             "linecolor": "white",
             "minorgridcolor": "white",
             "startlinecolor": "#2a3f5f"
            },
            "baxis": {
             "endlinecolor": "#2a3f5f",
             "gridcolor": "white",
             "linecolor": "white",
             "minorgridcolor": "white",
             "startlinecolor": "#2a3f5f"
            },
            "type": "carpet"
           }
          ],
          "choropleth": [
           {
            "colorbar": {
             "outlinewidth": 0,
             "ticks": ""
            },
            "type": "choropleth"
           }
          ],
          "contour": [
           {
            "colorbar": {
             "outlinewidth": 0,
             "ticks": ""
            },
            "colorscale": [
             [
              0,
              "#0d0887"
             ],
             [
              0.1111111111111111,
              "#46039f"
             ],
             [
              0.2222222222222222,
              "#7201a8"
             ],
             [
              0.3333333333333333,
              "#9c179e"
             ],
             [
              0.4444444444444444,
              "#bd3786"
             ],
             [
              0.5555555555555556,
              "#d8576b"
             ],
             [
              0.6666666666666666,
              "#ed7953"
             ],
             [
              0.7777777777777778,
              "#fb9f3a"
             ],
             [
              0.8888888888888888,
              "#fdca26"
             ],
             [
              1,
              "#f0f921"
             ]
            ],
            "type": "contour"
           }
          ],
          "contourcarpet": [
           {
            "colorbar": {
             "outlinewidth": 0,
             "ticks": ""
            },
            "type": "contourcarpet"
           }
          ],
          "heatmap": [
           {
            "colorbar": {
             "outlinewidth": 0,
             "ticks": ""
            },
            "colorscale": [
             [
              0,
              "#0d0887"
             ],
             [
              0.1111111111111111,
              "#46039f"
             ],
             [
              0.2222222222222222,
              "#7201a8"
             ],
             [
              0.3333333333333333,
              "#9c179e"
             ],
             [
              0.4444444444444444,
              "#bd3786"
             ],
             [
              0.5555555555555556,
              "#d8576b"
             ],
             [
              0.6666666666666666,
              "#ed7953"
             ],
             [
              0.7777777777777778,
              "#fb9f3a"
             ],
             [
              0.8888888888888888,
              "#fdca26"
             ],
             [
              1,
              "#f0f921"
             ]
            ],
            "type": "heatmap"
           }
          ],
          "heatmapgl": [
           {
            "colorbar": {
             "outlinewidth": 0,
             "ticks": ""
            },
            "colorscale": [
             [
              0,
              "#0d0887"
             ],
             [
              0.1111111111111111,
              "#46039f"
             ],
             [
              0.2222222222222222,
              "#7201a8"
             ],
             [
              0.3333333333333333,
              "#9c179e"
             ],
             [
              0.4444444444444444,
              "#bd3786"
             ],
             [
              0.5555555555555556,
              "#d8576b"
             ],
             [
              0.6666666666666666,
              "#ed7953"
             ],
             [
              0.7777777777777778,
              "#fb9f3a"
             ],
             [
              0.8888888888888888,
              "#fdca26"
             ],
             [
              1,
              "#f0f921"
             ]
            ],
            "type": "heatmapgl"
           }
          ],
          "histogram": [
           {
            "marker": {
             "pattern": {
              "fillmode": "overlay",
              "size": 10,
              "solidity": 0.2
             }
            },
            "type": "histogram"
           }
          ],
          "histogram2d": [
           {
            "colorbar": {
             "outlinewidth": 0,
             "ticks": ""
            },
            "colorscale": [
             [
              0,
              "#0d0887"
             ],
             [
              0.1111111111111111,
              "#46039f"
             ],
             [
              0.2222222222222222,
              "#7201a8"
             ],
             [
              0.3333333333333333,
              "#9c179e"
             ],
             [
              0.4444444444444444,
              "#bd3786"
             ],
             [
              0.5555555555555556,
              "#d8576b"
             ],
             [
              0.6666666666666666,
              "#ed7953"
             ],
             [
              0.7777777777777778,
              "#fb9f3a"
             ],
             [
              0.8888888888888888,
              "#fdca26"
             ],
             [
              1,
              "#f0f921"
             ]
            ],
            "type": "histogram2d"
           }
          ],
          "histogram2dcontour": [
           {
            "colorbar": {
             "outlinewidth": 0,
             "ticks": ""
            },
            "colorscale": [
             [
              0,
              "#0d0887"
             ],
             [
              0.1111111111111111,
              "#46039f"
             ],
             [
              0.2222222222222222,
              "#7201a8"
             ],
             [
              0.3333333333333333,
              "#9c179e"
             ],
             [
              0.4444444444444444,
              "#bd3786"
             ],
             [
              0.5555555555555556,
              "#d8576b"
             ],
             [
              0.6666666666666666,
              "#ed7953"
             ],
             [
              0.7777777777777778,
              "#fb9f3a"
             ],
             [
              0.8888888888888888,
              "#fdca26"
             ],
             [
              1,
              "#f0f921"
             ]
            ],
            "type": "histogram2dcontour"
           }
          ],
          "mesh3d": [
           {
            "colorbar": {
             "outlinewidth": 0,
             "ticks": ""
            },
            "type": "mesh3d"
           }
          ],
          "parcoords": [
           {
            "line": {
             "colorbar": {
              "outlinewidth": 0,
              "ticks": ""
             }
            },
            "type": "parcoords"
           }
          ],
          "pie": [
           {
            "automargin": true,
            "type": "pie"
           }
          ],
          "scatter": [
           {
            "marker": {
             "colorbar": {
              "outlinewidth": 0,
              "ticks": ""
             }
            },
            "type": "scatter"
           }
          ],
          "scatter3d": [
           {
            "line": {
             "colorbar": {
              "outlinewidth": 0,
              "ticks": ""
             }
            },
            "marker": {
             "colorbar": {
              "outlinewidth": 0,
              "ticks": ""
             }
            },
            "type": "scatter3d"
           }
          ],
          "scattercarpet": [
           {
            "marker": {
             "colorbar": {
              "outlinewidth": 0,
              "ticks": ""
             }
            },
            "type": "scattercarpet"
           }
          ],
          "scattergeo": [
           {
            "marker": {
             "colorbar": {
              "outlinewidth": 0,
              "ticks": ""
             }
            },
            "type": "scattergeo"
           }
          ],
          "scattergl": [
           {
            "marker": {
             "colorbar": {
              "outlinewidth": 0,
              "ticks": ""
             }
            },
            "type": "scattergl"
           }
          ],
          "scattermapbox": [
           {
            "marker": {
             "colorbar": {
              "outlinewidth": 0,
              "ticks": ""
             }
            },
            "type": "scattermapbox"
           }
          ],
          "scatterpolar": [
           {
            "marker": {
             "colorbar": {
              "outlinewidth": 0,
              "ticks": ""
             }
            },
            "type": "scatterpolar"
           }
          ],
          "scatterpolargl": [
           {
            "marker": {
             "colorbar": {
              "outlinewidth": 0,
              "ticks": ""
             }
            },
            "type": "scatterpolargl"
           }
          ],
          "scatterternary": [
           {
            "marker": {
             "colorbar": {
              "outlinewidth": 0,
              "ticks": ""
             }
            },
            "type": "scatterternary"
           }
          ],
          "surface": [
           {
            "colorbar": {
             "outlinewidth": 0,
             "ticks": ""
            },
            "colorscale": [
             [
              0,
              "#0d0887"
             ],
             [
              0.1111111111111111,
              "#46039f"
             ],
             [
              0.2222222222222222,
              "#7201a8"
             ],
             [
              0.3333333333333333,
              "#9c179e"
             ],
             [
              0.4444444444444444,
              "#bd3786"
             ],
             [
              0.5555555555555556,
              "#d8576b"
             ],
             [
              0.6666666666666666,
              "#ed7953"
             ],
             [
              0.7777777777777778,
              "#fb9f3a"
             ],
             [
              0.8888888888888888,
              "#fdca26"
             ],
             [
              1,
              "#f0f921"
             ]
            ],
            "type": "surface"
           }
          ],
          "table": [
           {
            "cells": {
             "fill": {
              "color": "#EBF0F8"
             },
             "line": {
              "color": "white"
             }
            },
            "header": {
             "fill": {
              "color": "#C8D4E3"
             },
             "line": {
              "color": "white"
             }
            },
            "type": "table"
           }
          ]
         },
         "layout": {
          "annotationdefaults": {
           "arrowcolor": "#2a3f5f",
           "arrowhead": 0,
           "arrowwidth": 1
          },
          "autotypenumbers": "strict",
          "coloraxis": {
           "colorbar": {
            "outlinewidth": 0,
            "ticks": ""
           }
          },
          "colorscale": {
           "diverging": [
            [
             0,
             "#8e0152"
            ],
            [
             0.1,
             "#c51b7d"
            ],
            [
             0.2,
             "#de77ae"
            ],
            [
             0.3,
             "#f1b6da"
            ],
            [
             0.4,
             "#fde0ef"
            ],
            [
             0.5,
             "#f7f7f7"
            ],
            [
             0.6,
             "#e6f5d0"
            ],
            [
             0.7,
             "#b8e186"
            ],
            [
             0.8,
             "#7fbc41"
            ],
            [
             0.9,
             "#4d9221"
            ],
            [
             1,
             "#276419"
            ]
           ],
           "sequential": [
            [
             0,
             "#0d0887"
            ],
            [
             0.1111111111111111,
             "#46039f"
            ],
            [
             0.2222222222222222,
             "#7201a8"
            ],
            [
             0.3333333333333333,
             "#9c179e"
            ],
            [
             0.4444444444444444,
             "#bd3786"
            ],
            [
             0.5555555555555556,
             "#d8576b"
            ],
            [
             0.6666666666666666,
             "#ed7953"
            ],
            [
             0.7777777777777778,
             "#fb9f3a"
            ],
            [
             0.8888888888888888,
             "#fdca26"
            ],
            [
             1,
             "#f0f921"
            ]
           ],
           "sequentialminus": [
            [
             0,
             "#0d0887"
            ],
            [
             0.1111111111111111,
             "#46039f"
            ],
            [
             0.2222222222222222,
             "#7201a8"
            ],
            [
             0.3333333333333333,
             "#9c179e"
            ],
            [
             0.4444444444444444,
             "#bd3786"
            ],
            [
             0.5555555555555556,
             "#d8576b"
            ],
            [
             0.6666666666666666,
             "#ed7953"
            ],
            [
             0.7777777777777778,
             "#fb9f3a"
            ],
            [
             0.8888888888888888,
             "#fdca26"
            ],
            [
             1,
             "#f0f921"
            ]
           ]
          },
          "colorway": [
           "#636efa",
           "#EF553B",
           "#00cc96",
           "#ab63fa",
           "#FFA15A",
           "#19d3f3",
           "#FF6692",
           "#B6E880",
           "#FF97FF",
           "#FECB52"
          ],
          "font": {
           "color": "#2a3f5f"
          },
          "geo": {
           "bgcolor": "white",
           "lakecolor": "white",
           "landcolor": "#E5ECF6",
           "showlakes": true,
           "showland": true,
           "subunitcolor": "white"
          },
          "hoverlabel": {
           "align": "left"
          },
          "hovermode": "closest",
          "mapbox": {
           "style": "light"
          },
          "paper_bgcolor": "white",
          "plot_bgcolor": "#E5ECF6",
          "polar": {
           "angularaxis": {
            "gridcolor": "white",
            "linecolor": "white",
            "ticks": ""
           },
           "bgcolor": "#E5ECF6",
           "radialaxis": {
            "gridcolor": "white",
            "linecolor": "white",
            "ticks": ""
           }
          },
          "scene": {
           "xaxis": {
            "backgroundcolor": "#E5ECF6",
            "gridcolor": "white",
            "gridwidth": 2,
            "linecolor": "white",
            "showbackground": true,
            "ticks": "",
            "zerolinecolor": "white"
           },
           "yaxis": {
            "backgroundcolor": "#E5ECF6",
            "gridcolor": "white",
            "gridwidth": 2,
            "linecolor": "white",
            "showbackground": true,
            "ticks": "",
            "zerolinecolor": "white"
           },
           "zaxis": {
            "backgroundcolor": "#E5ECF6",
            "gridcolor": "white",
            "gridwidth": 2,
            "linecolor": "white",
            "showbackground": true,
            "ticks": "",
            "zerolinecolor": "white"
           }
          },
          "shapedefaults": {
           "line": {
            "color": "#2a3f5f"
           }
          },
          "ternary": {
           "aaxis": {
            "gridcolor": "white",
            "linecolor": "white",
            "ticks": ""
           },
           "baxis": {
            "gridcolor": "white",
            "linecolor": "white",
            "ticks": ""
           },
           "bgcolor": "#E5ECF6",
           "caxis": {
            "gridcolor": "white",
            "linecolor": "white",
            "ticks": ""
           }
          },
          "title": {
           "x": 0.05
          },
          "xaxis": {
           "automargin": true,
           "gridcolor": "white",
           "linecolor": "white",
           "ticks": "",
           "title": {
            "standoff": 15
           },
           "zerolinecolor": "white",
           "zerolinewidth": 2
          },
          "yaxis": {
           "automargin": true,
           "gridcolor": "white",
           "linecolor": "white",
           "ticks": "",
           "title": {
            "standoff": 15
           },
           "zerolinecolor": "white",
           "zerolinewidth": 2
          }
         }
        },
        "title": {
         "text": "Сезонность топ-10 прибыльных товаров по месяцам",
         "x": 0.5
        },
        "width": 980,
        "xaxis": {
         "anchor": "y",
         "domain": [
          0,
          1
         ],
         "tickangle": -45,
         "title": {
          "text": "Месяц"
         },
         "type": "category"
        },
        "yaxis": {
         "anchor": "x",
         "domain": [
          0,
          1
         ],
         "title": {
          "text": "Сезонность"
         }
        }
       }
      },
      "text/html": [
       "<div>                            <div id=\"51da0b20-091c-464f-a520-6e6799377f23\" class=\"plotly-graph-div\" style=\"height:700px; width:980px;\"></div>            <script type=\"text/javascript\">                require([\"plotly\"], function(Plotly) {                    window.PLOTLYENV=window.PLOTLYENV || {};                                    if (document.getElementById(\"51da0b20-091c-464f-a520-6e6799377f23\")) {                    Plotly.newPlot(                        \"51da0b20-091c-464f-a520-6e6799377f23\",                        [{\"hovertemplate\":\"\\u043d\\u0430\\u0437\\u0432\\u0430\\u043d\\u0438\\u0435 \\u0442\\u043e\\u0432\\u0430\\u0440\\u0430=\\u0432\\u0435\\u043d\\u0438\\u043a \\u0441\\u043e\\u0440\\u0433\\u043e \\u0441 \\u0434\\u0435\\u0440\\u0435\\u0432\\u044f\\u043d\\u043d\\u043e\\u0439 \\u0440\\u0443\\u0447\\u043a\\u043e\\u0439 \\u0441 4-\\u043c\\u044f \\u0448\\u0432\\u0430\\u043c\\u0438, rozenbal, r206204<br>\\u041c\\u0435\\u0441\\u044f\\u0446=%{x}<br>\\u0421\\u0435\\u0437\\u043e\\u043d\\u043d\\u043e\\u0441\\u0442\\u044c=%{y}<extra></extra>\",\"legendgroup\":\"\\u0432\\u0435\\u043d\\u0438\\u043a \\u0441\\u043e\\u0440\\u0433\\u043e \\u0441 \\u0434\\u0435\\u0440\\u0435\\u0432\\u044f\\u043d\\u043d\\u043e\\u0439 \\u0440\\u0443\\u0447\\u043a\\u043e\\u0439 \\u0441 4-\\u043c\\u044f \\u0448\\u0432\\u0430\\u043c\\u0438, rozenbal, r206204\",\"line\":{\"color\":\"rgb(188,128,189)\",\"dash\":\"solid\"},\"marker\":{\"symbol\":\"circle\"},\"mode\":\"markers+lines\",\"name\":\"\\u0432\\u0435\\u043d\\u0438\\u043a \\u0441\\u043e\\u0440\\u0433\\u043e \\u0441 \\u0434\\u0435\\u0440\\u0435\\u0432\\u044f\\u043d\\u043d\\u043e\\u0439 \\u0440\\u0443\\u0447\\u043a\\u043e\\u0439 \\u0441 4-\\u043c\\u044f \\u0448\\u0432\\u0430\\u043c\\u0438, rozenbal, r206204\",\"orientation\":\"v\",\"showlegend\":true,\"x\":[\"2018-10\",\"2018-11\",\"2018-12\",\"2019-01\",\"2019-02\",\"2019-03\",\"2019-04\",\"2019-05\",\"2019-06\",\"2019-07\",\"2019-08\",\"2019-09\",\"2019-10\"],\"xaxis\":\"x\",\"y\":[0.46,0.0,0.0,0.0,0.54,0.0,0.0,0.0,0.0,0.0,0.0,0.0,0.0],\"yaxis\":\"y\",\"type\":\"scatter\"},{\"hovertemplate\":\"\\u043d\\u0430\\u0437\\u0432\\u0430\\u043d\\u0438\\u0435 \\u0442\\u043e\\u0432\\u0430\\u0440\\u0430=\\u0432\\u0435\\u0448\\u0430\\u043b\\u043a\\u0438 \\u043c\\u044f\\u0433\\u043a\\u0438\\u0435 \\u0434\\u043b\\u044f \\u0434\\u0435\\u043b\\u0438\\u043a\\u0430\\u0442\\u043d\\u044b\\u0445 \\u0432\\u0435\\u0449\\u0435\\u0439 3 \\u0448\\u0442 \\u0448\\u043e\\u043a\\u043e\\u043b\\u0430\\u0434<br>\\u041c\\u0435\\u0441\\u044f\\u0446=%{x}<br>\\u0421\\u0435\\u0437\\u043e\\u043d\\u043d\\u043e\\u0441\\u0442\\u044c=%{y}<extra></extra>\",\"legendgroup\":\"\\u0432\\u0435\\u0448\\u0430\\u043b\\u043a\\u0438 \\u043c\\u044f\\u0433\\u043a\\u0438\\u0435 \\u0434\\u043b\\u044f \\u0434\\u0435\\u043b\\u0438\\u043a\\u0430\\u0442\\u043d\\u044b\\u0445 \\u0432\\u0435\\u0449\\u0435\\u0439 3 \\u0448\\u0442 \\u0448\\u043e\\u043a\\u043e\\u043b\\u0430\\u0434\",\"line\":{\"color\":\"rgb(190,186,218)\",\"dash\":\"solid\"},\"marker\":{\"symbol\":\"circle\"},\"mode\":\"markers+lines\",\"name\":\"\\u0432\\u0435\\u0448\\u0430\\u043b\\u043a\\u0438 \\u043c\\u044f\\u0433\\u043a\\u0438\\u0435 \\u0434\\u043b\\u044f \\u0434\\u0435\\u043b\\u0438\\u043a\\u0430\\u0442\\u043d\\u044b\\u0445 \\u0432\\u0435\\u0449\\u0435\\u0439 3 \\u0448\\u0442 \\u0448\\u043e\\u043a\\u043e\\u043b\\u0430\\u0434\",\"orientation\":\"v\",\"showlegend\":true,\"x\":[\"2018-10\",\"2018-11\",\"2018-12\",\"2019-01\",\"2019-02\",\"2019-03\",\"2019-04\",\"2019-05\",\"2019-06\",\"2019-07\",\"2019-08\",\"2019-09\",\"2019-10\"],\"xaxis\":\"x\",\"y\":[0.0,0.0,0.0,0.0,0.0,0.0,0.0,0.0,1.0,0.0,0.0,0.0,0.0],\"yaxis\":\"y\",\"type\":\"scatter\"},{\"hovertemplate\":\"\\u043d\\u0430\\u0437\\u0432\\u0430\\u043d\\u0438\\u0435 \\u0442\\u043e\\u0432\\u0430\\u0440\\u0430=\\u043c\\u0443\\u043b\\u044f\\u0436 \\u044f\\u0431\\u043b\\u043e\\u043a\\u043e 9 \\u0441\\u043c \\u043a\\u0440\\u0430\\u0441\\u043d\\u043e\\u0435<br>\\u041c\\u0435\\u0441\\u044f\\u0446=%{x}<br>\\u0421\\u0435\\u0437\\u043e\\u043d\\u043d\\u043e\\u0441\\u0442\\u044c=%{y}<extra></extra>\",\"legendgroup\":\"\\u043c\\u0443\\u043b\\u044f\\u0436 \\u044f\\u0431\\u043b\\u043e\\u043a\\u043e 9 \\u0441\\u043c \\u043a\\u0440\\u0430\\u0441\\u043d\\u043e\\u0435\",\"line\":{\"color\":\"rgb(141,160,203)\",\"dash\":\"solid\"},\"marker\":{\"symbol\":\"circle\"},\"mode\":\"markers+lines\",\"name\":\"\\u043c\\u0443\\u043b\\u044f\\u0436 \\u044f\\u0431\\u043b\\u043e\\u043a\\u043e 9 \\u0441\\u043c \\u043a\\u0440\\u0430\\u0441\\u043d\\u043e\\u0435\",\"orientation\":\"v\",\"showlegend\":true,\"x\":[\"2018-10\",\"2018-11\",\"2018-12\",\"2019-01\",\"2019-02\",\"2019-03\",\"2019-04\",\"2019-05\",\"2019-06\",\"2019-07\",\"2019-08\",\"2019-09\",\"2019-10\"],\"xaxis\":\"x\",\"y\":[0.01,0.5,0.0,0.0,0.0,0.0,0.0,0.49,0.0,0.0,0.0,0.0,0.0],\"yaxis\":\"y\",\"type\":\"scatter\"},{\"hovertemplate\":\"\\u043d\\u0430\\u0437\\u0432\\u0430\\u043d\\u0438\\u0435 \\u0442\\u043e\\u0432\\u0430\\u0440\\u0430=\\u043d\\u0430\\u0431\\u043e\\u0440 \\u043d\\u043e\\u0436\\u0435\\u0439 attribute chef 5 \\u043f\\u0440\\u0435\\u0434\\u043c\\u0435\\u0442\\u043e\\u0432 akf522<br>\\u041c\\u0435\\u0441\\u044f\\u0446=%{x}<br>\\u0421\\u0435\\u0437\\u043e\\u043d\\u043d\\u043e\\u0441\\u0442\\u044c=%{y}<extra></extra>\",\"legendgroup\":\"\\u043d\\u0430\\u0431\\u043e\\u0440 \\u043d\\u043e\\u0436\\u0435\\u0439 attribute chef 5 \\u043f\\u0440\\u0435\\u0434\\u043c\\u0435\\u0442\\u043e\\u0432 akf522\",\"line\":{\"color\":\"rgb(128,177,211)\",\"dash\":\"solid\"},\"marker\":{\"symbol\":\"circle\"},\"mode\":\"markers+lines\",\"name\":\"\\u043d\\u0430\\u0431\\u043e\\u0440 \\u043d\\u043e\\u0436\\u0435\\u0439 attribute chef 5 \\u043f\\u0440\\u0435\\u0434\\u043c\\u0435\\u0442\\u043e\\u0432 akf522\",\"orientation\":\"v\",\"showlegend\":true,\"x\":[\"2018-10\",\"2018-11\",\"2018-12\",\"2019-01\",\"2019-02\",\"2019-03\",\"2019-04\",\"2019-05\",\"2019-06\",\"2019-07\",\"2019-08\",\"2019-09\",\"2019-10\"],\"xaxis\":\"x\",\"y\":[0.0,1.0,0.0,0.0,0.0,0.0,0.0,0.0,0.0,0.0,0.0,0.0,0.0],\"yaxis\":\"y\",\"type\":\"scatter\"},{\"hovertemplate\":\"\\u043d\\u0430\\u0437\\u0432\\u0430\\u043d\\u0438\\u0435 \\u0442\\u043e\\u0432\\u0430\\u0440\\u0430=\\u043f\\u0440\\u043e\\u0441\\u0442\\u044b\\u043d\\u044c \\u0432\\u0430\\u0444\\u0435\\u043b\\u044c\\u043d\\u0430\\u044f 200\\u0445180 \\u0441\\u043c wellness rw180-01 100% \\u0445\\u043b\\u043e\\u043f\\u043e\\u043a<br>\\u041c\\u0435\\u0441\\u044f\\u0446=%{x}<br>\\u0421\\u0435\\u0437\\u043e\\u043d\\u043d\\u043e\\u0441\\u0442\\u044c=%{y}<extra></extra>\",\"legendgroup\":\"\\u043f\\u0440\\u043e\\u0441\\u0442\\u044b\\u043d\\u044c \\u0432\\u0430\\u0444\\u0435\\u043b\\u044c\\u043d\\u0430\\u044f 200\\u0445180 \\u0441\\u043c wellness rw180-01 100% \\u0445\\u043b\\u043e\\u043f\\u043e\\u043a\",\"line\":{\"color\":\"rgb(141,211,199)\",\"dash\":\"solid\"},\"marker\":{\"symbol\":\"circle\"},\"mode\":\"markers+lines\",\"name\":\"\\u043f\\u0440\\u043e\\u0441\\u0442\\u044b\\u043d\\u044c \\u0432\\u0430\\u0444\\u0435\\u043b\\u044c\\u043d\\u0430\\u044f 200\\u0445180 \\u0441\\u043c wellness rw180-01 100% \\u0445\\u043b\\u043e\\u043f\\u043e\\u043a\",\"orientation\":\"v\",\"showlegend\":true,\"x\":[\"2018-10\",\"2018-11\",\"2018-12\",\"2019-01\",\"2019-02\",\"2019-03\",\"2019-04\",\"2019-05\",\"2019-06\",\"2019-07\",\"2019-08\",\"2019-09\",\"2019-10\"],\"xaxis\":\"x\",\"y\":[0.0,0.0,0.0,1.0,0.0,0.0,0.0,0.0,0.0,0.0,0.0,0.0,0.0],\"yaxis\":\"y\",\"type\":\"scatter\"},{\"hovertemplate\":\"\\u043d\\u0430\\u0437\\u0432\\u0430\\u043d\\u0438\\u0435 \\u0442\\u043e\\u0432\\u0430\\u0440\\u0430=\\u0441\\u0443\\u043c\\u043a\\u0430-\\u0442\\u0435\\u043b\\u0435\\u0436\\u043a\\u0430 2-\\u0445 \\u043a\\u043e\\u043b\\u0435\\u0441\\u043d\\u0430\\u044f gimi argo \\u0441\\u0438\\u043d\\u044f\\u044f<br>\\u041c\\u0435\\u0441\\u044f\\u0446=%{x}<br>\\u0421\\u0435\\u0437\\u043e\\u043d\\u043d\\u043e\\u0441\\u0442\\u044c=%{y}<extra></extra>\",\"legendgroup\":\"\\u0441\\u0443\\u043c\\u043a\\u0430-\\u0442\\u0435\\u043b\\u0435\\u0436\\u043a\\u0430 2-\\u0445 \\u043a\\u043e\\u043b\\u0435\\u0441\\u043d\\u0430\\u044f gimi argo \\u0441\\u0438\\u043d\\u044f\\u044f\",\"line\":{\"color\":\"rgb(204,235,197)\",\"dash\":\"solid\"},\"marker\":{\"symbol\":\"circle\"},\"mode\":\"markers+lines\",\"name\":\"\\u0441\\u0443\\u043c\\u043a\\u0430-\\u0442\\u0435\\u043b\\u0435\\u0436\\u043a\\u0430 2-\\u0445 \\u043a\\u043e\\u043b\\u0435\\u0441\\u043d\\u0430\\u044f gimi argo \\u0441\\u0438\\u043d\\u044f\\u044f\",\"orientation\":\"v\",\"showlegend\":true,\"x\":[\"2018-10\",\"2018-11\",\"2018-12\",\"2019-01\",\"2019-02\",\"2019-03\",\"2019-04\",\"2019-05\",\"2019-06\",\"2019-07\",\"2019-08\",\"2019-09\",\"2019-10\"],\"xaxis\":\"x\",\"y\":[0.09,0.02,0.26,0.02,0.06,0.06,0.09,0.04,0.02,0.04,0.13,0.06,0.11],\"yaxis\":\"y\",\"type\":\"scatter\"},{\"hovertemplate\":\"\\u043d\\u0430\\u0437\\u0432\\u0430\\u043d\\u0438\\u0435 \\u0442\\u043e\\u0432\\u0430\\u0440\\u0430=\\u0441\\u0443\\u043c\\u043a\\u0430-\\u0442\\u0435\\u043b\\u0435\\u0436\\u043a\\u0430 3-\\u0445 \\u043a\\u043e\\u043b\\u0435\\u0441\\u043d\\u0430\\u044f gimi tris floral \\u0441\\u0438\\u043d\\u044f\\u044f<br>\\u041c\\u0435\\u0441\\u044f\\u0446=%{x}<br>\\u0421\\u0435\\u0437\\u043e\\u043d\\u043d\\u043e\\u0441\\u0442\\u044c=%{y}<extra></extra>\",\"legendgroup\":\"\\u0441\\u0443\\u043c\\u043a\\u0430-\\u0442\\u0435\\u043b\\u0435\\u0436\\u043a\\u0430 3-\\u0445 \\u043a\\u043e\\u043b\\u0435\\u0441\\u043d\\u0430\\u044f gimi tris floral \\u0441\\u0438\\u043d\\u044f\\u044f\",\"line\":{\"color\":\"rgb(179,222,105)\",\"dash\":\"solid\"},\"marker\":{\"symbol\":\"circle\"},\"mode\":\"markers+lines\",\"name\":\"\\u0441\\u0443\\u043c\\u043a\\u0430-\\u0442\\u0435\\u043b\\u0435\\u0436\\u043a\\u0430 3-\\u0445 \\u043a\\u043e\\u043b\\u0435\\u0441\\u043d\\u0430\\u044f gimi tris floral \\u0441\\u0438\\u043d\\u044f\\u044f\",\"orientation\":\"v\",\"showlegend\":true,\"x\":[\"2018-10\",\"2018-11\",\"2018-12\",\"2019-01\",\"2019-02\",\"2019-03\",\"2019-04\",\"2019-05\",\"2019-06\",\"2019-07\",\"2019-08\",\"2019-09\",\"2019-10\"],\"xaxis\":\"x\",\"y\":[0.29,0.0,0.0,0.0,0.14,0.0,0.14,0.0,0.0,0.14,0.29,0.0,0.0],\"yaxis\":\"y\",\"type\":\"scatter\"},{\"hovertemplate\":\"\\u043d\\u0430\\u0437\\u0432\\u0430\\u043d\\u0438\\u0435 \\u0442\\u043e\\u0432\\u0430\\u0440\\u0430=\\u0441\\u0443\\u043c\\u043a\\u0430-\\u0442\\u0435\\u043b\\u0435\\u0436\\u043a\\u0430 \\u0445\\u043e\\u0437\\u044f\\u0439\\u0441\\u0442\\u0432\\u0435\\u043d\\u043d\\u0430\\u044f andersen scala shopper plus, lini, \\u0441\\u0438\\u043d\\u044f\\u044f 133-108-90<br>\\u041c\\u0435\\u0441\\u044f\\u0446=%{x}<br>\\u0421\\u0435\\u0437\\u043e\\u043d\\u043d\\u043e\\u0441\\u0442\\u044c=%{y}<extra></extra>\",\"legendgroup\":\"\\u0441\\u0443\\u043c\\u043a\\u0430-\\u0442\\u0435\\u043b\\u0435\\u0436\\u043a\\u0430 \\u0445\\u043e\\u0437\\u044f\\u0439\\u0441\\u0442\\u0432\\u0435\\u043d\\u043d\\u0430\\u044f andersen scala shopper plus, lini, \\u0441\\u0438\\u043d\\u044f\\u044f 133-108-90\",\"line\":{\"color\":\"rgb(255,237,111)\",\"dash\":\"solid\"},\"marker\":{\"symbol\":\"circle\"},\"mode\":\"markers+lines\",\"name\":\"\\u0441\\u0443\\u043c\\u043a\\u0430-\\u0442\\u0435\\u043b\\u0435\\u0436\\u043a\\u0430 \\u0445\\u043e\\u0437\\u044f\\u0439\\u0441\\u0442\\u0432\\u0435\\u043d\\u043d\\u0430\\u044f andersen scala shopper plus, lini, \\u0441\\u0438\\u043d\\u044f\\u044f 133-108-90\",\"orientation\":\"v\",\"showlegend\":true,\"x\":[\"2018-10\",\"2018-11\",\"2018-12\",\"2019-01\",\"2019-02\",\"2019-03\",\"2019-04\",\"2019-05\",\"2019-06\",\"2019-07\",\"2019-08\",\"2019-09\",\"2019-10\"],\"xaxis\":\"x\",\"y\":[0.0,0.2,0.2,0.0,0.2,0.0,0.4,0.0,0.0,0.0,0.0,0.0,0.0],\"yaxis\":\"y\",\"type\":\"scatter\"},{\"hovertemplate\":\"\\u043d\\u0430\\u0437\\u0432\\u0430\\u043d\\u0438\\u0435 \\u0442\\u043e\\u0432\\u0430\\u0440\\u0430=\\u0442\\u0435\\u043b\\u0435\\u0436\\u043a\\u0430 \\u0431\\u0430\\u0433\\u0430\\u0436\\u043d\\u0430\\u044f delta \\u0442\\u0431\\u0440-22 \\u0441\\u0438\\u043d\\u0438\\u0439 \\u0433\\u0440\\u0443\\u0437\\u043e\\u043f\\u043e\\u0434\\u044a\\u0435\\u043c\\u043d\\u043e\\u0441\\u0442\\u044c 20 \\u043a\\u0433 \\u0441\\u0443\\u043c\\u043a\\u0430 \\u0438 50 \\u043a\\u0433 \\u043a\\u0430\\u0440\\u043a\\u0430\\u0441 \\u0440\\u043e\\u0441\\u0441\\u0438\\u044f<br>\\u041c\\u0435\\u0441\\u044f\\u0446=%{x}<br>\\u0421\\u0435\\u0437\\u043e\\u043d\\u043d\\u043e\\u0441\\u0442\\u044c=%{y}<extra></extra>\",\"legendgroup\":\"\\u0442\\u0435\\u043b\\u0435\\u0436\\u043a\\u0430 \\u0431\\u0430\\u0433\\u0430\\u0436\\u043d\\u0430\\u044f delta \\u0442\\u0431\\u0440-22 \\u0441\\u0438\\u043d\\u0438\\u0439 \\u0433\\u0440\\u0443\\u0437\\u043e\\u043f\\u043e\\u0434\\u044a\\u0435\\u043c\\u043d\\u043e\\u0441\\u0442\\u044c 20 \\u043a\\u0433 \\u0441\\u0443\\u043c\\u043a\\u0430 \\u0438 50 \\u043a\\u0433 \\u043a\\u0430\\u0440\\u043a\\u0430\\u0441 \\u0440\\u043e\\u0441\\u0441\\u0438\\u044f\",\"line\":{\"color\":\"rgb(255,255,179)\",\"dash\":\"solid\"},\"marker\":{\"symbol\":\"circle\"},\"mode\":\"markers+lines\",\"name\":\"\\u0442\\u0435\\u043b\\u0435\\u0436\\u043a\\u0430 \\u0431\\u0430\\u0433\\u0430\\u0436\\u043d\\u0430\\u044f delta \\u0442\\u0431\\u0440-22 \\u0441\\u0438\\u043d\\u0438\\u0439 \\u0433\\u0440\\u0443\\u0437\\u043e\\u043f\\u043e\\u0434\\u044a\\u0435\\u043c\\u043d\\u043e\\u0441\\u0442\\u044c 20 \\u043a\\u0433 \\u0441\\u0443\\u043c\\u043a\\u0430 \\u0438 50 \\u043a\\u0433 \\u043a\\u0430\\u0440\\u043a\\u0430\\u0441 \\u0440\\u043e\\u0441\\u0441\\u0438\\u044f\",\"orientation\":\"v\",\"showlegend\":true,\"x\":[\"2018-10\",\"2018-11\",\"2018-12\",\"2019-01\",\"2019-02\",\"2019-03\",\"2019-04\",\"2019-05\",\"2019-06\",\"2019-07\",\"2019-08\",\"2019-09\",\"2019-10\"],\"xaxis\":\"x\",\"y\":[0.02,0.0,0.98,0.0,0.0,0.0,0.0,0.0,0.0,0.0,0.0,0.0,0.0],\"yaxis\":\"y\",\"type\":\"scatter\"},{\"hovertemplate\":\"\\u043d\\u0430\\u0437\\u0432\\u0430\\u043d\\u0438\\u0435 \\u0442\\u043e\\u0432\\u0430\\u0440\\u0430=\\u0443\\u0440\\u043d\\u0430 \\u0443\\u043b\\u0438\\u0447\\u043d\\u0430\\u044f \\\"\\u0433\\u0435\\u043e\\\", hobbyka/\\u0445\\u043e\\u0431\\u0431\\u0438\\u043a\\u0430, 59*37,5\\u0441\\u043c, \\u0441\\u0442\\u0430\\u043b\\u044c<br>\\u041c\\u0435\\u0441\\u044f\\u0446=%{x}<br>\\u0421\\u0435\\u0437\\u043e\\u043d\\u043d\\u043e\\u0441\\u0442\\u044c=%{y}<extra></extra>\",\"legendgroup\":\"\\u0443\\u0440\\u043d\\u0430 \\u0443\\u043b\\u0438\\u0447\\u043d\\u0430\\u044f \\\"\\u0433\\u0435\\u043e\\\", hobbyka/\\u0445\\u043e\\u0431\\u0431\\u0438\\u043a\\u0430, 59*37,5\\u0441\\u043c, \\u0441\\u0442\\u0430\\u043b\\u044c\",\"line\":{\"color\":\"rgb(253,180,98)\",\"dash\":\"solid\"},\"marker\":{\"symbol\":\"circle\"},\"mode\":\"markers+lines\",\"name\":\"\\u0443\\u0440\\u043d\\u0430 \\u0443\\u043b\\u0438\\u0447\\u043d\\u0430\\u044f \\\"\\u0433\\u0435\\u043e\\\", hobbyka/\\u0445\\u043e\\u0431\\u0431\\u0438\\u043a\\u0430, 59*37,5\\u0441\\u043c, \\u0441\\u0442\\u0430\\u043b\\u044c\",\"orientation\":\"v\",\"showlegend\":true,\"x\":[\"2018-10\",\"2018-11\",\"2018-12\",\"2019-01\",\"2019-02\",\"2019-03\",\"2019-04\",\"2019-05\",\"2019-06\",\"2019-07\",\"2019-08\",\"2019-09\",\"2019-10\"],\"xaxis\":\"x\",\"y\":[0.0,1.0,0.0,0.0,0.0,0.0,0.0,0.0,0.0,0.0,0.0,0.0,0.0],\"yaxis\":\"y\",\"type\":\"scatter\"}],                        {\"template\":{\"data\":{\"bar\":[{\"error_x\":{\"color\":\"#2a3f5f\"},\"error_y\":{\"color\":\"#2a3f5f\"},\"marker\":{\"line\":{\"color\":\"#E5ECF6\",\"width\":0.5},\"pattern\":{\"fillmode\":\"overlay\",\"size\":10,\"solidity\":0.2}},\"type\":\"bar\"}],\"barpolar\":[{\"marker\":{\"line\":{\"color\":\"#E5ECF6\",\"width\":0.5},\"pattern\":{\"fillmode\":\"overlay\",\"size\":10,\"solidity\":0.2}},\"type\":\"barpolar\"}],\"carpet\":[{\"aaxis\":{\"endlinecolor\":\"#2a3f5f\",\"gridcolor\":\"white\",\"linecolor\":\"white\",\"minorgridcolor\":\"white\",\"startlinecolor\":\"#2a3f5f\"},\"baxis\":{\"endlinecolor\":\"#2a3f5f\",\"gridcolor\":\"white\",\"linecolor\":\"white\",\"minorgridcolor\":\"white\",\"startlinecolor\":\"#2a3f5f\"},\"type\":\"carpet\"}],\"choropleth\":[{\"colorbar\":{\"outlinewidth\":0,\"ticks\":\"\"},\"type\":\"choropleth\"}],\"contour\":[{\"colorbar\":{\"outlinewidth\":0,\"ticks\":\"\"},\"colorscale\":[[0.0,\"#0d0887\"],[0.1111111111111111,\"#46039f\"],[0.2222222222222222,\"#7201a8\"],[0.3333333333333333,\"#9c179e\"],[0.4444444444444444,\"#bd3786\"],[0.5555555555555556,\"#d8576b\"],[0.6666666666666666,\"#ed7953\"],[0.7777777777777778,\"#fb9f3a\"],[0.8888888888888888,\"#fdca26\"],[1.0,\"#f0f921\"]],\"type\":\"contour\"}],\"contourcarpet\":[{\"colorbar\":{\"outlinewidth\":0,\"ticks\":\"\"},\"type\":\"contourcarpet\"}],\"heatmap\":[{\"colorbar\":{\"outlinewidth\":0,\"ticks\":\"\"},\"colorscale\":[[0.0,\"#0d0887\"],[0.1111111111111111,\"#46039f\"],[0.2222222222222222,\"#7201a8\"],[0.3333333333333333,\"#9c179e\"],[0.4444444444444444,\"#bd3786\"],[0.5555555555555556,\"#d8576b\"],[0.6666666666666666,\"#ed7953\"],[0.7777777777777778,\"#fb9f3a\"],[0.8888888888888888,\"#fdca26\"],[1.0,\"#f0f921\"]],\"type\":\"heatmap\"}],\"heatmapgl\":[{\"colorbar\":{\"outlinewidth\":0,\"ticks\":\"\"},\"colorscale\":[[0.0,\"#0d0887\"],[0.1111111111111111,\"#46039f\"],[0.2222222222222222,\"#7201a8\"],[0.3333333333333333,\"#9c179e\"],[0.4444444444444444,\"#bd3786\"],[0.5555555555555556,\"#d8576b\"],[0.6666666666666666,\"#ed7953\"],[0.7777777777777778,\"#fb9f3a\"],[0.8888888888888888,\"#fdca26\"],[1.0,\"#f0f921\"]],\"type\":\"heatmapgl\"}],\"histogram\":[{\"marker\":{\"pattern\":{\"fillmode\":\"overlay\",\"size\":10,\"solidity\":0.2}},\"type\":\"histogram\"}],\"histogram2d\":[{\"colorbar\":{\"outlinewidth\":0,\"ticks\":\"\"},\"colorscale\":[[0.0,\"#0d0887\"],[0.1111111111111111,\"#46039f\"],[0.2222222222222222,\"#7201a8\"],[0.3333333333333333,\"#9c179e\"],[0.4444444444444444,\"#bd3786\"],[0.5555555555555556,\"#d8576b\"],[0.6666666666666666,\"#ed7953\"],[0.7777777777777778,\"#fb9f3a\"],[0.8888888888888888,\"#fdca26\"],[1.0,\"#f0f921\"]],\"type\":\"histogram2d\"}],\"histogram2dcontour\":[{\"colorbar\":{\"outlinewidth\":0,\"ticks\":\"\"},\"colorscale\":[[0.0,\"#0d0887\"],[0.1111111111111111,\"#46039f\"],[0.2222222222222222,\"#7201a8\"],[0.3333333333333333,\"#9c179e\"],[0.4444444444444444,\"#bd3786\"],[0.5555555555555556,\"#d8576b\"],[0.6666666666666666,\"#ed7953\"],[0.7777777777777778,\"#fb9f3a\"],[0.8888888888888888,\"#fdca26\"],[1.0,\"#f0f921\"]],\"type\":\"histogram2dcontour\"}],\"mesh3d\":[{\"colorbar\":{\"outlinewidth\":0,\"ticks\":\"\"},\"type\":\"mesh3d\"}],\"parcoords\":[{\"line\":{\"colorbar\":{\"outlinewidth\":0,\"ticks\":\"\"}},\"type\":\"parcoords\"}],\"pie\":[{\"automargin\":true,\"type\":\"pie\"}],\"scatter\":[{\"marker\":{\"colorbar\":{\"outlinewidth\":0,\"ticks\":\"\"}},\"type\":\"scatter\"}],\"scatter3d\":[{\"line\":{\"colorbar\":{\"outlinewidth\":0,\"ticks\":\"\"}},\"marker\":{\"colorbar\":{\"outlinewidth\":0,\"ticks\":\"\"}},\"type\":\"scatter3d\"}],\"scattercarpet\":[{\"marker\":{\"colorbar\":{\"outlinewidth\":0,\"ticks\":\"\"}},\"type\":\"scattercarpet\"}],\"scattergeo\":[{\"marker\":{\"colorbar\":{\"outlinewidth\":0,\"ticks\":\"\"}},\"type\":\"scattergeo\"}],\"scattergl\":[{\"marker\":{\"colorbar\":{\"outlinewidth\":0,\"ticks\":\"\"}},\"type\":\"scattergl\"}],\"scattermapbox\":[{\"marker\":{\"colorbar\":{\"outlinewidth\":0,\"ticks\":\"\"}},\"type\":\"scattermapbox\"}],\"scatterpolar\":[{\"marker\":{\"colorbar\":{\"outlinewidth\":0,\"ticks\":\"\"}},\"type\":\"scatterpolar\"}],\"scatterpolargl\":[{\"marker\":{\"colorbar\":{\"outlinewidth\":0,\"ticks\":\"\"}},\"type\":\"scatterpolargl\"}],\"scatterternary\":[{\"marker\":{\"colorbar\":{\"outlinewidth\":0,\"ticks\":\"\"}},\"type\":\"scatterternary\"}],\"surface\":[{\"colorbar\":{\"outlinewidth\":0,\"ticks\":\"\"},\"colorscale\":[[0.0,\"#0d0887\"],[0.1111111111111111,\"#46039f\"],[0.2222222222222222,\"#7201a8\"],[0.3333333333333333,\"#9c179e\"],[0.4444444444444444,\"#bd3786\"],[0.5555555555555556,\"#d8576b\"],[0.6666666666666666,\"#ed7953\"],[0.7777777777777778,\"#fb9f3a\"],[0.8888888888888888,\"#fdca26\"],[1.0,\"#f0f921\"]],\"type\":\"surface\"}],\"table\":[{\"cells\":{\"fill\":{\"color\":\"#EBF0F8\"},\"line\":{\"color\":\"white\"}},\"header\":{\"fill\":{\"color\":\"#C8D4E3\"},\"line\":{\"color\":\"white\"}},\"type\":\"table\"}]},\"layout\":{\"annotationdefaults\":{\"arrowcolor\":\"#2a3f5f\",\"arrowhead\":0,\"arrowwidth\":1},\"autotypenumbers\":\"strict\",\"coloraxis\":{\"colorbar\":{\"outlinewidth\":0,\"ticks\":\"\"}},\"colorscale\":{\"diverging\":[[0,\"#8e0152\"],[0.1,\"#c51b7d\"],[0.2,\"#de77ae\"],[0.3,\"#f1b6da\"],[0.4,\"#fde0ef\"],[0.5,\"#f7f7f7\"],[0.6,\"#e6f5d0\"],[0.7,\"#b8e186\"],[0.8,\"#7fbc41\"],[0.9,\"#4d9221\"],[1,\"#276419\"]],\"sequential\":[[0.0,\"#0d0887\"],[0.1111111111111111,\"#46039f\"],[0.2222222222222222,\"#7201a8\"],[0.3333333333333333,\"#9c179e\"],[0.4444444444444444,\"#bd3786\"],[0.5555555555555556,\"#d8576b\"],[0.6666666666666666,\"#ed7953\"],[0.7777777777777778,\"#fb9f3a\"],[0.8888888888888888,\"#fdca26\"],[1.0,\"#f0f921\"]],\"sequentialminus\":[[0.0,\"#0d0887\"],[0.1111111111111111,\"#46039f\"],[0.2222222222222222,\"#7201a8\"],[0.3333333333333333,\"#9c179e\"],[0.4444444444444444,\"#bd3786\"],[0.5555555555555556,\"#d8576b\"],[0.6666666666666666,\"#ed7953\"],[0.7777777777777778,\"#fb9f3a\"],[0.8888888888888888,\"#fdca26\"],[1.0,\"#f0f921\"]]},\"colorway\":[\"#636efa\",\"#EF553B\",\"#00cc96\",\"#ab63fa\",\"#FFA15A\",\"#19d3f3\",\"#FF6692\",\"#B6E880\",\"#FF97FF\",\"#FECB52\"],\"font\":{\"color\":\"#2a3f5f\"},\"geo\":{\"bgcolor\":\"white\",\"lakecolor\":\"white\",\"landcolor\":\"#E5ECF6\",\"showlakes\":true,\"showland\":true,\"subunitcolor\":\"white\"},\"hoverlabel\":{\"align\":\"left\"},\"hovermode\":\"closest\",\"mapbox\":{\"style\":\"light\"},\"paper_bgcolor\":\"white\",\"plot_bgcolor\":\"#E5ECF6\",\"polar\":{\"angularaxis\":{\"gridcolor\":\"white\",\"linecolor\":\"white\",\"ticks\":\"\"},\"bgcolor\":\"#E5ECF6\",\"radialaxis\":{\"gridcolor\":\"white\",\"linecolor\":\"white\",\"ticks\":\"\"}},\"scene\":{\"xaxis\":{\"backgroundcolor\":\"#E5ECF6\",\"gridcolor\":\"white\",\"gridwidth\":2,\"linecolor\":\"white\",\"showbackground\":true,\"ticks\":\"\",\"zerolinecolor\":\"white\"},\"yaxis\":{\"backgroundcolor\":\"#E5ECF6\",\"gridcolor\":\"white\",\"gridwidth\":2,\"linecolor\":\"white\",\"showbackground\":true,\"ticks\":\"\",\"zerolinecolor\":\"white\"},\"zaxis\":{\"backgroundcolor\":\"#E5ECF6\",\"gridcolor\":\"white\",\"gridwidth\":2,\"linecolor\":\"white\",\"showbackground\":true,\"ticks\":\"\",\"zerolinecolor\":\"white\"}},\"shapedefaults\":{\"line\":{\"color\":\"#2a3f5f\"}},\"ternary\":{\"aaxis\":{\"gridcolor\":\"white\",\"linecolor\":\"white\",\"ticks\":\"\"},\"baxis\":{\"gridcolor\":\"white\",\"linecolor\":\"white\",\"ticks\":\"\"},\"bgcolor\":\"#E5ECF6\",\"caxis\":{\"gridcolor\":\"white\",\"linecolor\":\"white\",\"ticks\":\"\"}},\"title\":{\"x\":0.05},\"xaxis\":{\"automargin\":true,\"gridcolor\":\"white\",\"linecolor\":\"white\",\"ticks\":\"\",\"title\":{\"standoff\":15},\"zerolinecolor\":\"white\",\"zerolinewidth\":2},\"yaxis\":{\"automargin\":true,\"gridcolor\":\"white\",\"linecolor\":\"white\",\"ticks\":\"\",\"title\":{\"standoff\":15},\"zerolinecolor\":\"white\",\"zerolinewidth\":2}}},\"xaxis\":{\"anchor\":\"y\",\"domain\":[0.0,1.0],\"title\":{\"text\":\"\\u041c\\u0435\\u0441\\u044f\\u0446\"},\"tickangle\":-45,\"type\":\"category\"},\"yaxis\":{\"anchor\":\"x\",\"domain\":[0.0,1.0],\"title\":{\"text\":\"\\u0421\\u0435\\u0437\\u043e\\u043d\\u043d\\u043e\\u0441\\u0442\\u044c\"}},\"legend\":{\"title\":{\"text\":\"\\u043d\\u0430\\u0437\\u0432\\u0430\\u043d\\u0438\\u0435 \\u0442\\u043e\\u0432\\u0430\\u0440\\u0430\"},\"tracegroupgap\":0,\"orientation\":\"h\",\"x\":0.1,\"y\":-0.3},\"margin\":{\"t\":60},\"title\":{\"x\":0.5,\"text\":\"\\u0421\\u0435\\u0437\\u043e\\u043d\\u043d\\u043e\\u0441\\u0442\\u044c \\u0442\\u043e\\u043f-10 \\u043f\\u0440\\u0438\\u0431\\u044b\\u043b\\u044c\\u043d\\u044b\\u0445 \\u0442\\u043e\\u0432\\u0430\\u0440\\u043e\\u0432 \\u043f\\u043e \\u043c\\u0435\\u0441\\u044f\\u0446\\u0430\\u043c\"},\"autosize\":false,\"width\":980,\"height\":700},                        {\"responsive\": true}                    ).then(function(){\n",
       "                            \n",
       "var gd = document.getElementById('51da0b20-091c-464f-a520-6e6799377f23');\n",
       "var x = new MutationObserver(function (mutations, observer) {{\n",
       "        var display = window.getComputedStyle(gd).display;\n",
       "        if (!display || display === 'none') {{\n",
       "            console.log([gd, 'removed!']);\n",
       "            Plotly.purge(gd);\n",
       "            observer.disconnect();\n",
       "        }}\n",
       "}});\n",
       "\n",
       "// Listen for the removal of the full notebook cells\n",
       "var notebookContainer = gd.closest('#notebook-container');\n",
       "if (notebookContainer) {{\n",
       "    x.observe(notebookContainer, {childList: true});\n",
       "}}\n",
       "\n",
       "// Listen for the clearing of the current output cell\n",
       "var outputEl = gd.closest('.output');\n",
       "if (outputEl) {{\n",
       "    x.observe(outputEl, {childList: true});\n",
       "}}\n",
       "\n",
       "                        })                };                });            </script>        </div>"
      ]
     },
     "metadata": {},
     "output_type": "display_data"
    }
   ],
   "source": [
    "# график сезонности продаж топ-10 товаров\n",
    "season = seasonality[pd.Series((v for v in seasonality.columns[:-1]))].T\n",
    "fig = px.line(season,\n",
    "              markers=True,\n",
    "              labels={'value': 'Сезонность', 'month': 'Месяц', 'product': 'название товара'},\n",
    "              color_discrete_sequence=[px.colors.qualitative.Set3[9], px.colors.qualitative.Set3[2], \\\n",
    "                                     px.colors.qualitative.Set2[2], px.colors.qualitative.Set3[4], \\\n",
    "                                     px.colors.qualitative.Set3[0], px.colors.qualitative.Set3[10], \\\n",
    "                                     px.colors.qualitative.Set3[6], px.colors.qualitative.Set3[11], \\\n",
    "                                     px.colors.qualitative.Set3[1], px.colors.qualitative.Set3[5], \\\n",
    "                                     px.colors.qualitative.Set3[3], px.colors.qualitative.Set2[3]])\n",
    "fig.update_layout(title_x = 0.5, xaxis_tickangle=-45)\n",
    "fig.update_xaxes(type='category'),\n",
    "fig.update_layout(autosize=False,\n",
    "                  width=980,\n",
    "                  height=700,\n",
    "                  legend_orientation='h', \n",
    "                  legend=dict(x=.1, y=-.3),\n",
    "                  title_text='Сезонность топ-10 прибыльных товаров по месяцам'\n",
    "                  )\n",
    "fig.show()"
   ]
  },
  {
   "cell_type": "code",
   "execution_count": 42,
   "id": "c713d4da",
   "metadata": {},
   "outputs": [
    {
     "data": {
      "text/html": [
       "<div>\n",
       "<style scoped>\n",
       "    .dataframe tbody tr th:only-of-type {\n",
       "        vertical-align: middle;\n",
       "    }\n",
       "\n",
       "    .dataframe tbody tr th {\n",
       "        vertical-align: top;\n",
       "    }\n",
       "\n",
       "    .dataframe thead th {\n",
       "        text-align: right;\n",
       "    }\n",
       "</style>\n",
       "<table border=\"1\" class=\"dataframe\">\n",
       "  <thead>\n",
       "    <tr style=\"text-align: right;\">\n",
       "      <th></th>\n",
       "      <th>date</th>\n",
       "      <th>month</th>\n",
       "      <th>customer_id</th>\n",
       "      <th>order_id</th>\n",
       "      <th>product</th>\n",
       "      <th>quantity</th>\n",
       "      <th>price</th>\n",
       "      <th>cost</th>\n",
       "      <th>products_category</th>\n",
       "    </tr>\n",
       "  </thead>\n",
       "  <tbody>\n",
       "    <tr>\n",
       "      <th>3706</th>\n",
       "      <td>2019-06-11</td>\n",
       "      <td>2019-06</td>\n",
       "      <td>146cd9bf-a95c-4afb-915b-5f6684b17444</td>\n",
       "      <td>71668</td>\n",
       "      <td>вешалки мягкие для деликатных вещей 3 шт шоколад</td>\n",
       "      <td>334</td>\n",
       "      <td>148.0</td>\n",
       "      <td>49432.0</td>\n",
       "      <td>Хозтовары</td>\n",
       "    </tr>\n",
       "    <tr>\n",
       "      <th>3605</th>\n",
       "      <td>2019-06-04</td>\n",
       "      <td>2019-06</td>\n",
       "      <td>940c175f-ea87-44e0-9e16-0a3d0a9abecd</td>\n",
       "      <td>71598</td>\n",
       "      <td>скатерть круглая d-175 см 50% полиэстер 50% хлопок белая wellness mld-187-эстель*01</td>\n",
       "      <td>10</td>\n",
       "      <td>1140.0</td>\n",
       "      <td>11400.0</td>\n",
       "      <td>Декор и текстиль</td>\n",
       "    </tr>\n",
       "  </tbody>\n",
       "</table>\n",
       "</div>"
      ],
      "text/plain": [
       "            date    month                           customer_id  order_id  \\\n",
       "3706  2019-06-11  2019-06  146cd9bf-a95c-4afb-915b-5f6684b17444     71668   \n",
       "3605  2019-06-04  2019-06  940c175f-ea87-44e0-9e16-0a3d0a9abecd     71598   \n",
       "\n",
       "                                                                                  product  \\\n",
       "3706                                     вешалки мягкие для деликатных вещей 3 шт шоколад   \n",
       "3605  скатерть круглая d-175 см 50% полиэстер 50% хлопок белая wellness mld-187-эстель*01   \n",
       "\n",
       "      quantity   price     cost products_category  \n",
       "3706       334   148.0  49432.0         Хозтовары  \n",
       "3605        10  1140.0  11400.0  Декор и текстиль  "
      ]
     },
     "execution_count": 42,
     "metadata": {},
     "output_type": "execute_result"
    }
   ],
   "source": [
    "'''\n",
    "наглядное доказательство того, что в июне выручка от товара \"вешалки мягкие для деликатных вещей 3 шт шоколад\" значительно выше, \n",
    "чем от остальных товаров\n",
    "'''\n",
    "orders.query('month == \"2019-06\"').sort_values(by='cost', ascending=False).head(2)"
   ]
  },
  {
   "cell_type": "markdown",
   "id": "78a2184f",
   "metadata": {},
   "source": [
    "По графику видно, что 4 из 10 товаров имеют сезонность 1 в один из месяцев, это означает, что они были куплены всего один раз. А это в свою очередь означает, что в месяц покупки они формировали от 5 до 30% процентов выручки. \n",
    "\n",
    "Так произошло, например, с июнем, в нем выручка от одного заказа с товаром \"вешалки мягкие для деликатных вещей 3 шт шоколад\" составила 22% от общей и значительно повлияла на расчет среднего чека за этот месяц (за счет того, что один заказ составил большую стоимость, как и предполагалось ранее).\n",
    "\n",
    "У остальных же товаров можно наблюдать динамику спроса помесячно, которая объясняется с точки зрения жизненного опыта. Например, сумки-тележки имеют больший спрос в преддверии и в конце огородного сезона. Муляжи скорей всего закупил какой-нибудь предприниматель для украшения заведения. Далее в отдельности рассмотрим оптовых и розничных покупателей для лучшей интерпретации сезонности."
   ]
  },
  {
   "cell_type": "markdown",
   "id": "bc8bb49b",
   "metadata": {},
   "source": [
    "<a id='p4s5'></a>\n",
    "#### Расчет сезонности для категорий товаров"
   ]
  },
  {
   "cell_type": "code",
   "execution_count": 28,
   "id": "d4839764",
   "metadata": {},
   "outputs": [
    {
     "data": {
      "text/html": [
       "<div>\n",
       "<style scoped>\n",
       "    .dataframe tbody tr th:only-of-type {\n",
       "        vertical-align: middle;\n",
       "    }\n",
       "\n",
       "    .dataframe tbody tr th {\n",
       "        vertical-align: top;\n",
       "    }\n",
       "\n",
       "    .dataframe thead th {\n",
       "        text-align: right;\n",
       "    }\n",
       "</style>\n",
       "<table border=\"1\" class=\"dataframe\">\n",
       "  <thead>\n",
       "    <tr style=\"text-align: right;\">\n",
       "      <th></th>\n",
       "      <th>Название категории</th>\n",
       "      <th>Прибыль за весь период</th>\n",
       "      <th>Продано за весь период, шт</th>\n",
       "    </tr>\n",
       "  </thead>\n",
       "  <tbody>\n",
       "    <tr>\n",
       "      <th>4</th>\n",
       "      <td>Хозтовары</td>\n",
       "      <td>2293353.0</td>\n",
       "      <td>4400</td>\n",
       "    </tr>\n",
       "    <tr>\n",
       "      <th>3</th>\n",
       "      <td>Стройматериалы и бытовая техника</td>\n",
       "      <td>576430.0</td>\n",
       "      <td>1510</td>\n",
       "    </tr>\n",
       "    <tr>\n",
       "      <th>0</th>\n",
       "      <td>Декор и текстиль</td>\n",
       "      <td>520645.0</td>\n",
       "      <td>2387</td>\n",
       "    </tr>\n",
       "    <tr>\n",
       "      <th>2</th>\n",
       "      <td>Растения и рассада</td>\n",
       "      <td>498417.0</td>\n",
       "      <td>4013</td>\n",
       "    </tr>\n",
       "    <tr>\n",
       "      <th>1</th>\n",
       "      <td>Кухонные принадлежности</td>\n",
       "      <td>194227.0</td>\n",
       "      <td>1116</td>\n",
       "    </tr>\n",
       "  </tbody>\n",
       "</table>\n",
       "</div>"
      ],
      "text/plain": [
       "                 Название категории  Прибыль за весь период  \\\n",
       "4                         Хозтовары               2293353.0   \n",
       "3  Стройматериалы и бытовая техника                576430.0   \n",
       "0                  Декор и текстиль                520645.0   \n",
       "2                Растения и рассада                498417.0   \n",
       "1           Кухонные принадлежности                194227.0   \n",
       "\n",
       "   Продано за весь период, шт  \n",
       "4                        4400  \n",
       "3                        1510  \n",
       "0                        2387  \n",
       "2                        4013  \n",
       "1                        1116  "
      ]
     },
     "execution_count": 28,
     "metadata": {},
     "output_type": "execute_result"
    }
   ],
   "source": [
    "# таблица с прибылью и количеством проданных товаров всех категорий товаров\n",
    "cat = orders.pivot_table(index='products_category', values=['cost', 'quantity'], aggfunc={'cost': 'sum', 'quantity': 'sum'}) \\\n",
    "               .reset_index().sort_values(by=['cost', 'quantity'], ascending=False) \\\n",
    "               .rename(columns={'products_category': 'Название категории', \\\n",
    "                                'cost': 'Прибыль за весь период', \\\n",
    "                                'quantity': 'Продано за весь период, шт'})\n",
    "cat"
   ]
  },
  {
   "cell_type": "code",
   "execution_count": 29,
   "id": "fbb75869",
   "metadata": {},
   "outputs": [
    {
     "data": {
      "text/html": [
       "<div>\n",
       "<style scoped>\n",
       "    .dataframe tbody tr th:only-of-type {\n",
       "        vertical-align: middle;\n",
       "    }\n",
       "\n",
       "    .dataframe tbody tr th {\n",
       "        vertical-align: top;\n",
       "    }\n",
       "\n",
       "    .dataframe thead th {\n",
       "        text-align: right;\n",
       "    }\n",
       "</style>\n",
       "<table border=\"1\" class=\"dataframe\">\n",
       "  <thead>\n",
       "    <tr style=\"text-align: right;\">\n",
       "      <th>month</th>\n",
       "      <th>2018-10</th>\n",
       "      <th>2018-11</th>\n",
       "      <th>2018-12</th>\n",
       "      <th>2019-01</th>\n",
       "      <th>2019-02</th>\n",
       "      <th>2019-03</th>\n",
       "      <th>2019-04</th>\n",
       "      <th>2019-05</th>\n",
       "      <th>2019-06</th>\n",
       "      <th>2019-07</th>\n",
       "      <th>2019-08</th>\n",
       "      <th>2019-09</th>\n",
       "      <th>2019-10</th>\n",
       "    </tr>\n",
       "    <tr>\n",
       "      <th>products_category</th>\n",
       "      <th></th>\n",
       "      <th></th>\n",
       "      <th></th>\n",
       "      <th></th>\n",
       "      <th></th>\n",
       "      <th></th>\n",
       "      <th></th>\n",
       "      <th></th>\n",
       "      <th></th>\n",
       "      <th></th>\n",
       "      <th></th>\n",
       "      <th></th>\n",
       "      <th></th>\n",
       "    </tr>\n",
       "  </thead>\n",
       "  <tbody>\n",
       "    <tr>\n",
       "      <th>Декор и текстиль</th>\n",
       "      <td>0.09</td>\n",
       "      <td>0.20</td>\n",
       "      <td>0.05</td>\n",
       "      <td>0.04</td>\n",
       "      <td>0.10</td>\n",
       "      <td>0.07</td>\n",
       "      <td>0.06</td>\n",
       "      <td>0.14</td>\n",
       "      <td>0.06</td>\n",
       "      <td>0.05</td>\n",
       "      <td>0.02</td>\n",
       "      <td>0.02</td>\n",
       "      <td>0.08</td>\n",
       "    </tr>\n",
       "    <tr>\n",
       "      <th>Кухонные принадлежности</th>\n",
       "      <td>0.08</td>\n",
       "      <td>0.16</td>\n",
       "      <td>0.14</td>\n",
       "      <td>0.07</td>\n",
       "      <td>0.10</td>\n",
       "      <td>0.05</td>\n",
       "      <td>0.11</td>\n",
       "      <td>0.03</td>\n",
       "      <td>0.02</td>\n",
       "      <td>0.02</td>\n",
       "      <td>0.02</td>\n",
       "      <td>0.16</td>\n",
       "      <td>0.03</td>\n",
       "    </tr>\n",
       "    <tr>\n",
       "      <th>Растения и рассада</th>\n",
       "      <td>0.05</td>\n",
       "      <td>0.04</td>\n",
       "      <td>0.03</td>\n",
       "      <td>0.04</td>\n",
       "      <td>0.07</td>\n",
       "      <td>0.11</td>\n",
       "      <td>0.23</td>\n",
       "      <td>0.23</td>\n",
       "      <td>0.06</td>\n",
       "      <td>0.06</td>\n",
       "      <td>0.03</td>\n",
       "      <td>0.03</td>\n",
       "      <td>0.03</td>\n",
       "    </tr>\n",
       "    <tr>\n",
       "      <th>Стройматериалы и бытовая техника</th>\n",
       "      <td>0.34</td>\n",
       "      <td>0.10</td>\n",
       "      <td>0.16</td>\n",
       "      <td>0.02</td>\n",
       "      <td>0.04</td>\n",
       "      <td>0.03</td>\n",
       "      <td>0.02</td>\n",
       "      <td>0.01</td>\n",
       "      <td>0.04</td>\n",
       "      <td>0.02</td>\n",
       "      <td>0.02</td>\n",
       "      <td>0.03</td>\n",
       "      <td>0.17</td>\n",
       "    </tr>\n",
       "    <tr>\n",
       "      <th>Хозтовары</th>\n",
       "      <td>0.12</td>\n",
       "      <td>0.06</td>\n",
       "      <td>0.09</td>\n",
       "      <td>0.06</td>\n",
       "      <td>0.05</td>\n",
       "      <td>0.07</td>\n",
       "      <td>0.05</td>\n",
       "      <td>0.05</td>\n",
       "      <td>0.33</td>\n",
       "      <td>0.03</td>\n",
       "      <td>0.03</td>\n",
       "      <td>0.02</td>\n",
       "      <td>0.04</td>\n",
       "    </tr>\n",
       "  </tbody>\n",
       "</table>\n",
       "</div>"
      ],
      "text/plain": [
       "month                             2018-10  2018-11  2018-12  2019-01  2019-02  \\\n",
       "products_category                                                               \n",
       "Декор и текстиль                     0.09     0.20     0.05     0.04     0.10   \n",
       "Кухонные принадлежности              0.08     0.16     0.14     0.07     0.10   \n",
       "Растения и рассада                   0.05     0.04     0.03     0.04     0.07   \n",
       "Стройматериалы и бытовая техника     0.34     0.10     0.16     0.02     0.04   \n",
       "Хозтовары                            0.12     0.06     0.09     0.06     0.05   \n",
       "\n",
       "month                             2019-03  2019-04  2019-05  2019-06  2019-07  \\\n",
       "products_category                                                               \n",
       "Декор и текстиль                     0.07     0.06     0.14     0.06     0.05   \n",
       "Кухонные принадлежности              0.05     0.11     0.03     0.02     0.02   \n",
       "Растения и рассада                   0.11     0.23     0.23     0.06     0.06   \n",
       "Стройматериалы и бытовая техника     0.03     0.02     0.01     0.04     0.02   \n",
       "Хозтовары                            0.07     0.05     0.05     0.33     0.03   \n",
       "\n",
       "month                             2019-08  2019-09  2019-10  \n",
       "products_category                                            \n",
       "Декор и текстиль                     0.02     0.02     0.08  \n",
       "Кухонные принадлежности              0.02     0.16     0.03  \n",
       "Растения и рассада                   0.03     0.03     0.03  \n",
       "Стройматериалы и бытовая техника     0.02     0.03     0.17  \n",
       "Хозтовары                            0.03     0.02     0.04  "
      ]
     },
     "execution_count": 29,
     "metadata": {},
     "output_type": "execute_result"
    }
   ],
   "source": [
    "# сезонность категорий товаров\n",
    "ca = cat['Название категории'].to_list()\n",
    "\n",
    "# сводная таблица для расчета сезонности продаж товаров разных категорий\n",
    "seasonality = orders.query('products_category in @ca') \\\n",
    "                    .pivot_table(index='products_category', columns='month', \\\n",
    "                                 values='quantity', aggfunc='sum', \\\n",
    "                                 fill_value=0, margins=True, margins_name='Количество продаж за весь период')\n",
    "\n",
    "for mon in seasonality.columns:   \n",
    "    seasonality[mon] = round(seasonality[mon]/seasonality['Количество продаж за весь период'], 2)\n",
    "    \n",
    "seasonality=seasonality.query('products_category in @ca').T[:-1].T\n",
    "seasonality"
   ]
  },
  {
   "cell_type": "code",
   "execution_count": 30,
   "id": "54142944",
   "metadata": {},
   "outputs": [
    {
     "data": {
      "application/vnd.plotly.v1+json": {
       "config": {
        "plotlyServerURL": "https://plot.ly"
       },
       "data": [
        {
         "hovertemplate": "название категории=Декор и текстиль<br>Месяц=%{x}<br>Сезонность=%{y}<extra></extra>",
         "legendgroup": "Декор и текстиль",
         "line": {
          "color": "rgb(255,255,179)",
          "dash": "solid"
         },
         "marker": {
          "symbol": "circle"
         },
         "mode": "markers+lines",
         "name": "Декор и текстиль",
         "orientation": "v",
         "showlegend": true,
         "type": "scatter",
         "x": [
          "2018-10",
          "2018-11",
          "2018-12",
          "2019-01",
          "2019-02",
          "2019-03",
          "2019-04",
          "2019-05",
          "2019-06",
          "2019-07",
          "2019-08",
          "2019-09"
         ],
         "xaxis": "x",
         "y": [
          0.09,
          0.2,
          0.05,
          0.04,
          0.1,
          0.07,
          0.06,
          0.14,
          0.06,
          0.05,
          0.02,
          0.02
         ],
         "yaxis": "y"
        },
        {
         "hovertemplate": "название категории=Кухонные принадлежности<br>Месяц=%{x}<br>Сезонность=%{y}<extra></extra>",
         "legendgroup": "Кухонные принадлежности",
         "line": {
          "color": "rgb(179,222,105)",
          "dash": "solid"
         },
         "marker": {
          "symbol": "circle"
         },
         "mode": "markers+lines",
         "name": "Кухонные принадлежности",
         "orientation": "v",
         "showlegend": true,
         "type": "scatter",
         "x": [
          "2018-10",
          "2018-11",
          "2018-12",
          "2019-01",
          "2019-02",
          "2019-03",
          "2019-04",
          "2019-05",
          "2019-06",
          "2019-07",
          "2019-08",
          "2019-09"
         ],
         "xaxis": "x",
         "y": [
          0.08,
          0.16,
          0.14,
          0.07,
          0.1,
          0.05,
          0.11,
          0.03,
          0.02,
          0.02,
          0.02,
          0.16
         ],
         "yaxis": "y"
        },
        {
         "hovertemplate": "название категории=Растения и рассада<br>Месяц=%{x}<br>Сезонность=%{y}<extra></extra>",
         "legendgroup": "Растения и рассада",
         "line": {
          "color": "rgb(141,160,203)",
          "dash": "solid"
         },
         "marker": {
          "symbol": "circle"
         },
         "mode": "markers+lines",
         "name": "Растения и рассада",
         "orientation": "v",
         "showlegend": true,
         "type": "scatter",
         "x": [
          "2018-10",
          "2018-11",
          "2018-12",
          "2019-01",
          "2019-02",
          "2019-03",
          "2019-04",
          "2019-05",
          "2019-06",
          "2019-07",
          "2019-08",
          "2019-09"
         ],
         "xaxis": "x",
         "y": [
          0.05,
          0.04,
          0.03,
          0.04,
          0.07,
          0.11,
          0.23,
          0.23,
          0.06,
          0.06,
          0.03,
          0.03
         ],
         "yaxis": "y"
        },
        {
         "hovertemplate": "название категории=Стройматериалы и бытовая техника<br>Месяц=%{x}<br>Сезонность=%{y}<extra></extra>",
         "legendgroup": "Стройматериалы и бытовая техника",
         "line": {
          "color": "rgb(128,177,211)",
          "dash": "solid"
         },
         "marker": {
          "symbol": "circle"
         },
         "mode": "markers+lines",
         "name": "Стройматериалы и бытовая техника",
         "orientation": "v",
         "showlegend": true,
         "type": "scatter",
         "x": [
          "2018-10",
          "2018-11",
          "2018-12",
          "2019-01",
          "2019-02",
          "2019-03",
          "2019-04",
          "2019-05",
          "2019-06",
          "2019-07",
          "2019-08",
          "2019-09"
         ],
         "xaxis": "x",
         "y": [
          0.34,
          0.1,
          0.16,
          0.02,
          0.04,
          0.03,
          0.02,
          0.01,
          0.04,
          0.02,
          0.02,
          0.03
         ],
         "yaxis": "y"
        },
        {
         "hovertemplate": "название категории=Хозтовары<br>Месяц=%{x}<br>Сезонность=%{y}<extra></extra>",
         "legendgroup": "Хозтовары",
         "line": {
          "color": "rgb(141,211,199)",
          "dash": "solid"
         },
         "marker": {
          "symbol": "circle"
         },
         "mode": "markers+lines",
         "name": "Хозтовары",
         "orientation": "v",
         "showlegend": true,
         "type": "scatter",
         "x": [
          "2018-10",
          "2018-11",
          "2018-12",
          "2019-01",
          "2019-02",
          "2019-03",
          "2019-04",
          "2019-05",
          "2019-06",
          "2019-07",
          "2019-08",
          "2019-09"
         ],
         "xaxis": "x",
         "y": [
          0.12,
          0.06,
          0.09,
          0.06,
          0.05,
          0.07,
          0.05,
          0.05,
          0.33,
          0.03,
          0.03,
          0.02
         ],
         "yaxis": "y"
        }
       ],
       "layout": {
        "autosize": false,
        "height": 700,
        "legend": {
         "orientation": "h",
         "title": {
          "text": "название категории"
         },
         "tracegroupgap": 0,
         "x": 0.1,
         "y": -0.2
        },
        "margin": {
         "t": 60
        },
        "template": {
         "data": {
          "bar": [
           {
            "error_x": {
             "color": "#2a3f5f"
            },
            "error_y": {
             "color": "#2a3f5f"
            },
            "marker": {
             "line": {
              "color": "#E5ECF6",
              "width": 0.5
             },
             "pattern": {
              "fillmode": "overlay",
              "size": 10,
              "solidity": 0.2
             }
            },
            "type": "bar"
           }
          ],
          "barpolar": [
           {
            "marker": {
             "line": {
              "color": "#E5ECF6",
              "width": 0.5
             },
             "pattern": {
              "fillmode": "overlay",
              "size": 10,
              "solidity": 0.2
             }
            },
            "type": "barpolar"
           }
          ],
          "carpet": [
           {
            "aaxis": {
             "endlinecolor": "#2a3f5f",
             "gridcolor": "white",
             "linecolor": "white",
             "minorgridcolor": "white",
             "startlinecolor": "#2a3f5f"
            },
            "baxis": {
             "endlinecolor": "#2a3f5f",
             "gridcolor": "white",
             "linecolor": "white",
             "minorgridcolor": "white",
             "startlinecolor": "#2a3f5f"
            },
            "type": "carpet"
           }
          ],
          "choropleth": [
           {
            "colorbar": {
             "outlinewidth": 0,
             "ticks": ""
            },
            "type": "choropleth"
           }
          ],
          "contour": [
           {
            "colorbar": {
             "outlinewidth": 0,
             "ticks": ""
            },
            "colorscale": [
             [
              0,
              "#0d0887"
             ],
             [
              0.1111111111111111,
              "#46039f"
             ],
             [
              0.2222222222222222,
              "#7201a8"
             ],
             [
              0.3333333333333333,
              "#9c179e"
             ],
             [
              0.4444444444444444,
              "#bd3786"
             ],
             [
              0.5555555555555556,
              "#d8576b"
             ],
             [
              0.6666666666666666,
              "#ed7953"
             ],
             [
              0.7777777777777778,
              "#fb9f3a"
             ],
             [
              0.8888888888888888,
              "#fdca26"
             ],
             [
              1,
              "#f0f921"
             ]
            ],
            "type": "contour"
           }
          ],
          "contourcarpet": [
           {
            "colorbar": {
             "outlinewidth": 0,
             "ticks": ""
            },
            "type": "contourcarpet"
           }
          ],
          "heatmap": [
           {
            "colorbar": {
             "outlinewidth": 0,
             "ticks": ""
            },
            "colorscale": [
             [
              0,
              "#0d0887"
             ],
             [
              0.1111111111111111,
              "#46039f"
             ],
             [
              0.2222222222222222,
              "#7201a8"
             ],
             [
              0.3333333333333333,
              "#9c179e"
             ],
             [
              0.4444444444444444,
              "#bd3786"
             ],
             [
              0.5555555555555556,
              "#d8576b"
             ],
             [
              0.6666666666666666,
              "#ed7953"
             ],
             [
              0.7777777777777778,
              "#fb9f3a"
             ],
             [
              0.8888888888888888,
              "#fdca26"
             ],
             [
              1,
              "#f0f921"
             ]
            ],
            "type": "heatmap"
           }
          ],
          "heatmapgl": [
           {
            "colorbar": {
             "outlinewidth": 0,
             "ticks": ""
            },
            "colorscale": [
             [
              0,
              "#0d0887"
             ],
             [
              0.1111111111111111,
              "#46039f"
             ],
             [
              0.2222222222222222,
              "#7201a8"
             ],
             [
              0.3333333333333333,
              "#9c179e"
             ],
             [
              0.4444444444444444,
              "#bd3786"
             ],
             [
              0.5555555555555556,
              "#d8576b"
             ],
             [
              0.6666666666666666,
              "#ed7953"
             ],
             [
              0.7777777777777778,
              "#fb9f3a"
             ],
             [
              0.8888888888888888,
              "#fdca26"
             ],
             [
              1,
              "#f0f921"
             ]
            ],
            "type": "heatmapgl"
           }
          ],
          "histogram": [
           {
            "marker": {
             "pattern": {
              "fillmode": "overlay",
              "size": 10,
              "solidity": 0.2
             }
            },
            "type": "histogram"
           }
          ],
          "histogram2d": [
           {
            "colorbar": {
             "outlinewidth": 0,
             "ticks": ""
            },
            "colorscale": [
             [
              0,
              "#0d0887"
             ],
             [
              0.1111111111111111,
              "#46039f"
             ],
             [
              0.2222222222222222,
              "#7201a8"
             ],
             [
              0.3333333333333333,
              "#9c179e"
             ],
             [
              0.4444444444444444,
              "#bd3786"
             ],
             [
              0.5555555555555556,
              "#d8576b"
             ],
             [
              0.6666666666666666,
              "#ed7953"
             ],
             [
              0.7777777777777778,
              "#fb9f3a"
             ],
             [
              0.8888888888888888,
              "#fdca26"
             ],
             [
              1,
              "#f0f921"
             ]
            ],
            "type": "histogram2d"
           }
          ],
          "histogram2dcontour": [
           {
            "colorbar": {
             "outlinewidth": 0,
             "ticks": ""
            },
            "colorscale": [
             [
              0,
              "#0d0887"
             ],
             [
              0.1111111111111111,
              "#46039f"
             ],
             [
              0.2222222222222222,
              "#7201a8"
             ],
             [
              0.3333333333333333,
              "#9c179e"
             ],
             [
              0.4444444444444444,
              "#bd3786"
             ],
             [
              0.5555555555555556,
              "#d8576b"
             ],
             [
              0.6666666666666666,
              "#ed7953"
             ],
             [
              0.7777777777777778,
              "#fb9f3a"
             ],
             [
              0.8888888888888888,
              "#fdca26"
             ],
             [
              1,
              "#f0f921"
             ]
            ],
            "type": "histogram2dcontour"
           }
          ],
          "mesh3d": [
           {
            "colorbar": {
             "outlinewidth": 0,
             "ticks": ""
            },
            "type": "mesh3d"
           }
          ],
          "parcoords": [
           {
            "line": {
             "colorbar": {
              "outlinewidth": 0,
              "ticks": ""
             }
            },
            "type": "parcoords"
           }
          ],
          "pie": [
           {
            "automargin": true,
            "type": "pie"
           }
          ],
          "scatter": [
           {
            "marker": {
             "colorbar": {
              "outlinewidth": 0,
              "ticks": ""
             }
            },
            "type": "scatter"
           }
          ],
          "scatter3d": [
           {
            "line": {
             "colorbar": {
              "outlinewidth": 0,
              "ticks": ""
             }
            },
            "marker": {
             "colorbar": {
              "outlinewidth": 0,
              "ticks": ""
             }
            },
            "type": "scatter3d"
           }
          ],
          "scattercarpet": [
           {
            "marker": {
             "colorbar": {
              "outlinewidth": 0,
              "ticks": ""
             }
            },
            "type": "scattercarpet"
           }
          ],
          "scattergeo": [
           {
            "marker": {
             "colorbar": {
              "outlinewidth": 0,
              "ticks": ""
             }
            },
            "type": "scattergeo"
           }
          ],
          "scattergl": [
           {
            "marker": {
             "colorbar": {
              "outlinewidth": 0,
              "ticks": ""
             }
            },
            "type": "scattergl"
           }
          ],
          "scattermapbox": [
           {
            "marker": {
             "colorbar": {
              "outlinewidth": 0,
              "ticks": ""
             }
            },
            "type": "scattermapbox"
           }
          ],
          "scatterpolar": [
           {
            "marker": {
             "colorbar": {
              "outlinewidth": 0,
              "ticks": ""
             }
            },
            "type": "scatterpolar"
           }
          ],
          "scatterpolargl": [
           {
            "marker": {
             "colorbar": {
              "outlinewidth": 0,
              "ticks": ""
             }
            },
            "type": "scatterpolargl"
           }
          ],
          "scatterternary": [
           {
            "marker": {
             "colorbar": {
              "outlinewidth": 0,
              "ticks": ""
             }
            },
            "type": "scatterternary"
           }
          ],
          "surface": [
           {
            "colorbar": {
             "outlinewidth": 0,
             "ticks": ""
            },
            "colorscale": [
             [
              0,
              "#0d0887"
             ],
             [
              0.1111111111111111,
              "#46039f"
             ],
             [
              0.2222222222222222,
              "#7201a8"
             ],
             [
              0.3333333333333333,
              "#9c179e"
             ],
             [
              0.4444444444444444,
              "#bd3786"
             ],
             [
              0.5555555555555556,
              "#d8576b"
             ],
             [
              0.6666666666666666,
              "#ed7953"
             ],
             [
              0.7777777777777778,
              "#fb9f3a"
             ],
             [
              0.8888888888888888,
              "#fdca26"
             ],
             [
              1,
              "#f0f921"
             ]
            ],
            "type": "surface"
           }
          ],
          "table": [
           {
            "cells": {
             "fill": {
              "color": "#EBF0F8"
             },
             "line": {
              "color": "white"
             }
            },
            "header": {
             "fill": {
              "color": "#C8D4E3"
             },
             "line": {
              "color": "white"
             }
            },
            "type": "table"
           }
          ]
         },
         "layout": {
          "annotationdefaults": {
           "arrowcolor": "#2a3f5f",
           "arrowhead": 0,
           "arrowwidth": 1
          },
          "autotypenumbers": "strict",
          "coloraxis": {
           "colorbar": {
            "outlinewidth": 0,
            "ticks": ""
           }
          },
          "colorscale": {
           "diverging": [
            [
             0,
             "#8e0152"
            ],
            [
             0.1,
             "#c51b7d"
            ],
            [
             0.2,
             "#de77ae"
            ],
            [
             0.3,
             "#f1b6da"
            ],
            [
             0.4,
             "#fde0ef"
            ],
            [
             0.5,
             "#f7f7f7"
            ],
            [
             0.6,
             "#e6f5d0"
            ],
            [
             0.7,
             "#b8e186"
            ],
            [
             0.8,
             "#7fbc41"
            ],
            [
             0.9,
             "#4d9221"
            ],
            [
             1,
             "#276419"
            ]
           ],
           "sequential": [
            [
             0,
             "#0d0887"
            ],
            [
             0.1111111111111111,
             "#46039f"
            ],
            [
             0.2222222222222222,
             "#7201a8"
            ],
            [
             0.3333333333333333,
             "#9c179e"
            ],
            [
             0.4444444444444444,
             "#bd3786"
            ],
            [
             0.5555555555555556,
             "#d8576b"
            ],
            [
             0.6666666666666666,
             "#ed7953"
            ],
            [
             0.7777777777777778,
             "#fb9f3a"
            ],
            [
             0.8888888888888888,
             "#fdca26"
            ],
            [
             1,
             "#f0f921"
            ]
           ],
           "sequentialminus": [
            [
             0,
             "#0d0887"
            ],
            [
             0.1111111111111111,
             "#46039f"
            ],
            [
             0.2222222222222222,
             "#7201a8"
            ],
            [
             0.3333333333333333,
             "#9c179e"
            ],
            [
             0.4444444444444444,
             "#bd3786"
            ],
            [
             0.5555555555555556,
             "#d8576b"
            ],
            [
             0.6666666666666666,
             "#ed7953"
            ],
            [
             0.7777777777777778,
             "#fb9f3a"
            ],
            [
             0.8888888888888888,
             "#fdca26"
            ],
            [
             1,
             "#f0f921"
            ]
           ]
          },
          "colorway": [
           "#636efa",
           "#EF553B",
           "#00cc96",
           "#ab63fa",
           "#FFA15A",
           "#19d3f3",
           "#FF6692",
           "#B6E880",
           "#FF97FF",
           "#FECB52"
          ],
          "font": {
           "color": "#2a3f5f"
          },
          "geo": {
           "bgcolor": "white",
           "lakecolor": "white",
           "landcolor": "#E5ECF6",
           "showlakes": true,
           "showland": true,
           "subunitcolor": "white"
          },
          "hoverlabel": {
           "align": "left"
          },
          "hovermode": "closest",
          "mapbox": {
           "style": "light"
          },
          "paper_bgcolor": "white",
          "plot_bgcolor": "#E5ECF6",
          "polar": {
           "angularaxis": {
            "gridcolor": "white",
            "linecolor": "white",
            "ticks": ""
           },
           "bgcolor": "#E5ECF6",
           "radialaxis": {
            "gridcolor": "white",
            "linecolor": "white",
            "ticks": ""
           }
          },
          "scene": {
           "xaxis": {
            "backgroundcolor": "#E5ECF6",
            "gridcolor": "white",
            "gridwidth": 2,
            "linecolor": "white",
            "showbackground": true,
            "ticks": "",
            "zerolinecolor": "white"
           },
           "yaxis": {
            "backgroundcolor": "#E5ECF6",
            "gridcolor": "white",
            "gridwidth": 2,
            "linecolor": "white",
            "showbackground": true,
            "ticks": "",
            "zerolinecolor": "white"
           },
           "zaxis": {
            "backgroundcolor": "#E5ECF6",
            "gridcolor": "white",
            "gridwidth": 2,
            "linecolor": "white",
            "showbackground": true,
            "ticks": "",
            "zerolinecolor": "white"
           }
          },
          "shapedefaults": {
           "line": {
            "color": "#2a3f5f"
           }
          },
          "ternary": {
           "aaxis": {
            "gridcolor": "white",
            "linecolor": "white",
            "ticks": ""
           },
           "baxis": {
            "gridcolor": "white",
            "linecolor": "white",
            "ticks": ""
           },
           "bgcolor": "#E5ECF6",
           "caxis": {
            "gridcolor": "white",
            "linecolor": "white",
            "ticks": ""
           }
          },
          "title": {
           "x": 0.05
          },
          "xaxis": {
           "automargin": true,
           "gridcolor": "white",
           "linecolor": "white",
           "ticks": "",
           "title": {
            "standoff": 15
           },
           "zerolinecolor": "white",
           "zerolinewidth": 2
          },
          "yaxis": {
           "automargin": true,
           "gridcolor": "white",
           "linecolor": "white",
           "ticks": "",
           "title": {
            "standoff": 15
           },
           "zerolinecolor": "white",
           "zerolinewidth": 2
          }
         }
        },
        "title": {
         "text": "Сезонность категорий товаров по месяцам",
         "x": 0.5
        },
        "width": 980,
        "xaxis": {
         "anchor": "y",
         "domain": [
          0,
          1
         ],
         "tickangle": -45,
         "title": {
          "text": "Месяц"
         },
         "type": "category"
        },
        "yaxis": {
         "anchor": "x",
         "domain": [
          0,
          1
         ],
         "title": {
          "text": "Сезонность"
         }
        }
       }
      },
      "text/html": [
       "<div>                            <div id=\"fcfb2f2d-6834-4736-8d93-e78f70084728\" class=\"plotly-graph-div\" style=\"height:700px; width:980px;\"></div>            <script type=\"text/javascript\">                require([\"plotly\"], function(Plotly) {                    window.PLOTLYENV=window.PLOTLYENV || {};                                    if (document.getElementById(\"fcfb2f2d-6834-4736-8d93-e78f70084728\")) {                    Plotly.newPlot(                        \"fcfb2f2d-6834-4736-8d93-e78f70084728\",                        [{\"hovertemplate\":\"\\u043d\\u0430\\u0437\\u0432\\u0430\\u043d\\u0438\\u0435 \\u043a\\u0430\\u0442\\u0435\\u0433\\u043e\\u0440\\u0438\\u0438=\\u0414\\u0435\\u043a\\u043e\\u0440 \\u0438 \\u0442\\u0435\\u043a\\u0441\\u0442\\u0438\\u043b\\u044c<br>\\u041c\\u0435\\u0441\\u044f\\u0446=%{x}<br>\\u0421\\u0435\\u0437\\u043e\\u043d\\u043d\\u043e\\u0441\\u0442\\u044c=%{y}<extra></extra>\",\"legendgroup\":\"\\u0414\\u0435\\u043a\\u043e\\u0440 \\u0438 \\u0442\\u0435\\u043a\\u0441\\u0442\\u0438\\u043b\\u044c\",\"line\":{\"color\":\"rgb(255,255,179)\",\"dash\":\"solid\"},\"marker\":{\"symbol\":\"circle\"},\"mode\":\"markers+lines\",\"name\":\"\\u0414\\u0435\\u043a\\u043e\\u0440 \\u0438 \\u0442\\u0435\\u043a\\u0441\\u0442\\u0438\\u043b\\u044c\",\"orientation\":\"v\",\"showlegend\":true,\"x\":[\"2018-10\",\"2018-11\",\"2018-12\",\"2019-01\",\"2019-02\",\"2019-03\",\"2019-04\",\"2019-05\",\"2019-06\",\"2019-07\",\"2019-08\",\"2019-09\"],\"xaxis\":\"x\",\"y\":[0.09,0.2,0.05,0.04,0.1,0.07,0.06,0.14,0.06,0.05,0.02,0.02],\"yaxis\":\"y\",\"type\":\"scatter\"},{\"hovertemplate\":\"\\u043d\\u0430\\u0437\\u0432\\u0430\\u043d\\u0438\\u0435 \\u043a\\u0430\\u0442\\u0435\\u0433\\u043e\\u0440\\u0438\\u0438=\\u041a\\u0443\\u0445\\u043e\\u043d\\u043d\\u044b\\u0435 \\u043f\\u0440\\u0438\\u043d\\u0430\\u0434\\u043b\\u0435\\u0436\\u043d\\u043e\\u0441\\u0442\\u0438<br>\\u041c\\u0435\\u0441\\u044f\\u0446=%{x}<br>\\u0421\\u0435\\u0437\\u043e\\u043d\\u043d\\u043e\\u0441\\u0442\\u044c=%{y}<extra></extra>\",\"legendgroup\":\"\\u041a\\u0443\\u0445\\u043e\\u043d\\u043d\\u044b\\u0435 \\u043f\\u0440\\u0438\\u043d\\u0430\\u0434\\u043b\\u0435\\u0436\\u043d\\u043e\\u0441\\u0442\\u0438\",\"line\":{\"color\":\"rgb(179,222,105)\",\"dash\":\"solid\"},\"marker\":{\"symbol\":\"circle\"},\"mode\":\"markers+lines\",\"name\":\"\\u041a\\u0443\\u0445\\u043e\\u043d\\u043d\\u044b\\u0435 \\u043f\\u0440\\u0438\\u043d\\u0430\\u0434\\u043b\\u0435\\u0436\\u043d\\u043e\\u0441\\u0442\\u0438\",\"orientation\":\"v\",\"showlegend\":true,\"x\":[\"2018-10\",\"2018-11\",\"2018-12\",\"2019-01\",\"2019-02\",\"2019-03\",\"2019-04\",\"2019-05\",\"2019-06\",\"2019-07\",\"2019-08\",\"2019-09\"],\"xaxis\":\"x\",\"y\":[0.08,0.16,0.14,0.07,0.1,0.05,0.11,0.03,0.02,0.02,0.02,0.16],\"yaxis\":\"y\",\"type\":\"scatter\"},{\"hovertemplate\":\"\\u043d\\u0430\\u0437\\u0432\\u0430\\u043d\\u0438\\u0435 \\u043a\\u0430\\u0442\\u0435\\u0433\\u043e\\u0440\\u0438\\u0438=\\u0420\\u0430\\u0441\\u0442\\u0435\\u043d\\u0438\\u044f \\u0438 \\u0440\\u0430\\u0441\\u0441\\u0430\\u0434\\u0430<br>\\u041c\\u0435\\u0441\\u044f\\u0446=%{x}<br>\\u0421\\u0435\\u0437\\u043e\\u043d\\u043d\\u043e\\u0441\\u0442\\u044c=%{y}<extra></extra>\",\"legendgroup\":\"\\u0420\\u0430\\u0441\\u0442\\u0435\\u043d\\u0438\\u044f \\u0438 \\u0440\\u0430\\u0441\\u0441\\u0430\\u0434\\u0430\",\"line\":{\"color\":\"rgb(141,160,203)\",\"dash\":\"solid\"},\"marker\":{\"symbol\":\"circle\"},\"mode\":\"markers+lines\",\"name\":\"\\u0420\\u0430\\u0441\\u0442\\u0435\\u043d\\u0438\\u044f \\u0438 \\u0440\\u0430\\u0441\\u0441\\u0430\\u0434\\u0430\",\"orientation\":\"v\",\"showlegend\":true,\"x\":[\"2018-10\",\"2018-11\",\"2018-12\",\"2019-01\",\"2019-02\",\"2019-03\",\"2019-04\",\"2019-05\",\"2019-06\",\"2019-07\",\"2019-08\",\"2019-09\"],\"xaxis\":\"x\",\"y\":[0.05,0.04,0.03,0.04,0.07,0.11,0.23,0.23,0.06,0.06,0.03,0.03],\"yaxis\":\"y\",\"type\":\"scatter\"},{\"hovertemplate\":\"\\u043d\\u0430\\u0437\\u0432\\u0430\\u043d\\u0438\\u0435 \\u043a\\u0430\\u0442\\u0435\\u0433\\u043e\\u0440\\u0438\\u0438=\\u0421\\u0442\\u0440\\u043e\\u0439\\u043c\\u0430\\u0442\\u0435\\u0440\\u0438\\u0430\\u043b\\u044b \\u0438 \\u0431\\u044b\\u0442\\u043e\\u0432\\u0430\\u044f \\u0442\\u0435\\u0445\\u043d\\u0438\\u043a\\u0430<br>\\u041c\\u0435\\u0441\\u044f\\u0446=%{x}<br>\\u0421\\u0435\\u0437\\u043e\\u043d\\u043d\\u043e\\u0441\\u0442\\u044c=%{y}<extra></extra>\",\"legendgroup\":\"\\u0421\\u0442\\u0440\\u043e\\u0439\\u043c\\u0430\\u0442\\u0435\\u0440\\u0438\\u0430\\u043b\\u044b \\u0438 \\u0431\\u044b\\u0442\\u043e\\u0432\\u0430\\u044f \\u0442\\u0435\\u0445\\u043d\\u0438\\u043a\\u0430\",\"line\":{\"color\":\"rgb(128,177,211)\",\"dash\":\"solid\"},\"marker\":{\"symbol\":\"circle\"},\"mode\":\"markers+lines\",\"name\":\"\\u0421\\u0442\\u0440\\u043e\\u0439\\u043c\\u0430\\u0442\\u0435\\u0440\\u0438\\u0430\\u043b\\u044b \\u0438 \\u0431\\u044b\\u0442\\u043e\\u0432\\u0430\\u044f \\u0442\\u0435\\u0445\\u043d\\u0438\\u043a\\u0430\",\"orientation\":\"v\",\"showlegend\":true,\"x\":[\"2018-10\",\"2018-11\",\"2018-12\",\"2019-01\",\"2019-02\",\"2019-03\",\"2019-04\",\"2019-05\",\"2019-06\",\"2019-07\",\"2019-08\",\"2019-09\"],\"xaxis\":\"x\",\"y\":[0.34,0.1,0.16,0.02,0.04,0.03,0.02,0.01,0.04,0.02,0.02,0.03],\"yaxis\":\"y\",\"type\":\"scatter\"},{\"hovertemplate\":\"\\u043d\\u0430\\u0437\\u0432\\u0430\\u043d\\u0438\\u0435 \\u043a\\u0430\\u0442\\u0435\\u0433\\u043e\\u0440\\u0438\\u0438=\\u0425\\u043e\\u0437\\u0442\\u043e\\u0432\\u0430\\u0440\\u044b<br>\\u041c\\u0435\\u0441\\u044f\\u0446=%{x}<br>\\u0421\\u0435\\u0437\\u043e\\u043d\\u043d\\u043e\\u0441\\u0442\\u044c=%{y}<extra></extra>\",\"legendgroup\":\"\\u0425\\u043e\\u0437\\u0442\\u043e\\u0432\\u0430\\u0440\\u044b\",\"line\":{\"color\":\"rgb(141,211,199)\",\"dash\":\"solid\"},\"marker\":{\"symbol\":\"circle\"},\"mode\":\"markers+lines\",\"name\":\"\\u0425\\u043e\\u0437\\u0442\\u043e\\u0432\\u0430\\u0440\\u044b\",\"orientation\":\"v\",\"showlegend\":true,\"x\":[\"2018-10\",\"2018-11\",\"2018-12\",\"2019-01\",\"2019-02\",\"2019-03\",\"2019-04\",\"2019-05\",\"2019-06\",\"2019-07\",\"2019-08\",\"2019-09\"],\"xaxis\":\"x\",\"y\":[0.12,0.06,0.09,0.06,0.05,0.07,0.05,0.05,0.33,0.03,0.03,0.02],\"yaxis\":\"y\",\"type\":\"scatter\"}],                        {\"template\":{\"data\":{\"bar\":[{\"error_x\":{\"color\":\"#2a3f5f\"},\"error_y\":{\"color\":\"#2a3f5f\"},\"marker\":{\"line\":{\"color\":\"#E5ECF6\",\"width\":0.5},\"pattern\":{\"fillmode\":\"overlay\",\"size\":10,\"solidity\":0.2}},\"type\":\"bar\"}],\"barpolar\":[{\"marker\":{\"line\":{\"color\":\"#E5ECF6\",\"width\":0.5},\"pattern\":{\"fillmode\":\"overlay\",\"size\":10,\"solidity\":0.2}},\"type\":\"barpolar\"}],\"carpet\":[{\"aaxis\":{\"endlinecolor\":\"#2a3f5f\",\"gridcolor\":\"white\",\"linecolor\":\"white\",\"minorgridcolor\":\"white\",\"startlinecolor\":\"#2a3f5f\"},\"baxis\":{\"endlinecolor\":\"#2a3f5f\",\"gridcolor\":\"white\",\"linecolor\":\"white\",\"minorgridcolor\":\"white\",\"startlinecolor\":\"#2a3f5f\"},\"type\":\"carpet\"}],\"choropleth\":[{\"colorbar\":{\"outlinewidth\":0,\"ticks\":\"\"},\"type\":\"choropleth\"}],\"contour\":[{\"colorbar\":{\"outlinewidth\":0,\"ticks\":\"\"},\"colorscale\":[[0.0,\"#0d0887\"],[0.1111111111111111,\"#46039f\"],[0.2222222222222222,\"#7201a8\"],[0.3333333333333333,\"#9c179e\"],[0.4444444444444444,\"#bd3786\"],[0.5555555555555556,\"#d8576b\"],[0.6666666666666666,\"#ed7953\"],[0.7777777777777778,\"#fb9f3a\"],[0.8888888888888888,\"#fdca26\"],[1.0,\"#f0f921\"]],\"type\":\"contour\"}],\"contourcarpet\":[{\"colorbar\":{\"outlinewidth\":0,\"ticks\":\"\"},\"type\":\"contourcarpet\"}],\"heatmap\":[{\"colorbar\":{\"outlinewidth\":0,\"ticks\":\"\"},\"colorscale\":[[0.0,\"#0d0887\"],[0.1111111111111111,\"#46039f\"],[0.2222222222222222,\"#7201a8\"],[0.3333333333333333,\"#9c179e\"],[0.4444444444444444,\"#bd3786\"],[0.5555555555555556,\"#d8576b\"],[0.6666666666666666,\"#ed7953\"],[0.7777777777777778,\"#fb9f3a\"],[0.8888888888888888,\"#fdca26\"],[1.0,\"#f0f921\"]],\"type\":\"heatmap\"}],\"heatmapgl\":[{\"colorbar\":{\"outlinewidth\":0,\"ticks\":\"\"},\"colorscale\":[[0.0,\"#0d0887\"],[0.1111111111111111,\"#46039f\"],[0.2222222222222222,\"#7201a8\"],[0.3333333333333333,\"#9c179e\"],[0.4444444444444444,\"#bd3786\"],[0.5555555555555556,\"#d8576b\"],[0.6666666666666666,\"#ed7953\"],[0.7777777777777778,\"#fb9f3a\"],[0.8888888888888888,\"#fdca26\"],[1.0,\"#f0f921\"]],\"type\":\"heatmapgl\"}],\"histogram\":[{\"marker\":{\"pattern\":{\"fillmode\":\"overlay\",\"size\":10,\"solidity\":0.2}},\"type\":\"histogram\"}],\"histogram2d\":[{\"colorbar\":{\"outlinewidth\":0,\"ticks\":\"\"},\"colorscale\":[[0.0,\"#0d0887\"],[0.1111111111111111,\"#46039f\"],[0.2222222222222222,\"#7201a8\"],[0.3333333333333333,\"#9c179e\"],[0.4444444444444444,\"#bd3786\"],[0.5555555555555556,\"#d8576b\"],[0.6666666666666666,\"#ed7953\"],[0.7777777777777778,\"#fb9f3a\"],[0.8888888888888888,\"#fdca26\"],[1.0,\"#f0f921\"]],\"type\":\"histogram2d\"}],\"histogram2dcontour\":[{\"colorbar\":{\"outlinewidth\":0,\"ticks\":\"\"},\"colorscale\":[[0.0,\"#0d0887\"],[0.1111111111111111,\"#46039f\"],[0.2222222222222222,\"#7201a8\"],[0.3333333333333333,\"#9c179e\"],[0.4444444444444444,\"#bd3786\"],[0.5555555555555556,\"#d8576b\"],[0.6666666666666666,\"#ed7953\"],[0.7777777777777778,\"#fb9f3a\"],[0.8888888888888888,\"#fdca26\"],[1.0,\"#f0f921\"]],\"type\":\"histogram2dcontour\"}],\"mesh3d\":[{\"colorbar\":{\"outlinewidth\":0,\"ticks\":\"\"},\"type\":\"mesh3d\"}],\"parcoords\":[{\"line\":{\"colorbar\":{\"outlinewidth\":0,\"ticks\":\"\"}},\"type\":\"parcoords\"}],\"pie\":[{\"automargin\":true,\"type\":\"pie\"}],\"scatter\":[{\"marker\":{\"colorbar\":{\"outlinewidth\":0,\"ticks\":\"\"}},\"type\":\"scatter\"}],\"scatter3d\":[{\"line\":{\"colorbar\":{\"outlinewidth\":0,\"ticks\":\"\"}},\"marker\":{\"colorbar\":{\"outlinewidth\":0,\"ticks\":\"\"}},\"type\":\"scatter3d\"}],\"scattercarpet\":[{\"marker\":{\"colorbar\":{\"outlinewidth\":0,\"ticks\":\"\"}},\"type\":\"scattercarpet\"}],\"scattergeo\":[{\"marker\":{\"colorbar\":{\"outlinewidth\":0,\"ticks\":\"\"}},\"type\":\"scattergeo\"}],\"scattergl\":[{\"marker\":{\"colorbar\":{\"outlinewidth\":0,\"ticks\":\"\"}},\"type\":\"scattergl\"}],\"scattermapbox\":[{\"marker\":{\"colorbar\":{\"outlinewidth\":0,\"ticks\":\"\"}},\"type\":\"scattermapbox\"}],\"scatterpolar\":[{\"marker\":{\"colorbar\":{\"outlinewidth\":0,\"ticks\":\"\"}},\"type\":\"scatterpolar\"}],\"scatterpolargl\":[{\"marker\":{\"colorbar\":{\"outlinewidth\":0,\"ticks\":\"\"}},\"type\":\"scatterpolargl\"}],\"scatterternary\":[{\"marker\":{\"colorbar\":{\"outlinewidth\":0,\"ticks\":\"\"}},\"type\":\"scatterternary\"}],\"surface\":[{\"colorbar\":{\"outlinewidth\":0,\"ticks\":\"\"},\"colorscale\":[[0.0,\"#0d0887\"],[0.1111111111111111,\"#46039f\"],[0.2222222222222222,\"#7201a8\"],[0.3333333333333333,\"#9c179e\"],[0.4444444444444444,\"#bd3786\"],[0.5555555555555556,\"#d8576b\"],[0.6666666666666666,\"#ed7953\"],[0.7777777777777778,\"#fb9f3a\"],[0.8888888888888888,\"#fdca26\"],[1.0,\"#f0f921\"]],\"type\":\"surface\"}],\"table\":[{\"cells\":{\"fill\":{\"color\":\"#EBF0F8\"},\"line\":{\"color\":\"white\"}},\"header\":{\"fill\":{\"color\":\"#C8D4E3\"},\"line\":{\"color\":\"white\"}},\"type\":\"table\"}]},\"layout\":{\"annotationdefaults\":{\"arrowcolor\":\"#2a3f5f\",\"arrowhead\":0,\"arrowwidth\":1},\"autotypenumbers\":\"strict\",\"coloraxis\":{\"colorbar\":{\"outlinewidth\":0,\"ticks\":\"\"}},\"colorscale\":{\"diverging\":[[0,\"#8e0152\"],[0.1,\"#c51b7d\"],[0.2,\"#de77ae\"],[0.3,\"#f1b6da\"],[0.4,\"#fde0ef\"],[0.5,\"#f7f7f7\"],[0.6,\"#e6f5d0\"],[0.7,\"#b8e186\"],[0.8,\"#7fbc41\"],[0.9,\"#4d9221\"],[1,\"#276419\"]],\"sequential\":[[0.0,\"#0d0887\"],[0.1111111111111111,\"#46039f\"],[0.2222222222222222,\"#7201a8\"],[0.3333333333333333,\"#9c179e\"],[0.4444444444444444,\"#bd3786\"],[0.5555555555555556,\"#d8576b\"],[0.6666666666666666,\"#ed7953\"],[0.7777777777777778,\"#fb9f3a\"],[0.8888888888888888,\"#fdca26\"],[1.0,\"#f0f921\"]],\"sequentialminus\":[[0.0,\"#0d0887\"],[0.1111111111111111,\"#46039f\"],[0.2222222222222222,\"#7201a8\"],[0.3333333333333333,\"#9c179e\"],[0.4444444444444444,\"#bd3786\"],[0.5555555555555556,\"#d8576b\"],[0.6666666666666666,\"#ed7953\"],[0.7777777777777778,\"#fb9f3a\"],[0.8888888888888888,\"#fdca26\"],[1.0,\"#f0f921\"]]},\"colorway\":[\"#636efa\",\"#EF553B\",\"#00cc96\",\"#ab63fa\",\"#FFA15A\",\"#19d3f3\",\"#FF6692\",\"#B6E880\",\"#FF97FF\",\"#FECB52\"],\"font\":{\"color\":\"#2a3f5f\"},\"geo\":{\"bgcolor\":\"white\",\"lakecolor\":\"white\",\"landcolor\":\"#E5ECF6\",\"showlakes\":true,\"showland\":true,\"subunitcolor\":\"white\"},\"hoverlabel\":{\"align\":\"left\"},\"hovermode\":\"closest\",\"mapbox\":{\"style\":\"light\"},\"paper_bgcolor\":\"white\",\"plot_bgcolor\":\"#E5ECF6\",\"polar\":{\"angularaxis\":{\"gridcolor\":\"white\",\"linecolor\":\"white\",\"ticks\":\"\"},\"bgcolor\":\"#E5ECF6\",\"radialaxis\":{\"gridcolor\":\"white\",\"linecolor\":\"white\",\"ticks\":\"\"}},\"scene\":{\"xaxis\":{\"backgroundcolor\":\"#E5ECF6\",\"gridcolor\":\"white\",\"gridwidth\":2,\"linecolor\":\"white\",\"showbackground\":true,\"ticks\":\"\",\"zerolinecolor\":\"white\"},\"yaxis\":{\"backgroundcolor\":\"#E5ECF6\",\"gridcolor\":\"white\",\"gridwidth\":2,\"linecolor\":\"white\",\"showbackground\":true,\"ticks\":\"\",\"zerolinecolor\":\"white\"},\"zaxis\":{\"backgroundcolor\":\"#E5ECF6\",\"gridcolor\":\"white\",\"gridwidth\":2,\"linecolor\":\"white\",\"showbackground\":true,\"ticks\":\"\",\"zerolinecolor\":\"white\"}},\"shapedefaults\":{\"line\":{\"color\":\"#2a3f5f\"}},\"ternary\":{\"aaxis\":{\"gridcolor\":\"white\",\"linecolor\":\"white\",\"ticks\":\"\"},\"baxis\":{\"gridcolor\":\"white\",\"linecolor\":\"white\",\"ticks\":\"\"},\"bgcolor\":\"#E5ECF6\",\"caxis\":{\"gridcolor\":\"white\",\"linecolor\":\"white\",\"ticks\":\"\"}},\"title\":{\"x\":0.05},\"xaxis\":{\"automargin\":true,\"gridcolor\":\"white\",\"linecolor\":\"white\",\"ticks\":\"\",\"title\":{\"standoff\":15},\"zerolinecolor\":\"white\",\"zerolinewidth\":2},\"yaxis\":{\"automargin\":true,\"gridcolor\":\"white\",\"linecolor\":\"white\",\"ticks\":\"\",\"title\":{\"standoff\":15},\"zerolinecolor\":\"white\",\"zerolinewidth\":2}}},\"xaxis\":{\"anchor\":\"y\",\"domain\":[0.0,1.0],\"title\":{\"text\":\"\\u041c\\u0435\\u0441\\u044f\\u0446\"},\"tickangle\":-45,\"type\":\"category\"},\"yaxis\":{\"anchor\":\"x\",\"domain\":[0.0,1.0],\"title\":{\"text\":\"\\u0421\\u0435\\u0437\\u043e\\u043d\\u043d\\u043e\\u0441\\u0442\\u044c\"}},\"legend\":{\"title\":{\"text\":\"\\u043d\\u0430\\u0437\\u0432\\u0430\\u043d\\u0438\\u0435 \\u043a\\u0430\\u0442\\u0435\\u0433\\u043e\\u0440\\u0438\\u0438\"},\"tracegroupgap\":0,\"orientation\":\"h\",\"x\":0.1,\"y\":-0.2},\"margin\":{\"t\":60},\"title\":{\"x\":0.5,\"text\":\"\\u0421\\u0435\\u0437\\u043e\\u043d\\u043d\\u043e\\u0441\\u0442\\u044c \\u043a\\u0430\\u0442\\u0435\\u0433\\u043e\\u0440\\u0438\\u0439 \\u0442\\u043e\\u0432\\u0430\\u0440\\u043e\\u0432 \\u043f\\u043e \\u043c\\u0435\\u0441\\u044f\\u0446\\u0430\\u043c\"},\"autosize\":false,\"width\":980,\"height\":700},                        {\"responsive\": true}                    ).then(function(){\n",
       "                            \n",
       "var gd = document.getElementById('fcfb2f2d-6834-4736-8d93-e78f70084728');\n",
       "var x = new MutationObserver(function (mutations, observer) {{\n",
       "        var display = window.getComputedStyle(gd).display;\n",
       "        if (!display || display === 'none') {{\n",
       "            console.log([gd, 'removed!']);\n",
       "            Plotly.purge(gd);\n",
       "            observer.disconnect();\n",
       "        }}\n",
       "}});\n",
       "\n",
       "// Listen for the removal of the full notebook cells\n",
       "var notebookContainer = gd.closest('#notebook-container');\n",
       "if (notebookContainer) {{\n",
       "    x.observe(notebookContainer, {childList: true});\n",
       "}}\n",
       "\n",
       "// Listen for the clearing of the current output cell\n",
       "var outputEl = gd.closest('.output');\n",
       "if (outputEl) {{\n",
       "    x.observe(outputEl, {childList: true});\n",
       "}}\n",
       "\n",
       "                        })                };                });            </script>        </div>"
      ]
     },
     "metadata": {},
     "output_type": "display_data"
    }
   ],
   "source": [
    "# график сезонности продаж товаров всех категорий\n",
    "season = seasonality[pd.Series(v for v in seasonality.columns[:-1])].T\n",
    "fig = px.line(season,\n",
    "              markers=True,\n",
    "              labels={'value': 'Сезонность', 'month': 'Месяц', 'products_category': 'название категории'},\n",
    "              color_discrete_sequence=[px.colors.qualitative.Set3[1], px.colors.qualitative.Set3[6], \\\n",
    "                                     px.colors.qualitative.Set2[2], px.colors.qualitative.Set3[4], \\\n",
    "                                     px.colors.qualitative.Set3[0], px.colors.qualitative.Set3[10], \\\n",
    "                                     px.colors.qualitative.Set3[6], px.colors.qualitative.Set3[11], \\\n",
    "                                     px.colors.qualitative.Set3[1], px.colors.qualitative.Set3[5], \\\n",
    "                                     px.colors.qualitative.Set3[3], px.colors.qualitative.Set2[3]])\n",
    "fig.update_layout(title_x = 0.5, xaxis_tickangle=-45)\n",
    "fig.update_xaxes(type='category'),\n",
    "fig.update_layout(autosize=False,\n",
    "                  width=980,\n",
    "                  height=700,\n",
    "                  legend_orientation='h', \n",
    "                  legend=dict(x=.1, y=-.2),\n",
    "                  title_text='Сезонность категорий товаров по месяцам'\n",
    "                  )\n",
    "fig.show()"
   ]
  },
  {
   "cell_type": "markdown",
   "id": "f86e0750",
   "metadata": {},
   "source": [
    "Здесь уже видно, что нет ни одной категории товаров, у которой наблюдался бы нулевой спрос в какой-то из месяцев. <br>Также по графику можно предположить какие категории товаров в каждом месяце составляют основу выручки. \n",
    "\n",
    "Например, если рассмотреть месяцы-лидеры по выручке (октябрь, ноябрь, декабрь 2018 года и февраль, апрель 2019 года): \n",
    "- в октябре основной спрос пришелся на товары категории Стройматериалы и бытовая техника, \n",
    "- в ноябре - Декор и текстиль, Кухонные принадлежности (подготовка к Новому году), \n",
    "- в декабре - самый низкий спрос на товары категории Растения и рассада и Декор и текстиль, остальные категории пользуются спросом, \n",
    "- с февраля начинает расти спрос на растения, но в целом ни одна категория не выделяется, \n",
    "- в апреле же основу прибыли составляют товары категории Растения и рассада."
   ]
  },
  {
   "cell_type": "markdown",
   "id": "ceb8e273",
   "metadata": {},
   "source": [
    "<a id='p5'></a>\n",
    "### [Сегментация пользователей и дальнейший анализ](#section_id5)\n",
    "* [Сегментация с помощью RFM-анализа](#p5s1) \n",
    "* [Выявление категорий товаров, приносящих максимальный доход в каждой категории покупателей](#p5s2)\n",
    "* [Выявление категорий товаров, пользующихся максимальным спросом в каждой категории покупателей](#p5s3)\n",
    "* [Расчет сезонности для категорий клиентов](#p5s4)"
   ]
  },
  {
   "cell_type": "markdown",
   "id": "7f135768",
   "metadata": {},
   "source": [
    "Для достижения поставленных задач далее произведена сегментация пользователей на кластеры с помощью RFM-анализа. \n",
    "\n",
    "Покупатели разделены по 4 критериям:\n",
    "- количество дней с последнего заказа пользователя до 31 октября 2019 года (до этой даты представленны данные);\n",
    "- количество заказов пользователя;\n",
    "- суммарная выручка с пользователя;\n",
    "- среднее количество товаров в заказах пользователя (для отделения оптовых покупателей)."
   ]
  },
  {
   "cell_type": "markdown",
   "id": "ddd53eed",
   "metadata": {},
   "source": [
    "<a id='p5s1'></a>\n",
    "#### Сегментация с помощью RFM-анализа"
   ]
  },
  {
   "cell_type": "code",
   "execution_count": 31,
   "id": "93eb2315",
   "metadata": {},
   "outputs": [
    {
     "data": {
      "text/html": [
       "<div>\n",
       "<style scoped>\n",
       "    .dataframe tbody tr th:only-of-type {\n",
       "        vertical-align: middle;\n",
       "    }\n",
       "\n",
       "    .dataframe tbody tr th {\n",
       "        vertical-align: top;\n",
       "    }\n",
       "\n",
       "    .dataframe thead th {\n",
       "        text-align: right;\n",
       "    }\n",
       "</style>\n",
       "<table border=\"1\" class=\"dataframe\">\n",
       "  <thead>\n",
       "    <tr style=\"text-align: right;\">\n",
       "      <th></th>\n",
       "      <th>customer_id</th>\n",
       "      <th>monetary</th>\n",
       "      <th>recency</th>\n",
       "      <th>frequency</th>\n",
       "      <th>quantity</th>\n",
       "    </tr>\n",
       "  </thead>\n",
       "  <tbody>\n",
       "    <tr>\n",
       "      <th>0</th>\n",
       "      <td>000d6849-084e-4d9f-ac03-37174eaf60c4</td>\n",
       "      <td>555.0</td>\n",
       "      <td>15</td>\n",
       "      <td>1</td>\n",
       "      <td>1.0</td>\n",
       "    </tr>\n",
       "    <tr>\n",
       "      <th>1</th>\n",
       "      <td>001cee7f-0b29-4716-b202-0042213ab038</td>\n",
       "      <td>442.0</td>\n",
       "      <td>257</td>\n",
       "      <td>1</td>\n",
       "      <td>1.0</td>\n",
       "    </tr>\n",
       "    <tr>\n",
       "      <th>2</th>\n",
       "      <td>00299f34-5385-4d13-9aea-c80b81658e1b</td>\n",
       "      <td>914.0</td>\n",
       "      <td>17</td>\n",
       "      <td>1</td>\n",
       "      <td>2.0</td>\n",
       "    </tr>\n",
       "    <tr>\n",
       "      <th>3</th>\n",
       "      <td>002d4d3a-4a59-406b-86ec-c3314357e498</td>\n",
       "      <td>1649.0</td>\n",
       "      <td>277</td>\n",
       "      <td>1</td>\n",
       "      <td>1.0</td>\n",
       "    </tr>\n",
       "    <tr>\n",
       "      <th>4</th>\n",
       "      <td>003bbd39-0000-41ff-b7f9-2ddaec152037</td>\n",
       "      <td>2324.0</td>\n",
       "      <td>32</td>\n",
       "      <td>1</td>\n",
       "      <td>2.0</td>\n",
       "    </tr>\n",
       "    <tr>\n",
       "      <th>...</th>\n",
       "      <td>...</td>\n",
       "      <td>...</td>\n",
       "      <td>...</td>\n",
       "      <td>...</td>\n",
       "      <td>...</td>\n",
       "    </tr>\n",
       "    <tr>\n",
       "      <th>2389</th>\n",
       "      <td>ff601403-b094-4b86-9ac6-264d725b9277</td>\n",
       "      <td>1649.0</td>\n",
       "      <td>76</td>\n",
       "      <td>1</td>\n",
       "      <td>1.0</td>\n",
       "    </tr>\n",
       "    <tr>\n",
       "      <th>2390</th>\n",
       "      <td>ffaeab76-3a8d-49ee-860f-17273b2fc8a2</td>\n",
       "      <td>397.0</td>\n",
       "      <td>1</td>\n",
       "      <td>1</td>\n",
       "      <td>1.0</td>\n",
       "    </tr>\n",
       "    <tr>\n",
       "      <th>2391</th>\n",
       "      <td>ffb5976a-7a4d-460b-95c4-5ffaba31cb24</td>\n",
       "      <td>389.0</td>\n",
       "      <td>321</td>\n",
       "      <td>1</td>\n",
       "      <td>1.0</td>\n",
       "    </tr>\n",
       "    <tr>\n",
       "      <th>2392</th>\n",
       "      <td>ffb80538-3fda-4351-8ea9-9d2bec58bb07</td>\n",
       "      <td>974.0</td>\n",
       "      <td>52</td>\n",
       "      <td>1</td>\n",
       "      <td>1.0</td>\n",
       "    </tr>\n",
       "    <tr>\n",
       "      <th>2393</th>\n",
       "      <td>ffe82299-3f5b-4214-87fe-3d36ecccfac3</td>\n",
       "      <td>577.0</td>\n",
       "      <td>9</td>\n",
       "      <td>1</td>\n",
       "      <td>1.0</td>\n",
       "    </tr>\n",
       "  </tbody>\n",
       "</table>\n",
       "<p>2394 rows × 5 columns</p>\n",
       "</div>"
      ],
      "text/plain": [
       "                               customer_id  monetary  recency  frequency  \\\n",
       "0     000d6849-084e-4d9f-ac03-37174eaf60c4     555.0       15          1   \n",
       "1     001cee7f-0b29-4716-b202-0042213ab038     442.0      257          1   \n",
       "2     00299f34-5385-4d13-9aea-c80b81658e1b     914.0       17          1   \n",
       "3     002d4d3a-4a59-406b-86ec-c3314357e498    1649.0      277          1   \n",
       "4     003bbd39-0000-41ff-b7f9-2ddaec152037    2324.0       32          1   \n",
       "...                                    ...       ...      ...        ...   \n",
       "2389  ff601403-b094-4b86-9ac6-264d725b9277    1649.0       76          1   \n",
       "2390  ffaeab76-3a8d-49ee-860f-17273b2fc8a2     397.0        1          1   \n",
       "2391  ffb5976a-7a4d-460b-95c4-5ffaba31cb24     389.0      321          1   \n",
       "2392  ffb80538-3fda-4351-8ea9-9d2bec58bb07     974.0       52          1   \n",
       "2393  ffe82299-3f5b-4214-87fe-3d36ecccfac3     577.0        9          1   \n",
       "\n",
       "      quantity  \n",
       "0          1.0  \n",
       "1          1.0  \n",
       "2          2.0  \n",
       "3          1.0  \n",
       "4          2.0  \n",
       "...        ...  \n",
       "2389       1.0  \n",
       "2390       1.0  \n",
       "2391       1.0  \n",
       "2392       1.0  \n",
       "2393       1.0  \n",
       "\n",
       "[2394 rows x 5 columns]"
      ]
     },
     "execution_count": 31,
     "metadata": {},
     "output_type": "execute_result"
    }
   ],
   "source": [
    "# сводная таблица со средним количеством товаров в заказе\n",
    "order_quanty = orders.pivot_table(index='order_id', values='quantity', aggfunc='mean').reset_index() \\\n",
    "                                                                            .sort_values(by='quantity', ascending=False) \\\n",
    "                                                                            .rename(columns={'quantity': 'quant_per_order'})\n",
    "# ее объединение с основной таблицей\n",
    "orders = orders.merge(order_quanty[['order_id', 'quant_per_order']])\n",
    "\n",
    "# дата анализа\n",
    "max_date = orders.date.max()\n",
    "\n",
    "# сводная таблица со расчетом всех составляющих будущего RFM-анализа\n",
    "rfmq = orders.pivot_table(index='customer_id', values=['date', 'order_id', 'cost', 'quant_per_order'], aggfunc={'date': 'last',\n",
    "                                                                                            'order_id': 'nunique',\n",
    "                                                                                            'cost': 'sum',\n",
    "                                                                                            'quant_per_order': 'mean'}) \\\n",
    "                                                                                      .reset_index() \\\n",
    "                                                                                      .rename(columns={'date': 'recency',\n",
    "                                                                                                'order_id': 'frequency',\n",
    "                                                                                                'cost': 'monetary',\n",
    "                                                                                                'quant_per_order': 'quantity'})\n",
    "rfmq['recency'] = (max_date - rfmq['recency']).dt.days\n",
    "rfmq"
   ]
  },
  {
   "cell_type": "code",
   "execution_count": 32,
   "id": "bd2cfe93",
   "metadata": {},
   "outputs": [
    {
     "data": {
      "text/html": [
       "<div>\n",
       "<style scoped>\n",
       "    .dataframe tbody tr th:only-of-type {\n",
       "        vertical-align: middle;\n",
       "    }\n",
       "\n",
       "    .dataframe tbody tr th {\n",
       "        vertical-align: top;\n",
       "    }\n",
       "\n",
       "    .dataframe thead th {\n",
       "        text-align: right;\n",
       "    }\n",
       "</style>\n",
       "<table border=\"1\" class=\"dataframe\">\n",
       "  <thead>\n",
       "    <tr style=\"text-align: right;\">\n",
       "      <th></th>\n",
       "      <th>monetary</th>\n",
       "      <th>recency</th>\n",
       "      <th>frequency</th>\n",
       "      <th>quantity</th>\n",
       "    </tr>\n",
       "  </thead>\n",
       "  <tbody>\n",
       "    <tr>\n",
       "      <th>0.25</th>\n",
       "      <td>299.0</td>\n",
       "      <td>109.0</td>\n",
       "      <td>1.0</td>\n",
       "      <td>1.0</td>\n",
       "    </tr>\n",
       "    <tr>\n",
       "      <th>0.50</th>\n",
       "      <td>712.0</td>\n",
       "      <td>212.0</td>\n",
       "      <td>1.0</td>\n",
       "      <td>1.0</td>\n",
       "    </tr>\n",
       "    <tr>\n",
       "      <th>0.75</th>\n",
       "      <td>1574.0</td>\n",
       "      <td>295.0</td>\n",
       "      <td>1.0</td>\n",
       "      <td>1.5</td>\n",
       "    </tr>\n",
       "  </tbody>\n",
       "</table>\n",
       "</div>"
      ],
      "text/plain": [
       "      monetary  recency  frequency  quantity\n",
       "0.25     299.0    109.0        1.0       1.0\n",
       "0.50     712.0    212.0        1.0       1.0\n",
       "0.75    1574.0    295.0        1.0       1.5"
      ]
     },
     "execution_count": 32,
     "metadata": {},
     "output_type": "execute_result"
    }
   ],
   "source": [
    "# квартили для всех числовых столбцов таблицы rfm\n",
    "quantiles = rfmq.quantile(q=[.25, .5, .75])\n",
    "quantiles"
   ]
  },
  {
   "cell_type": "code",
   "execution_count": 33,
   "id": "620744c9",
   "metadata": {},
   "outputs": [
    {
     "data": {
      "text/html": [
       "<div>\n",
       "<style scoped>\n",
       "    .dataframe tbody tr th:only-of-type {\n",
       "        vertical-align: middle;\n",
       "    }\n",
       "\n",
       "    .dataframe tbody tr th {\n",
       "        vertical-align: top;\n",
       "    }\n",
       "\n",
       "    .dataframe thead th {\n",
       "        text-align: right;\n",
       "    }\n",
       "</style>\n",
       "<table border=\"1\" class=\"dataframe\">\n",
       "  <thead>\n",
       "    <tr style=\"text-align: right;\">\n",
       "      <th></th>\n",
       "      <th>customer_id</th>\n",
       "      <th>monetary</th>\n",
       "      <th>recency</th>\n",
       "      <th>frequency</th>\n",
       "      <th>quantity</th>\n",
       "      <th>R</th>\n",
       "      <th>F</th>\n",
       "      <th>M</th>\n",
       "      <th>Q</th>\n",
       "      <th>RFMQ_rating</th>\n",
       "    </tr>\n",
       "  </thead>\n",
       "  <tbody>\n",
       "    <tr>\n",
       "      <th>0</th>\n",
       "      <td>000d6849-084e-4d9f-ac03-37174eaf60c4</td>\n",
       "      <td>555.0</td>\n",
       "      <td>15</td>\n",
       "      <td>1</td>\n",
       "      <td>1.0</td>\n",
       "      <td>1</td>\n",
       "      <td>2</td>\n",
       "      <td>2</td>\n",
       "      <td>r</td>\n",
       "      <td>122r</td>\n",
       "    </tr>\n",
       "    <tr>\n",
       "      <th>1</th>\n",
       "      <td>001cee7f-0b29-4716-b202-0042213ab038</td>\n",
       "      <td>442.0</td>\n",
       "      <td>257</td>\n",
       "      <td>1</td>\n",
       "      <td>1.0</td>\n",
       "      <td>2</td>\n",
       "      <td>2</td>\n",
       "      <td>2</td>\n",
       "      <td>r</td>\n",
       "      <td>222r</td>\n",
       "    </tr>\n",
       "    <tr>\n",
       "      <th>2</th>\n",
       "      <td>00299f34-5385-4d13-9aea-c80b81658e1b</td>\n",
       "      <td>914.0</td>\n",
       "      <td>17</td>\n",
       "      <td>1</td>\n",
       "      <td>2.0</td>\n",
       "      <td>1</td>\n",
       "      <td>2</td>\n",
       "      <td>1</td>\n",
       "      <td>r</td>\n",
       "      <td>121r</td>\n",
       "    </tr>\n",
       "    <tr>\n",
       "      <th>3</th>\n",
       "      <td>002d4d3a-4a59-406b-86ec-c3314357e498</td>\n",
       "      <td>1649.0</td>\n",
       "      <td>277</td>\n",
       "      <td>1</td>\n",
       "      <td>1.0</td>\n",
       "      <td>2</td>\n",
       "      <td>2</td>\n",
       "      <td>1</td>\n",
       "      <td>r</td>\n",
       "      <td>221r</td>\n",
       "    </tr>\n",
       "    <tr>\n",
       "      <th>4</th>\n",
       "      <td>003bbd39-0000-41ff-b7f9-2ddaec152037</td>\n",
       "      <td>2324.0</td>\n",
       "      <td>32</td>\n",
       "      <td>1</td>\n",
       "      <td>2.0</td>\n",
       "      <td>1</td>\n",
       "      <td>2</td>\n",
       "      <td>1</td>\n",
       "      <td>r</td>\n",
       "      <td>121r</td>\n",
       "    </tr>\n",
       "    <tr>\n",
       "      <th>...</th>\n",
       "      <td>...</td>\n",
       "      <td>...</td>\n",
       "      <td>...</td>\n",
       "      <td>...</td>\n",
       "      <td>...</td>\n",
       "      <td>...</td>\n",
       "      <td>...</td>\n",
       "      <td>...</td>\n",
       "      <td>...</td>\n",
       "      <td>...</td>\n",
       "    </tr>\n",
       "    <tr>\n",
       "      <th>2389</th>\n",
       "      <td>ff601403-b094-4b86-9ac6-264d725b9277</td>\n",
       "      <td>1649.0</td>\n",
       "      <td>76</td>\n",
       "      <td>1</td>\n",
       "      <td>1.0</td>\n",
       "      <td>1</td>\n",
       "      <td>2</td>\n",
       "      <td>1</td>\n",
       "      <td>r</td>\n",
       "      <td>121r</td>\n",
       "    </tr>\n",
       "    <tr>\n",
       "      <th>2390</th>\n",
       "      <td>ffaeab76-3a8d-49ee-860f-17273b2fc8a2</td>\n",
       "      <td>397.0</td>\n",
       "      <td>1</td>\n",
       "      <td>1</td>\n",
       "      <td>1.0</td>\n",
       "      <td>1</td>\n",
       "      <td>2</td>\n",
       "      <td>2</td>\n",
       "      <td>r</td>\n",
       "      <td>122r</td>\n",
       "    </tr>\n",
       "    <tr>\n",
       "      <th>2391</th>\n",
       "      <td>ffb5976a-7a4d-460b-95c4-5ffaba31cb24</td>\n",
       "      <td>389.0</td>\n",
       "      <td>321</td>\n",
       "      <td>1</td>\n",
       "      <td>1.0</td>\n",
       "      <td>2</td>\n",
       "      <td>2</td>\n",
       "      <td>2</td>\n",
       "      <td>r</td>\n",
       "      <td>222r</td>\n",
       "    </tr>\n",
       "    <tr>\n",
       "      <th>2392</th>\n",
       "      <td>ffb80538-3fda-4351-8ea9-9d2bec58bb07</td>\n",
       "      <td>974.0</td>\n",
       "      <td>52</td>\n",
       "      <td>1</td>\n",
       "      <td>1.0</td>\n",
       "      <td>1</td>\n",
       "      <td>2</td>\n",
       "      <td>1</td>\n",
       "      <td>r</td>\n",
       "      <td>121r</td>\n",
       "    </tr>\n",
       "    <tr>\n",
       "      <th>2393</th>\n",
       "      <td>ffe82299-3f5b-4214-87fe-3d36ecccfac3</td>\n",
       "      <td>577.0</td>\n",
       "      <td>9</td>\n",
       "      <td>1</td>\n",
       "      <td>1.0</td>\n",
       "      <td>1</td>\n",
       "      <td>2</td>\n",
       "      <td>2</td>\n",
       "      <td>r</td>\n",
       "      <td>122r</td>\n",
       "    </tr>\n",
       "  </tbody>\n",
       "</table>\n",
       "<p>2394 rows × 10 columns</p>\n",
       "</div>"
      ],
      "text/plain": [
       "                               customer_id  monetary  recency  frequency  \\\n",
       "0     000d6849-084e-4d9f-ac03-37174eaf60c4     555.0       15          1   \n",
       "1     001cee7f-0b29-4716-b202-0042213ab038     442.0      257          1   \n",
       "2     00299f34-5385-4d13-9aea-c80b81658e1b     914.0       17          1   \n",
       "3     002d4d3a-4a59-406b-86ec-c3314357e498    1649.0      277          1   \n",
       "4     003bbd39-0000-41ff-b7f9-2ddaec152037    2324.0       32          1   \n",
       "...                                    ...       ...      ...        ...   \n",
       "2389  ff601403-b094-4b86-9ac6-264d725b9277    1649.0       76          1   \n",
       "2390  ffaeab76-3a8d-49ee-860f-17273b2fc8a2     397.0        1          1   \n",
       "2391  ffb5976a-7a4d-460b-95c4-5ffaba31cb24     389.0      321          1   \n",
       "2392  ffb80538-3fda-4351-8ea9-9d2bec58bb07     974.0       52          1   \n",
       "2393  ffe82299-3f5b-4214-87fe-3d36ecccfac3     577.0        9          1   \n",
       "\n",
       "      quantity  R  F  M  Q RFMQ_rating  \n",
       "0          1.0  1  2  2  r        122r  \n",
       "1          1.0  2  2  2  r        222r  \n",
       "2          2.0  1  2  1  r        121r  \n",
       "3          1.0  2  2  1  r        221r  \n",
       "4          2.0  1  2  1  r        121r  \n",
       "...        ... .. .. .. ..         ...  \n",
       "2389       1.0  1  2  1  r        121r  \n",
       "2390       1.0  1  2  2  r        122r  \n",
       "2391       1.0  2  2  2  r        222r  \n",
       "2392       1.0  1  2  1  r        121r  \n",
       "2393       1.0  1  2  2  r        122r  \n",
       "\n",
       "[2394 rows x 10 columns]"
      ]
     },
     "execution_count": 33,
     "metadata": {},
     "output_type": "execute_result"
    }
   ],
   "source": [
    "# функции для присвоения категорий клиентам\n",
    "def R_Class(x,p,d):\n",
    "    if x <= d[p][0.5]:\n",
    "        return 1\n",
    "    else:\n",
    "        return 2\n",
    "    \n",
    "def FM_Class(x,p,d):\n",
    "    if x <= d[p][0.5]:\n",
    "        return 2\n",
    "\n",
    "    else:\n",
    "        return 1\n",
    "    \n",
    "# для отделения оптовых покупателей вручную определен порог - среднее количество товаров в заказах больше 10     \n",
    "def Q_Class(x,p,d):\n",
    "    if x < 10:\n",
    "        return 'r'    # r - розничный покупатель\n",
    "\n",
    "    else:\n",
    "        return 'w'    # w - оптовый покупатель\n",
    "\n",
    "rfmq['R'] = rfmq['recency'].apply(R_Class, args=('recency', quantiles,))\n",
    "rfmq['F'] = rfmq['frequency'].apply(FM_Class, args=('frequency', quantiles,))\n",
    "rfmq['M'] = rfmq['monetary'].apply(FM_Class, args=('monetary', quantiles,))\n",
    "rfmq['Q'] = rfmq['quantity'].apply(Q_Class, args=('quantity', quantiles,))\n",
    "rfmq['RFMQ_rating'] = rfmq.R.map(str) \\\n",
    "                            + rfmq.F.map(str) \\\n",
    "                            + rfmq.M.map(str) \\\n",
    "                            + rfmq.Q.map(str)\n",
    "rfmq"
   ]
  },
  {
   "cell_type": "code",
   "execution_count": 34,
   "id": "edd5621c",
   "metadata": {},
   "outputs": [
    {
     "data": {
      "text/html": [
       "<div>\n",
       "<style scoped>\n",
       "    .dataframe tbody tr th:only-of-type {\n",
       "        vertical-align: middle;\n",
       "    }\n",
       "\n",
       "    .dataframe tbody tr th {\n",
       "        vertical-align: top;\n",
       "    }\n",
       "\n",
       "    .dataframe thead th {\n",
       "        text-align: right;\n",
       "    }\n",
       "</style>\n",
       "<table border=\"1\" class=\"dataframe\">\n",
       "  <thead>\n",
       "    <tr style=\"text-align: right;\">\n",
       "      <th></th>\n",
       "      <th>date</th>\n",
       "      <th>month</th>\n",
       "      <th>customer_id</th>\n",
       "      <th>order_id</th>\n",
       "      <th>product</th>\n",
       "      <th>quantity</th>\n",
       "      <th>price</th>\n",
       "      <th>cost</th>\n",
       "      <th>products_category</th>\n",
       "      <th>quant_per_order</th>\n",
       "      <th>RFMQ_rating</th>\n",
       "    </tr>\n",
       "  </thead>\n",
       "  <tbody>\n",
       "    <tr>\n",
       "      <th>4458</th>\n",
       "      <td>2019-09-17</td>\n",
       "      <td>2019-09</td>\n",
       "      <td>738d0da4-9c20-490a-bec0-7a77685828b1</td>\n",
       "      <td>72667</td>\n",
       "      <td>тележка багажная delta тбр-15 цвет в ассортименте грузоподъемность 30 кг россия</td>\n",
       "      <td>1</td>\n",
       "      <td>450.0</td>\n",
       "      <td>450.0</td>\n",
       "      <td>Хозтовары</td>\n",
       "      <td>1.0</td>\n",
       "      <td>122r</td>\n",
       "    </tr>\n",
       "  </tbody>\n",
       "</table>\n",
       "</div>"
      ],
      "text/plain": [
       "            date    month                           customer_id  order_id  \\\n",
       "4458  2019-09-17  2019-09  738d0da4-9c20-490a-bec0-7a77685828b1     72667   \n",
       "\n",
       "                                                                              product  \\\n",
       "4458  тележка багажная delta тбр-15 цвет в ассортименте грузоподъемность 30 кг россия   \n",
       "\n",
       "      quantity  price   cost products_category  quant_per_order RFMQ_rating  \n",
       "4458         1  450.0  450.0         Хозтовары              1.0        122r  "
      ]
     },
     "execution_count": 34,
     "metadata": {},
     "output_type": "execute_result"
    }
   ],
   "source": [
    "# добавление столбца с RFM-категорией в основной датасет \n",
    "orders = orders.merge(rfmq[['customer_id', 'RFMQ_rating']])\n",
    "orders.sample()"
   ]
  },
  {
   "cell_type": "markdown",
   "id": "6deaed26",
   "metadata": {},
   "source": [
    "Получилось 15 кластеров покупателей (не 16 потому что в один вошло 0 пользователей), для дальнейшего анализа они объединены в более обширные категории по смыслу:\n",
    "- Лучшие клиенты - приносящие большую прибыль, часто делающие заказы, недавно сделавшие последний заказ;\n",
    "- Перспективные клиенты - приносящие меньшую прибыль, часто делающие заказы, недавно сделавшие последний заказ;\n",
    "- Новые клиенты - один раз недавно сделавшие заказ;\n",
    "- Старые клиенты на пороге оттока - давно сделавшие последний заказ;\n",
    "- Потерянные клиенты - принесшие малую прибыль единожды, давно.\n",
    "\n",
    "И каждая из этих категорий подразделяется на оптовиков и розничных покупателей."
   ]
  },
  {
   "cell_type": "code",
   "execution_count": 35,
   "id": "d8401abd",
   "metadata": {
    "scrolled": false
   },
   "outputs": [
    {
     "data": {
      "text/html": [
       "<div>\n",
       "<style scoped>\n",
       "    .dataframe tbody tr th:only-of-type {\n",
       "        vertical-align: middle;\n",
       "    }\n",
       "\n",
       "    .dataframe tbody tr th {\n",
       "        vertical-align: top;\n",
       "    }\n",
       "\n",
       "    .dataframe thead th {\n",
       "        text-align: right;\n",
       "    }\n",
       "</style>\n",
       "<table border=\"1\" class=\"dataframe\">\n",
       "  <thead>\n",
       "    <tr style=\"text-align: right;\">\n",
       "      <th></th>\n",
       "      <th>date</th>\n",
       "      <th>month</th>\n",
       "      <th>customer_id</th>\n",
       "      <th>order_id</th>\n",
       "      <th>product</th>\n",
       "      <th>quantity</th>\n",
       "      <th>price</th>\n",
       "      <th>cost</th>\n",
       "      <th>products_category</th>\n",
       "      <th>quant_per_order</th>\n",
       "      <th>RFMQ_rating</th>\n",
       "      <th>clients_category</th>\n",
       "    </tr>\n",
       "  </thead>\n",
       "  <tbody>\n",
       "    <tr>\n",
       "      <th>4026</th>\n",
       "      <td>2019-07-12</td>\n",
       "      <td>2019-07</td>\n",
       "      <td>3fb078a8-eccf-4780-b130-3bde6b8c6b10</td>\n",
       "      <td>71957</td>\n",
       "      <td>чехол для гладильной доски attribute metal 140х60 см abm106</td>\n",
       "      <td>10</td>\n",
       "      <td>787.0</td>\n",
       "      <td>7870.0</td>\n",
       "      <td>Хозтовары</td>\n",
       "      <td>10.000000</td>\n",
       "      <td>121w</td>\n",
       "      <td>Новые клиенты, опт</td>\n",
       "    </tr>\n",
       "    <tr>\n",
       "      <th>381</th>\n",
       "      <td>2018-10-12</td>\n",
       "      <td>2018-10</td>\n",
       "      <td>7171c6a6-9126-4cff-ac95-948db08f492d</td>\n",
       "      <td>68621</td>\n",
       "      <td>герань домашняя (пеларгония зональная) цветущая d12, h25-30, темнорозовая, полумахровая</td>\n",
       "      <td>1</td>\n",
       "      <td>149.0</td>\n",
       "      <td>149.0</td>\n",
       "      <td>Растения и рассада</td>\n",
       "      <td>1.000000</td>\n",
       "      <td>221r</td>\n",
       "      <td>Старые клиенты на пороге оттока, розница</td>\n",
       "    </tr>\n",
       "    <tr>\n",
       "      <th>1810</th>\n",
       "      <td>2019-03-01</td>\n",
       "      <td>2019-03</td>\n",
       "      <td>1ad78811-b8b9-4607-9e9b-9b105927534e</td>\n",
       "      <td>14554</td>\n",
       "      <td>роза садовая чайногибридная в горшке колетт</td>\n",
       "      <td>1</td>\n",
       "      <td>187.0</td>\n",
       "      <td>187.0</td>\n",
       "      <td>Растения и рассада</td>\n",
       "      <td>1.176471</td>\n",
       "      <td>221r</td>\n",
       "      <td>Старые клиенты на пороге оттока, розница</td>\n",
       "    </tr>\n",
       "    <tr>\n",
       "      <th>1639</th>\n",
       "      <td>2019-02-18</td>\n",
       "      <td>2019-02</td>\n",
       "      <td>b82cde72-d445-40f6-ac48-3b5714ee7b45</td>\n",
       "      <td>70313</td>\n",
       "      <td>гладильная доска ника бэлль 106,5х29 см б</td>\n",
       "      <td>1</td>\n",
       "      <td>562.0</td>\n",
       "      <td>562.0</td>\n",
       "      <td>Стройматериалы и бытовая техника</td>\n",
       "      <td>1.000000</td>\n",
       "      <td>222r</td>\n",
       "      <td>Потерянные клиенты, розница</td>\n",
       "    </tr>\n",
       "    <tr>\n",
       "      <th>3302</th>\n",
       "      <td>2019-05-16</td>\n",
       "      <td>2019-05</td>\n",
       "      <td>ca274b0b-9724-4be9-b834-3f6749fc683f</td>\n",
       "      <td>14784</td>\n",
       "      <td>рассада зелени для кухни розмарин барбекю диам. 9 см</td>\n",
       "      <td>1</td>\n",
       "      <td>120.0</td>\n",
       "      <td>120.0</td>\n",
       "      <td>Растения и рассада</td>\n",
       "      <td>1.000000</td>\n",
       "      <td>121r</td>\n",
       "      <td>Новые клиенты, розница</td>\n",
       "    </tr>\n",
       "  </tbody>\n",
       "</table>\n",
       "</div>"
      ],
      "text/plain": [
       "            date    month                           customer_id  order_id  \\\n",
       "4026  2019-07-12  2019-07  3fb078a8-eccf-4780-b130-3bde6b8c6b10     71957   \n",
       "381   2018-10-12  2018-10  7171c6a6-9126-4cff-ac95-948db08f492d     68621   \n",
       "1810  2019-03-01  2019-03  1ad78811-b8b9-4607-9e9b-9b105927534e     14554   \n",
       "1639  2019-02-18  2019-02  b82cde72-d445-40f6-ac48-3b5714ee7b45     70313   \n",
       "3302  2019-05-16  2019-05  ca274b0b-9724-4be9-b834-3f6749fc683f     14784   \n",
       "\n",
       "                                                                                      product  \\\n",
       "4026                              чехол для гладильной доски attribute metal 140х60 см abm106   \n",
       "381   герань домашняя (пеларгония зональная) цветущая d12, h25-30, темнорозовая, полумахровая   \n",
       "1810                                              роза садовая чайногибридная в горшке колетт   \n",
       "1639                                                гладильная доска ника бэлль 106,5х29 см б   \n",
       "3302                                     рассада зелени для кухни розмарин барбекю диам. 9 см   \n",
       "\n",
       "      quantity  price    cost                 products_category  \\\n",
       "4026        10  787.0  7870.0                         Хозтовары   \n",
       "381          1  149.0   149.0                Растения и рассада   \n",
       "1810         1  187.0   187.0                Растения и рассада   \n",
       "1639         1  562.0   562.0  Стройматериалы и бытовая техника   \n",
       "3302         1  120.0   120.0                Растения и рассада   \n",
       "\n",
       "      quant_per_order RFMQ_rating                          clients_category  \n",
       "4026        10.000000        121w                        Новые клиенты, опт  \n",
       "381          1.000000        221r  Старые клиенты на пороге оттока, розница  \n",
       "1810         1.176471        221r  Старые клиенты на пороге оттока, розница  \n",
       "1639         1.000000        222r               Потерянные клиенты, розница  \n",
       "3302         1.000000        121r                    Новые клиенты, розница  "
      ]
     },
     "execution_count": 35,
     "metadata": {},
     "output_type": "execute_result"
    }
   ],
   "source": [
    "# объединение кластеров пользователей в категории пользователей\n",
    "best_w = ['111w']\n",
    "best_r = ['111r']\n",
    "prospective_w = ['112w']\n",
    "prospective_r = ['112r']\n",
    "new_w = ['121w',  '122w']\n",
    "new_r = ['121r', '122r']\n",
    "old_w = ['211w', '221w',  '212w']\n",
    "old_r = ['211r', '221r', '212r']\n",
    "lost_w = ['222w']\n",
    "lost_r = ['222r']\n",
    "\n",
    "def f(row):\n",
    "    val = 0\n",
    "    if row['RFMQ_rating'] in best_w:\n",
    "        val = 'Лучшие клиенты, опт'\n",
    "        \n",
    "    elif row['RFMQ_rating'] in best_r:\n",
    "        val = 'Лучшие клиенты, розница'\n",
    "        \n",
    "    elif row['RFMQ_rating'] in prospective_w:\n",
    "        val = 'Перспективные клиенты, опт'\n",
    "        \n",
    "    elif row['RFMQ_rating'] in prospective_r:\n",
    "        val = 'Перспективные клиенты, розница'\n",
    "        \n",
    "    elif row['RFMQ_rating'] in new_w:\n",
    "        val = 'Новые клиенты, опт'\n",
    "        \n",
    "    elif row['RFMQ_rating'] in new_r:\n",
    "        val = 'Новые клиенты, розница'\n",
    "        \n",
    "    elif row['RFMQ_rating'] in old_w:\n",
    "        val = 'Старые клиенты на пороге оттока, опт'\n",
    "        \n",
    "    elif row['RFMQ_rating'] in old_r:\n",
    "        val = 'Старые клиенты на пороге оттока, розница'\n",
    "        \n",
    "    elif row['RFMQ_rating'] in lost_w:\n",
    "        val = 'Потерянные клиенты, опт'\n",
    "        \n",
    "    elif row['RFMQ_rating'] in lost_r:\n",
    "        val = 'Потерянные клиенты, розница'\n",
    "        \n",
    "    return val\n",
    "\n",
    "orders['clients_category'] = orders.apply(f, axis=1)\n",
    "orders.sample(5)"
   ]
  },
  {
   "cell_type": "code",
   "execution_count": 36,
   "id": "81e10f1c",
   "metadata": {},
   "outputs": [
    {
     "data": {
      "text/html": [
       "<div>\n",
       "<style scoped>\n",
       "    .dataframe tbody tr th:only-of-type {\n",
       "        vertical-align: middle;\n",
       "    }\n",
       "\n",
       "    .dataframe tbody tr th {\n",
       "        vertical-align: top;\n",
       "    }\n",
       "\n",
       "    .dataframe thead th {\n",
       "        text-align: right;\n",
       "    }\n",
       "</style>\n",
       "<table border=\"1\" class=\"dataframe\">\n",
       "  <thead>\n",
       "    <tr style=\"text-align: right;\">\n",
       "      <th></th>\n",
       "      <th>Категория клиентов</th>\n",
       "      <th>Количество клиентов в категории</th>\n",
       "    </tr>\n",
       "  </thead>\n",
       "  <tbody>\n",
       "    <tr>\n",
       "      <th>3</th>\n",
       "      <td>Новые клиенты, розница</td>\n",
       "      <td>1040</td>\n",
       "    </tr>\n",
       "    <tr>\n",
       "      <th>9</th>\n",
       "      <td>Старые клиенты на пороге оттока, розница</td>\n",
       "      <td>586</td>\n",
       "    </tr>\n",
       "    <tr>\n",
       "      <th>7</th>\n",
       "      <td>Потерянные клиенты, розница</td>\n",
       "      <td>518</td>\n",
       "    </tr>\n",
       "    <tr>\n",
       "      <th>2</th>\n",
       "      <td>Новые клиенты, опт</td>\n",
       "      <td>64</td>\n",
       "    </tr>\n",
       "    <tr>\n",
       "      <th>1</th>\n",
       "      <td>Лучшие клиенты, розница</td>\n",
       "      <td>63</td>\n",
       "    </tr>\n",
       "    <tr>\n",
       "      <th>8</th>\n",
       "      <td>Старые клиенты на пороге оттока, опт</td>\n",
       "      <td>62</td>\n",
       "    </tr>\n",
       "    <tr>\n",
       "      <th>5</th>\n",
       "      <td>Перспективные клиенты, розница</td>\n",
       "      <td>29</td>\n",
       "    </tr>\n",
       "    <tr>\n",
       "      <th>6</th>\n",
       "      <td>Потерянные клиенты, опт</td>\n",
       "      <td>26</td>\n",
       "    </tr>\n",
       "    <tr>\n",
       "      <th>0</th>\n",
       "      <td>Лучшие клиенты, опт</td>\n",
       "      <td>4</td>\n",
       "    </tr>\n",
       "    <tr>\n",
       "      <th>4</th>\n",
       "      <td>Перспективные клиенты, опт</td>\n",
       "      <td>2</td>\n",
       "    </tr>\n",
       "  </tbody>\n",
       "</table>\n",
       "</div>"
      ],
      "text/plain": [
       "                         Категория клиентов  Количество клиентов в категории\n",
       "3                    Новые клиенты, розница                             1040\n",
       "9  Старые клиенты на пороге оттока, розница                              586\n",
       "7               Потерянные клиенты, розница                              518\n",
       "2                        Новые клиенты, опт                               64\n",
       "1                   Лучшие клиенты, розница                               63\n",
       "8      Старые клиенты на пороге оттока, опт                               62\n",
       "5            Перспективные клиенты, розница                               29\n",
       "6                   Потерянные клиенты, опт                               26\n",
       "0                       Лучшие клиенты, опт                                4\n",
       "4                Перспективные клиенты, опт                                2"
      ]
     },
     "execution_count": 36,
     "metadata": {},
     "output_type": "execute_result"
    }
   ],
   "source": [
    "# количество покупателей в каждой категории\n",
    "orders.pivot_table(index='clients_category', values='customer_id', aggfunc='nunique') \\\n",
    "                                                                .reset_index().sort_values(by='customer_id', ascending=False) \\\n",
    "                                                                .rename(columns={'clients_category': 'Категория клиентов', \\\n",
    "                                                                            'customer_id': 'Количество клиентов в категории'})"
   ]
  },
  {
   "cell_type": "markdown",
   "id": "93a60380",
   "metadata": {},
   "source": [
    "Самая многочисленная категория - Новые клиенты, это обнадеживает! Нужно сделать так, чтобы они превратились со временем в наших лучших клиентов и увеличили прибыль. Но также видно, что присутствует большой процент потерянных клиентов и покупателей на грани оттока, это означает, что в данном бизнесе отсутствует удерживающий клиентов фактор."
   ]
  },
  {
   "cell_type": "markdown",
   "id": "ab4ccde1",
   "metadata": {},
   "source": [
    "<a id='p5s2'></a>\n",
    "#### Выявление категорий товаров, приносящих максимальный доход в каждой категории покупателей"
   ]
  },
  {
   "cell_type": "code",
   "execution_count": 37,
   "id": "7107feba",
   "metadata": {},
   "outputs": [
    {
     "data": {
      "text/html": [
       "<div>\n",
       "<style scoped>\n",
       "    .dataframe tbody tr th:only-of-type {\n",
       "        vertical-align: middle;\n",
       "    }\n",
       "\n",
       "    .dataframe tbody tr th {\n",
       "        vertical-align: top;\n",
       "    }\n",
       "\n",
       "    .dataframe thead th {\n",
       "        text-align: right;\n",
       "    }\n",
       "</style>\n",
       "<table border=\"1\" class=\"dataframe\">\n",
       "  <thead>\n",
       "    <tr style=\"text-align: right;\">\n",
       "      <th></th>\n",
       "      <th>Название категории</th>\n",
       "      <th>Прибыль за весь период</th>\n",
       "      <th>Продано за весь период, шт</th>\n",
       "    </tr>\n",
       "  </thead>\n",
       "  <tbody>\n",
       "    <tr>\n",
       "      <th>4</th>\n",
       "      <td>Хозтовары</td>\n",
       "      <td>2293353.0</td>\n",
       "      <td>4400</td>\n",
       "    </tr>\n",
       "    <tr>\n",
       "      <th>3</th>\n",
       "      <td>Стройматериалы и бытовая техника</td>\n",
       "      <td>576430.0</td>\n",
       "      <td>1510</td>\n",
       "    </tr>\n",
       "    <tr>\n",
       "      <th>0</th>\n",
       "      <td>Декор и текстиль</td>\n",
       "      <td>520645.0</td>\n",
       "      <td>2387</td>\n",
       "    </tr>\n",
       "    <tr>\n",
       "      <th>2</th>\n",
       "      <td>Растения и рассада</td>\n",
       "      <td>498417.0</td>\n",
       "      <td>4013</td>\n",
       "    </tr>\n",
       "    <tr>\n",
       "      <th>1</th>\n",
       "      <td>Кухонные принадлежности</td>\n",
       "      <td>194227.0</td>\n",
       "      <td>1116</td>\n",
       "    </tr>\n",
       "  </tbody>\n",
       "</table>\n",
       "</div>"
      ],
      "text/plain": [
       "                 Название категории  Прибыль за весь период  \\\n",
       "4                         Хозтовары               2293353.0   \n",
       "3  Стройматериалы и бытовая техника                576430.0   \n",
       "0                  Декор и текстиль                520645.0   \n",
       "2                Растения и рассада                498417.0   \n",
       "1           Кухонные принадлежности                194227.0   \n",
       "\n",
       "   Продано за весь период, шт  \n",
       "4                        4400  \n",
       "3                        1510  \n",
       "0                        2387  \n",
       "2                        4013  \n",
       "1                        1116  "
      ]
     },
     "execution_count": 37,
     "metadata": {},
     "output_type": "execute_result"
    }
   ],
   "source": [
    "# таблица с прибылью и количеством купленных товаров каждой категории\n",
    "cat = orders.pivot_table(index='products_category', values=['cost', 'quantity'], aggfunc={'cost': 'sum', 'quantity': 'sum'}) \\\n",
    "               .reset_index().sort_values(by=['cost', 'quantity'], ascending=False) \\\n",
    "               .rename(columns={'products_category': 'Название категории', \\\n",
    "                                'cost': 'Прибыль за весь период', \\\n",
    "                                'quantity': 'Продано за весь период, шт'})\n",
    "cat"
   ]
  },
  {
   "cell_type": "code",
   "execution_count": 38,
   "id": "748663a7",
   "metadata": {},
   "outputs": [
    {
     "data": {
      "text/html": [
       "<div>\n",
       "<style scoped>\n",
       "    .dataframe tbody tr th:only-of-type {\n",
       "        vertical-align: middle;\n",
       "    }\n",
       "\n",
       "    .dataframe tbody tr th {\n",
       "        vertical-align: top;\n",
       "    }\n",
       "\n",
       "    .dataframe thead th {\n",
       "        text-align: right;\n",
       "    }\n",
       "</style>\n",
       "<table border=\"1\" class=\"dataframe\">\n",
       "  <thead>\n",
       "    <tr style=\"text-align: right;\">\n",
       "      <th>clients_category</th>\n",
       "      <th>Лучшие клиенты, опт</th>\n",
       "      <th>Лучшие клиенты, розница</th>\n",
       "      <th>Новые клиенты, опт</th>\n",
       "      <th>Новые клиенты, розница</th>\n",
       "      <th>Перспективные клиенты, опт</th>\n",
       "      <th>Перспективные клиенты, розница</th>\n",
       "      <th>Потерянные клиенты, опт</th>\n",
       "      <th>Потерянные клиенты, розница</th>\n",
       "      <th>Старые клиенты на пороге оттока, опт</th>\n",
       "      <th>Старые клиенты на пороге оттока, розница</th>\n",
       "    </tr>\n",
       "    <tr>\n",
       "      <th>products_category</th>\n",
       "      <th></th>\n",
       "      <th></th>\n",
       "      <th></th>\n",
       "      <th></th>\n",
       "      <th></th>\n",
       "      <th></th>\n",
       "      <th></th>\n",
       "      <th></th>\n",
       "      <th></th>\n",
       "      <th></th>\n",
       "    </tr>\n",
       "  </thead>\n",
       "  <tbody>\n",
       "    <tr>\n",
       "      <th>Декор и текстиль</th>\n",
       "      <td>30436.0</td>\n",
       "      <td>35193.0</td>\n",
       "      <td>39180.0</td>\n",
       "      <td>104016.0</td>\n",
       "      <td>660.0</td>\n",
       "      <td>386.0</td>\n",
       "      <td>3518.0</td>\n",
       "      <td>19413.0</td>\n",
       "      <td>103687.0</td>\n",
       "      <td>184156.0</td>\n",
       "    </tr>\n",
       "    <tr>\n",
       "      <th>Кухонные принадлежности</th>\n",
       "      <td>11460.0</td>\n",
       "      <td>1677.0</td>\n",
       "      <td>22332.0</td>\n",
       "      <td>38161.0</td>\n",
       "      <td>0.0</td>\n",
       "      <td>672.0</td>\n",
       "      <td>1944.0</td>\n",
       "      <td>20426.0</td>\n",
       "      <td>21604.0</td>\n",
       "      <td>75951.0</td>\n",
       "    </tr>\n",
       "    <tr>\n",
       "      <th>Растения и рассада</th>\n",
       "      <td>2720.0</td>\n",
       "      <td>61674.0</td>\n",
       "      <td>14757.0</td>\n",
       "      <td>235153.0</td>\n",
       "      <td>0.0</td>\n",
       "      <td>7877.0</td>\n",
       "      <td>3301.0</td>\n",
       "      <td>48166.0</td>\n",
       "      <td>22438.0</td>\n",
       "      <td>102331.0</td>\n",
       "    </tr>\n",
       "    <tr>\n",
       "      <th>Стройматериалы и бытовая техника</th>\n",
       "      <td>0.0</td>\n",
       "      <td>32244.0</td>\n",
       "      <td>13628.0</td>\n",
       "      <td>175166.0</td>\n",
       "      <td>440.0</td>\n",
       "      <td>1240.0</td>\n",
       "      <td>1120.0</td>\n",
       "      <td>9592.0</td>\n",
       "      <td>62481.0</td>\n",
       "      <td>280519.0</td>\n",
       "    </tr>\n",
       "    <tr>\n",
       "      <th>Хозтовары</th>\n",
       "      <td>4404.0</td>\n",
       "      <td>90684.0</td>\n",
       "      <td>768162.0</td>\n",
       "      <td>547454.0</td>\n",
       "      <td>0.0</td>\n",
       "      <td>1694.0</td>\n",
       "      <td>1840.0</td>\n",
       "      <td>74418.0</td>\n",
       "      <td>105797.0</td>\n",
       "      <td>698900.0</td>\n",
       "    </tr>\n",
       "  </tbody>\n",
       "</table>\n",
       "</div>"
      ],
      "text/plain": [
       "clients_category                  Лучшие клиенты, опт  \\\n",
       "products_category                                       \n",
       "Декор и текстиль                              30436.0   \n",
       "Кухонные принадлежности                       11460.0   \n",
       "Растения и рассада                             2720.0   \n",
       "Стройматериалы и бытовая техника                  0.0   \n",
       "Хозтовары                                      4404.0   \n",
       "\n",
       "clients_category                  Лучшие клиенты, розница  Новые клиенты, опт  \\\n",
       "products_category                                                               \n",
       "Декор и текстиль                                  35193.0             39180.0   \n",
       "Кухонные принадлежности                            1677.0             22332.0   \n",
       "Растения и рассада                                61674.0             14757.0   \n",
       "Стройматериалы и бытовая техника                  32244.0             13628.0   \n",
       "Хозтовары                                         90684.0            768162.0   \n",
       "\n",
       "clients_category                  Новые клиенты, розница  \\\n",
       "products_category                                          \n",
       "Декор и текстиль                                104016.0   \n",
       "Кухонные принадлежности                          38161.0   \n",
       "Растения и рассада                              235153.0   \n",
       "Стройматериалы и бытовая техника                175166.0   \n",
       "Хозтовары                                       547454.0   \n",
       "\n",
       "clients_category                  Перспективные клиенты, опт  \\\n",
       "products_category                                              \n",
       "Декор и текстиль                                       660.0   \n",
       "Кухонные принадлежности                                  0.0   \n",
       "Растения и рассада                                       0.0   \n",
       "Стройматериалы и бытовая техника                       440.0   \n",
       "Хозтовары                                                0.0   \n",
       "\n",
       "clients_category                  Перспективные клиенты, розница  \\\n",
       "products_category                                                  \n",
       "Декор и текстиль                                           386.0   \n",
       "Кухонные принадлежности                                    672.0   \n",
       "Растения и рассада                                        7877.0   \n",
       "Стройматериалы и бытовая техника                          1240.0   \n",
       "Хозтовары                                                 1694.0   \n",
       "\n",
       "clients_category                  Потерянные клиенты, опт  \\\n",
       "products_category                                           \n",
       "Декор и текстиль                                   3518.0   \n",
       "Кухонные принадлежности                            1944.0   \n",
       "Растения и рассада                                 3301.0   \n",
       "Стройматериалы и бытовая техника                   1120.0   \n",
       "Хозтовары                                          1840.0   \n",
       "\n",
       "clients_category                  Потерянные клиенты, розница  \\\n",
       "products_category                                               \n",
       "Декор и текстиль                                      19413.0   \n",
       "Кухонные принадлежности                               20426.0   \n",
       "Растения и рассада                                    48166.0   \n",
       "Стройматериалы и бытовая техника                       9592.0   \n",
       "Хозтовары                                             74418.0   \n",
       "\n",
       "clients_category                  Старые клиенты на пороге оттока, опт  \\\n",
       "products_category                                                        \n",
       "Декор и текстиль                                              103687.0   \n",
       "Кухонные принадлежности                                        21604.0   \n",
       "Растения и рассада                                             22438.0   \n",
       "Стройматериалы и бытовая техника                               62481.0   \n",
       "Хозтовары                                                     105797.0   \n",
       "\n",
       "clients_category                  Старые клиенты на пороге оттока, розница  \n",
       "products_category                                                           \n",
       "Декор и текстиль                                                  184156.0  \n",
       "Кухонные принадлежности                                            75951.0  \n",
       "Растения и рассада                                                102331.0  \n",
       "Стройматериалы и бытовая техника                                  280519.0  \n",
       "Хозтовары                                                         698900.0  "
      ]
     },
     "execution_count": 38,
     "metadata": {},
     "output_type": "execute_result"
    }
   ],
   "source": [
    "# прибыль с каждой категории товаров\n",
    "ca = cat['Название категории'].to_list()\n",
    "\n",
    "# сводная таблица прибыли с каждой категории товаров для каждой категории клиентов\n",
    "seasonality = orders.query('products_category in @ca') \\\n",
    "                    .pivot_table(index='products_category', columns='clients_category', \\\n",
    "                                 values='cost', aggfunc='sum', \\\n",
    "                                 fill_value=0, \\\n",
    "                                 margins=True, margins_name='Суммарная выручка')\n",
    "\n",
    "seasonality = seasonality.query('products_category in @ca').T[:-1].T\n",
    "seasonality"
   ]
  },
  {
   "cell_type": "code",
   "execution_count": 39,
   "id": "5591c77b",
   "metadata": {},
   "outputs": [
    {
     "data": {
      "application/vnd.plotly.v1+json": {
       "config": {
        "plotlyServerURL": "https://plot.ly"
       },
       "data": [
        {
         "hovertemplate": "категории покупателей=Лучшие клиенты, опт<br>Название категории=%{x}<br>Прибыль=%{y}<extra></extra>",
         "legendgroup": "Лучшие клиенты, опт",
         "line": {
          "color": "rgb(141,211,199)",
          "dash": "solid"
         },
         "marker": {
          "symbol": "circle"
         },
         "mode": "markers+lines",
         "name": "Лучшие клиенты, опт",
         "orientation": "v",
         "showlegend": true,
         "type": "scatter",
         "x": [
          "Декор и текстиль",
          "Кухонные принадлежности",
          "Растения и рассада",
          "Стройматериалы и бытовая техника",
          "Хозтовары"
         ],
         "xaxis": "x",
         "y": [
          30436,
          11460,
          2720,
          0,
          4404
         ],
         "yaxis": "y"
        },
        {
         "hovertemplate": "категории покупателей=Лучшие клиенты, розница<br>Название категории=%{x}<br>Прибыль=%{y}<extra></extra>",
         "legendgroup": "Лучшие клиенты, розница",
         "line": {
          "color": "rgb(190,186,218)",
          "dash": "solid"
         },
         "marker": {
          "symbol": "circle"
         },
         "mode": "markers+lines",
         "name": "Лучшие клиенты, розница",
         "orientation": "v",
         "showlegend": true,
         "type": "scatter",
         "x": [
          "Декор и текстиль",
          "Кухонные принадлежности",
          "Растения и рассада",
          "Стройматериалы и бытовая техника",
          "Хозтовары"
         ],
         "xaxis": "x",
         "y": [
          35193,
          1677,
          61674,
          32244,
          90684
         ],
         "yaxis": "y"
        },
        {
         "hovertemplate": "категории покупателей=Новые клиенты, опт<br>Название категории=%{x}<br>Прибыль=%{y}<extra></extra>",
         "legendgroup": "Новые клиенты, опт",
         "line": {
          "color": "rgb(141,160,203)",
          "dash": "solid"
         },
         "marker": {
          "symbol": "circle"
         },
         "mode": "markers+lines",
         "name": "Новые клиенты, опт",
         "orientation": "v",
         "showlegend": true,
         "type": "scatter",
         "x": [
          "Декор и текстиль",
          "Кухонные принадлежности",
          "Растения и рассада",
          "Стройматериалы и бытовая техника",
          "Хозтовары"
         ],
         "xaxis": "x",
         "y": [
          39180,
          22332,
          14757,
          13628,
          768162
         ],
         "yaxis": "y"
        },
        {
         "hovertemplate": "категории покупателей=Новые клиенты, розница<br>Название категории=%{x}<br>Прибыль=%{y}<extra></extra>",
         "legendgroup": "Новые клиенты, розница",
         "line": {
          "color": "rgb(251,128,114)",
          "dash": "solid"
         },
         "marker": {
          "symbol": "circle"
         },
         "mode": "markers+lines",
         "name": "Новые клиенты, розница",
         "orientation": "v",
         "showlegend": true,
         "type": "scatter",
         "x": [
          "Декор и текстиль",
          "Кухонные принадлежности",
          "Растения и рассада",
          "Стройматериалы и бытовая техника",
          "Хозтовары"
         ],
         "xaxis": "x",
         "y": [
          104016,
          38161,
          235153,
          175166,
          547454
         ],
         "yaxis": "y"
        },
        {
         "hovertemplate": "категории покупателей=Перспективные клиенты, опт<br>Название категории=%{x}<br>Прибыль=%{y}<extra></extra>",
         "legendgroup": "Перспективные клиенты, опт",
         "line": {
          "color": "rgb(128,177,211)",
          "dash": "solid"
         },
         "marker": {
          "symbol": "circle"
         },
         "mode": "markers+lines",
         "name": "Перспективные клиенты, опт",
         "orientation": "v",
         "showlegend": true,
         "type": "scatter",
         "x": [
          "Декор и текстиль",
          "Кухонные принадлежности",
          "Растения и рассада",
          "Стройматериалы и бытовая техника",
          "Хозтовары"
         ],
         "xaxis": "x",
         "y": [
          660,
          0,
          0,
          440,
          0
         ],
         "yaxis": "y"
        },
        {
         "hovertemplate": "категории покупателей=Перспективные клиенты, розница<br>Название категории=%{x}<br>Прибыль=%{y}<extra></extra>",
         "legendgroup": "Перспективные клиенты, розница",
         "line": {
          "color": "rgb(253,180,98)",
          "dash": "solid"
         },
         "marker": {
          "symbol": "circle"
         },
         "mode": "markers+lines",
         "name": "Перспективные клиенты, розница",
         "orientation": "v",
         "showlegend": true,
         "type": "scatter",
         "x": [
          "Декор и текстиль",
          "Кухонные принадлежности",
          "Растения и рассада",
          "Стройматериалы и бытовая техника",
          "Хозтовары"
         ],
         "xaxis": "x",
         "y": [
          386,
          672,
          7877,
          1240,
          1694
         ],
         "yaxis": "y"
        },
        {
         "hovertemplate": "категории покупателей=Потерянные клиенты, опт<br>Название категории=%{x}<br>Прибыль=%{y}<extra></extra>",
         "legendgroup": "Потерянные клиенты, опт",
         "line": {
          "color": "rgb(179,222,105)",
          "dash": "solid"
         },
         "marker": {
          "symbol": "circle"
         },
         "mode": "markers+lines",
         "name": "Потерянные клиенты, опт",
         "orientation": "v",
         "showlegend": true,
         "type": "scatter",
         "x": [
          "Декор и текстиль",
          "Кухонные принадлежности",
          "Растения и рассада",
          "Стройматериалы и бытовая техника",
          "Хозтовары"
         ],
         "xaxis": "x",
         "y": [
          3518,
          1944,
          3301,
          1120,
          1840
         ],
         "yaxis": "y"
        },
        {
         "hovertemplate": "категории покупателей=Потерянные клиенты, розница<br>Название категории=%{x}<br>Прибыль=%{y}<extra></extra>",
         "legendgroup": "Потерянные клиенты, розница",
         "line": {
          "color": "rgb(252,205,229)",
          "dash": "solid"
         },
         "marker": {
          "symbol": "circle"
         },
         "mode": "markers+lines",
         "name": "Потерянные клиенты, розница",
         "orientation": "v",
         "showlegend": true,
         "type": "scatter",
         "x": [
          "Декор и текстиль",
          "Кухонные принадлежности",
          "Растения и рассада",
          "Стройматериалы и бытовая техника",
          "Хозтовары"
         ],
         "xaxis": "x",
         "y": [
          19413,
          20426,
          48166,
          9592,
          74418
         ],
         "yaxis": "y"
        },
        {
         "hovertemplate": "категории покупателей=Старые клиенты на пороге оттока, опт<br>Название категории=%{x}<br>Прибыль=%{y}<extra></extra>",
         "legendgroup": "Старые клиенты на пороге оттока, опт",
         "line": {
          "color": "rgb(217,217,217)",
          "dash": "solid"
         },
         "marker": {
          "symbol": "circle"
         },
         "mode": "markers+lines",
         "name": "Старые клиенты на пороге оттока, опт",
         "orientation": "v",
         "showlegend": true,
         "type": "scatter",
         "x": [
          "Декор и текстиль",
          "Кухонные принадлежности",
          "Растения и рассада",
          "Стройматериалы и бытовая техника",
          "Хозтовары"
         ],
         "xaxis": "x",
         "y": [
          103687,
          21604,
          22438,
          62481,
          105797
         ],
         "yaxis": "y"
        },
        {
         "hovertemplate": "категории покупателей=Старые клиенты на пороге оттока, розница<br>Название категории=%{x}<br>Прибыль=%{y}<extra></extra>",
         "legendgroup": "Старые клиенты на пороге оттока, розница",
         "line": {
          "color": "rgb(188,128,189)",
          "dash": "solid"
         },
         "marker": {
          "symbol": "circle"
         },
         "mode": "markers+lines",
         "name": "Старые клиенты на пороге оттока, розница",
         "orientation": "v",
         "showlegend": true,
         "type": "scatter",
         "x": [
          "Декор и текстиль",
          "Кухонные принадлежности",
          "Растения и рассада",
          "Стройматериалы и бытовая техника",
          "Хозтовары"
         ],
         "xaxis": "x",
         "y": [
          184156,
          75951,
          102331,
          280519,
          698900
         ],
         "yaxis": "y"
        }
       ],
       "layout": {
        "autosize": false,
        "height": 980,
        "legend": {
         "orientation": "h",
         "title": {
          "text": "категории покупателей"
         },
         "tracegroupgap": 0,
         "x": 0.1,
         "y": -0.4
        },
        "margin": {
         "t": 60
        },
        "template": {
         "data": {
          "bar": [
           {
            "error_x": {
             "color": "#2a3f5f"
            },
            "error_y": {
             "color": "#2a3f5f"
            },
            "marker": {
             "line": {
              "color": "#E5ECF6",
              "width": 0.5
             },
             "pattern": {
              "fillmode": "overlay",
              "size": 10,
              "solidity": 0.2
             }
            },
            "type": "bar"
           }
          ],
          "barpolar": [
           {
            "marker": {
             "line": {
              "color": "#E5ECF6",
              "width": 0.5
             },
             "pattern": {
              "fillmode": "overlay",
              "size": 10,
              "solidity": 0.2
             }
            },
            "type": "barpolar"
           }
          ],
          "carpet": [
           {
            "aaxis": {
             "endlinecolor": "#2a3f5f",
             "gridcolor": "white",
             "linecolor": "white",
             "minorgridcolor": "white",
             "startlinecolor": "#2a3f5f"
            },
            "baxis": {
             "endlinecolor": "#2a3f5f",
             "gridcolor": "white",
             "linecolor": "white",
             "minorgridcolor": "white",
             "startlinecolor": "#2a3f5f"
            },
            "type": "carpet"
           }
          ],
          "choropleth": [
           {
            "colorbar": {
             "outlinewidth": 0,
             "ticks": ""
            },
            "type": "choropleth"
           }
          ],
          "contour": [
           {
            "colorbar": {
             "outlinewidth": 0,
             "ticks": ""
            },
            "colorscale": [
             [
              0,
              "#0d0887"
             ],
             [
              0.1111111111111111,
              "#46039f"
             ],
             [
              0.2222222222222222,
              "#7201a8"
             ],
             [
              0.3333333333333333,
              "#9c179e"
             ],
             [
              0.4444444444444444,
              "#bd3786"
             ],
             [
              0.5555555555555556,
              "#d8576b"
             ],
             [
              0.6666666666666666,
              "#ed7953"
             ],
             [
              0.7777777777777778,
              "#fb9f3a"
             ],
             [
              0.8888888888888888,
              "#fdca26"
             ],
             [
              1,
              "#f0f921"
             ]
            ],
            "type": "contour"
           }
          ],
          "contourcarpet": [
           {
            "colorbar": {
             "outlinewidth": 0,
             "ticks": ""
            },
            "type": "contourcarpet"
           }
          ],
          "heatmap": [
           {
            "colorbar": {
             "outlinewidth": 0,
             "ticks": ""
            },
            "colorscale": [
             [
              0,
              "#0d0887"
             ],
             [
              0.1111111111111111,
              "#46039f"
             ],
             [
              0.2222222222222222,
              "#7201a8"
             ],
             [
              0.3333333333333333,
              "#9c179e"
             ],
             [
              0.4444444444444444,
              "#bd3786"
             ],
             [
              0.5555555555555556,
              "#d8576b"
             ],
             [
              0.6666666666666666,
              "#ed7953"
             ],
             [
              0.7777777777777778,
              "#fb9f3a"
             ],
             [
              0.8888888888888888,
              "#fdca26"
             ],
             [
              1,
              "#f0f921"
             ]
            ],
            "type": "heatmap"
           }
          ],
          "heatmapgl": [
           {
            "colorbar": {
             "outlinewidth": 0,
             "ticks": ""
            },
            "colorscale": [
             [
              0,
              "#0d0887"
             ],
             [
              0.1111111111111111,
              "#46039f"
             ],
             [
              0.2222222222222222,
              "#7201a8"
             ],
             [
              0.3333333333333333,
              "#9c179e"
             ],
             [
              0.4444444444444444,
              "#bd3786"
             ],
             [
              0.5555555555555556,
              "#d8576b"
             ],
             [
              0.6666666666666666,
              "#ed7953"
             ],
             [
              0.7777777777777778,
              "#fb9f3a"
             ],
             [
              0.8888888888888888,
              "#fdca26"
             ],
             [
              1,
              "#f0f921"
             ]
            ],
            "type": "heatmapgl"
           }
          ],
          "histogram": [
           {
            "marker": {
             "pattern": {
              "fillmode": "overlay",
              "size": 10,
              "solidity": 0.2
             }
            },
            "type": "histogram"
           }
          ],
          "histogram2d": [
           {
            "colorbar": {
             "outlinewidth": 0,
             "ticks": ""
            },
            "colorscale": [
             [
              0,
              "#0d0887"
             ],
             [
              0.1111111111111111,
              "#46039f"
             ],
             [
              0.2222222222222222,
              "#7201a8"
             ],
             [
              0.3333333333333333,
              "#9c179e"
             ],
             [
              0.4444444444444444,
              "#bd3786"
             ],
             [
              0.5555555555555556,
              "#d8576b"
             ],
             [
              0.6666666666666666,
              "#ed7953"
             ],
             [
              0.7777777777777778,
              "#fb9f3a"
             ],
             [
              0.8888888888888888,
              "#fdca26"
             ],
             [
              1,
              "#f0f921"
             ]
            ],
            "type": "histogram2d"
           }
          ],
          "histogram2dcontour": [
           {
            "colorbar": {
             "outlinewidth": 0,
             "ticks": ""
            },
            "colorscale": [
             [
              0,
              "#0d0887"
             ],
             [
              0.1111111111111111,
              "#46039f"
             ],
             [
              0.2222222222222222,
              "#7201a8"
             ],
             [
              0.3333333333333333,
              "#9c179e"
             ],
             [
              0.4444444444444444,
              "#bd3786"
             ],
             [
              0.5555555555555556,
              "#d8576b"
             ],
             [
              0.6666666666666666,
              "#ed7953"
             ],
             [
              0.7777777777777778,
              "#fb9f3a"
             ],
             [
              0.8888888888888888,
              "#fdca26"
             ],
             [
              1,
              "#f0f921"
             ]
            ],
            "type": "histogram2dcontour"
           }
          ],
          "mesh3d": [
           {
            "colorbar": {
             "outlinewidth": 0,
             "ticks": ""
            },
            "type": "mesh3d"
           }
          ],
          "parcoords": [
           {
            "line": {
             "colorbar": {
              "outlinewidth": 0,
              "ticks": ""
             }
            },
            "type": "parcoords"
           }
          ],
          "pie": [
           {
            "automargin": true,
            "type": "pie"
           }
          ],
          "scatter": [
           {
            "marker": {
             "colorbar": {
              "outlinewidth": 0,
              "ticks": ""
             }
            },
            "type": "scatter"
           }
          ],
          "scatter3d": [
           {
            "line": {
             "colorbar": {
              "outlinewidth": 0,
              "ticks": ""
             }
            },
            "marker": {
             "colorbar": {
              "outlinewidth": 0,
              "ticks": ""
             }
            },
            "type": "scatter3d"
           }
          ],
          "scattercarpet": [
           {
            "marker": {
             "colorbar": {
              "outlinewidth": 0,
              "ticks": ""
             }
            },
            "type": "scattercarpet"
           }
          ],
          "scattergeo": [
           {
            "marker": {
             "colorbar": {
              "outlinewidth": 0,
              "ticks": ""
             }
            },
            "type": "scattergeo"
           }
          ],
          "scattergl": [
           {
            "marker": {
             "colorbar": {
              "outlinewidth": 0,
              "ticks": ""
             }
            },
            "type": "scattergl"
           }
          ],
          "scattermapbox": [
           {
            "marker": {
             "colorbar": {
              "outlinewidth": 0,
              "ticks": ""
             }
            },
            "type": "scattermapbox"
           }
          ],
          "scatterpolar": [
           {
            "marker": {
             "colorbar": {
              "outlinewidth": 0,
              "ticks": ""
             }
            },
            "type": "scatterpolar"
           }
          ],
          "scatterpolargl": [
           {
            "marker": {
             "colorbar": {
              "outlinewidth": 0,
              "ticks": ""
             }
            },
            "type": "scatterpolargl"
           }
          ],
          "scatterternary": [
           {
            "marker": {
             "colorbar": {
              "outlinewidth": 0,
              "ticks": ""
             }
            },
            "type": "scatterternary"
           }
          ],
          "surface": [
           {
            "colorbar": {
             "outlinewidth": 0,
             "ticks": ""
            },
            "colorscale": [
             [
              0,
              "#0d0887"
             ],
             [
              0.1111111111111111,
              "#46039f"
             ],
             [
              0.2222222222222222,
              "#7201a8"
             ],
             [
              0.3333333333333333,
              "#9c179e"
             ],
             [
              0.4444444444444444,
              "#bd3786"
             ],
             [
              0.5555555555555556,
              "#d8576b"
             ],
             [
              0.6666666666666666,
              "#ed7953"
             ],
             [
              0.7777777777777778,
              "#fb9f3a"
             ],
             [
              0.8888888888888888,
              "#fdca26"
             ],
             [
              1,
              "#f0f921"
             ]
            ],
            "type": "surface"
           }
          ],
          "table": [
           {
            "cells": {
             "fill": {
              "color": "#EBF0F8"
             },
             "line": {
              "color": "white"
             }
            },
            "header": {
             "fill": {
              "color": "#C8D4E3"
             },
             "line": {
              "color": "white"
             }
            },
            "type": "table"
           }
          ]
         },
         "layout": {
          "annotationdefaults": {
           "arrowcolor": "#2a3f5f",
           "arrowhead": 0,
           "arrowwidth": 1
          },
          "autotypenumbers": "strict",
          "coloraxis": {
           "colorbar": {
            "outlinewidth": 0,
            "ticks": ""
           }
          },
          "colorscale": {
           "diverging": [
            [
             0,
             "#8e0152"
            ],
            [
             0.1,
             "#c51b7d"
            ],
            [
             0.2,
             "#de77ae"
            ],
            [
             0.3,
             "#f1b6da"
            ],
            [
             0.4,
             "#fde0ef"
            ],
            [
             0.5,
             "#f7f7f7"
            ],
            [
             0.6,
             "#e6f5d0"
            ],
            [
             0.7,
             "#b8e186"
            ],
            [
             0.8,
             "#7fbc41"
            ],
            [
             0.9,
             "#4d9221"
            ],
            [
             1,
             "#276419"
            ]
           ],
           "sequential": [
            [
             0,
             "#0d0887"
            ],
            [
             0.1111111111111111,
             "#46039f"
            ],
            [
             0.2222222222222222,
             "#7201a8"
            ],
            [
             0.3333333333333333,
             "#9c179e"
            ],
            [
             0.4444444444444444,
             "#bd3786"
            ],
            [
             0.5555555555555556,
             "#d8576b"
            ],
            [
             0.6666666666666666,
             "#ed7953"
            ],
            [
             0.7777777777777778,
             "#fb9f3a"
            ],
            [
             0.8888888888888888,
             "#fdca26"
            ],
            [
             1,
             "#f0f921"
            ]
           ],
           "sequentialminus": [
            [
             0,
             "#0d0887"
            ],
            [
             0.1111111111111111,
             "#46039f"
            ],
            [
             0.2222222222222222,
             "#7201a8"
            ],
            [
             0.3333333333333333,
             "#9c179e"
            ],
            [
             0.4444444444444444,
             "#bd3786"
            ],
            [
             0.5555555555555556,
             "#d8576b"
            ],
            [
             0.6666666666666666,
             "#ed7953"
            ],
            [
             0.7777777777777778,
             "#fb9f3a"
            ],
            [
             0.8888888888888888,
             "#fdca26"
            ],
            [
             1,
             "#f0f921"
            ]
           ]
          },
          "colorway": [
           "#636efa",
           "#EF553B",
           "#00cc96",
           "#ab63fa",
           "#FFA15A",
           "#19d3f3",
           "#FF6692",
           "#B6E880",
           "#FF97FF",
           "#FECB52"
          ],
          "font": {
           "color": "#2a3f5f"
          },
          "geo": {
           "bgcolor": "white",
           "lakecolor": "white",
           "landcolor": "#E5ECF6",
           "showlakes": true,
           "showland": true,
           "subunitcolor": "white"
          },
          "hoverlabel": {
           "align": "left"
          },
          "hovermode": "closest",
          "mapbox": {
           "style": "light"
          },
          "paper_bgcolor": "white",
          "plot_bgcolor": "#E5ECF6",
          "polar": {
           "angularaxis": {
            "gridcolor": "white",
            "linecolor": "white",
            "ticks": ""
           },
           "bgcolor": "#E5ECF6",
           "radialaxis": {
            "gridcolor": "white",
            "linecolor": "white",
            "ticks": ""
           }
          },
          "scene": {
           "xaxis": {
            "backgroundcolor": "#E5ECF6",
            "gridcolor": "white",
            "gridwidth": 2,
            "linecolor": "white",
            "showbackground": true,
            "ticks": "",
            "zerolinecolor": "white"
           },
           "yaxis": {
            "backgroundcolor": "#E5ECF6",
            "gridcolor": "white",
            "gridwidth": 2,
            "linecolor": "white",
            "showbackground": true,
            "ticks": "",
            "zerolinecolor": "white"
           },
           "zaxis": {
            "backgroundcolor": "#E5ECF6",
            "gridcolor": "white",
            "gridwidth": 2,
            "linecolor": "white",
            "showbackground": true,
            "ticks": "",
            "zerolinecolor": "white"
           }
          },
          "shapedefaults": {
           "line": {
            "color": "#2a3f5f"
           }
          },
          "ternary": {
           "aaxis": {
            "gridcolor": "white",
            "linecolor": "white",
            "ticks": ""
           },
           "baxis": {
            "gridcolor": "white",
            "linecolor": "white",
            "ticks": ""
           },
           "bgcolor": "#E5ECF6",
           "caxis": {
            "gridcolor": "white",
            "linecolor": "white",
            "ticks": ""
           }
          },
          "title": {
           "x": 0.05
          },
          "xaxis": {
           "automargin": true,
           "gridcolor": "white",
           "linecolor": "white",
           "ticks": "",
           "title": {
            "standoff": 15
           },
           "zerolinecolor": "white",
           "zerolinewidth": 2
          },
          "yaxis": {
           "automargin": true,
           "gridcolor": "white",
           "linecolor": "white",
           "ticks": "",
           "title": {
            "standoff": 15
           },
           "zerolinecolor": "white",
           "zerolinewidth": 2
          }
         }
        },
        "title": {
         "text": "Прибыль с категорий товаров для каждой категории покупателей",
         "x": 0.5
        },
        "width": 980,
        "xaxis": {
         "anchor": "y",
         "domain": [
          0,
          1
         ],
         "tickangle": -45,
         "title": {
          "text": "Название категории"
         },
         "type": "category"
        },
        "yaxis": {
         "anchor": "x",
         "domain": [
          0,
          1
         ],
         "title": {
          "text": "Прибыль"
         }
        }
       }
      },
      "text/html": [
       "<div>                            <div id=\"29f7576a-a7e9-4a11-bf59-f6bf4fbe6cea\" class=\"plotly-graph-div\" style=\"height:980px; width:980px;\"></div>            <script type=\"text/javascript\">                require([\"plotly\"], function(Plotly) {                    window.PLOTLYENV=window.PLOTLYENV || {};                                    if (document.getElementById(\"29f7576a-a7e9-4a11-bf59-f6bf4fbe6cea\")) {                    Plotly.newPlot(                        \"29f7576a-a7e9-4a11-bf59-f6bf4fbe6cea\",                        [{\"hovertemplate\":\"\\u043a\\u0430\\u0442\\u0435\\u0433\\u043e\\u0440\\u0438\\u0438 \\u043f\\u043e\\u043a\\u0443\\u043f\\u0430\\u0442\\u0435\\u043b\\u0435\\u0439=\\u041b\\u0443\\u0447\\u0448\\u0438\\u0435 \\u043a\\u043b\\u0438\\u0435\\u043d\\u0442\\u044b, \\u043e\\u043f\\u0442<br>\\u041d\\u0430\\u0437\\u0432\\u0430\\u043d\\u0438\\u0435 \\u043a\\u0430\\u0442\\u0435\\u0433\\u043e\\u0440\\u0438\\u0438=%{x}<br>\\u041f\\u0440\\u0438\\u0431\\u044b\\u043b\\u044c=%{y}<extra></extra>\",\"legendgroup\":\"\\u041b\\u0443\\u0447\\u0448\\u0438\\u0435 \\u043a\\u043b\\u0438\\u0435\\u043d\\u0442\\u044b, \\u043e\\u043f\\u0442\",\"line\":{\"color\":\"rgb(141,211,199)\",\"dash\":\"solid\"},\"marker\":{\"symbol\":\"circle\"},\"mode\":\"markers+lines\",\"name\":\"\\u041b\\u0443\\u0447\\u0448\\u0438\\u0435 \\u043a\\u043b\\u0438\\u0435\\u043d\\u0442\\u044b, \\u043e\\u043f\\u0442\",\"orientation\":\"v\",\"showlegend\":true,\"x\":[\"\\u0414\\u0435\\u043a\\u043e\\u0440 \\u0438 \\u0442\\u0435\\u043a\\u0441\\u0442\\u0438\\u043b\\u044c\",\"\\u041a\\u0443\\u0445\\u043e\\u043d\\u043d\\u044b\\u0435 \\u043f\\u0440\\u0438\\u043d\\u0430\\u0434\\u043b\\u0435\\u0436\\u043d\\u043e\\u0441\\u0442\\u0438\",\"\\u0420\\u0430\\u0441\\u0442\\u0435\\u043d\\u0438\\u044f \\u0438 \\u0440\\u0430\\u0441\\u0441\\u0430\\u0434\\u0430\",\"\\u0421\\u0442\\u0440\\u043e\\u0439\\u043c\\u0430\\u0442\\u0435\\u0440\\u0438\\u0430\\u043b\\u044b \\u0438 \\u0431\\u044b\\u0442\\u043e\\u0432\\u0430\\u044f \\u0442\\u0435\\u0445\\u043d\\u0438\\u043a\\u0430\",\"\\u0425\\u043e\\u0437\\u0442\\u043e\\u0432\\u0430\\u0440\\u044b\"],\"xaxis\":\"x\",\"y\":[30436.0,11460.0,2720.0,0.0,4404.0],\"yaxis\":\"y\",\"type\":\"scatter\"},{\"hovertemplate\":\"\\u043a\\u0430\\u0442\\u0435\\u0433\\u043e\\u0440\\u0438\\u0438 \\u043f\\u043e\\u043a\\u0443\\u043f\\u0430\\u0442\\u0435\\u043b\\u0435\\u0439=\\u041b\\u0443\\u0447\\u0448\\u0438\\u0435 \\u043a\\u043b\\u0438\\u0435\\u043d\\u0442\\u044b, \\u0440\\u043e\\u0437\\u043d\\u0438\\u0446\\u0430<br>\\u041d\\u0430\\u0437\\u0432\\u0430\\u043d\\u0438\\u0435 \\u043a\\u0430\\u0442\\u0435\\u0433\\u043e\\u0440\\u0438\\u0438=%{x}<br>\\u041f\\u0440\\u0438\\u0431\\u044b\\u043b\\u044c=%{y}<extra></extra>\",\"legendgroup\":\"\\u041b\\u0443\\u0447\\u0448\\u0438\\u0435 \\u043a\\u043b\\u0438\\u0435\\u043d\\u0442\\u044b, \\u0440\\u043e\\u0437\\u043d\\u0438\\u0446\\u0430\",\"line\":{\"color\":\"rgb(190,186,218)\",\"dash\":\"solid\"},\"marker\":{\"symbol\":\"circle\"},\"mode\":\"markers+lines\",\"name\":\"\\u041b\\u0443\\u0447\\u0448\\u0438\\u0435 \\u043a\\u043b\\u0438\\u0435\\u043d\\u0442\\u044b, \\u0440\\u043e\\u0437\\u043d\\u0438\\u0446\\u0430\",\"orientation\":\"v\",\"showlegend\":true,\"x\":[\"\\u0414\\u0435\\u043a\\u043e\\u0440 \\u0438 \\u0442\\u0435\\u043a\\u0441\\u0442\\u0438\\u043b\\u044c\",\"\\u041a\\u0443\\u0445\\u043e\\u043d\\u043d\\u044b\\u0435 \\u043f\\u0440\\u0438\\u043d\\u0430\\u0434\\u043b\\u0435\\u0436\\u043d\\u043e\\u0441\\u0442\\u0438\",\"\\u0420\\u0430\\u0441\\u0442\\u0435\\u043d\\u0438\\u044f \\u0438 \\u0440\\u0430\\u0441\\u0441\\u0430\\u0434\\u0430\",\"\\u0421\\u0442\\u0440\\u043e\\u0439\\u043c\\u0430\\u0442\\u0435\\u0440\\u0438\\u0430\\u043b\\u044b \\u0438 \\u0431\\u044b\\u0442\\u043e\\u0432\\u0430\\u044f \\u0442\\u0435\\u0445\\u043d\\u0438\\u043a\\u0430\",\"\\u0425\\u043e\\u0437\\u0442\\u043e\\u0432\\u0430\\u0440\\u044b\"],\"xaxis\":\"x\",\"y\":[35193.0,1677.0,61674.0,32244.0,90684.0],\"yaxis\":\"y\",\"type\":\"scatter\"},{\"hovertemplate\":\"\\u043a\\u0430\\u0442\\u0435\\u0433\\u043e\\u0440\\u0438\\u0438 \\u043f\\u043e\\u043a\\u0443\\u043f\\u0430\\u0442\\u0435\\u043b\\u0435\\u0439=\\u041d\\u043e\\u0432\\u044b\\u0435 \\u043a\\u043b\\u0438\\u0435\\u043d\\u0442\\u044b, \\u043e\\u043f\\u0442<br>\\u041d\\u0430\\u0437\\u0432\\u0430\\u043d\\u0438\\u0435 \\u043a\\u0430\\u0442\\u0435\\u0433\\u043e\\u0440\\u0438\\u0438=%{x}<br>\\u041f\\u0440\\u0438\\u0431\\u044b\\u043b\\u044c=%{y}<extra></extra>\",\"legendgroup\":\"\\u041d\\u043e\\u0432\\u044b\\u0435 \\u043a\\u043b\\u0438\\u0435\\u043d\\u0442\\u044b, \\u043e\\u043f\\u0442\",\"line\":{\"color\":\"rgb(141,160,203)\",\"dash\":\"solid\"},\"marker\":{\"symbol\":\"circle\"},\"mode\":\"markers+lines\",\"name\":\"\\u041d\\u043e\\u0432\\u044b\\u0435 \\u043a\\u043b\\u0438\\u0435\\u043d\\u0442\\u044b, \\u043e\\u043f\\u0442\",\"orientation\":\"v\",\"showlegend\":true,\"x\":[\"\\u0414\\u0435\\u043a\\u043e\\u0440 \\u0438 \\u0442\\u0435\\u043a\\u0441\\u0442\\u0438\\u043b\\u044c\",\"\\u041a\\u0443\\u0445\\u043e\\u043d\\u043d\\u044b\\u0435 \\u043f\\u0440\\u0438\\u043d\\u0430\\u0434\\u043b\\u0435\\u0436\\u043d\\u043e\\u0441\\u0442\\u0438\",\"\\u0420\\u0430\\u0441\\u0442\\u0435\\u043d\\u0438\\u044f \\u0438 \\u0440\\u0430\\u0441\\u0441\\u0430\\u0434\\u0430\",\"\\u0421\\u0442\\u0440\\u043e\\u0439\\u043c\\u0430\\u0442\\u0435\\u0440\\u0438\\u0430\\u043b\\u044b \\u0438 \\u0431\\u044b\\u0442\\u043e\\u0432\\u0430\\u044f \\u0442\\u0435\\u0445\\u043d\\u0438\\u043a\\u0430\",\"\\u0425\\u043e\\u0437\\u0442\\u043e\\u0432\\u0430\\u0440\\u044b\"],\"xaxis\":\"x\",\"y\":[39180.0,22332.0,14757.0,13628.0,768162.0],\"yaxis\":\"y\",\"type\":\"scatter\"},{\"hovertemplate\":\"\\u043a\\u0430\\u0442\\u0435\\u0433\\u043e\\u0440\\u0438\\u0438 \\u043f\\u043e\\u043a\\u0443\\u043f\\u0430\\u0442\\u0435\\u043b\\u0435\\u0439=\\u041d\\u043e\\u0432\\u044b\\u0435 \\u043a\\u043b\\u0438\\u0435\\u043d\\u0442\\u044b, \\u0440\\u043e\\u0437\\u043d\\u0438\\u0446\\u0430<br>\\u041d\\u0430\\u0437\\u0432\\u0430\\u043d\\u0438\\u0435 \\u043a\\u0430\\u0442\\u0435\\u0433\\u043e\\u0440\\u0438\\u0438=%{x}<br>\\u041f\\u0440\\u0438\\u0431\\u044b\\u043b\\u044c=%{y}<extra></extra>\",\"legendgroup\":\"\\u041d\\u043e\\u0432\\u044b\\u0435 \\u043a\\u043b\\u0438\\u0435\\u043d\\u0442\\u044b, \\u0440\\u043e\\u0437\\u043d\\u0438\\u0446\\u0430\",\"line\":{\"color\":\"rgb(251,128,114)\",\"dash\":\"solid\"},\"marker\":{\"symbol\":\"circle\"},\"mode\":\"markers+lines\",\"name\":\"\\u041d\\u043e\\u0432\\u044b\\u0435 \\u043a\\u043b\\u0438\\u0435\\u043d\\u0442\\u044b, \\u0440\\u043e\\u0437\\u043d\\u0438\\u0446\\u0430\",\"orientation\":\"v\",\"showlegend\":true,\"x\":[\"\\u0414\\u0435\\u043a\\u043e\\u0440 \\u0438 \\u0442\\u0435\\u043a\\u0441\\u0442\\u0438\\u043b\\u044c\",\"\\u041a\\u0443\\u0445\\u043e\\u043d\\u043d\\u044b\\u0435 \\u043f\\u0440\\u0438\\u043d\\u0430\\u0434\\u043b\\u0435\\u0436\\u043d\\u043e\\u0441\\u0442\\u0438\",\"\\u0420\\u0430\\u0441\\u0442\\u0435\\u043d\\u0438\\u044f \\u0438 \\u0440\\u0430\\u0441\\u0441\\u0430\\u0434\\u0430\",\"\\u0421\\u0442\\u0440\\u043e\\u0439\\u043c\\u0430\\u0442\\u0435\\u0440\\u0438\\u0430\\u043b\\u044b \\u0438 \\u0431\\u044b\\u0442\\u043e\\u0432\\u0430\\u044f \\u0442\\u0435\\u0445\\u043d\\u0438\\u043a\\u0430\",\"\\u0425\\u043e\\u0437\\u0442\\u043e\\u0432\\u0430\\u0440\\u044b\"],\"xaxis\":\"x\",\"y\":[104016.0,38161.0,235153.0,175166.0,547454.0],\"yaxis\":\"y\",\"type\":\"scatter\"},{\"hovertemplate\":\"\\u043a\\u0430\\u0442\\u0435\\u0433\\u043e\\u0440\\u0438\\u0438 \\u043f\\u043e\\u043a\\u0443\\u043f\\u0430\\u0442\\u0435\\u043b\\u0435\\u0439=\\u041f\\u0435\\u0440\\u0441\\u043f\\u0435\\u043a\\u0442\\u0438\\u0432\\u043d\\u044b\\u0435 \\u043a\\u043b\\u0438\\u0435\\u043d\\u0442\\u044b, \\u043e\\u043f\\u0442<br>\\u041d\\u0430\\u0437\\u0432\\u0430\\u043d\\u0438\\u0435 \\u043a\\u0430\\u0442\\u0435\\u0433\\u043e\\u0440\\u0438\\u0438=%{x}<br>\\u041f\\u0440\\u0438\\u0431\\u044b\\u043b\\u044c=%{y}<extra></extra>\",\"legendgroup\":\"\\u041f\\u0435\\u0440\\u0441\\u043f\\u0435\\u043a\\u0442\\u0438\\u0432\\u043d\\u044b\\u0435 \\u043a\\u043b\\u0438\\u0435\\u043d\\u0442\\u044b, \\u043e\\u043f\\u0442\",\"line\":{\"color\":\"rgb(128,177,211)\",\"dash\":\"solid\"},\"marker\":{\"symbol\":\"circle\"},\"mode\":\"markers+lines\",\"name\":\"\\u041f\\u0435\\u0440\\u0441\\u043f\\u0435\\u043a\\u0442\\u0438\\u0432\\u043d\\u044b\\u0435 \\u043a\\u043b\\u0438\\u0435\\u043d\\u0442\\u044b, \\u043e\\u043f\\u0442\",\"orientation\":\"v\",\"showlegend\":true,\"x\":[\"\\u0414\\u0435\\u043a\\u043e\\u0440 \\u0438 \\u0442\\u0435\\u043a\\u0441\\u0442\\u0438\\u043b\\u044c\",\"\\u041a\\u0443\\u0445\\u043e\\u043d\\u043d\\u044b\\u0435 \\u043f\\u0440\\u0438\\u043d\\u0430\\u0434\\u043b\\u0435\\u0436\\u043d\\u043e\\u0441\\u0442\\u0438\",\"\\u0420\\u0430\\u0441\\u0442\\u0435\\u043d\\u0438\\u044f \\u0438 \\u0440\\u0430\\u0441\\u0441\\u0430\\u0434\\u0430\",\"\\u0421\\u0442\\u0440\\u043e\\u0439\\u043c\\u0430\\u0442\\u0435\\u0440\\u0438\\u0430\\u043b\\u044b \\u0438 \\u0431\\u044b\\u0442\\u043e\\u0432\\u0430\\u044f \\u0442\\u0435\\u0445\\u043d\\u0438\\u043a\\u0430\",\"\\u0425\\u043e\\u0437\\u0442\\u043e\\u0432\\u0430\\u0440\\u044b\"],\"xaxis\":\"x\",\"y\":[660.0,0.0,0.0,440.0,0.0],\"yaxis\":\"y\",\"type\":\"scatter\"},{\"hovertemplate\":\"\\u043a\\u0430\\u0442\\u0435\\u0433\\u043e\\u0440\\u0438\\u0438 \\u043f\\u043e\\u043a\\u0443\\u043f\\u0430\\u0442\\u0435\\u043b\\u0435\\u0439=\\u041f\\u0435\\u0440\\u0441\\u043f\\u0435\\u043a\\u0442\\u0438\\u0432\\u043d\\u044b\\u0435 \\u043a\\u043b\\u0438\\u0435\\u043d\\u0442\\u044b, \\u0440\\u043e\\u0437\\u043d\\u0438\\u0446\\u0430<br>\\u041d\\u0430\\u0437\\u0432\\u0430\\u043d\\u0438\\u0435 \\u043a\\u0430\\u0442\\u0435\\u0433\\u043e\\u0440\\u0438\\u0438=%{x}<br>\\u041f\\u0440\\u0438\\u0431\\u044b\\u043b\\u044c=%{y}<extra></extra>\",\"legendgroup\":\"\\u041f\\u0435\\u0440\\u0441\\u043f\\u0435\\u043a\\u0442\\u0438\\u0432\\u043d\\u044b\\u0435 \\u043a\\u043b\\u0438\\u0435\\u043d\\u0442\\u044b, \\u0440\\u043e\\u0437\\u043d\\u0438\\u0446\\u0430\",\"line\":{\"color\":\"rgb(253,180,98)\",\"dash\":\"solid\"},\"marker\":{\"symbol\":\"circle\"},\"mode\":\"markers+lines\",\"name\":\"\\u041f\\u0435\\u0440\\u0441\\u043f\\u0435\\u043a\\u0442\\u0438\\u0432\\u043d\\u044b\\u0435 \\u043a\\u043b\\u0438\\u0435\\u043d\\u0442\\u044b, \\u0440\\u043e\\u0437\\u043d\\u0438\\u0446\\u0430\",\"orientation\":\"v\",\"showlegend\":true,\"x\":[\"\\u0414\\u0435\\u043a\\u043e\\u0440 \\u0438 \\u0442\\u0435\\u043a\\u0441\\u0442\\u0438\\u043b\\u044c\",\"\\u041a\\u0443\\u0445\\u043e\\u043d\\u043d\\u044b\\u0435 \\u043f\\u0440\\u0438\\u043d\\u0430\\u0434\\u043b\\u0435\\u0436\\u043d\\u043e\\u0441\\u0442\\u0438\",\"\\u0420\\u0430\\u0441\\u0442\\u0435\\u043d\\u0438\\u044f \\u0438 \\u0440\\u0430\\u0441\\u0441\\u0430\\u0434\\u0430\",\"\\u0421\\u0442\\u0440\\u043e\\u0439\\u043c\\u0430\\u0442\\u0435\\u0440\\u0438\\u0430\\u043b\\u044b \\u0438 \\u0431\\u044b\\u0442\\u043e\\u0432\\u0430\\u044f \\u0442\\u0435\\u0445\\u043d\\u0438\\u043a\\u0430\",\"\\u0425\\u043e\\u0437\\u0442\\u043e\\u0432\\u0430\\u0440\\u044b\"],\"xaxis\":\"x\",\"y\":[386.0,672.0,7877.0,1240.0,1694.0],\"yaxis\":\"y\",\"type\":\"scatter\"},{\"hovertemplate\":\"\\u043a\\u0430\\u0442\\u0435\\u0433\\u043e\\u0440\\u0438\\u0438 \\u043f\\u043e\\u043a\\u0443\\u043f\\u0430\\u0442\\u0435\\u043b\\u0435\\u0439=\\u041f\\u043e\\u0442\\u0435\\u0440\\u044f\\u043d\\u043d\\u044b\\u0435 \\u043a\\u043b\\u0438\\u0435\\u043d\\u0442\\u044b, \\u043e\\u043f\\u0442<br>\\u041d\\u0430\\u0437\\u0432\\u0430\\u043d\\u0438\\u0435 \\u043a\\u0430\\u0442\\u0435\\u0433\\u043e\\u0440\\u0438\\u0438=%{x}<br>\\u041f\\u0440\\u0438\\u0431\\u044b\\u043b\\u044c=%{y}<extra></extra>\",\"legendgroup\":\"\\u041f\\u043e\\u0442\\u0435\\u0440\\u044f\\u043d\\u043d\\u044b\\u0435 \\u043a\\u043b\\u0438\\u0435\\u043d\\u0442\\u044b, \\u043e\\u043f\\u0442\",\"line\":{\"color\":\"rgb(179,222,105)\",\"dash\":\"solid\"},\"marker\":{\"symbol\":\"circle\"},\"mode\":\"markers+lines\",\"name\":\"\\u041f\\u043e\\u0442\\u0435\\u0440\\u044f\\u043d\\u043d\\u044b\\u0435 \\u043a\\u043b\\u0438\\u0435\\u043d\\u0442\\u044b, \\u043e\\u043f\\u0442\",\"orientation\":\"v\",\"showlegend\":true,\"x\":[\"\\u0414\\u0435\\u043a\\u043e\\u0440 \\u0438 \\u0442\\u0435\\u043a\\u0441\\u0442\\u0438\\u043b\\u044c\",\"\\u041a\\u0443\\u0445\\u043e\\u043d\\u043d\\u044b\\u0435 \\u043f\\u0440\\u0438\\u043d\\u0430\\u0434\\u043b\\u0435\\u0436\\u043d\\u043e\\u0441\\u0442\\u0438\",\"\\u0420\\u0430\\u0441\\u0442\\u0435\\u043d\\u0438\\u044f \\u0438 \\u0440\\u0430\\u0441\\u0441\\u0430\\u0434\\u0430\",\"\\u0421\\u0442\\u0440\\u043e\\u0439\\u043c\\u0430\\u0442\\u0435\\u0440\\u0438\\u0430\\u043b\\u044b \\u0438 \\u0431\\u044b\\u0442\\u043e\\u0432\\u0430\\u044f \\u0442\\u0435\\u0445\\u043d\\u0438\\u043a\\u0430\",\"\\u0425\\u043e\\u0437\\u0442\\u043e\\u0432\\u0430\\u0440\\u044b\"],\"xaxis\":\"x\",\"y\":[3518.0,1944.0,3301.0,1120.0,1840.0],\"yaxis\":\"y\",\"type\":\"scatter\"},{\"hovertemplate\":\"\\u043a\\u0430\\u0442\\u0435\\u0433\\u043e\\u0440\\u0438\\u0438 \\u043f\\u043e\\u043a\\u0443\\u043f\\u0430\\u0442\\u0435\\u043b\\u0435\\u0439=\\u041f\\u043e\\u0442\\u0435\\u0440\\u044f\\u043d\\u043d\\u044b\\u0435 \\u043a\\u043b\\u0438\\u0435\\u043d\\u0442\\u044b, \\u0440\\u043e\\u0437\\u043d\\u0438\\u0446\\u0430<br>\\u041d\\u0430\\u0437\\u0432\\u0430\\u043d\\u0438\\u0435 \\u043a\\u0430\\u0442\\u0435\\u0433\\u043e\\u0440\\u0438\\u0438=%{x}<br>\\u041f\\u0440\\u0438\\u0431\\u044b\\u043b\\u044c=%{y}<extra></extra>\",\"legendgroup\":\"\\u041f\\u043e\\u0442\\u0435\\u0440\\u044f\\u043d\\u043d\\u044b\\u0435 \\u043a\\u043b\\u0438\\u0435\\u043d\\u0442\\u044b, \\u0440\\u043e\\u0437\\u043d\\u0438\\u0446\\u0430\",\"line\":{\"color\":\"rgb(252,205,229)\",\"dash\":\"solid\"},\"marker\":{\"symbol\":\"circle\"},\"mode\":\"markers+lines\",\"name\":\"\\u041f\\u043e\\u0442\\u0435\\u0440\\u044f\\u043d\\u043d\\u044b\\u0435 \\u043a\\u043b\\u0438\\u0435\\u043d\\u0442\\u044b, \\u0440\\u043e\\u0437\\u043d\\u0438\\u0446\\u0430\",\"orientation\":\"v\",\"showlegend\":true,\"x\":[\"\\u0414\\u0435\\u043a\\u043e\\u0440 \\u0438 \\u0442\\u0435\\u043a\\u0441\\u0442\\u0438\\u043b\\u044c\",\"\\u041a\\u0443\\u0445\\u043e\\u043d\\u043d\\u044b\\u0435 \\u043f\\u0440\\u0438\\u043d\\u0430\\u0434\\u043b\\u0435\\u0436\\u043d\\u043e\\u0441\\u0442\\u0438\",\"\\u0420\\u0430\\u0441\\u0442\\u0435\\u043d\\u0438\\u044f \\u0438 \\u0440\\u0430\\u0441\\u0441\\u0430\\u0434\\u0430\",\"\\u0421\\u0442\\u0440\\u043e\\u0439\\u043c\\u0430\\u0442\\u0435\\u0440\\u0438\\u0430\\u043b\\u044b \\u0438 \\u0431\\u044b\\u0442\\u043e\\u0432\\u0430\\u044f \\u0442\\u0435\\u0445\\u043d\\u0438\\u043a\\u0430\",\"\\u0425\\u043e\\u0437\\u0442\\u043e\\u0432\\u0430\\u0440\\u044b\"],\"xaxis\":\"x\",\"y\":[19413.0,20426.0,48166.0,9592.0,74418.0],\"yaxis\":\"y\",\"type\":\"scatter\"},{\"hovertemplate\":\"\\u043a\\u0430\\u0442\\u0435\\u0433\\u043e\\u0440\\u0438\\u0438 \\u043f\\u043e\\u043a\\u0443\\u043f\\u0430\\u0442\\u0435\\u043b\\u0435\\u0439=\\u0421\\u0442\\u0430\\u0440\\u044b\\u0435 \\u043a\\u043b\\u0438\\u0435\\u043d\\u0442\\u044b \\u043d\\u0430 \\u043f\\u043e\\u0440\\u043e\\u0433\\u0435 \\u043e\\u0442\\u0442\\u043e\\u043a\\u0430, \\u043e\\u043f\\u0442<br>\\u041d\\u0430\\u0437\\u0432\\u0430\\u043d\\u0438\\u0435 \\u043a\\u0430\\u0442\\u0435\\u0433\\u043e\\u0440\\u0438\\u0438=%{x}<br>\\u041f\\u0440\\u0438\\u0431\\u044b\\u043b\\u044c=%{y}<extra></extra>\",\"legendgroup\":\"\\u0421\\u0442\\u0430\\u0440\\u044b\\u0435 \\u043a\\u043b\\u0438\\u0435\\u043d\\u0442\\u044b \\u043d\\u0430 \\u043f\\u043e\\u0440\\u043e\\u0433\\u0435 \\u043e\\u0442\\u0442\\u043e\\u043a\\u0430, \\u043e\\u043f\\u0442\",\"line\":{\"color\":\"rgb(217,217,217)\",\"dash\":\"solid\"},\"marker\":{\"symbol\":\"circle\"},\"mode\":\"markers+lines\",\"name\":\"\\u0421\\u0442\\u0430\\u0440\\u044b\\u0435 \\u043a\\u043b\\u0438\\u0435\\u043d\\u0442\\u044b \\u043d\\u0430 \\u043f\\u043e\\u0440\\u043e\\u0433\\u0435 \\u043e\\u0442\\u0442\\u043e\\u043a\\u0430, \\u043e\\u043f\\u0442\",\"orientation\":\"v\",\"showlegend\":true,\"x\":[\"\\u0414\\u0435\\u043a\\u043e\\u0440 \\u0438 \\u0442\\u0435\\u043a\\u0441\\u0442\\u0438\\u043b\\u044c\",\"\\u041a\\u0443\\u0445\\u043e\\u043d\\u043d\\u044b\\u0435 \\u043f\\u0440\\u0438\\u043d\\u0430\\u0434\\u043b\\u0435\\u0436\\u043d\\u043e\\u0441\\u0442\\u0438\",\"\\u0420\\u0430\\u0441\\u0442\\u0435\\u043d\\u0438\\u044f \\u0438 \\u0440\\u0430\\u0441\\u0441\\u0430\\u0434\\u0430\",\"\\u0421\\u0442\\u0440\\u043e\\u0439\\u043c\\u0430\\u0442\\u0435\\u0440\\u0438\\u0430\\u043b\\u044b \\u0438 \\u0431\\u044b\\u0442\\u043e\\u0432\\u0430\\u044f \\u0442\\u0435\\u0445\\u043d\\u0438\\u043a\\u0430\",\"\\u0425\\u043e\\u0437\\u0442\\u043e\\u0432\\u0430\\u0440\\u044b\"],\"xaxis\":\"x\",\"y\":[103687.0,21604.0,22438.0,62481.0,105797.0],\"yaxis\":\"y\",\"type\":\"scatter\"},{\"hovertemplate\":\"\\u043a\\u0430\\u0442\\u0435\\u0433\\u043e\\u0440\\u0438\\u0438 \\u043f\\u043e\\u043a\\u0443\\u043f\\u0430\\u0442\\u0435\\u043b\\u0435\\u0439=\\u0421\\u0442\\u0430\\u0440\\u044b\\u0435 \\u043a\\u043b\\u0438\\u0435\\u043d\\u0442\\u044b \\u043d\\u0430 \\u043f\\u043e\\u0440\\u043e\\u0433\\u0435 \\u043e\\u0442\\u0442\\u043e\\u043a\\u0430, \\u0440\\u043e\\u0437\\u043d\\u0438\\u0446\\u0430<br>\\u041d\\u0430\\u0437\\u0432\\u0430\\u043d\\u0438\\u0435 \\u043a\\u0430\\u0442\\u0435\\u0433\\u043e\\u0440\\u0438\\u0438=%{x}<br>\\u041f\\u0440\\u0438\\u0431\\u044b\\u043b\\u044c=%{y}<extra></extra>\",\"legendgroup\":\"\\u0421\\u0442\\u0430\\u0440\\u044b\\u0435 \\u043a\\u043b\\u0438\\u0435\\u043d\\u0442\\u044b \\u043d\\u0430 \\u043f\\u043e\\u0440\\u043e\\u0433\\u0435 \\u043e\\u0442\\u0442\\u043e\\u043a\\u0430, \\u0440\\u043e\\u0437\\u043d\\u0438\\u0446\\u0430\",\"line\":{\"color\":\"rgb(188,128,189)\",\"dash\":\"solid\"},\"marker\":{\"symbol\":\"circle\"},\"mode\":\"markers+lines\",\"name\":\"\\u0421\\u0442\\u0430\\u0440\\u044b\\u0435 \\u043a\\u043b\\u0438\\u0435\\u043d\\u0442\\u044b \\u043d\\u0430 \\u043f\\u043e\\u0440\\u043e\\u0433\\u0435 \\u043e\\u0442\\u0442\\u043e\\u043a\\u0430, \\u0440\\u043e\\u0437\\u043d\\u0438\\u0446\\u0430\",\"orientation\":\"v\",\"showlegend\":true,\"x\":[\"\\u0414\\u0435\\u043a\\u043e\\u0440 \\u0438 \\u0442\\u0435\\u043a\\u0441\\u0442\\u0438\\u043b\\u044c\",\"\\u041a\\u0443\\u0445\\u043e\\u043d\\u043d\\u044b\\u0435 \\u043f\\u0440\\u0438\\u043d\\u0430\\u0434\\u043b\\u0435\\u0436\\u043d\\u043e\\u0441\\u0442\\u0438\",\"\\u0420\\u0430\\u0441\\u0442\\u0435\\u043d\\u0438\\u044f \\u0438 \\u0440\\u0430\\u0441\\u0441\\u0430\\u0434\\u0430\",\"\\u0421\\u0442\\u0440\\u043e\\u0439\\u043c\\u0430\\u0442\\u0435\\u0440\\u0438\\u0430\\u043b\\u044b \\u0438 \\u0431\\u044b\\u0442\\u043e\\u0432\\u0430\\u044f \\u0442\\u0435\\u0445\\u043d\\u0438\\u043a\\u0430\",\"\\u0425\\u043e\\u0437\\u0442\\u043e\\u0432\\u0430\\u0440\\u044b\"],\"xaxis\":\"x\",\"y\":[184156.0,75951.0,102331.0,280519.0,698900.0],\"yaxis\":\"y\",\"type\":\"scatter\"}],                        {\"template\":{\"data\":{\"bar\":[{\"error_x\":{\"color\":\"#2a3f5f\"},\"error_y\":{\"color\":\"#2a3f5f\"},\"marker\":{\"line\":{\"color\":\"#E5ECF6\",\"width\":0.5},\"pattern\":{\"fillmode\":\"overlay\",\"size\":10,\"solidity\":0.2}},\"type\":\"bar\"}],\"barpolar\":[{\"marker\":{\"line\":{\"color\":\"#E5ECF6\",\"width\":0.5},\"pattern\":{\"fillmode\":\"overlay\",\"size\":10,\"solidity\":0.2}},\"type\":\"barpolar\"}],\"carpet\":[{\"aaxis\":{\"endlinecolor\":\"#2a3f5f\",\"gridcolor\":\"white\",\"linecolor\":\"white\",\"minorgridcolor\":\"white\",\"startlinecolor\":\"#2a3f5f\"},\"baxis\":{\"endlinecolor\":\"#2a3f5f\",\"gridcolor\":\"white\",\"linecolor\":\"white\",\"minorgridcolor\":\"white\",\"startlinecolor\":\"#2a3f5f\"},\"type\":\"carpet\"}],\"choropleth\":[{\"colorbar\":{\"outlinewidth\":0,\"ticks\":\"\"},\"type\":\"choropleth\"}],\"contour\":[{\"colorbar\":{\"outlinewidth\":0,\"ticks\":\"\"},\"colorscale\":[[0.0,\"#0d0887\"],[0.1111111111111111,\"#46039f\"],[0.2222222222222222,\"#7201a8\"],[0.3333333333333333,\"#9c179e\"],[0.4444444444444444,\"#bd3786\"],[0.5555555555555556,\"#d8576b\"],[0.6666666666666666,\"#ed7953\"],[0.7777777777777778,\"#fb9f3a\"],[0.8888888888888888,\"#fdca26\"],[1.0,\"#f0f921\"]],\"type\":\"contour\"}],\"contourcarpet\":[{\"colorbar\":{\"outlinewidth\":0,\"ticks\":\"\"},\"type\":\"contourcarpet\"}],\"heatmap\":[{\"colorbar\":{\"outlinewidth\":0,\"ticks\":\"\"},\"colorscale\":[[0.0,\"#0d0887\"],[0.1111111111111111,\"#46039f\"],[0.2222222222222222,\"#7201a8\"],[0.3333333333333333,\"#9c179e\"],[0.4444444444444444,\"#bd3786\"],[0.5555555555555556,\"#d8576b\"],[0.6666666666666666,\"#ed7953\"],[0.7777777777777778,\"#fb9f3a\"],[0.8888888888888888,\"#fdca26\"],[1.0,\"#f0f921\"]],\"type\":\"heatmap\"}],\"heatmapgl\":[{\"colorbar\":{\"outlinewidth\":0,\"ticks\":\"\"},\"colorscale\":[[0.0,\"#0d0887\"],[0.1111111111111111,\"#46039f\"],[0.2222222222222222,\"#7201a8\"],[0.3333333333333333,\"#9c179e\"],[0.4444444444444444,\"#bd3786\"],[0.5555555555555556,\"#d8576b\"],[0.6666666666666666,\"#ed7953\"],[0.7777777777777778,\"#fb9f3a\"],[0.8888888888888888,\"#fdca26\"],[1.0,\"#f0f921\"]],\"type\":\"heatmapgl\"}],\"histogram\":[{\"marker\":{\"pattern\":{\"fillmode\":\"overlay\",\"size\":10,\"solidity\":0.2}},\"type\":\"histogram\"}],\"histogram2d\":[{\"colorbar\":{\"outlinewidth\":0,\"ticks\":\"\"},\"colorscale\":[[0.0,\"#0d0887\"],[0.1111111111111111,\"#46039f\"],[0.2222222222222222,\"#7201a8\"],[0.3333333333333333,\"#9c179e\"],[0.4444444444444444,\"#bd3786\"],[0.5555555555555556,\"#d8576b\"],[0.6666666666666666,\"#ed7953\"],[0.7777777777777778,\"#fb9f3a\"],[0.8888888888888888,\"#fdca26\"],[1.0,\"#f0f921\"]],\"type\":\"histogram2d\"}],\"histogram2dcontour\":[{\"colorbar\":{\"outlinewidth\":0,\"ticks\":\"\"},\"colorscale\":[[0.0,\"#0d0887\"],[0.1111111111111111,\"#46039f\"],[0.2222222222222222,\"#7201a8\"],[0.3333333333333333,\"#9c179e\"],[0.4444444444444444,\"#bd3786\"],[0.5555555555555556,\"#d8576b\"],[0.6666666666666666,\"#ed7953\"],[0.7777777777777778,\"#fb9f3a\"],[0.8888888888888888,\"#fdca26\"],[1.0,\"#f0f921\"]],\"type\":\"histogram2dcontour\"}],\"mesh3d\":[{\"colorbar\":{\"outlinewidth\":0,\"ticks\":\"\"},\"type\":\"mesh3d\"}],\"parcoords\":[{\"line\":{\"colorbar\":{\"outlinewidth\":0,\"ticks\":\"\"}},\"type\":\"parcoords\"}],\"pie\":[{\"automargin\":true,\"type\":\"pie\"}],\"scatter\":[{\"marker\":{\"colorbar\":{\"outlinewidth\":0,\"ticks\":\"\"}},\"type\":\"scatter\"}],\"scatter3d\":[{\"line\":{\"colorbar\":{\"outlinewidth\":0,\"ticks\":\"\"}},\"marker\":{\"colorbar\":{\"outlinewidth\":0,\"ticks\":\"\"}},\"type\":\"scatter3d\"}],\"scattercarpet\":[{\"marker\":{\"colorbar\":{\"outlinewidth\":0,\"ticks\":\"\"}},\"type\":\"scattercarpet\"}],\"scattergeo\":[{\"marker\":{\"colorbar\":{\"outlinewidth\":0,\"ticks\":\"\"}},\"type\":\"scattergeo\"}],\"scattergl\":[{\"marker\":{\"colorbar\":{\"outlinewidth\":0,\"ticks\":\"\"}},\"type\":\"scattergl\"}],\"scattermapbox\":[{\"marker\":{\"colorbar\":{\"outlinewidth\":0,\"ticks\":\"\"}},\"type\":\"scattermapbox\"}],\"scatterpolar\":[{\"marker\":{\"colorbar\":{\"outlinewidth\":0,\"ticks\":\"\"}},\"type\":\"scatterpolar\"}],\"scatterpolargl\":[{\"marker\":{\"colorbar\":{\"outlinewidth\":0,\"ticks\":\"\"}},\"type\":\"scatterpolargl\"}],\"scatterternary\":[{\"marker\":{\"colorbar\":{\"outlinewidth\":0,\"ticks\":\"\"}},\"type\":\"scatterternary\"}],\"surface\":[{\"colorbar\":{\"outlinewidth\":0,\"ticks\":\"\"},\"colorscale\":[[0.0,\"#0d0887\"],[0.1111111111111111,\"#46039f\"],[0.2222222222222222,\"#7201a8\"],[0.3333333333333333,\"#9c179e\"],[0.4444444444444444,\"#bd3786\"],[0.5555555555555556,\"#d8576b\"],[0.6666666666666666,\"#ed7953\"],[0.7777777777777778,\"#fb9f3a\"],[0.8888888888888888,\"#fdca26\"],[1.0,\"#f0f921\"]],\"type\":\"surface\"}],\"table\":[{\"cells\":{\"fill\":{\"color\":\"#EBF0F8\"},\"line\":{\"color\":\"white\"}},\"header\":{\"fill\":{\"color\":\"#C8D4E3\"},\"line\":{\"color\":\"white\"}},\"type\":\"table\"}]},\"layout\":{\"annotationdefaults\":{\"arrowcolor\":\"#2a3f5f\",\"arrowhead\":0,\"arrowwidth\":1},\"autotypenumbers\":\"strict\",\"coloraxis\":{\"colorbar\":{\"outlinewidth\":0,\"ticks\":\"\"}},\"colorscale\":{\"diverging\":[[0,\"#8e0152\"],[0.1,\"#c51b7d\"],[0.2,\"#de77ae\"],[0.3,\"#f1b6da\"],[0.4,\"#fde0ef\"],[0.5,\"#f7f7f7\"],[0.6,\"#e6f5d0\"],[0.7,\"#b8e186\"],[0.8,\"#7fbc41\"],[0.9,\"#4d9221\"],[1,\"#276419\"]],\"sequential\":[[0.0,\"#0d0887\"],[0.1111111111111111,\"#46039f\"],[0.2222222222222222,\"#7201a8\"],[0.3333333333333333,\"#9c179e\"],[0.4444444444444444,\"#bd3786\"],[0.5555555555555556,\"#d8576b\"],[0.6666666666666666,\"#ed7953\"],[0.7777777777777778,\"#fb9f3a\"],[0.8888888888888888,\"#fdca26\"],[1.0,\"#f0f921\"]],\"sequentialminus\":[[0.0,\"#0d0887\"],[0.1111111111111111,\"#46039f\"],[0.2222222222222222,\"#7201a8\"],[0.3333333333333333,\"#9c179e\"],[0.4444444444444444,\"#bd3786\"],[0.5555555555555556,\"#d8576b\"],[0.6666666666666666,\"#ed7953\"],[0.7777777777777778,\"#fb9f3a\"],[0.8888888888888888,\"#fdca26\"],[1.0,\"#f0f921\"]]},\"colorway\":[\"#636efa\",\"#EF553B\",\"#00cc96\",\"#ab63fa\",\"#FFA15A\",\"#19d3f3\",\"#FF6692\",\"#B6E880\",\"#FF97FF\",\"#FECB52\"],\"font\":{\"color\":\"#2a3f5f\"},\"geo\":{\"bgcolor\":\"white\",\"lakecolor\":\"white\",\"landcolor\":\"#E5ECF6\",\"showlakes\":true,\"showland\":true,\"subunitcolor\":\"white\"},\"hoverlabel\":{\"align\":\"left\"},\"hovermode\":\"closest\",\"mapbox\":{\"style\":\"light\"},\"paper_bgcolor\":\"white\",\"plot_bgcolor\":\"#E5ECF6\",\"polar\":{\"angularaxis\":{\"gridcolor\":\"white\",\"linecolor\":\"white\",\"ticks\":\"\"},\"bgcolor\":\"#E5ECF6\",\"radialaxis\":{\"gridcolor\":\"white\",\"linecolor\":\"white\",\"ticks\":\"\"}},\"scene\":{\"xaxis\":{\"backgroundcolor\":\"#E5ECF6\",\"gridcolor\":\"white\",\"gridwidth\":2,\"linecolor\":\"white\",\"showbackground\":true,\"ticks\":\"\",\"zerolinecolor\":\"white\"},\"yaxis\":{\"backgroundcolor\":\"#E5ECF6\",\"gridcolor\":\"white\",\"gridwidth\":2,\"linecolor\":\"white\",\"showbackground\":true,\"ticks\":\"\",\"zerolinecolor\":\"white\"},\"zaxis\":{\"backgroundcolor\":\"#E5ECF6\",\"gridcolor\":\"white\",\"gridwidth\":2,\"linecolor\":\"white\",\"showbackground\":true,\"ticks\":\"\",\"zerolinecolor\":\"white\"}},\"shapedefaults\":{\"line\":{\"color\":\"#2a3f5f\"}},\"ternary\":{\"aaxis\":{\"gridcolor\":\"white\",\"linecolor\":\"white\",\"ticks\":\"\"},\"baxis\":{\"gridcolor\":\"white\",\"linecolor\":\"white\",\"ticks\":\"\"},\"bgcolor\":\"#E5ECF6\",\"caxis\":{\"gridcolor\":\"white\",\"linecolor\":\"white\",\"ticks\":\"\"}},\"title\":{\"x\":0.05},\"xaxis\":{\"automargin\":true,\"gridcolor\":\"white\",\"linecolor\":\"white\",\"ticks\":\"\",\"title\":{\"standoff\":15},\"zerolinecolor\":\"white\",\"zerolinewidth\":2},\"yaxis\":{\"automargin\":true,\"gridcolor\":\"white\",\"linecolor\":\"white\",\"ticks\":\"\",\"title\":{\"standoff\":15},\"zerolinecolor\":\"white\",\"zerolinewidth\":2}}},\"xaxis\":{\"anchor\":\"y\",\"domain\":[0.0,1.0],\"title\":{\"text\":\"\\u041d\\u0430\\u0437\\u0432\\u0430\\u043d\\u0438\\u0435 \\u043a\\u0430\\u0442\\u0435\\u0433\\u043e\\u0440\\u0438\\u0438\"},\"tickangle\":-45,\"type\":\"category\"},\"yaxis\":{\"anchor\":\"x\",\"domain\":[0.0,1.0],\"title\":{\"text\":\"\\u041f\\u0440\\u0438\\u0431\\u044b\\u043b\\u044c\"}},\"legend\":{\"title\":{\"text\":\"\\u043a\\u0430\\u0442\\u0435\\u0433\\u043e\\u0440\\u0438\\u0438 \\u043f\\u043e\\u043a\\u0443\\u043f\\u0430\\u0442\\u0435\\u043b\\u0435\\u0439\"},\"tracegroupgap\":0,\"orientation\":\"h\",\"x\":0.1,\"y\":-0.4},\"margin\":{\"t\":60},\"title\":{\"x\":0.5,\"text\":\"\\u041f\\u0440\\u0438\\u0431\\u044b\\u043b\\u044c \\u0441 \\u043a\\u0430\\u0442\\u0435\\u0433\\u043e\\u0440\\u0438\\u0439 \\u0442\\u043e\\u0432\\u0430\\u0440\\u043e\\u0432 \\u0434\\u043b\\u044f \\u043a\\u0430\\u0436\\u0434\\u043e\\u0439 \\u043a\\u0430\\u0442\\u0435\\u0433\\u043e\\u0440\\u0438\\u0438 \\u043f\\u043e\\u043a\\u0443\\u043f\\u0430\\u0442\\u0435\\u043b\\u0435\\u0439\"},\"autosize\":false,\"width\":980,\"height\":980},                        {\"responsive\": true}                    ).then(function(){\n",
       "                            \n",
       "var gd = document.getElementById('29f7576a-a7e9-4a11-bf59-f6bf4fbe6cea');\n",
       "var x = new MutationObserver(function (mutations, observer) {{\n",
       "        var display = window.getComputedStyle(gd).display;\n",
       "        if (!display || display === 'none') {{\n",
       "            console.log([gd, 'removed!']);\n",
       "            Plotly.purge(gd);\n",
       "            observer.disconnect();\n",
       "        }}\n",
       "}});\n",
       "\n",
       "// Listen for the removal of the full notebook cells\n",
       "var notebookContainer = gd.closest('#notebook-container');\n",
       "if (notebookContainer) {{\n",
       "    x.observe(notebookContainer, {childList: true});\n",
       "}}\n",
       "\n",
       "// Listen for the clearing of the current output cell\n",
       "var outputEl = gd.closest('.output');\n",
       "if (outputEl) {{\n",
       "    x.observe(outputEl, {childList: true});\n",
       "}}\n",
       "\n",
       "                        })                };                });            </script>        </div>"
      ]
     },
     "metadata": {},
     "output_type": "display_data"
    }
   ],
   "source": [
    "# график прибыли с каждой категории товаров для каждой категории клиентов\n",
    "fig = px.line(seasonality,\n",
    "              markers=True,\n",
    "              labels={'value': 'Прибыль', 'RFMQ_rating': 'Кластер', 'products_category': 'Название категории', \\\n",
    "                      'clients_category': 'категории покупателей'},\n",
    "              color_discrete_sequence=[px.colors.qualitative.Set3[0], px.colors.qualitative.Set3[2], \\\n",
    "                                     px.colors.qualitative.Set2[2], px.colors.qualitative.Set3[3], \\\n",
    "                                     px.colors.qualitative.Set3[4], px.colors.qualitative.Set3[5], \\\n",
    "                                     px.colors.qualitative.Set3[6], px.colors.qualitative.Set3[7], \\\n",
    "                                     px.colors.qualitative.Set3[8], px.colors.qualitative.Set3[9], \\\n",
    "                                     px.colors.qualitative.Set3[10], px.colors.qualitative.Set2[0]])\n",
    "fig.update_layout(title_x = 0.5, xaxis_tickangle=-45)\n",
    "fig.update_xaxes(type='category'),\n",
    "fig.update_layout(autosize=False,\n",
    "                  width=980,\n",
    "                  height=980,\n",
    "                  legend_orientation='h', \n",
    "                  legend=dict(x=.1, y=-.4),\n",
    "                  title_text='Прибыль с категорий товаров для каждой категории покупателей'\n",
    "                  )\n",
    "fig.show()"
   ]
  },
  {
   "cell_type": "markdown",
   "id": "ae9602cc",
   "metadata": {},
   "source": [
    "Хозтовары со значительным отрывом лидируют по выручке среди категорий товаров, наименьшую же прибыль принесли товары категории Кухонные принадлежности.\n",
    "<br>График показал, что:\n",
    "- розничные покупатели из категорий Лучшие, Перспективные и Новые клиенты наибольшее количество денег тратят на категории Растения и рассада и Хозтовары;\n",
    "- розничные покупатели из категории Старые клиенты на пороге оттока наибольшее количество денег принесли в категориях Стройматериалы и бытовая техника и Хозтовары;\n",
    "- оптовые покупатели из категорий Старые клиенты на пороге оттока и Новые клиенты наибольшую прибыль принесли в  категориях Декор и текстиль и Хозтовары;\n",
    "- оптовые покупатели из категории Лучшие клиенты принесли наибольшую прибыль в категориях Декор и текстиль и Кухонные принадлежности;\n",
    "- оптовые покупатели из категории Перспективные клиенты принесли наибольшую прибыль в категориях Декор и текстиль и Стройматериалы и бытовая техника."
   ]
  },
  {
   "cell_type": "markdown",
   "id": "4491f643",
   "metadata": {},
   "source": [
    "<a id='p5s3'></a>\n",
    "#### Выявление категорий товаров, пользующихся максимальным спросом в каждой категории покупателей"
   ]
  },
  {
   "cell_type": "code",
   "execution_count": 40,
   "id": "839974f8",
   "metadata": {},
   "outputs": [
    {
     "data": {
      "text/html": [
       "<div>\n",
       "<style scoped>\n",
       "    .dataframe tbody tr th:only-of-type {\n",
       "        vertical-align: middle;\n",
       "    }\n",
       "\n",
       "    .dataframe tbody tr th {\n",
       "        vertical-align: top;\n",
       "    }\n",
       "\n",
       "    .dataframe thead th {\n",
       "        text-align: right;\n",
       "    }\n",
       "</style>\n",
       "<table border=\"1\" class=\"dataframe\">\n",
       "  <thead>\n",
       "    <tr style=\"text-align: right;\">\n",
       "      <th>clients_category</th>\n",
       "      <th>Лучшие клиенты, опт</th>\n",
       "      <th>Лучшие клиенты, розница</th>\n",
       "      <th>Новые клиенты, опт</th>\n",
       "      <th>Новые клиенты, розница</th>\n",
       "      <th>Перспективные клиенты, опт</th>\n",
       "      <th>Перспективные клиенты, розница</th>\n",
       "      <th>Потерянные клиенты, опт</th>\n",
       "      <th>Потерянные клиенты, розница</th>\n",
       "      <th>Старые клиенты на пороге оттока, опт</th>\n",
       "      <th>Старые клиенты на пороге оттока, розница</th>\n",
       "    </tr>\n",
       "    <tr>\n",
       "      <th>products_category</th>\n",
       "      <th></th>\n",
       "      <th></th>\n",
       "      <th></th>\n",
       "      <th></th>\n",
       "      <th></th>\n",
       "      <th></th>\n",
       "      <th></th>\n",
       "      <th></th>\n",
       "      <th></th>\n",
       "      <th></th>\n",
       "    </tr>\n",
       "  </thead>\n",
       "  <tbody>\n",
       "    <tr>\n",
       "      <th>Декор и текстиль</th>\n",
       "      <td>32</td>\n",
       "      <td>31</td>\n",
       "      <td>683</td>\n",
       "      <td>265</td>\n",
       "      <td>30</td>\n",
       "      <td>7</td>\n",
       "      <td>110</td>\n",
       "      <td>164</td>\n",
       "      <td>754</td>\n",
       "      <td>311</td>\n",
       "    </tr>\n",
       "    <tr>\n",
       "      <th>Кухонные принадлежности</th>\n",
       "      <td>60</td>\n",
       "      <td>3</td>\n",
       "      <td>263</td>\n",
       "      <td>107</td>\n",
       "      <td>0</td>\n",
       "      <td>3</td>\n",
       "      <td>46</td>\n",
       "      <td>142</td>\n",
       "      <td>239</td>\n",
       "      <td>253</td>\n",
       "    </tr>\n",
       "    <tr>\n",
       "      <th>Растения и рассада</th>\n",
       "      <td>35</td>\n",
       "      <td>576</td>\n",
       "      <td>196</td>\n",
       "      <td>1822</td>\n",
       "      <td>0</td>\n",
       "      <td>90</td>\n",
       "      <td>134</td>\n",
       "      <td>369</td>\n",
       "      <td>172</td>\n",
       "      <td>619</td>\n",
       "    </tr>\n",
       "    <tr>\n",
       "      <th>Стройматериалы и бытовая техника</th>\n",
       "      <td>0</td>\n",
       "      <td>23</td>\n",
       "      <td>288</td>\n",
       "      <td>128</td>\n",
       "      <td>22</td>\n",
       "      <td>6</td>\n",
       "      <td>45</td>\n",
       "      <td>32</td>\n",
       "      <td>642</td>\n",
       "      <td>324</td>\n",
       "    </tr>\n",
       "    <tr>\n",
       "      <th>Хозтовары</th>\n",
       "      <td>63</td>\n",
       "      <td>79</td>\n",
       "      <td>1742</td>\n",
       "      <td>508</td>\n",
       "      <td>0</td>\n",
       "      <td>12</td>\n",
       "      <td>35</td>\n",
       "      <td>240</td>\n",
       "      <td>894</td>\n",
       "      <td>827</td>\n",
       "    </tr>\n",
       "  </tbody>\n",
       "</table>\n",
       "</div>"
      ],
      "text/plain": [
       "clients_category                  Лучшие клиенты, опт  \\\n",
       "products_category                                       \n",
       "Декор и текстиль                                   32   \n",
       "Кухонные принадлежности                            60   \n",
       "Растения и рассада                                 35   \n",
       "Стройматериалы и бытовая техника                    0   \n",
       "Хозтовары                                          63   \n",
       "\n",
       "clients_category                  Лучшие клиенты, розница  Новые клиенты, опт  \\\n",
       "products_category                                                               \n",
       "Декор и текстиль                                       31                 683   \n",
       "Кухонные принадлежности                                 3                 263   \n",
       "Растения и рассада                                    576                 196   \n",
       "Стройматериалы и бытовая техника                       23                 288   \n",
       "Хозтовары                                              79                1742   \n",
       "\n",
       "clients_category                  Новые клиенты, розница  \\\n",
       "products_category                                          \n",
       "Декор и текстиль                                     265   \n",
       "Кухонные принадлежности                              107   \n",
       "Растения и рассада                                  1822   \n",
       "Стройматериалы и бытовая техника                     128   \n",
       "Хозтовары                                            508   \n",
       "\n",
       "clients_category                  Перспективные клиенты, опт  \\\n",
       "products_category                                              \n",
       "Декор и текстиль                                          30   \n",
       "Кухонные принадлежности                                    0   \n",
       "Растения и рассада                                         0   \n",
       "Стройматериалы и бытовая техника                          22   \n",
       "Хозтовары                                                  0   \n",
       "\n",
       "clients_category                  Перспективные клиенты, розница  \\\n",
       "products_category                                                  \n",
       "Декор и текстиль                                               7   \n",
       "Кухонные принадлежности                                        3   \n",
       "Растения и рассада                                            90   \n",
       "Стройматериалы и бытовая техника                               6   \n",
       "Хозтовары                                                     12   \n",
       "\n",
       "clients_category                  Потерянные клиенты, опт  \\\n",
       "products_category                                           \n",
       "Декор и текстиль                                      110   \n",
       "Кухонные принадлежности                                46   \n",
       "Растения и рассада                                    134   \n",
       "Стройматериалы и бытовая техника                       45   \n",
       "Хозтовары                                              35   \n",
       "\n",
       "clients_category                  Потерянные клиенты, розница  \\\n",
       "products_category                                               \n",
       "Декор и текстиль                                          164   \n",
       "Кухонные принадлежности                                   142   \n",
       "Растения и рассада                                        369   \n",
       "Стройматериалы и бытовая техника                           32   \n",
       "Хозтовары                                                 240   \n",
       "\n",
       "clients_category                  Старые клиенты на пороге оттока, опт  \\\n",
       "products_category                                                        \n",
       "Декор и текстиль                                                   754   \n",
       "Кухонные принадлежности                                            239   \n",
       "Растения и рассада                                                 172   \n",
       "Стройматериалы и бытовая техника                                   642   \n",
       "Хозтовары                                                          894   \n",
       "\n",
       "clients_category                  Старые клиенты на пороге оттока, розница  \n",
       "products_category                                                           \n",
       "Декор и текстиль                                                       311  \n",
       "Кухонные принадлежности                                                253  \n",
       "Растения и рассада                                                     619  \n",
       "Стройматериалы и бытовая техника                                       324  \n",
       "Хозтовары                                                              827  "
      ]
     },
     "execution_count": 40,
     "metadata": {},
     "output_type": "execute_result"
    }
   ],
   "source": [
    "# сводная таблица количества продаж каждой категории товаров для каждой категории клиентов\n",
    "seasonality = orders.query('products_category in @ca') \\\n",
    "                    .pivot_table(index='products_category', columns='clients_category', \\\n",
    "                                 values='quantity', aggfunc='sum', \\\n",
    "                                 fill_value=0, \\\n",
    "                                 margins=True, margins_name='Суммарное количество продаж')\n",
    "\n",
    "seasonality=seasonality.query('products_category in @ca').T[:-1].T\n",
    "seasonality"
   ]
  },
  {
   "cell_type": "code",
   "execution_count": 41,
   "id": "652997c3",
   "metadata": {},
   "outputs": [
    {
     "data": {
      "application/vnd.plotly.v1+json": {
       "config": {
        "plotlyServerURL": "https://plot.ly"
       },
       "data": [
        {
         "hovertemplate": "категории клиентов=Лучшие клиенты, опт<br>Категории продуктов=%{x}<br>Количество проданных товаров=%{y}<extra></extra>",
         "legendgroup": "Лучшие клиенты, опт",
         "line": {
          "color": "rgb(141,211,199)",
          "dash": "solid"
         },
         "marker": {
          "symbol": "circle"
         },
         "mode": "markers+lines",
         "name": "Лучшие клиенты, опт",
         "orientation": "v",
         "showlegend": true,
         "type": "scatter",
         "x": [
          "Декор и текстиль",
          "Кухонные принадлежности",
          "Растения и рассада",
          "Стройматериалы и бытовая техника",
          "Хозтовары"
         ],
         "xaxis": "x",
         "y": [
          32,
          60,
          35,
          0,
          63
         ],
         "yaxis": "y"
        },
        {
         "hovertemplate": "категории клиентов=Лучшие клиенты, розница<br>Категории продуктов=%{x}<br>Количество проданных товаров=%{y}<extra></extra>",
         "legendgroup": "Лучшие клиенты, розница",
         "line": {
          "color": "rgb(190,186,218)",
          "dash": "solid"
         },
         "marker": {
          "symbol": "circle"
         },
         "mode": "markers+lines",
         "name": "Лучшие клиенты, розница",
         "orientation": "v",
         "showlegend": true,
         "type": "scatter",
         "x": [
          "Декор и текстиль",
          "Кухонные принадлежности",
          "Растения и рассада",
          "Стройматериалы и бытовая техника",
          "Хозтовары"
         ],
         "xaxis": "x",
         "y": [
          31,
          3,
          576,
          23,
          79
         ],
         "yaxis": "y"
        },
        {
         "hovertemplate": "категории клиентов=Новые клиенты, опт<br>Категории продуктов=%{x}<br>Количество проданных товаров=%{y}<extra></extra>",
         "legendgroup": "Новые клиенты, опт",
         "line": {
          "color": "rgb(141,160,203)",
          "dash": "solid"
         },
         "marker": {
          "symbol": "circle"
         },
         "mode": "markers+lines",
         "name": "Новые клиенты, опт",
         "orientation": "v",
         "showlegend": true,
         "type": "scatter",
         "x": [
          "Декор и текстиль",
          "Кухонные принадлежности",
          "Растения и рассада",
          "Стройматериалы и бытовая техника",
          "Хозтовары"
         ],
         "xaxis": "x",
         "y": [
          683,
          263,
          196,
          288,
          1742
         ],
         "yaxis": "y"
        },
        {
         "hovertemplate": "категории клиентов=Новые клиенты, розница<br>Категории продуктов=%{x}<br>Количество проданных товаров=%{y}<extra></extra>",
         "legendgroup": "Новые клиенты, розница",
         "line": {
          "color": "rgb(251,128,114)",
          "dash": "solid"
         },
         "marker": {
          "symbol": "circle"
         },
         "mode": "markers+lines",
         "name": "Новые клиенты, розница",
         "orientation": "v",
         "showlegend": true,
         "type": "scatter",
         "x": [
          "Декор и текстиль",
          "Кухонные принадлежности",
          "Растения и рассада",
          "Стройматериалы и бытовая техника",
          "Хозтовары"
         ],
         "xaxis": "x",
         "y": [
          265,
          107,
          1822,
          128,
          508
         ],
         "yaxis": "y"
        },
        {
         "hovertemplate": "категории клиентов=Перспективные клиенты, опт<br>Категории продуктов=%{x}<br>Количество проданных товаров=%{y}<extra></extra>",
         "legendgroup": "Перспективные клиенты, опт",
         "line": {
          "color": "rgb(128,177,211)",
          "dash": "solid"
         },
         "marker": {
          "symbol": "circle"
         },
         "mode": "markers+lines",
         "name": "Перспективные клиенты, опт",
         "orientation": "v",
         "showlegend": true,
         "type": "scatter",
         "x": [
          "Декор и текстиль",
          "Кухонные принадлежности",
          "Растения и рассада",
          "Стройматериалы и бытовая техника",
          "Хозтовары"
         ],
         "xaxis": "x",
         "y": [
          30,
          0,
          0,
          22,
          0
         ],
         "yaxis": "y"
        },
        {
         "hovertemplate": "категории клиентов=Перспективные клиенты, розница<br>Категории продуктов=%{x}<br>Количество проданных товаров=%{y}<extra></extra>",
         "legendgroup": "Перспективные клиенты, розница",
         "line": {
          "color": "rgb(253,180,98)",
          "dash": "solid"
         },
         "marker": {
          "symbol": "circle"
         },
         "mode": "markers+lines",
         "name": "Перспективные клиенты, розница",
         "orientation": "v",
         "showlegend": true,
         "type": "scatter",
         "x": [
          "Декор и текстиль",
          "Кухонные принадлежности",
          "Растения и рассада",
          "Стройматериалы и бытовая техника",
          "Хозтовары"
         ],
         "xaxis": "x",
         "y": [
          7,
          3,
          90,
          6,
          12
         ],
         "yaxis": "y"
        },
        {
         "hovertemplate": "категории клиентов=Потерянные клиенты, опт<br>Категории продуктов=%{x}<br>Количество проданных товаров=%{y}<extra></extra>",
         "legendgroup": "Потерянные клиенты, опт",
         "line": {
          "color": "rgb(179,222,105)",
          "dash": "solid"
         },
         "marker": {
          "symbol": "circle"
         },
         "mode": "markers+lines",
         "name": "Потерянные клиенты, опт",
         "orientation": "v",
         "showlegend": true,
         "type": "scatter",
         "x": [
          "Декор и текстиль",
          "Кухонные принадлежности",
          "Растения и рассада",
          "Стройматериалы и бытовая техника",
          "Хозтовары"
         ],
         "xaxis": "x",
         "y": [
          110,
          46,
          134,
          45,
          35
         ],
         "yaxis": "y"
        },
        {
         "hovertemplate": "категории клиентов=Потерянные клиенты, розница<br>Категории продуктов=%{x}<br>Количество проданных товаров=%{y}<extra></extra>",
         "legendgroup": "Потерянные клиенты, розница",
         "line": {
          "color": "rgb(252,205,229)",
          "dash": "solid"
         },
         "marker": {
          "symbol": "circle"
         },
         "mode": "markers+lines",
         "name": "Потерянные клиенты, розница",
         "orientation": "v",
         "showlegend": true,
         "type": "scatter",
         "x": [
          "Декор и текстиль",
          "Кухонные принадлежности",
          "Растения и рассада",
          "Стройматериалы и бытовая техника",
          "Хозтовары"
         ],
         "xaxis": "x",
         "y": [
          164,
          142,
          369,
          32,
          240
         ],
         "yaxis": "y"
        },
        {
         "hovertemplate": "категории клиентов=Старые клиенты на пороге оттока, опт<br>Категории продуктов=%{x}<br>Количество проданных товаров=%{y}<extra></extra>",
         "legendgroup": "Старые клиенты на пороге оттока, опт",
         "line": {
          "color": "rgb(217,217,217)",
          "dash": "solid"
         },
         "marker": {
          "symbol": "circle"
         },
         "mode": "markers+lines",
         "name": "Старые клиенты на пороге оттока, опт",
         "orientation": "v",
         "showlegend": true,
         "type": "scatter",
         "x": [
          "Декор и текстиль",
          "Кухонные принадлежности",
          "Растения и рассада",
          "Стройматериалы и бытовая техника",
          "Хозтовары"
         ],
         "xaxis": "x",
         "y": [
          754,
          239,
          172,
          642,
          894
         ],
         "yaxis": "y"
        },
        {
         "hovertemplate": "категории клиентов=Старые клиенты на пороге оттока, розница<br>Категории продуктов=%{x}<br>Количество проданных товаров=%{y}<extra></extra>",
         "legendgroup": "Старые клиенты на пороге оттока, розница",
         "line": {
          "color": "rgb(188,128,189)",
          "dash": "solid"
         },
         "marker": {
          "symbol": "circle"
         },
         "mode": "markers+lines",
         "name": "Старые клиенты на пороге оттока, розница",
         "orientation": "v",
         "showlegend": true,
         "type": "scatter",
         "x": [
          "Декор и текстиль",
          "Кухонные принадлежности",
          "Растения и рассада",
          "Стройматериалы и бытовая техника",
          "Хозтовары"
         ],
         "xaxis": "x",
         "y": [
          311,
          253,
          619,
          324,
          827
         ],
         "yaxis": "y"
        }
       ],
       "layout": {
        "autosize": false,
        "height": 980,
        "legend": {
         "orientation": "h",
         "title": {
          "text": "категории клиентов"
         },
         "tracegroupgap": 0,
         "x": 0.1,
         "y": -0.4
        },
        "margin": {
         "t": 60
        },
        "template": {
         "data": {
          "bar": [
           {
            "error_x": {
             "color": "#2a3f5f"
            },
            "error_y": {
             "color": "#2a3f5f"
            },
            "marker": {
             "line": {
              "color": "#E5ECF6",
              "width": 0.5
             },
             "pattern": {
              "fillmode": "overlay",
              "size": 10,
              "solidity": 0.2
             }
            },
            "type": "bar"
           }
          ],
          "barpolar": [
           {
            "marker": {
             "line": {
              "color": "#E5ECF6",
              "width": 0.5
             },
             "pattern": {
              "fillmode": "overlay",
              "size": 10,
              "solidity": 0.2
             }
            },
            "type": "barpolar"
           }
          ],
          "carpet": [
           {
            "aaxis": {
             "endlinecolor": "#2a3f5f",
             "gridcolor": "white",
             "linecolor": "white",
             "minorgridcolor": "white",
             "startlinecolor": "#2a3f5f"
            },
            "baxis": {
             "endlinecolor": "#2a3f5f",
             "gridcolor": "white",
             "linecolor": "white",
             "minorgridcolor": "white",
             "startlinecolor": "#2a3f5f"
            },
            "type": "carpet"
           }
          ],
          "choropleth": [
           {
            "colorbar": {
             "outlinewidth": 0,
             "ticks": ""
            },
            "type": "choropleth"
           }
          ],
          "contour": [
           {
            "colorbar": {
             "outlinewidth": 0,
             "ticks": ""
            },
            "colorscale": [
             [
              0,
              "#0d0887"
             ],
             [
              0.1111111111111111,
              "#46039f"
             ],
             [
              0.2222222222222222,
              "#7201a8"
             ],
             [
              0.3333333333333333,
              "#9c179e"
             ],
             [
              0.4444444444444444,
              "#bd3786"
             ],
             [
              0.5555555555555556,
              "#d8576b"
             ],
             [
              0.6666666666666666,
              "#ed7953"
             ],
             [
              0.7777777777777778,
              "#fb9f3a"
             ],
             [
              0.8888888888888888,
              "#fdca26"
             ],
             [
              1,
              "#f0f921"
             ]
            ],
            "type": "contour"
           }
          ],
          "contourcarpet": [
           {
            "colorbar": {
             "outlinewidth": 0,
             "ticks": ""
            },
            "type": "contourcarpet"
           }
          ],
          "heatmap": [
           {
            "colorbar": {
             "outlinewidth": 0,
             "ticks": ""
            },
            "colorscale": [
             [
              0,
              "#0d0887"
             ],
             [
              0.1111111111111111,
              "#46039f"
             ],
             [
              0.2222222222222222,
              "#7201a8"
             ],
             [
              0.3333333333333333,
              "#9c179e"
             ],
             [
              0.4444444444444444,
              "#bd3786"
             ],
             [
              0.5555555555555556,
              "#d8576b"
             ],
             [
              0.6666666666666666,
              "#ed7953"
             ],
             [
              0.7777777777777778,
              "#fb9f3a"
             ],
             [
              0.8888888888888888,
              "#fdca26"
             ],
             [
              1,
              "#f0f921"
             ]
            ],
            "type": "heatmap"
           }
          ],
          "heatmapgl": [
           {
            "colorbar": {
             "outlinewidth": 0,
             "ticks": ""
            },
            "colorscale": [
             [
              0,
              "#0d0887"
             ],
             [
              0.1111111111111111,
              "#46039f"
             ],
             [
              0.2222222222222222,
              "#7201a8"
             ],
             [
              0.3333333333333333,
              "#9c179e"
             ],
             [
              0.4444444444444444,
              "#bd3786"
             ],
             [
              0.5555555555555556,
              "#d8576b"
             ],
             [
              0.6666666666666666,
              "#ed7953"
             ],
             [
              0.7777777777777778,
              "#fb9f3a"
             ],
             [
              0.8888888888888888,
              "#fdca26"
             ],
             [
              1,
              "#f0f921"
             ]
            ],
            "type": "heatmapgl"
           }
          ],
          "histogram": [
           {
            "marker": {
             "pattern": {
              "fillmode": "overlay",
              "size": 10,
              "solidity": 0.2
             }
            },
            "type": "histogram"
           }
          ],
          "histogram2d": [
           {
            "colorbar": {
             "outlinewidth": 0,
             "ticks": ""
            },
            "colorscale": [
             [
              0,
              "#0d0887"
             ],
             [
              0.1111111111111111,
              "#46039f"
             ],
             [
              0.2222222222222222,
              "#7201a8"
             ],
             [
              0.3333333333333333,
              "#9c179e"
             ],
             [
              0.4444444444444444,
              "#bd3786"
             ],
             [
              0.5555555555555556,
              "#d8576b"
             ],
             [
              0.6666666666666666,
              "#ed7953"
             ],
             [
              0.7777777777777778,
              "#fb9f3a"
             ],
             [
              0.8888888888888888,
              "#fdca26"
             ],
             [
              1,
              "#f0f921"
             ]
            ],
            "type": "histogram2d"
           }
          ],
          "histogram2dcontour": [
           {
            "colorbar": {
             "outlinewidth": 0,
             "ticks": ""
            },
            "colorscale": [
             [
              0,
              "#0d0887"
             ],
             [
              0.1111111111111111,
              "#46039f"
             ],
             [
              0.2222222222222222,
              "#7201a8"
             ],
             [
              0.3333333333333333,
              "#9c179e"
             ],
             [
              0.4444444444444444,
              "#bd3786"
             ],
             [
              0.5555555555555556,
              "#d8576b"
             ],
             [
              0.6666666666666666,
              "#ed7953"
             ],
             [
              0.7777777777777778,
              "#fb9f3a"
             ],
             [
              0.8888888888888888,
              "#fdca26"
             ],
             [
              1,
              "#f0f921"
             ]
            ],
            "type": "histogram2dcontour"
           }
          ],
          "mesh3d": [
           {
            "colorbar": {
             "outlinewidth": 0,
             "ticks": ""
            },
            "type": "mesh3d"
           }
          ],
          "parcoords": [
           {
            "line": {
             "colorbar": {
              "outlinewidth": 0,
              "ticks": ""
             }
            },
            "type": "parcoords"
           }
          ],
          "pie": [
           {
            "automargin": true,
            "type": "pie"
           }
          ],
          "scatter": [
           {
            "marker": {
             "colorbar": {
              "outlinewidth": 0,
              "ticks": ""
             }
            },
            "type": "scatter"
           }
          ],
          "scatter3d": [
           {
            "line": {
             "colorbar": {
              "outlinewidth": 0,
              "ticks": ""
             }
            },
            "marker": {
             "colorbar": {
              "outlinewidth": 0,
              "ticks": ""
             }
            },
            "type": "scatter3d"
           }
          ],
          "scattercarpet": [
           {
            "marker": {
             "colorbar": {
              "outlinewidth": 0,
              "ticks": ""
             }
            },
            "type": "scattercarpet"
           }
          ],
          "scattergeo": [
           {
            "marker": {
             "colorbar": {
              "outlinewidth": 0,
              "ticks": ""
             }
            },
            "type": "scattergeo"
           }
          ],
          "scattergl": [
           {
            "marker": {
             "colorbar": {
              "outlinewidth": 0,
              "ticks": ""
             }
            },
            "type": "scattergl"
           }
          ],
          "scattermapbox": [
           {
            "marker": {
             "colorbar": {
              "outlinewidth": 0,
              "ticks": ""
             }
            },
            "type": "scattermapbox"
           }
          ],
          "scatterpolar": [
           {
            "marker": {
             "colorbar": {
              "outlinewidth": 0,
              "ticks": ""
             }
            },
            "type": "scatterpolar"
           }
          ],
          "scatterpolargl": [
           {
            "marker": {
             "colorbar": {
              "outlinewidth": 0,
              "ticks": ""
             }
            },
            "type": "scatterpolargl"
           }
          ],
          "scatterternary": [
           {
            "marker": {
             "colorbar": {
              "outlinewidth": 0,
              "ticks": ""
             }
            },
            "type": "scatterternary"
           }
          ],
          "surface": [
           {
            "colorbar": {
             "outlinewidth": 0,
             "ticks": ""
            },
            "colorscale": [
             [
              0,
              "#0d0887"
             ],
             [
              0.1111111111111111,
              "#46039f"
             ],
             [
              0.2222222222222222,
              "#7201a8"
             ],
             [
              0.3333333333333333,
              "#9c179e"
             ],
             [
              0.4444444444444444,
              "#bd3786"
             ],
             [
              0.5555555555555556,
              "#d8576b"
             ],
             [
              0.6666666666666666,
              "#ed7953"
             ],
             [
              0.7777777777777778,
              "#fb9f3a"
             ],
             [
              0.8888888888888888,
              "#fdca26"
             ],
             [
              1,
              "#f0f921"
             ]
            ],
            "type": "surface"
           }
          ],
          "table": [
           {
            "cells": {
             "fill": {
              "color": "#EBF0F8"
             },
             "line": {
              "color": "white"
             }
            },
            "header": {
             "fill": {
              "color": "#C8D4E3"
             },
             "line": {
              "color": "white"
             }
            },
            "type": "table"
           }
          ]
         },
         "layout": {
          "annotationdefaults": {
           "arrowcolor": "#2a3f5f",
           "arrowhead": 0,
           "arrowwidth": 1
          },
          "autotypenumbers": "strict",
          "coloraxis": {
           "colorbar": {
            "outlinewidth": 0,
            "ticks": ""
           }
          },
          "colorscale": {
           "diverging": [
            [
             0,
             "#8e0152"
            ],
            [
             0.1,
             "#c51b7d"
            ],
            [
             0.2,
             "#de77ae"
            ],
            [
             0.3,
             "#f1b6da"
            ],
            [
             0.4,
             "#fde0ef"
            ],
            [
             0.5,
             "#f7f7f7"
            ],
            [
             0.6,
             "#e6f5d0"
            ],
            [
             0.7,
             "#b8e186"
            ],
            [
             0.8,
             "#7fbc41"
            ],
            [
             0.9,
             "#4d9221"
            ],
            [
             1,
             "#276419"
            ]
           ],
           "sequential": [
            [
             0,
             "#0d0887"
            ],
            [
             0.1111111111111111,
             "#46039f"
            ],
            [
             0.2222222222222222,
             "#7201a8"
            ],
            [
             0.3333333333333333,
             "#9c179e"
            ],
            [
             0.4444444444444444,
             "#bd3786"
            ],
            [
             0.5555555555555556,
             "#d8576b"
            ],
            [
             0.6666666666666666,
             "#ed7953"
            ],
            [
             0.7777777777777778,
             "#fb9f3a"
            ],
            [
             0.8888888888888888,
             "#fdca26"
            ],
            [
             1,
             "#f0f921"
            ]
           ],
           "sequentialminus": [
            [
             0,
             "#0d0887"
            ],
            [
             0.1111111111111111,
             "#46039f"
            ],
            [
             0.2222222222222222,
             "#7201a8"
            ],
            [
             0.3333333333333333,
             "#9c179e"
            ],
            [
             0.4444444444444444,
             "#bd3786"
            ],
            [
             0.5555555555555556,
             "#d8576b"
            ],
            [
             0.6666666666666666,
             "#ed7953"
            ],
            [
             0.7777777777777778,
             "#fb9f3a"
            ],
            [
             0.8888888888888888,
             "#fdca26"
            ],
            [
             1,
             "#f0f921"
            ]
           ]
          },
          "colorway": [
           "#636efa",
           "#EF553B",
           "#00cc96",
           "#ab63fa",
           "#FFA15A",
           "#19d3f3",
           "#FF6692",
           "#B6E880",
           "#FF97FF",
           "#FECB52"
          ],
          "font": {
           "color": "#2a3f5f"
          },
          "geo": {
           "bgcolor": "white",
           "lakecolor": "white",
           "landcolor": "#E5ECF6",
           "showlakes": true,
           "showland": true,
           "subunitcolor": "white"
          },
          "hoverlabel": {
           "align": "left"
          },
          "hovermode": "closest",
          "mapbox": {
           "style": "light"
          },
          "paper_bgcolor": "white",
          "plot_bgcolor": "#E5ECF6",
          "polar": {
           "angularaxis": {
            "gridcolor": "white",
            "linecolor": "white",
            "ticks": ""
           },
           "bgcolor": "#E5ECF6",
           "radialaxis": {
            "gridcolor": "white",
            "linecolor": "white",
            "ticks": ""
           }
          },
          "scene": {
           "xaxis": {
            "backgroundcolor": "#E5ECF6",
            "gridcolor": "white",
            "gridwidth": 2,
            "linecolor": "white",
            "showbackground": true,
            "ticks": "",
            "zerolinecolor": "white"
           },
           "yaxis": {
            "backgroundcolor": "#E5ECF6",
            "gridcolor": "white",
            "gridwidth": 2,
            "linecolor": "white",
            "showbackground": true,
            "ticks": "",
            "zerolinecolor": "white"
           },
           "zaxis": {
            "backgroundcolor": "#E5ECF6",
            "gridcolor": "white",
            "gridwidth": 2,
            "linecolor": "white",
            "showbackground": true,
            "ticks": "",
            "zerolinecolor": "white"
           }
          },
          "shapedefaults": {
           "line": {
            "color": "#2a3f5f"
           }
          },
          "ternary": {
           "aaxis": {
            "gridcolor": "white",
            "linecolor": "white",
            "ticks": ""
           },
           "baxis": {
            "gridcolor": "white",
            "linecolor": "white",
            "ticks": ""
           },
           "bgcolor": "#E5ECF6",
           "caxis": {
            "gridcolor": "white",
            "linecolor": "white",
            "ticks": ""
           }
          },
          "title": {
           "x": 0.05
          },
          "xaxis": {
           "automargin": true,
           "gridcolor": "white",
           "linecolor": "white",
           "ticks": "",
           "title": {
            "standoff": 15
           },
           "zerolinecolor": "white",
           "zerolinewidth": 2
          },
          "yaxis": {
           "automargin": true,
           "gridcolor": "white",
           "linecolor": "white",
           "ticks": "",
           "title": {
            "standoff": 15
           },
           "zerolinecolor": "white",
           "zerolinewidth": 2
          }
         }
        },
        "title": {
         "text": "Количество продаж каждой категории товаров в разбивке по категориям",
         "x": 0.5
        },
        "width": 980,
        "xaxis": {
         "anchor": "y",
         "domain": [
          0,
          1
         ],
         "tickangle": -45,
         "title": {
          "text": "Категории продуктов"
         },
         "type": "category"
        },
        "yaxis": {
         "anchor": "x",
         "domain": [
          0,
          1
         ],
         "title": {
          "text": "Количество проданных товаров"
         }
        }
       }
      },
      "text/html": [
       "<div>                            <div id=\"3aa491fd-d465-4737-9e6e-89f1a343f956\" class=\"plotly-graph-div\" style=\"height:980px; width:980px;\"></div>            <script type=\"text/javascript\">                require([\"plotly\"], function(Plotly) {                    window.PLOTLYENV=window.PLOTLYENV || {};                                    if (document.getElementById(\"3aa491fd-d465-4737-9e6e-89f1a343f956\")) {                    Plotly.newPlot(                        \"3aa491fd-d465-4737-9e6e-89f1a343f956\",                        [{\"hovertemplate\":\"\\u043a\\u0430\\u0442\\u0435\\u0433\\u043e\\u0440\\u0438\\u0438 \\u043a\\u043b\\u0438\\u0435\\u043d\\u0442\\u043e\\u0432=\\u041b\\u0443\\u0447\\u0448\\u0438\\u0435 \\u043a\\u043b\\u0438\\u0435\\u043d\\u0442\\u044b, \\u043e\\u043f\\u0442<br>\\u041a\\u0430\\u0442\\u0435\\u0433\\u043e\\u0440\\u0438\\u0438 \\u043f\\u0440\\u043e\\u0434\\u0443\\u043a\\u0442\\u043e\\u0432=%{x}<br>\\u041a\\u043e\\u043b\\u0438\\u0447\\u0435\\u0441\\u0442\\u0432\\u043e \\u043f\\u0440\\u043e\\u0434\\u0430\\u043d\\u043d\\u044b\\u0445 \\u0442\\u043e\\u0432\\u0430\\u0440\\u043e\\u0432=%{y}<extra></extra>\",\"legendgroup\":\"\\u041b\\u0443\\u0447\\u0448\\u0438\\u0435 \\u043a\\u043b\\u0438\\u0435\\u043d\\u0442\\u044b, \\u043e\\u043f\\u0442\",\"line\":{\"color\":\"rgb(141,211,199)\",\"dash\":\"solid\"},\"marker\":{\"symbol\":\"circle\"},\"mode\":\"markers+lines\",\"name\":\"\\u041b\\u0443\\u0447\\u0448\\u0438\\u0435 \\u043a\\u043b\\u0438\\u0435\\u043d\\u0442\\u044b, \\u043e\\u043f\\u0442\",\"orientation\":\"v\",\"showlegend\":true,\"x\":[\"\\u0414\\u0435\\u043a\\u043e\\u0440 \\u0438 \\u0442\\u0435\\u043a\\u0441\\u0442\\u0438\\u043b\\u044c\",\"\\u041a\\u0443\\u0445\\u043e\\u043d\\u043d\\u044b\\u0435 \\u043f\\u0440\\u0438\\u043d\\u0430\\u0434\\u043b\\u0435\\u0436\\u043d\\u043e\\u0441\\u0442\\u0438\",\"\\u0420\\u0430\\u0441\\u0442\\u0435\\u043d\\u0438\\u044f \\u0438 \\u0440\\u0430\\u0441\\u0441\\u0430\\u0434\\u0430\",\"\\u0421\\u0442\\u0440\\u043e\\u0439\\u043c\\u0430\\u0442\\u0435\\u0440\\u0438\\u0430\\u043b\\u044b \\u0438 \\u0431\\u044b\\u0442\\u043e\\u0432\\u0430\\u044f \\u0442\\u0435\\u0445\\u043d\\u0438\\u043a\\u0430\",\"\\u0425\\u043e\\u0437\\u0442\\u043e\\u0432\\u0430\\u0440\\u044b\"],\"xaxis\":\"x\",\"y\":[32,60,35,0,63],\"yaxis\":\"y\",\"type\":\"scatter\"},{\"hovertemplate\":\"\\u043a\\u0430\\u0442\\u0435\\u0433\\u043e\\u0440\\u0438\\u0438 \\u043a\\u043b\\u0438\\u0435\\u043d\\u0442\\u043e\\u0432=\\u041b\\u0443\\u0447\\u0448\\u0438\\u0435 \\u043a\\u043b\\u0438\\u0435\\u043d\\u0442\\u044b, \\u0440\\u043e\\u0437\\u043d\\u0438\\u0446\\u0430<br>\\u041a\\u0430\\u0442\\u0435\\u0433\\u043e\\u0440\\u0438\\u0438 \\u043f\\u0440\\u043e\\u0434\\u0443\\u043a\\u0442\\u043e\\u0432=%{x}<br>\\u041a\\u043e\\u043b\\u0438\\u0447\\u0435\\u0441\\u0442\\u0432\\u043e \\u043f\\u0440\\u043e\\u0434\\u0430\\u043d\\u043d\\u044b\\u0445 \\u0442\\u043e\\u0432\\u0430\\u0440\\u043e\\u0432=%{y}<extra></extra>\",\"legendgroup\":\"\\u041b\\u0443\\u0447\\u0448\\u0438\\u0435 \\u043a\\u043b\\u0438\\u0435\\u043d\\u0442\\u044b, \\u0440\\u043e\\u0437\\u043d\\u0438\\u0446\\u0430\",\"line\":{\"color\":\"rgb(190,186,218)\",\"dash\":\"solid\"},\"marker\":{\"symbol\":\"circle\"},\"mode\":\"markers+lines\",\"name\":\"\\u041b\\u0443\\u0447\\u0448\\u0438\\u0435 \\u043a\\u043b\\u0438\\u0435\\u043d\\u0442\\u044b, \\u0440\\u043e\\u0437\\u043d\\u0438\\u0446\\u0430\",\"orientation\":\"v\",\"showlegend\":true,\"x\":[\"\\u0414\\u0435\\u043a\\u043e\\u0440 \\u0438 \\u0442\\u0435\\u043a\\u0441\\u0442\\u0438\\u043b\\u044c\",\"\\u041a\\u0443\\u0445\\u043e\\u043d\\u043d\\u044b\\u0435 \\u043f\\u0440\\u0438\\u043d\\u0430\\u0434\\u043b\\u0435\\u0436\\u043d\\u043e\\u0441\\u0442\\u0438\",\"\\u0420\\u0430\\u0441\\u0442\\u0435\\u043d\\u0438\\u044f \\u0438 \\u0440\\u0430\\u0441\\u0441\\u0430\\u0434\\u0430\",\"\\u0421\\u0442\\u0440\\u043e\\u0439\\u043c\\u0430\\u0442\\u0435\\u0440\\u0438\\u0430\\u043b\\u044b \\u0438 \\u0431\\u044b\\u0442\\u043e\\u0432\\u0430\\u044f \\u0442\\u0435\\u0445\\u043d\\u0438\\u043a\\u0430\",\"\\u0425\\u043e\\u0437\\u0442\\u043e\\u0432\\u0430\\u0440\\u044b\"],\"xaxis\":\"x\",\"y\":[31,3,576,23,79],\"yaxis\":\"y\",\"type\":\"scatter\"},{\"hovertemplate\":\"\\u043a\\u0430\\u0442\\u0435\\u0433\\u043e\\u0440\\u0438\\u0438 \\u043a\\u043b\\u0438\\u0435\\u043d\\u0442\\u043e\\u0432=\\u041d\\u043e\\u0432\\u044b\\u0435 \\u043a\\u043b\\u0438\\u0435\\u043d\\u0442\\u044b, \\u043e\\u043f\\u0442<br>\\u041a\\u0430\\u0442\\u0435\\u0433\\u043e\\u0440\\u0438\\u0438 \\u043f\\u0440\\u043e\\u0434\\u0443\\u043a\\u0442\\u043e\\u0432=%{x}<br>\\u041a\\u043e\\u043b\\u0438\\u0447\\u0435\\u0441\\u0442\\u0432\\u043e \\u043f\\u0440\\u043e\\u0434\\u0430\\u043d\\u043d\\u044b\\u0445 \\u0442\\u043e\\u0432\\u0430\\u0440\\u043e\\u0432=%{y}<extra></extra>\",\"legendgroup\":\"\\u041d\\u043e\\u0432\\u044b\\u0435 \\u043a\\u043b\\u0438\\u0435\\u043d\\u0442\\u044b, \\u043e\\u043f\\u0442\",\"line\":{\"color\":\"rgb(141,160,203)\",\"dash\":\"solid\"},\"marker\":{\"symbol\":\"circle\"},\"mode\":\"markers+lines\",\"name\":\"\\u041d\\u043e\\u0432\\u044b\\u0435 \\u043a\\u043b\\u0438\\u0435\\u043d\\u0442\\u044b, \\u043e\\u043f\\u0442\",\"orientation\":\"v\",\"showlegend\":true,\"x\":[\"\\u0414\\u0435\\u043a\\u043e\\u0440 \\u0438 \\u0442\\u0435\\u043a\\u0441\\u0442\\u0438\\u043b\\u044c\",\"\\u041a\\u0443\\u0445\\u043e\\u043d\\u043d\\u044b\\u0435 \\u043f\\u0440\\u0438\\u043d\\u0430\\u0434\\u043b\\u0435\\u0436\\u043d\\u043e\\u0441\\u0442\\u0438\",\"\\u0420\\u0430\\u0441\\u0442\\u0435\\u043d\\u0438\\u044f \\u0438 \\u0440\\u0430\\u0441\\u0441\\u0430\\u0434\\u0430\",\"\\u0421\\u0442\\u0440\\u043e\\u0439\\u043c\\u0430\\u0442\\u0435\\u0440\\u0438\\u0430\\u043b\\u044b \\u0438 \\u0431\\u044b\\u0442\\u043e\\u0432\\u0430\\u044f \\u0442\\u0435\\u0445\\u043d\\u0438\\u043a\\u0430\",\"\\u0425\\u043e\\u0437\\u0442\\u043e\\u0432\\u0430\\u0440\\u044b\"],\"xaxis\":\"x\",\"y\":[683,263,196,288,1742],\"yaxis\":\"y\",\"type\":\"scatter\"},{\"hovertemplate\":\"\\u043a\\u0430\\u0442\\u0435\\u0433\\u043e\\u0440\\u0438\\u0438 \\u043a\\u043b\\u0438\\u0435\\u043d\\u0442\\u043e\\u0432=\\u041d\\u043e\\u0432\\u044b\\u0435 \\u043a\\u043b\\u0438\\u0435\\u043d\\u0442\\u044b, \\u0440\\u043e\\u0437\\u043d\\u0438\\u0446\\u0430<br>\\u041a\\u0430\\u0442\\u0435\\u0433\\u043e\\u0440\\u0438\\u0438 \\u043f\\u0440\\u043e\\u0434\\u0443\\u043a\\u0442\\u043e\\u0432=%{x}<br>\\u041a\\u043e\\u043b\\u0438\\u0447\\u0435\\u0441\\u0442\\u0432\\u043e \\u043f\\u0440\\u043e\\u0434\\u0430\\u043d\\u043d\\u044b\\u0445 \\u0442\\u043e\\u0432\\u0430\\u0440\\u043e\\u0432=%{y}<extra></extra>\",\"legendgroup\":\"\\u041d\\u043e\\u0432\\u044b\\u0435 \\u043a\\u043b\\u0438\\u0435\\u043d\\u0442\\u044b, \\u0440\\u043e\\u0437\\u043d\\u0438\\u0446\\u0430\",\"line\":{\"color\":\"rgb(251,128,114)\",\"dash\":\"solid\"},\"marker\":{\"symbol\":\"circle\"},\"mode\":\"markers+lines\",\"name\":\"\\u041d\\u043e\\u0432\\u044b\\u0435 \\u043a\\u043b\\u0438\\u0435\\u043d\\u0442\\u044b, \\u0440\\u043e\\u0437\\u043d\\u0438\\u0446\\u0430\",\"orientation\":\"v\",\"showlegend\":true,\"x\":[\"\\u0414\\u0435\\u043a\\u043e\\u0440 \\u0438 \\u0442\\u0435\\u043a\\u0441\\u0442\\u0438\\u043b\\u044c\",\"\\u041a\\u0443\\u0445\\u043e\\u043d\\u043d\\u044b\\u0435 \\u043f\\u0440\\u0438\\u043d\\u0430\\u0434\\u043b\\u0435\\u0436\\u043d\\u043e\\u0441\\u0442\\u0438\",\"\\u0420\\u0430\\u0441\\u0442\\u0435\\u043d\\u0438\\u044f \\u0438 \\u0440\\u0430\\u0441\\u0441\\u0430\\u0434\\u0430\",\"\\u0421\\u0442\\u0440\\u043e\\u0439\\u043c\\u0430\\u0442\\u0435\\u0440\\u0438\\u0430\\u043b\\u044b \\u0438 \\u0431\\u044b\\u0442\\u043e\\u0432\\u0430\\u044f \\u0442\\u0435\\u0445\\u043d\\u0438\\u043a\\u0430\",\"\\u0425\\u043e\\u0437\\u0442\\u043e\\u0432\\u0430\\u0440\\u044b\"],\"xaxis\":\"x\",\"y\":[265,107,1822,128,508],\"yaxis\":\"y\",\"type\":\"scatter\"},{\"hovertemplate\":\"\\u043a\\u0430\\u0442\\u0435\\u0433\\u043e\\u0440\\u0438\\u0438 \\u043a\\u043b\\u0438\\u0435\\u043d\\u0442\\u043e\\u0432=\\u041f\\u0435\\u0440\\u0441\\u043f\\u0435\\u043a\\u0442\\u0438\\u0432\\u043d\\u044b\\u0435 \\u043a\\u043b\\u0438\\u0435\\u043d\\u0442\\u044b, \\u043e\\u043f\\u0442<br>\\u041a\\u0430\\u0442\\u0435\\u0433\\u043e\\u0440\\u0438\\u0438 \\u043f\\u0440\\u043e\\u0434\\u0443\\u043a\\u0442\\u043e\\u0432=%{x}<br>\\u041a\\u043e\\u043b\\u0438\\u0447\\u0435\\u0441\\u0442\\u0432\\u043e \\u043f\\u0440\\u043e\\u0434\\u0430\\u043d\\u043d\\u044b\\u0445 \\u0442\\u043e\\u0432\\u0430\\u0440\\u043e\\u0432=%{y}<extra></extra>\",\"legendgroup\":\"\\u041f\\u0435\\u0440\\u0441\\u043f\\u0435\\u043a\\u0442\\u0438\\u0432\\u043d\\u044b\\u0435 \\u043a\\u043b\\u0438\\u0435\\u043d\\u0442\\u044b, \\u043e\\u043f\\u0442\",\"line\":{\"color\":\"rgb(128,177,211)\",\"dash\":\"solid\"},\"marker\":{\"symbol\":\"circle\"},\"mode\":\"markers+lines\",\"name\":\"\\u041f\\u0435\\u0440\\u0441\\u043f\\u0435\\u043a\\u0442\\u0438\\u0432\\u043d\\u044b\\u0435 \\u043a\\u043b\\u0438\\u0435\\u043d\\u0442\\u044b, \\u043e\\u043f\\u0442\",\"orientation\":\"v\",\"showlegend\":true,\"x\":[\"\\u0414\\u0435\\u043a\\u043e\\u0440 \\u0438 \\u0442\\u0435\\u043a\\u0441\\u0442\\u0438\\u043b\\u044c\",\"\\u041a\\u0443\\u0445\\u043e\\u043d\\u043d\\u044b\\u0435 \\u043f\\u0440\\u0438\\u043d\\u0430\\u0434\\u043b\\u0435\\u0436\\u043d\\u043e\\u0441\\u0442\\u0438\",\"\\u0420\\u0430\\u0441\\u0442\\u0435\\u043d\\u0438\\u044f \\u0438 \\u0440\\u0430\\u0441\\u0441\\u0430\\u0434\\u0430\",\"\\u0421\\u0442\\u0440\\u043e\\u0439\\u043c\\u0430\\u0442\\u0435\\u0440\\u0438\\u0430\\u043b\\u044b \\u0438 \\u0431\\u044b\\u0442\\u043e\\u0432\\u0430\\u044f \\u0442\\u0435\\u0445\\u043d\\u0438\\u043a\\u0430\",\"\\u0425\\u043e\\u0437\\u0442\\u043e\\u0432\\u0430\\u0440\\u044b\"],\"xaxis\":\"x\",\"y\":[30,0,0,22,0],\"yaxis\":\"y\",\"type\":\"scatter\"},{\"hovertemplate\":\"\\u043a\\u0430\\u0442\\u0435\\u0433\\u043e\\u0440\\u0438\\u0438 \\u043a\\u043b\\u0438\\u0435\\u043d\\u0442\\u043e\\u0432=\\u041f\\u0435\\u0440\\u0441\\u043f\\u0435\\u043a\\u0442\\u0438\\u0432\\u043d\\u044b\\u0435 \\u043a\\u043b\\u0438\\u0435\\u043d\\u0442\\u044b, \\u0440\\u043e\\u0437\\u043d\\u0438\\u0446\\u0430<br>\\u041a\\u0430\\u0442\\u0435\\u0433\\u043e\\u0440\\u0438\\u0438 \\u043f\\u0440\\u043e\\u0434\\u0443\\u043a\\u0442\\u043e\\u0432=%{x}<br>\\u041a\\u043e\\u043b\\u0438\\u0447\\u0435\\u0441\\u0442\\u0432\\u043e \\u043f\\u0440\\u043e\\u0434\\u0430\\u043d\\u043d\\u044b\\u0445 \\u0442\\u043e\\u0432\\u0430\\u0440\\u043e\\u0432=%{y}<extra></extra>\",\"legendgroup\":\"\\u041f\\u0435\\u0440\\u0441\\u043f\\u0435\\u043a\\u0442\\u0438\\u0432\\u043d\\u044b\\u0435 \\u043a\\u043b\\u0438\\u0435\\u043d\\u0442\\u044b, \\u0440\\u043e\\u0437\\u043d\\u0438\\u0446\\u0430\",\"line\":{\"color\":\"rgb(253,180,98)\",\"dash\":\"solid\"},\"marker\":{\"symbol\":\"circle\"},\"mode\":\"markers+lines\",\"name\":\"\\u041f\\u0435\\u0440\\u0441\\u043f\\u0435\\u043a\\u0442\\u0438\\u0432\\u043d\\u044b\\u0435 \\u043a\\u043b\\u0438\\u0435\\u043d\\u0442\\u044b, \\u0440\\u043e\\u0437\\u043d\\u0438\\u0446\\u0430\",\"orientation\":\"v\",\"showlegend\":true,\"x\":[\"\\u0414\\u0435\\u043a\\u043e\\u0440 \\u0438 \\u0442\\u0435\\u043a\\u0441\\u0442\\u0438\\u043b\\u044c\",\"\\u041a\\u0443\\u0445\\u043e\\u043d\\u043d\\u044b\\u0435 \\u043f\\u0440\\u0438\\u043d\\u0430\\u0434\\u043b\\u0435\\u0436\\u043d\\u043e\\u0441\\u0442\\u0438\",\"\\u0420\\u0430\\u0441\\u0442\\u0435\\u043d\\u0438\\u044f \\u0438 \\u0440\\u0430\\u0441\\u0441\\u0430\\u0434\\u0430\",\"\\u0421\\u0442\\u0440\\u043e\\u0439\\u043c\\u0430\\u0442\\u0435\\u0440\\u0438\\u0430\\u043b\\u044b \\u0438 \\u0431\\u044b\\u0442\\u043e\\u0432\\u0430\\u044f \\u0442\\u0435\\u0445\\u043d\\u0438\\u043a\\u0430\",\"\\u0425\\u043e\\u0437\\u0442\\u043e\\u0432\\u0430\\u0440\\u044b\"],\"xaxis\":\"x\",\"y\":[7,3,90,6,12],\"yaxis\":\"y\",\"type\":\"scatter\"},{\"hovertemplate\":\"\\u043a\\u0430\\u0442\\u0435\\u0433\\u043e\\u0440\\u0438\\u0438 \\u043a\\u043b\\u0438\\u0435\\u043d\\u0442\\u043e\\u0432=\\u041f\\u043e\\u0442\\u0435\\u0440\\u044f\\u043d\\u043d\\u044b\\u0435 \\u043a\\u043b\\u0438\\u0435\\u043d\\u0442\\u044b, \\u043e\\u043f\\u0442<br>\\u041a\\u0430\\u0442\\u0435\\u0433\\u043e\\u0440\\u0438\\u0438 \\u043f\\u0440\\u043e\\u0434\\u0443\\u043a\\u0442\\u043e\\u0432=%{x}<br>\\u041a\\u043e\\u043b\\u0438\\u0447\\u0435\\u0441\\u0442\\u0432\\u043e \\u043f\\u0440\\u043e\\u0434\\u0430\\u043d\\u043d\\u044b\\u0445 \\u0442\\u043e\\u0432\\u0430\\u0440\\u043e\\u0432=%{y}<extra></extra>\",\"legendgroup\":\"\\u041f\\u043e\\u0442\\u0435\\u0440\\u044f\\u043d\\u043d\\u044b\\u0435 \\u043a\\u043b\\u0438\\u0435\\u043d\\u0442\\u044b, \\u043e\\u043f\\u0442\",\"line\":{\"color\":\"rgb(179,222,105)\",\"dash\":\"solid\"},\"marker\":{\"symbol\":\"circle\"},\"mode\":\"markers+lines\",\"name\":\"\\u041f\\u043e\\u0442\\u0435\\u0440\\u044f\\u043d\\u043d\\u044b\\u0435 \\u043a\\u043b\\u0438\\u0435\\u043d\\u0442\\u044b, \\u043e\\u043f\\u0442\",\"orientation\":\"v\",\"showlegend\":true,\"x\":[\"\\u0414\\u0435\\u043a\\u043e\\u0440 \\u0438 \\u0442\\u0435\\u043a\\u0441\\u0442\\u0438\\u043b\\u044c\",\"\\u041a\\u0443\\u0445\\u043e\\u043d\\u043d\\u044b\\u0435 \\u043f\\u0440\\u0438\\u043d\\u0430\\u0434\\u043b\\u0435\\u0436\\u043d\\u043e\\u0441\\u0442\\u0438\",\"\\u0420\\u0430\\u0441\\u0442\\u0435\\u043d\\u0438\\u044f \\u0438 \\u0440\\u0430\\u0441\\u0441\\u0430\\u0434\\u0430\",\"\\u0421\\u0442\\u0440\\u043e\\u0439\\u043c\\u0430\\u0442\\u0435\\u0440\\u0438\\u0430\\u043b\\u044b \\u0438 \\u0431\\u044b\\u0442\\u043e\\u0432\\u0430\\u044f \\u0442\\u0435\\u0445\\u043d\\u0438\\u043a\\u0430\",\"\\u0425\\u043e\\u0437\\u0442\\u043e\\u0432\\u0430\\u0440\\u044b\"],\"xaxis\":\"x\",\"y\":[110,46,134,45,35],\"yaxis\":\"y\",\"type\":\"scatter\"},{\"hovertemplate\":\"\\u043a\\u0430\\u0442\\u0435\\u0433\\u043e\\u0440\\u0438\\u0438 \\u043a\\u043b\\u0438\\u0435\\u043d\\u0442\\u043e\\u0432=\\u041f\\u043e\\u0442\\u0435\\u0440\\u044f\\u043d\\u043d\\u044b\\u0435 \\u043a\\u043b\\u0438\\u0435\\u043d\\u0442\\u044b, \\u0440\\u043e\\u0437\\u043d\\u0438\\u0446\\u0430<br>\\u041a\\u0430\\u0442\\u0435\\u0433\\u043e\\u0440\\u0438\\u0438 \\u043f\\u0440\\u043e\\u0434\\u0443\\u043a\\u0442\\u043e\\u0432=%{x}<br>\\u041a\\u043e\\u043b\\u0438\\u0447\\u0435\\u0441\\u0442\\u0432\\u043e \\u043f\\u0440\\u043e\\u0434\\u0430\\u043d\\u043d\\u044b\\u0445 \\u0442\\u043e\\u0432\\u0430\\u0440\\u043e\\u0432=%{y}<extra></extra>\",\"legendgroup\":\"\\u041f\\u043e\\u0442\\u0435\\u0440\\u044f\\u043d\\u043d\\u044b\\u0435 \\u043a\\u043b\\u0438\\u0435\\u043d\\u0442\\u044b, \\u0440\\u043e\\u0437\\u043d\\u0438\\u0446\\u0430\",\"line\":{\"color\":\"rgb(252,205,229)\",\"dash\":\"solid\"},\"marker\":{\"symbol\":\"circle\"},\"mode\":\"markers+lines\",\"name\":\"\\u041f\\u043e\\u0442\\u0435\\u0440\\u044f\\u043d\\u043d\\u044b\\u0435 \\u043a\\u043b\\u0438\\u0435\\u043d\\u0442\\u044b, \\u0440\\u043e\\u0437\\u043d\\u0438\\u0446\\u0430\",\"orientation\":\"v\",\"showlegend\":true,\"x\":[\"\\u0414\\u0435\\u043a\\u043e\\u0440 \\u0438 \\u0442\\u0435\\u043a\\u0441\\u0442\\u0438\\u043b\\u044c\",\"\\u041a\\u0443\\u0445\\u043e\\u043d\\u043d\\u044b\\u0435 \\u043f\\u0440\\u0438\\u043d\\u0430\\u0434\\u043b\\u0435\\u0436\\u043d\\u043e\\u0441\\u0442\\u0438\",\"\\u0420\\u0430\\u0441\\u0442\\u0435\\u043d\\u0438\\u044f \\u0438 \\u0440\\u0430\\u0441\\u0441\\u0430\\u0434\\u0430\",\"\\u0421\\u0442\\u0440\\u043e\\u0439\\u043c\\u0430\\u0442\\u0435\\u0440\\u0438\\u0430\\u043b\\u044b \\u0438 \\u0431\\u044b\\u0442\\u043e\\u0432\\u0430\\u044f \\u0442\\u0435\\u0445\\u043d\\u0438\\u043a\\u0430\",\"\\u0425\\u043e\\u0437\\u0442\\u043e\\u0432\\u0430\\u0440\\u044b\"],\"xaxis\":\"x\",\"y\":[164,142,369,32,240],\"yaxis\":\"y\",\"type\":\"scatter\"},{\"hovertemplate\":\"\\u043a\\u0430\\u0442\\u0435\\u0433\\u043e\\u0440\\u0438\\u0438 \\u043a\\u043b\\u0438\\u0435\\u043d\\u0442\\u043e\\u0432=\\u0421\\u0442\\u0430\\u0440\\u044b\\u0435 \\u043a\\u043b\\u0438\\u0435\\u043d\\u0442\\u044b \\u043d\\u0430 \\u043f\\u043e\\u0440\\u043e\\u0433\\u0435 \\u043e\\u0442\\u0442\\u043e\\u043a\\u0430, \\u043e\\u043f\\u0442<br>\\u041a\\u0430\\u0442\\u0435\\u0433\\u043e\\u0440\\u0438\\u0438 \\u043f\\u0440\\u043e\\u0434\\u0443\\u043a\\u0442\\u043e\\u0432=%{x}<br>\\u041a\\u043e\\u043b\\u0438\\u0447\\u0435\\u0441\\u0442\\u0432\\u043e \\u043f\\u0440\\u043e\\u0434\\u0430\\u043d\\u043d\\u044b\\u0445 \\u0442\\u043e\\u0432\\u0430\\u0440\\u043e\\u0432=%{y}<extra></extra>\",\"legendgroup\":\"\\u0421\\u0442\\u0430\\u0440\\u044b\\u0435 \\u043a\\u043b\\u0438\\u0435\\u043d\\u0442\\u044b \\u043d\\u0430 \\u043f\\u043e\\u0440\\u043e\\u0433\\u0435 \\u043e\\u0442\\u0442\\u043e\\u043a\\u0430, \\u043e\\u043f\\u0442\",\"line\":{\"color\":\"rgb(217,217,217)\",\"dash\":\"solid\"},\"marker\":{\"symbol\":\"circle\"},\"mode\":\"markers+lines\",\"name\":\"\\u0421\\u0442\\u0430\\u0440\\u044b\\u0435 \\u043a\\u043b\\u0438\\u0435\\u043d\\u0442\\u044b \\u043d\\u0430 \\u043f\\u043e\\u0440\\u043e\\u0433\\u0435 \\u043e\\u0442\\u0442\\u043e\\u043a\\u0430, \\u043e\\u043f\\u0442\",\"orientation\":\"v\",\"showlegend\":true,\"x\":[\"\\u0414\\u0435\\u043a\\u043e\\u0440 \\u0438 \\u0442\\u0435\\u043a\\u0441\\u0442\\u0438\\u043b\\u044c\",\"\\u041a\\u0443\\u0445\\u043e\\u043d\\u043d\\u044b\\u0435 \\u043f\\u0440\\u0438\\u043d\\u0430\\u0434\\u043b\\u0435\\u0436\\u043d\\u043e\\u0441\\u0442\\u0438\",\"\\u0420\\u0430\\u0441\\u0442\\u0435\\u043d\\u0438\\u044f \\u0438 \\u0440\\u0430\\u0441\\u0441\\u0430\\u0434\\u0430\",\"\\u0421\\u0442\\u0440\\u043e\\u0439\\u043c\\u0430\\u0442\\u0435\\u0440\\u0438\\u0430\\u043b\\u044b \\u0438 \\u0431\\u044b\\u0442\\u043e\\u0432\\u0430\\u044f \\u0442\\u0435\\u0445\\u043d\\u0438\\u043a\\u0430\",\"\\u0425\\u043e\\u0437\\u0442\\u043e\\u0432\\u0430\\u0440\\u044b\"],\"xaxis\":\"x\",\"y\":[754,239,172,642,894],\"yaxis\":\"y\",\"type\":\"scatter\"},{\"hovertemplate\":\"\\u043a\\u0430\\u0442\\u0435\\u0433\\u043e\\u0440\\u0438\\u0438 \\u043a\\u043b\\u0438\\u0435\\u043d\\u0442\\u043e\\u0432=\\u0421\\u0442\\u0430\\u0440\\u044b\\u0435 \\u043a\\u043b\\u0438\\u0435\\u043d\\u0442\\u044b \\u043d\\u0430 \\u043f\\u043e\\u0440\\u043e\\u0433\\u0435 \\u043e\\u0442\\u0442\\u043e\\u043a\\u0430, \\u0440\\u043e\\u0437\\u043d\\u0438\\u0446\\u0430<br>\\u041a\\u0430\\u0442\\u0435\\u0433\\u043e\\u0440\\u0438\\u0438 \\u043f\\u0440\\u043e\\u0434\\u0443\\u043a\\u0442\\u043e\\u0432=%{x}<br>\\u041a\\u043e\\u043b\\u0438\\u0447\\u0435\\u0441\\u0442\\u0432\\u043e \\u043f\\u0440\\u043e\\u0434\\u0430\\u043d\\u043d\\u044b\\u0445 \\u0442\\u043e\\u0432\\u0430\\u0440\\u043e\\u0432=%{y}<extra></extra>\",\"legendgroup\":\"\\u0421\\u0442\\u0430\\u0440\\u044b\\u0435 \\u043a\\u043b\\u0438\\u0435\\u043d\\u0442\\u044b \\u043d\\u0430 \\u043f\\u043e\\u0440\\u043e\\u0433\\u0435 \\u043e\\u0442\\u0442\\u043e\\u043a\\u0430, \\u0440\\u043e\\u0437\\u043d\\u0438\\u0446\\u0430\",\"line\":{\"color\":\"rgb(188,128,189)\",\"dash\":\"solid\"},\"marker\":{\"symbol\":\"circle\"},\"mode\":\"markers+lines\",\"name\":\"\\u0421\\u0442\\u0430\\u0440\\u044b\\u0435 \\u043a\\u043b\\u0438\\u0435\\u043d\\u0442\\u044b \\u043d\\u0430 \\u043f\\u043e\\u0440\\u043e\\u0433\\u0435 \\u043e\\u0442\\u0442\\u043e\\u043a\\u0430, \\u0440\\u043e\\u0437\\u043d\\u0438\\u0446\\u0430\",\"orientation\":\"v\",\"showlegend\":true,\"x\":[\"\\u0414\\u0435\\u043a\\u043e\\u0440 \\u0438 \\u0442\\u0435\\u043a\\u0441\\u0442\\u0438\\u043b\\u044c\",\"\\u041a\\u0443\\u0445\\u043e\\u043d\\u043d\\u044b\\u0435 \\u043f\\u0440\\u0438\\u043d\\u0430\\u0434\\u043b\\u0435\\u0436\\u043d\\u043e\\u0441\\u0442\\u0438\",\"\\u0420\\u0430\\u0441\\u0442\\u0435\\u043d\\u0438\\u044f \\u0438 \\u0440\\u0430\\u0441\\u0441\\u0430\\u0434\\u0430\",\"\\u0421\\u0442\\u0440\\u043e\\u0439\\u043c\\u0430\\u0442\\u0435\\u0440\\u0438\\u0430\\u043b\\u044b \\u0438 \\u0431\\u044b\\u0442\\u043e\\u0432\\u0430\\u044f \\u0442\\u0435\\u0445\\u043d\\u0438\\u043a\\u0430\",\"\\u0425\\u043e\\u0437\\u0442\\u043e\\u0432\\u0430\\u0440\\u044b\"],\"xaxis\":\"x\",\"y\":[311,253,619,324,827],\"yaxis\":\"y\",\"type\":\"scatter\"}],                        {\"template\":{\"data\":{\"bar\":[{\"error_x\":{\"color\":\"#2a3f5f\"},\"error_y\":{\"color\":\"#2a3f5f\"},\"marker\":{\"line\":{\"color\":\"#E5ECF6\",\"width\":0.5},\"pattern\":{\"fillmode\":\"overlay\",\"size\":10,\"solidity\":0.2}},\"type\":\"bar\"}],\"barpolar\":[{\"marker\":{\"line\":{\"color\":\"#E5ECF6\",\"width\":0.5},\"pattern\":{\"fillmode\":\"overlay\",\"size\":10,\"solidity\":0.2}},\"type\":\"barpolar\"}],\"carpet\":[{\"aaxis\":{\"endlinecolor\":\"#2a3f5f\",\"gridcolor\":\"white\",\"linecolor\":\"white\",\"minorgridcolor\":\"white\",\"startlinecolor\":\"#2a3f5f\"},\"baxis\":{\"endlinecolor\":\"#2a3f5f\",\"gridcolor\":\"white\",\"linecolor\":\"white\",\"minorgridcolor\":\"white\",\"startlinecolor\":\"#2a3f5f\"},\"type\":\"carpet\"}],\"choropleth\":[{\"colorbar\":{\"outlinewidth\":0,\"ticks\":\"\"},\"type\":\"choropleth\"}],\"contour\":[{\"colorbar\":{\"outlinewidth\":0,\"ticks\":\"\"},\"colorscale\":[[0.0,\"#0d0887\"],[0.1111111111111111,\"#46039f\"],[0.2222222222222222,\"#7201a8\"],[0.3333333333333333,\"#9c179e\"],[0.4444444444444444,\"#bd3786\"],[0.5555555555555556,\"#d8576b\"],[0.6666666666666666,\"#ed7953\"],[0.7777777777777778,\"#fb9f3a\"],[0.8888888888888888,\"#fdca26\"],[1.0,\"#f0f921\"]],\"type\":\"contour\"}],\"contourcarpet\":[{\"colorbar\":{\"outlinewidth\":0,\"ticks\":\"\"},\"type\":\"contourcarpet\"}],\"heatmap\":[{\"colorbar\":{\"outlinewidth\":0,\"ticks\":\"\"},\"colorscale\":[[0.0,\"#0d0887\"],[0.1111111111111111,\"#46039f\"],[0.2222222222222222,\"#7201a8\"],[0.3333333333333333,\"#9c179e\"],[0.4444444444444444,\"#bd3786\"],[0.5555555555555556,\"#d8576b\"],[0.6666666666666666,\"#ed7953\"],[0.7777777777777778,\"#fb9f3a\"],[0.8888888888888888,\"#fdca26\"],[1.0,\"#f0f921\"]],\"type\":\"heatmap\"}],\"heatmapgl\":[{\"colorbar\":{\"outlinewidth\":0,\"ticks\":\"\"},\"colorscale\":[[0.0,\"#0d0887\"],[0.1111111111111111,\"#46039f\"],[0.2222222222222222,\"#7201a8\"],[0.3333333333333333,\"#9c179e\"],[0.4444444444444444,\"#bd3786\"],[0.5555555555555556,\"#d8576b\"],[0.6666666666666666,\"#ed7953\"],[0.7777777777777778,\"#fb9f3a\"],[0.8888888888888888,\"#fdca26\"],[1.0,\"#f0f921\"]],\"type\":\"heatmapgl\"}],\"histogram\":[{\"marker\":{\"pattern\":{\"fillmode\":\"overlay\",\"size\":10,\"solidity\":0.2}},\"type\":\"histogram\"}],\"histogram2d\":[{\"colorbar\":{\"outlinewidth\":0,\"ticks\":\"\"},\"colorscale\":[[0.0,\"#0d0887\"],[0.1111111111111111,\"#46039f\"],[0.2222222222222222,\"#7201a8\"],[0.3333333333333333,\"#9c179e\"],[0.4444444444444444,\"#bd3786\"],[0.5555555555555556,\"#d8576b\"],[0.6666666666666666,\"#ed7953\"],[0.7777777777777778,\"#fb9f3a\"],[0.8888888888888888,\"#fdca26\"],[1.0,\"#f0f921\"]],\"type\":\"histogram2d\"}],\"histogram2dcontour\":[{\"colorbar\":{\"outlinewidth\":0,\"ticks\":\"\"},\"colorscale\":[[0.0,\"#0d0887\"],[0.1111111111111111,\"#46039f\"],[0.2222222222222222,\"#7201a8\"],[0.3333333333333333,\"#9c179e\"],[0.4444444444444444,\"#bd3786\"],[0.5555555555555556,\"#d8576b\"],[0.6666666666666666,\"#ed7953\"],[0.7777777777777778,\"#fb9f3a\"],[0.8888888888888888,\"#fdca26\"],[1.0,\"#f0f921\"]],\"type\":\"histogram2dcontour\"}],\"mesh3d\":[{\"colorbar\":{\"outlinewidth\":0,\"ticks\":\"\"},\"type\":\"mesh3d\"}],\"parcoords\":[{\"line\":{\"colorbar\":{\"outlinewidth\":0,\"ticks\":\"\"}},\"type\":\"parcoords\"}],\"pie\":[{\"automargin\":true,\"type\":\"pie\"}],\"scatter\":[{\"marker\":{\"colorbar\":{\"outlinewidth\":0,\"ticks\":\"\"}},\"type\":\"scatter\"}],\"scatter3d\":[{\"line\":{\"colorbar\":{\"outlinewidth\":0,\"ticks\":\"\"}},\"marker\":{\"colorbar\":{\"outlinewidth\":0,\"ticks\":\"\"}},\"type\":\"scatter3d\"}],\"scattercarpet\":[{\"marker\":{\"colorbar\":{\"outlinewidth\":0,\"ticks\":\"\"}},\"type\":\"scattercarpet\"}],\"scattergeo\":[{\"marker\":{\"colorbar\":{\"outlinewidth\":0,\"ticks\":\"\"}},\"type\":\"scattergeo\"}],\"scattergl\":[{\"marker\":{\"colorbar\":{\"outlinewidth\":0,\"ticks\":\"\"}},\"type\":\"scattergl\"}],\"scattermapbox\":[{\"marker\":{\"colorbar\":{\"outlinewidth\":0,\"ticks\":\"\"}},\"type\":\"scattermapbox\"}],\"scatterpolar\":[{\"marker\":{\"colorbar\":{\"outlinewidth\":0,\"ticks\":\"\"}},\"type\":\"scatterpolar\"}],\"scatterpolargl\":[{\"marker\":{\"colorbar\":{\"outlinewidth\":0,\"ticks\":\"\"}},\"type\":\"scatterpolargl\"}],\"scatterternary\":[{\"marker\":{\"colorbar\":{\"outlinewidth\":0,\"ticks\":\"\"}},\"type\":\"scatterternary\"}],\"surface\":[{\"colorbar\":{\"outlinewidth\":0,\"ticks\":\"\"},\"colorscale\":[[0.0,\"#0d0887\"],[0.1111111111111111,\"#46039f\"],[0.2222222222222222,\"#7201a8\"],[0.3333333333333333,\"#9c179e\"],[0.4444444444444444,\"#bd3786\"],[0.5555555555555556,\"#d8576b\"],[0.6666666666666666,\"#ed7953\"],[0.7777777777777778,\"#fb9f3a\"],[0.8888888888888888,\"#fdca26\"],[1.0,\"#f0f921\"]],\"type\":\"surface\"}],\"table\":[{\"cells\":{\"fill\":{\"color\":\"#EBF0F8\"},\"line\":{\"color\":\"white\"}},\"header\":{\"fill\":{\"color\":\"#C8D4E3\"},\"line\":{\"color\":\"white\"}},\"type\":\"table\"}]},\"layout\":{\"annotationdefaults\":{\"arrowcolor\":\"#2a3f5f\",\"arrowhead\":0,\"arrowwidth\":1},\"autotypenumbers\":\"strict\",\"coloraxis\":{\"colorbar\":{\"outlinewidth\":0,\"ticks\":\"\"}},\"colorscale\":{\"diverging\":[[0,\"#8e0152\"],[0.1,\"#c51b7d\"],[0.2,\"#de77ae\"],[0.3,\"#f1b6da\"],[0.4,\"#fde0ef\"],[0.5,\"#f7f7f7\"],[0.6,\"#e6f5d0\"],[0.7,\"#b8e186\"],[0.8,\"#7fbc41\"],[0.9,\"#4d9221\"],[1,\"#276419\"]],\"sequential\":[[0.0,\"#0d0887\"],[0.1111111111111111,\"#46039f\"],[0.2222222222222222,\"#7201a8\"],[0.3333333333333333,\"#9c179e\"],[0.4444444444444444,\"#bd3786\"],[0.5555555555555556,\"#d8576b\"],[0.6666666666666666,\"#ed7953\"],[0.7777777777777778,\"#fb9f3a\"],[0.8888888888888888,\"#fdca26\"],[1.0,\"#f0f921\"]],\"sequentialminus\":[[0.0,\"#0d0887\"],[0.1111111111111111,\"#46039f\"],[0.2222222222222222,\"#7201a8\"],[0.3333333333333333,\"#9c179e\"],[0.4444444444444444,\"#bd3786\"],[0.5555555555555556,\"#d8576b\"],[0.6666666666666666,\"#ed7953\"],[0.7777777777777778,\"#fb9f3a\"],[0.8888888888888888,\"#fdca26\"],[1.0,\"#f0f921\"]]},\"colorway\":[\"#636efa\",\"#EF553B\",\"#00cc96\",\"#ab63fa\",\"#FFA15A\",\"#19d3f3\",\"#FF6692\",\"#B6E880\",\"#FF97FF\",\"#FECB52\"],\"font\":{\"color\":\"#2a3f5f\"},\"geo\":{\"bgcolor\":\"white\",\"lakecolor\":\"white\",\"landcolor\":\"#E5ECF6\",\"showlakes\":true,\"showland\":true,\"subunitcolor\":\"white\"},\"hoverlabel\":{\"align\":\"left\"},\"hovermode\":\"closest\",\"mapbox\":{\"style\":\"light\"},\"paper_bgcolor\":\"white\",\"plot_bgcolor\":\"#E5ECF6\",\"polar\":{\"angularaxis\":{\"gridcolor\":\"white\",\"linecolor\":\"white\",\"ticks\":\"\"},\"bgcolor\":\"#E5ECF6\",\"radialaxis\":{\"gridcolor\":\"white\",\"linecolor\":\"white\",\"ticks\":\"\"}},\"scene\":{\"xaxis\":{\"backgroundcolor\":\"#E5ECF6\",\"gridcolor\":\"white\",\"gridwidth\":2,\"linecolor\":\"white\",\"showbackground\":true,\"ticks\":\"\",\"zerolinecolor\":\"white\"},\"yaxis\":{\"backgroundcolor\":\"#E5ECF6\",\"gridcolor\":\"white\",\"gridwidth\":2,\"linecolor\":\"white\",\"showbackground\":true,\"ticks\":\"\",\"zerolinecolor\":\"white\"},\"zaxis\":{\"backgroundcolor\":\"#E5ECF6\",\"gridcolor\":\"white\",\"gridwidth\":2,\"linecolor\":\"white\",\"showbackground\":true,\"ticks\":\"\",\"zerolinecolor\":\"white\"}},\"shapedefaults\":{\"line\":{\"color\":\"#2a3f5f\"}},\"ternary\":{\"aaxis\":{\"gridcolor\":\"white\",\"linecolor\":\"white\",\"ticks\":\"\"},\"baxis\":{\"gridcolor\":\"white\",\"linecolor\":\"white\",\"ticks\":\"\"},\"bgcolor\":\"#E5ECF6\",\"caxis\":{\"gridcolor\":\"white\",\"linecolor\":\"white\",\"ticks\":\"\"}},\"title\":{\"x\":0.05},\"xaxis\":{\"automargin\":true,\"gridcolor\":\"white\",\"linecolor\":\"white\",\"ticks\":\"\",\"title\":{\"standoff\":15},\"zerolinecolor\":\"white\",\"zerolinewidth\":2},\"yaxis\":{\"automargin\":true,\"gridcolor\":\"white\",\"linecolor\":\"white\",\"ticks\":\"\",\"title\":{\"standoff\":15},\"zerolinecolor\":\"white\",\"zerolinewidth\":2}}},\"xaxis\":{\"anchor\":\"y\",\"domain\":[0.0,1.0],\"title\":{\"text\":\"\\u041a\\u0430\\u0442\\u0435\\u0433\\u043e\\u0440\\u0438\\u0438 \\u043f\\u0440\\u043e\\u0434\\u0443\\u043a\\u0442\\u043e\\u0432\"},\"tickangle\":-45,\"type\":\"category\"},\"yaxis\":{\"anchor\":\"x\",\"domain\":[0.0,1.0],\"title\":{\"text\":\"\\u041a\\u043e\\u043b\\u0438\\u0447\\u0435\\u0441\\u0442\\u0432\\u043e \\u043f\\u0440\\u043e\\u0434\\u0430\\u043d\\u043d\\u044b\\u0445 \\u0442\\u043e\\u0432\\u0430\\u0440\\u043e\\u0432\"}},\"legend\":{\"title\":{\"text\":\"\\u043a\\u0430\\u0442\\u0435\\u0433\\u043e\\u0440\\u0438\\u0438 \\u043a\\u043b\\u0438\\u0435\\u043d\\u0442\\u043e\\u0432\"},\"tracegroupgap\":0,\"orientation\":\"h\",\"x\":0.1,\"y\":-0.4},\"margin\":{\"t\":60},\"title\":{\"x\":0.5,\"text\":\"\\u041a\\u043e\\u043b\\u0438\\u0447\\u0435\\u0441\\u0442\\u0432\\u043e \\u043f\\u0440\\u043e\\u0434\\u0430\\u0436 \\u043a\\u0430\\u0436\\u0434\\u043e\\u0439 \\u043a\\u0430\\u0442\\u0435\\u0433\\u043e\\u0440\\u0438\\u0438 \\u0442\\u043e\\u0432\\u0430\\u0440\\u043e\\u0432 \\u0432 \\u0440\\u0430\\u0437\\u0431\\u0438\\u0432\\u043a\\u0435 \\u043f\\u043e \\u043a\\u0430\\u0442\\u0435\\u0433\\u043e\\u0440\\u0438\\u044f\\u043c\"},\"autosize\":false,\"width\":980,\"height\":980},                        {\"responsive\": true}                    ).then(function(){\n",
       "                            \n",
       "var gd = document.getElementById('3aa491fd-d465-4737-9e6e-89f1a343f956');\n",
       "var x = new MutationObserver(function (mutations, observer) {{\n",
       "        var display = window.getComputedStyle(gd).display;\n",
       "        if (!display || display === 'none') {{\n",
       "            console.log([gd, 'removed!']);\n",
       "            Plotly.purge(gd);\n",
       "            observer.disconnect();\n",
       "        }}\n",
       "}});\n",
       "\n",
       "// Listen for the removal of the full notebook cells\n",
       "var notebookContainer = gd.closest('#notebook-container');\n",
       "if (notebookContainer) {{\n",
       "    x.observe(notebookContainer, {childList: true});\n",
       "}}\n",
       "\n",
       "// Listen for the clearing of the current output cell\n",
       "var outputEl = gd.closest('.output');\n",
       "if (outputEl) {{\n",
       "    x.observe(outputEl, {childList: true});\n",
       "}}\n",
       "\n",
       "                        })                };                });            </script>        </div>"
      ]
     },
     "metadata": {},
     "output_type": "display_data"
    }
   ],
   "source": [
    "# график количества продаж каждой категории товаров для каждой категории клиентов\n",
    "fig = px.line(seasonality,\n",
    "              markers=True,\n",
    "              labels={'value': 'Количество проданных товаров', 'RFMQ_rating': 'Кластер', \\\n",
    "                      'products_category': 'Категории продуктов', 'clients_category': 'категории клиентов'},\n",
    "              color_discrete_sequence=[px.colors.qualitative.Set3[0], px.colors.qualitative.Set3[2], \\\n",
    "                                     px.colors.qualitative.Set2[2], px.colors.qualitative.Set3[3], \\\n",
    "                                     px.colors.qualitative.Set3[4], px.colors.qualitative.Set3[5], \\\n",
    "                                     px.colors.qualitative.Set3[6], px.colors.qualitative.Set3[7], \\\n",
    "                                     px.colors.qualitative.Set3[8], px.colors.qualitative.Set3[9], \\\n",
    "                                     px.colors.qualitative.Set3[10], px.colors.qualitative.Set2[0]])\n",
    "fig.update_layout(title_x = 0.5, xaxis_tickangle=-45)\n",
    "fig.update_xaxes(type='category'),\n",
    "fig.update_layout(autosize=False,\n",
    "                  width=980,\n",
    "                  height=980,\n",
    "                  legend_orientation='h', \n",
    "                  legend=dict(x=.1, y=-.4),\n",
    "                  title_text='Количество продаж каждой категории товаров в разбивке по категориям'\n",
    "                  )\n",
    "fig.show()"
   ]
  },
  {
   "cell_type": "markdown",
   "id": "bfa82364",
   "metadata": {},
   "source": [
    "Категория Растения и рассада лидирует по количеству купленных товаров, наименьшее же количество куплено товаров категории Кухонные принадлежности.\n",
    "\n",
    "График показал, что:\n",
    "- розничные покупатели всех категорий покупают наибольшее число товаров категорий Растения и рассада и Хозтовары;\n",
    "- оптовые покупатели из категории Лучшие клиенты купили наибольшее количество штук товара категорий Кухонные принадлежности и Хозтовары;\n",
    "- оптовые покупатели из категорий Старые клиенты на пороге оттока и Новые клиенты наибольшее количество штук товара купили категорий Декор и текстиль и Хозтовары;\n",
    "- оптовые покупатели из категории Перспективные клиенты купили наибольшее количество штук товара категорий Декор и текстиль и Стройматериалы и бытовая техника."
   ]
  },
  {
   "cell_type": "markdown",
   "id": "63217d18",
   "metadata": {},
   "source": [
    "<a id='p5s4'></a>\n",
    "#### Расчет сезонности для категорий клиентов"
   ]
  },
  {
   "cell_type": "code",
   "execution_count": 42,
   "id": "b7e3108d",
   "metadata": {},
   "outputs": [
    {
     "data": {
      "text/html": [
       "<div>\n",
       "<style scoped>\n",
       "    .dataframe tbody tr th:only-of-type {\n",
       "        vertical-align: middle;\n",
       "    }\n",
       "\n",
       "    .dataframe tbody tr th {\n",
       "        vertical-align: top;\n",
       "    }\n",
       "\n",
       "    .dataframe thead th {\n",
       "        text-align: right;\n",
       "    }\n",
       "</style>\n",
       "<table border=\"1\" class=\"dataframe\">\n",
       "  <thead>\n",
       "    <tr style=\"text-align: right;\">\n",
       "      <th></th>\n",
       "      <th>Категория клиентов</th>\n",
       "      <th>Прибыль</th>\n",
       "      <th>Количество заказов</th>\n",
       "      <th>Количество купленных товаров, шт</th>\n",
       "      <th>Средний чек</th>\n",
       "    </tr>\n",
       "  </thead>\n",
       "  <tbody>\n",
       "    <tr>\n",
       "      <th>0</th>\n",
       "      <td>Лучшие клиенты, опт</td>\n",
       "      <td>49020.0</td>\n",
       "      <td>10</td>\n",
       "      <td>190</td>\n",
       "      <td>4902.0</td>\n",
       "    </tr>\n",
       "    <tr>\n",
       "      <th>1</th>\n",
       "      <td>Лучшие клиенты, розница</td>\n",
       "      <td>221472.0</td>\n",
       "      <td>161</td>\n",
       "      <td>712</td>\n",
       "      <td>1376.0</td>\n",
       "    </tr>\n",
       "    <tr>\n",
       "      <th>2</th>\n",
       "      <td>Новые клиенты, опт</td>\n",
       "      <td>858059.0</td>\n",
       "      <td>64</td>\n",
       "      <td>3172</td>\n",
       "      <td>13407.0</td>\n",
       "    </tr>\n",
       "    <tr>\n",
       "      <th>3</th>\n",
       "      <td>Новые клиенты, розница</td>\n",
       "      <td>1099950.0</td>\n",
       "      <td>1040</td>\n",
       "      <td>2830</td>\n",
       "      <td>1058.0</td>\n",
       "    </tr>\n",
       "    <tr>\n",
       "      <th>4</th>\n",
       "      <td>Перспективные клиенты, опт</td>\n",
       "      <td>1100.0</td>\n",
       "      <td>5</td>\n",
       "      <td>52</td>\n",
       "      <td>220.0</td>\n",
       "    </tr>\n",
       "    <tr>\n",
       "      <th>5</th>\n",
       "      <td>Перспективные клиенты, розница</td>\n",
       "      <td>11869.0</td>\n",
       "      <td>63</td>\n",
       "      <td>118</td>\n",
       "      <td>188.0</td>\n",
       "    </tr>\n",
       "    <tr>\n",
       "      <th>6</th>\n",
       "      <td>Потерянные клиенты, опт</td>\n",
       "      <td>11723.0</td>\n",
       "      <td>26</td>\n",
       "      <td>370</td>\n",
       "      <td>451.0</td>\n",
       "    </tr>\n",
       "    <tr>\n",
       "      <th>7</th>\n",
       "      <td>Потерянные клиенты, розница</td>\n",
       "      <td>172015.0</td>\n",
       "      <td>518</td>\n",
       "      <td>947</td>\n",
       "      <td>332.0</td>\n",
       "    </tr>\n",
       "    <tr>\n",
       "      <th>8</th>\n",
       "      <td>Старые клиенты на пороге оттока, опт</td>\n",
       "      <td>316007.0</td>\n",
       "      <td>66</td>\n",
       "      <td>2701</td>\n",
       "      <td>4788.0</td>\n",
       "    </tr>\n",
       "    <tr>\n",
       "      <th>9</th>\n",
       "      <td>Старые клиенты на пороге оттока, розница</td>\n",
       "      <td>1341857.0</td>\n",
       "      <td>802</td>\n",
       "      <td>2334</td>\n",
       "      <td>1673.0</td>\n",
       "    </tr>\n",
       "  </tbody>\n",
       "</table>\n",
       "</div>"
      ],
      "text/plain": [
       "                         Категория клиентов    Прибыль  Количество заказов  \\\n",
       "0                       Лучшие клиенты, опт    49020.0                  10   \n",
       "1                   Лучшие клиенты, розница   221472.0                 161   \n",
       "2                        Новые клиенты, опт   858059.0                  64   \n",
       "3                    Новые клиенты, розница  1099950.0                1040   \n",
       "4                Перспективные клиенты, опт     1100.0                   5   \n",
       "5            Перспективные клиенты, розница    11869.0                  63   \n",
       "6                   Потерянные клиенты, опт    11723.0                  26   \n",
       "7               Потерянные клиенты, розница   172015.0                 518   \n",
       "8      Старые клиенты на пороге оттока, опт   316007.0                  66   \n",
       "9  Старые клиенты на пороге оттока, розница  1341857.0                 802   \n",
       "\n",
       "   Количество купленных товаров, шт  Средний чек  \n",
       "0                               190       4902.0  \n",
       "1                               712       1376.0  \n",
       "2                              3172      13407.0  \n",
       "3                              2830       1058.0  \n",
       "4                                52        220.0  \n",
       "5                               118        188.0  \n",
       "6                               370        451.0  \n",
       "7                               947        332.0  \n",
       "8                              2701       4788.0  \n",
       "9                              2334       1673.0  "
      ]
     },
     "execution_count": 42,
     "metadata": {},
     "output_type": "execute_result"
    }
   ],
   "source": [
    "# таблица прибыльности, количества человек, количества купленных товаров для каждой категории пользователей\n",
    "rfm = orders.pivot_table(index='clients_category', values=['cost', 'quantity', 'order_id'], \\\n",
    "                         aggfunc={'cost': 'sum', 'quantity': 'sum', 'order_id': 'nunique'}) \\\n",
    "            .reset_index() \\\n",
    "            .rename(columns={'clients_category': 'Категория клиентов', 'cost': 'Прибыль', \\\n",
    "                             'quantity': 'Количество купленных товаров, шт', 'order_id': 'Количество заказов'})\n",
    "rfm['Средний чек'] = round(rfm['Прибыль'] / rfm['Количество заказов'], 0)\n",
    "rfm"
   ]
  },
  {
   "cell_type": "code",
   "execution_count": 43,
   "id": "f6659290",
   "metadata": {},
   "outputs": [
    {
     "data": {
      "text/html": [
       "<div>\n",
       "<style scoped>\n",
       "    .dataframe tbody tr th:only-of-type {\n",
       "        vertical-align: middle;\n",
       "    }\n",
       "\n",
       "    .dataframe tbody tr th {\n",
       "        vertical-align: top;\n",
       "    }\n",
       "\n",
       "    .dataframe thead th {\n",
       "        text-align: right;\n",
       "    }\n",
       "</style>\n",
       "<table border=\"1\" class=\"dataframe\">\n",
       "  <thead>\n",
       "    <tr style=\"text-align: right;\">\n",
       "      <th>month</th>\n",
       "      <th>2018-10</th>\n",
       "      <th>2018-11</th>\n",
       "      <th>2018-12</th>\n",
       "      <th>2019-01</th>\n",
       "      <th>2019-02</th>\n",
       "      <th>2019-03</th>\n",
       "      <th>2019-04</th>\n",
       "      <th>2019-05</th>\n",
       "      <th>2019-06</th>\n",
       "      <th>2019-07</th>\n",
       "      <th>2019-08</th>\n",
       "      <th>2019-09</th>\n",
       "      <th>2019-10</th>\n",
       "    </tr>\n",
       "    <tr>\n",
       "      <th>clients_category</th>\n",
       "      <th></th>\n",
       "      <th></th>\n",
       "      <th></th>\n",
       "      <th></th>\n",
       "      <th></th>\n",
       "      <th></th>\n",
       "      <th></th>\n",
       "      <th></th>\n",
       "      <th></th>\n",
       "      <th></th>\n",
       "      <th></th>\n",
       "      <th></th>\n",
       "      <th></th>\n",
       "    </tr>\n",
       "  </thead>\n",
       "  <tbody>\n",
       "    <tr>\n",
       "      <th>Лучшие клиенты, опт</th>\n",
       "      <td>0.00</td>\n",
       "      <td>0.00</td>\n",
       "      <td>0.00</td>\n",
       "      <td>0.00</td>\n",
       "      <td>0.00</td>\n",
       "      <td>0.00</td>\n",
       "      <td>0.61</td>\n",
       "      <td>0.16</td>\n",
       "      <td>0.00</td>\n",
       "      <td>0.13</td>\n",
       "      <td>0.00</td>\n",
       "      <td>0.11</td>\n",
       "      <td>0.00</td>\n",
       "    </tr>\n",
       "    <tr>\n",
       "      <th>Лучшие клиенты, розница</th>\n",
       "      <td>0.00</td>\n",
       "      <td>0.00</td>\n",
       "      <td>0.00</td>\n",
       "      <td>0.01</td>\n",
       "      <td>0.02</td>\n",
       "      <td>0.02</td>\n",
       "      <td>0.45</td>\n",
       "      <td>0.28</td>\n",
       "      <td>0.10</td>\n",
       "      <td>0.02</td>\n",
       "      <td>0.04</td>\n",
       "      <td>0.02</td>\n",
       "      <td>0.04</td>\n",
       "    </tr>\n",
       "    <tr>\n",
       "      <th>Новые клиенты, опт</th>\n",
       "      <td>0.00</td>\n",
       "      <td>0.00</td>\n",
       "      <td>0.00</td>\n",
       "      <td>0.00</td>\n",
       "      <td>0.00</td>\n",
       "      <td>0.00</td>\n",
       "      <td>0.08</td>\n",
       "      <td>0.17</td>\n",
       "      <td>0.47</td>\n",
       "      <td>0.03</td>\n",
       "      <td>0.03</td>\n",
       "      <td>0.07</td>\n",
       "      <td>0.15</td>\n",
       "    </tr>\n",
       "    <tr>\n",
       "      <th>Новые клиенты, розница</th>\n",
       "      <td>0.00</td>\n",
       "      <td>0.00</td>\n",
       "      <td>0.00</td>\n",
       "      <td>0.00</td>\n",
       "      <td>0.00</td>\n",
       "      <td>0.00</td>\n",
       "      <td>0.23</td>\n",
       "      <td>0.28</td>\n",
       "      <td>0.12</td>\n",
       "      <td>0.14</td>\n",
       "      <td>0.09</td>\n",
       "      <td>0.08</td>\n",
       "      <td>0.07</td>\n",
       "    </tr>\n",
       "    <tr>\n",
       "      <th>Перспективные клиенты, опт</th>\n",
       "      <td>0.00</td>\n",
       "      <td>0.00</td>\n",
       "      <td>0.00</td>\n",
       "      <td>0.00</td>\n",
       "      <td>0.00</td>\n",
       "      <td>0.00</td>\n",
       "      <td>0.00</td>\n",
       "      <td>0.00</td>\n",
       "      <td>0.00</td>\n",
       "      <td>0.58</td>\n",
       "      <td>0.00</td>\n",
       "      <td>0.00</td>\n",
       "      <td>0.42</td>\n",
       "    </tr>\n",
       "    <tr>\n",
       "      <th>Перспективные клиенты, розница</th>\n",
       "      <td>0.00</td>\n",
       "      <td>0.00</td>\n",
       "      <td>0.00</td>\n",
       "      <td>0.00</td>\n",
       "      <td>0.00</td>\n",
       "      <td>0.01</td>\n",
       "      <td>0.48</td>\n",
       "      <td>0.04</td>\n",
       "      <td>0.04</td>\n",
       "      <td>0.12</td>\n",
       "      <td>0.05</td>\n",
       "      <td>0.09</td>\n",
       "      <td>0.16</td>\n",
       "    </tr>\n",
       "    <tr>\n",
       "      <th>Потерянные клиенты, опт</th>\n",
       "      <td>0.16</td>\n",
       "      <td>0.15</td>\n",
       "      <td>0.06</td>\n",
       "      <td>0.05</td>\n",
       "      <td>0.27</td>\n",
       "      <td>0.26</td>\n",
       "      <td>0.04</td>\n",
       "      <td>0.00</td>\n",
       "      <td>0.00</td>\n",
       "      <td>0.00</td>\n",
       "      <td>0.00</td>\n",
       "      <td>0.00</td>\n",
       "      <td>0.00</td>\n",
       "    </tr>\n",
       "    <tr>\n",
       "      <th>Потерянные клиенты, розница</th>\n",
       "      <td>0.15</td>\n",
       "      <td>0.17</td>\n",
       "      <td>0.17</td>\n",
       "      <td>0.10</td>\n",
       "      <td>0.18</td>\n",
       "      <td>0.21</td>\n",
       "      <td>0.01</td>\n",
       "      <td>0.00</td>\n",
       "      <td>0.00</td>\n",
       "      <td>0.00</td>\n",
       "      <td>0.00</td>\n",
       "      <td>0.00</td>\n",
       "      <td>0.00</td>\n",
       "    </tr>\n",
       "    <tr>\n",
       "      <th>Старые клиенты на пороге оттока, опт</th>\n",
       "      <td>0.20</td>\n",
       "      <td>0.22</td>\n",
       "      <td>0.20</td>\n",
       "      <td>0.11</td>\n",
       "      <td>0.12</td>\n",
       "      <td>0.15</td>\n",
       "      <td>0.00</td>\n",
       "      <td>0.00</td>\n",
       "      <td>0.00</td>\n",
       "      <td>0.00</td>\n",
       "      <td>0.00</td>\n",
       "      <td>0.00</td>\n",
       "      <td>0.00</td>\n",
       "    </tr>\n",
       "    <tr>\n",
       "      <th>Старые клиенты на пороге оттока, розница</th>\n",
       "      <td>0.35</td>\n",
       "      <td>0.18</td>\n",
       "      <td>0.12</td>\n",
       "      <td>0.07</td>\n",
       "      <td>0.13</td>\n",
       "      <td>0.14</td>\n",
       "      <td>0.01</td>\n",
       "      <td>0.00</td>\n",
       "      <td>0.00</td>\n",
       "      <td>0.00</td>\n",
       "      <td>0.00</td>\n",
       "      <td>0.00</td>\n",
       "      <td>0.00</td>\n",
       "    </tr>\n",
       "  </tbody>\n",
       "</table>\n",
       "</div>"
      ],
      "text/plain": [
       "month                                     2018-10  2018-11  2018-12  2019-01  \\\n",
       "clients_category                                                               \n",
       "Лучшие клиенты, опт                          0.00     0.00     0.00     0.00   \n",
       "Лучшие клиенты, розница                      0.00     0.00     0.00     0.01   \n",
       "Новые клиенты, опт                           0.00     0.00     0.00     0.00   \n",
       "Новые клиенты, розница                       0.00     0.00     0.00     0.00   \n",
       "Перспективные клиенты, опт                   0.00     0.00     0.00     0.00   \n",
       "Перспективные клиенты, розница               0.00     0.00     0.00     0.00   \n",
       "Потерянные клиенты, опт                      0.16     0.15     0.06     0.05   \n",
       "Потерянные клиенты, розница                  0.15     0.17     0.17     0.10   \n",
       "Старые клиенты на пороге оттока, опт         0.20     0.22     0.20     0.11   \n",
       "Старые клиенты на пороге оттока, розница     0.35     0.18     0.12     0.07   \n",
       "\n",
       "month                                     2019-02  2019-03  2019-04  2019-05  \\\n",
       "clients_category                                                               \n",
       "Лучшие клиенты, опт                          0.00     0.00     0.61     0.16   \n",
       "Лучшие клиенты, розница                      0.02     0.02     0.45     0.28   \n",
       "Новые клиенты, опт                           0.00     0.00     0.08     0.17   \n",
       "Новые клиенты, розница                       0.00     0.00     0.23     0.28   \n",
       "Перспективные клиенты, опт                   0.00     0.00     0.00     0.00   \n",
       "Перспективные клиенты, розница               0.00     0.01     0.48     0.04   \n",
       "Потерянные клиенты, опт                      0.27     0.26     0.04     0.00   \n",
       "Потерянные клиенты, розница                  0.18     0.21     0.01     0.00   \n",
       "Старые клиенты на пороге оттока, опт         0.12     0.15     0.00     0.00   \n",
       "Старые клиенты на пороге оттока, розница     0.13     0.14     0.01     0.00   \n",
       "\n",
       "month                                     2019-06  2019-07  2019-08  2019-09  \\\n",
       "clients_category                                                               \n",
       "Лучшие клиенты, опт                          0.00     0.13     0.00     0.11   \n",
       "Лучшие клиенты, розница                      0.10     0.02     0.04     0.02   \n",
       "Новые клиенты, опт                           0.47     0.03     0.03     0.07   \n",
       "Новые клиенты, розница                       0.12     0.14     0.09     0.08   \n",
       "Перспективные клиенты, опт                   0.00     0.58     0.00     0.00   \n",
       "Перспективные клиенты, розница               0.04     0.12     0.05     0.09   \n",
       "Потерянные клиенты, опт                      0.00     0.00     0.00     0.00   \n",
       "Потерянные клиенты, розница                  0.00     0.00     0.00     0.00   \n",
       "Старые клиенты на пороге оттока, опт         0.00     0.00     0.00     0.00   \n",
       "Старые клиенты на пороге оттока, розница     0.00     0.00     0.00     0.00   \n",
       "\n",
       "month                                     2019-10  \n",
       "clients_category                                   \n",
       "Лучшие клиенты, опт                          0.00  \n",
       "Лучшие клиенты, розница                      0.04  \n",
       "Новые клиенты, опт                           0.15  \n",
       "Новые клиенты, розница                       0.07  \n",
       "Перспективные клиенты, опт                   0.42  \n",
       "Перспективные клиенты, розница               0.16  \n",
       "Потерянные клиенты, опт                      0.00  \n",
       "Потерянные клиенты, розница                  0.00  \n",
       "Старые клиенты на пороге оттока, опт         0.00  \n",
       "Старые клиенты на пороге оттока, розница     0.00  "
      ]
     },
     "execution_count": 43,
     "metadata": {},
     "output_type": "execute_result"
    }
   ],
   "source": [
    "# сезонность покупок категорий пользователей\n",
    "ca = rfm['Категория клиентов'].to_list()\n",
    "\n",
    "# сводная таблица расчета сезонности покупок всех категорий покупателей\n",
    "seasonality = orders.query('clients_category in @ca') \\\n",
    "                    .pivot_table(index='clients_category', columns='month', \\\n",
    "                                 values='quantity', aggfunc='sum', \\\n",
    "                                 fill_value=0, margins=True, margins_name='Количество продаж за весь период')\n",
    "\n",
    "for mon in seasonality.columns:   \n",
    "    seasonality[mon] = round(seasonality[mon]/seasonality['Количество продаж за весь период'], 2)\n",
    "    \n",
    "seasonality=seasonality.query('clients_category in @ca').T[:-1].T\n",
    "seasonality"
   ]
  },
  {
   "cell_type": "code",
   "execution_count": 44,
   "id": "21a1697b",
   "metadata": {},
   "outputs": [
    {
     "data": {
      "application/vnd.plotly.v1+json": {
       "config": {
        "plotlyServerURL": "https://plot.ly"
       },
       "data": [
        {
         "hovertemplate": "категория клиентов=Лучшие клиенты, опт<br>Месяц=%{x}<br>Сезонность=%{y}<extra></extra>",
         "legendgroup": "Лучшие клиенты, опт",
         "line": {
          "color": "rgb(141,211,199)",
          "dash": "solid"
         },
         "marker": {
          "symbol": "circle"
         },
         "mode": "markers+lines",
         "name": "Лучшие клиенты, опт",
         "orientation": "v",
         "showlegend": true,
         "type": "scatter",
         "x": [
          "2018-10",
          "2018-11",
          "2018-12",
          "2019-01",
          "2019-02",
          "2019-03",
          "2019-04",
          "2019-05",
          "2019-06",
          "2019-07",
          "2019-08",
          "2019-09"
         ],
         "xaxis": "x",
         "y": [
          0,
          0,
          0,
          0,
          0,
          0,
          0.61,
          0.16,
          0,
          0.13,
          0,
          0.11
         ],
         "yaxis": "y"
        },
        {
         "hovertemplate": "категория клиентов=Лучшие клиенты, розница<br>Месяц=%{x}<br>Сезонность=%{y}<extra></extra>",
         "legendgroup": "Лучшие клиенты, розница",
         "line": {
          "color": "rgb(190,186,218)",
          "dash": "solid"
         },
         "marker": {
          "symbol": "circle"
         },
         "mode": "markers+lines",
         "name": "Лучшие клиенты, розница",
         "orientation": "v",
         "showlegend": true,
         "type": "scatter",
         "x": [
          "2018-10",
          "2018-11",
          "2018-12",
          "2019-01",
          "2019-02",
          "2019-03",
          "2019-04",
          "2019-05",
          "2019-06",
          "2019-07",
          "2019-08",
          "2019-09"
         ],
         "xaxis": "x",
         "y": [
          0,
          0,
          0,
          0.01,
          0.02,
          0.02,
          0.45,
          0.28,
          0.1,
          0.02,
          0.04,
          0.02
         ],
         "yaxis": "y"
        },
        {
         "hovertemplate": "категория клиентов=Новые клиенты, опт<br>Месяц=%{x}<br>Сезонность=%{y}<extra></extra>",
         "legendgroup": "Новые клиенты, опт",
         "line": {
          "color": "rgb(141,160,203)",
          "dash": "solid"
         },
         "marker": {
          "symbol": "circle"
         },
         "mode": "markers+lines",
         "name": "Новые клиенты, опт",
         "orientation": "v",
         "showlegend": true,
         "type": "scatter",
         "x": [
          "2018-10",
          "2018-11",
          "2018-12",
          "2019-01",
          "2019-02",
          "2019-03",
          "2019-04",
          "2019-05",
          "2019-06",
          "2019-07",
          "2019-08",
          "2019-09"
         ],
         "xaxis": "x",
         "y": [
          0,
          0,
          0,
          0,
          0,
          0,
          0.08,
          0.17,
          0.47,
          0.03,
          0.03,
          0.07
         ],
         "yaxis": "y"
        },
        {
         "hovertemplate": "категория клиентов=Новые клиенты, розница<br>Месяц=%{x}<br>Сезонность=%{y}<extra></extra>",
         "legendgroup": "Новые клиенты, розница",
         "line": {
          "color": "rgb(251,128,114)",
          "dash": "solid"
         },
         "marker": {
          "symbol": "circle"
         },
         "mode": "markers+lines",
         "name": "Новые клиенты, розница",
         "orientation": "v",
         "showlegend": true,
         "type": "scatter",
         "x": [
          "2018-10",
          "2018-11",
          "2018-12",
          "2019-01",
          "2019-02",
          "2019-03",
          "2019-04",
          "2019-05",
          "2019-06",
          "2019-07",
          "2019-08",
          "2019-09"
         ],
         "xaxis": "x",
         "y": [
          0,
          0,
          0,
          0,
          0,
          0,
          0.23,
          0.28,
          0.12,
          0.14,
          0.09,
          0.08
         ],
         "yaxis": "y"
        },
        {
         "hovertemplate": "категория клиентов=Перспективные клиенты, опт<br>Месяц=%{x}<br>Сезонность=%{y}<extra></extra>",
         "legendgroup": "Перспективные клиенты, опт",
         "line": {
          "color": "rgb(128,177,211)",
          "dash": "solid"
         },
         "marker": {
          "symbol": "circle"
         },
         "mode": "markers+lines",
         "name": "Перспективные клиенты, опт",
         "orientation": "v",
         "showlegend": true,
         "type": "scatter",
         "x": [
          "2018-10",
          "2018-11",
          "2018-12",
          "2019-01",
          "2019-02",
          "2019-03",
          "2019-04",
          "2019-05",
          "2019-06",
          "2019-07",
          "2019-08",
          "2019-09"
         ],
         "xaxis": "x",
         "y": [
          0,
          0,
          0,
          0,
          0,
          0,
          0,
          0,
          0,
          0.58,
          0,
          0
         ],
         "yaxis": "y"
        },
        {
         "hovertemplate": "категория клиентов=Перспективные клиенты, розница<br>Месяц=%{x}<br>Сезонность=%{y}<extra></extra>",
         "legendgroup": "Перспективные клиенты, розница",
         "line": {
          "color": "rgb(253,180,98)",
          "dash": "solid"
         },
         "marker": {
          "symbol": "circle"
         },
         "mode": "markers+lines",
         "name": "Перспективные клиенты, розница",
         "orientation": "v",
         "showlegend": true,
         "type": "scatter",
         "x": [
          "2018-10",
          "2018-11",
          "2018-12",
          "2019-01",
          "2019-02",
          "2019-03",
          "2019-04",
          "2019-05",
          "2019-06",
          "2019-07",
          "2019-08",
          "2019-09"
         ],
         "xaxis": "x",
         "y": [
          0,
          0,
          0,
          0,
          0,
          0.01,
          0.48,
          0.04,
          0.04,
          0.12,
          0.05,
          0.09
         ],
         "yaxis": "y"
        },
        {
         "hovertemplate": "категория клиентов=Потерянные клиенты, опт<br>Месяц=%{x}<br>Сезонность=%{y}<extra></extra>",
         "legendgroup": "Потерянные клиенты, опт",
         "line": {
          "color": "rgb(179,222,105)",
          "dash": "solid"
         },
         "marker": {
          "symbol": "circle"
         },
         "mode": "markers+lines",
         "name": "Потерянные клиенты, опт",
         "orientation": "v",
         "showlegend": true,
         "type": "scatter",
         "x": [
          "2018-10",
          "2018-11",
          "2018-12",
          "2019-01",
          "2019-02",
          "2019-03",
          "2019-04",
          "2019-05",
          "2019-06",
          "2019-07",
          "2019-08",
          "2019-09"
         ],
         "xaxis": "x",
         "y": [
          0.16,
          0.15,
          0.06,
          0.05,
          0.27,
          0.26,
          0.04,
          0,
          0,
          0,
          0,
          0
         ],
         "yaxis": "y"
        },
        {
         "hovertemplate": "категория клиентов=Потерянные клиенты, розница<br>Месяц=%{x}<br>Сезонность=%{y}<extra></extra>",
         "legendgroup": "Потерянные клиенты, розница",
         "line": {
          "color": "rgb(252,205,229)",
          "dash": "solid"
         },
         "marker": {
          "symbol": "circle"
         },
         "mode": "markers+lines",
         "name": "Потерянные клиенты, розница",
         "orientation": "v",
         "showlegend": true,
         "type": "scatter",
         "x": [
          "2018-10",
          "2018-11",
          "2018-12",
          "2019-01",
          "2019-02",
          "2019-03",
          "2019-04",
          "2019-05",
          "2019-06",
          "2019-07",
          "2019-08",
          "2019-09"
         ],
         "xaxis": "x",
         "y": [
          0.15,
          0.17,
          0.17,
          0.1,
          0.18,
          0.21,
          0.01,
          0,
          0,
          0,
          0,
          0
         ],
         "yaxis": "y"
        },
        {
         "hovertemplate": "категория клиентов=Старые клиенты на пороге оттока, опт<br>Месяц=%{x}<br>Сезонность=%{y}<extra></extra>",
         "legendgroup": "Старые клиенты на пороге оттока, опт",
         "line": {
          "color": "rgb(217,217,217)",
          "dash": "solid"
         },
         "marker": {
          "symbol": "circle"
         },
         "mode": "markers+lines",
         "name": "Старые клиенты на пороге оттока, опт",
         "orientation": "v",
         "showlegend": true,
         "type": "scatter",
         "x": [
          "2018-10",
          "2018-11",
          "2018-12",
          "2019-01",
          "2019-02",
          "2019-03",
          "2019-04",
          "2019-05",
          "2019-06",
          "2019-07",
          "2019-08",
          "2019-09"
         ],
         "xaxis": "x",
         "y": [
          0.2,
          0.22,
          0.2,
          0.11,
          0.12,
          0.15,
          0,
          0,
          0,
          0,
          0,
          0
         ],
         "yaxis": "y"
        },
        {
         "hovertemplate": "категория клиентов=Старые клиенты на пороге оттока, розница<br>Месяц=%{x}<br>Сезонность=%{y}<extra></extra>",
         "legendgroup": "Старые клиенты на пороге оттока, розница",
         "line": {
          "color": "rgb(188,128,189)",
          "dash": "solid"
         },
         "marker": {
          "symbol": "circle"
         },
         "mode": "markers+lines",
         "name": "Старые клиенты на пороге оттока, розница",
         "orientation": "v",
         "showlegend": true,
         "type": "scatter",
         "x": [
          "2018-10",
          "2018-11",
          "2018-12",
          "2019-01",
          "2019-02",
          "2019-03",
          "2019-04",
          "2019-05",
          "2019-06",
          "2019-07",
          "2019-08",
          "2019-09"
         ],
         "xaxis": "x",
         "y": [
          0.35,
          0.18,
          0.12,
          0.07,
          0.13,
          0.14,
          0.01,
          0,
          0,
          0,
          0,
          0
         ],
         "yaxis": "y"
        }
       ],
       "layout": {
        "autosize": false,
        "height": 700,
        "legend": {
         "orientation": "h",
         "title": {
          "text": "категория клиентов"
         },
         "tracegroupgap": 0,
         "x": 0.1,
         "y": -0.2
        },
        "margin": {
         "t": 60
        },
        "template": {
         "data": {
          "bar": [
           {
            "error_x": {
             "color": "#2a3f5f"
            },
            "error_y": {
             "color": "#2a3f5f"
            },
            "marker": {
             "line": {
              "color": "#E5ECF6",
              "width": 0.5
             },
             "pattern": {
              "fillmode": "overlay",
              "size": 10,
              "solidity": 0.2
             }
            },
            "type": "bar"
           }
          ],
          "barpolar": [
           {
            "marker": {
             "line": {
              "color": "#E5ECF6",
              "width": 0.5
             },
             "pattern": {
              "fillmode": "overlay",
              "size": 10,
              "solidity": 0.2
             }
            },
            "type": "barpolar"
           }
          ],
          "carpet": [
           {
            "aaxis": {
             "endlinecolor": "#2a3f5f",
             "gridcolor": "white",
             "linecolor": "white",
             "minorgridcolor": "white",
             "startlinecolor": "#2a3f5f"
            },
            "baxis": {
             "endlinecolor": "#2a3f5f",
             "gridcolor": "white",
             "linecolor": "white",
             "minorgridcolor": "white",
             "startlinecolor": "#2a3f5f"
            },
            "type": "carpet"
           }
          ],
          "choropleth": [
           {
            "colorbar": {
             "outlinewidth": 0,
             "ticks": ""
            },
            "type": "choropleth"
           }
          ],
          "contour": [
           {
            "colorbar": {
             "outlinewidth": 0,
             "ticks": ""
            },
            "colorscale": [
             [
              0,
              "#0d0887"
             ],
             [
              0.1111111111111111,
              "#46039f"
             ],
             [
              0.2222222222222222,
              "#7201a8"
             ],
             [
              0.3333333333333333,
              "#9c179e"
             ],
             [
              0.4444444444444444,
              "#bd3786"
             ],
             [
              0.5555555555555556,
              "#d8576b"
             ],
             [
              0.6666666666666666,
              "#ed7953"
             ],
             [
              0.7777777777777778,
              "#fb9f3a"
             ],
             [
              0.8888888888888888,
              "#fdca26"
             ],
             [
              1,
              "#f0f921"
             ]
            ],
            "type": "contour"
           }
          ],
          "contourcarpet": [
           {
            "colorbar": {
             "outlinewidth": 0,
             "ticks": ""
            },
            "type": "contourcarpet"
           }
          ],
          "heatmap": [
           {
            "colorbar": {
             "outlinewidth": 0,
             "ticks": ""
            },
            "colorscale": [
             [
              0,
              "#0d0887"
             ],
             [
              0.1111111111111111,
              "#46039f"
             ],
             [
              0.2222222222222222,
              "#7201a8"
             ],
             [
              0.3333333333333333,
              "#9c179e"
             ],
             [
              0.4444444444444444,
              "#bd3786"
             ],
             [
              0.5555555555555556,
              "#d8576b"
             ],
             [
              0.6666666666666666,
              "#ed7953"
             ],
             [
              0.7777777777777778,
              "#fb9f3a"
             ],
             [
              0.8888888888888888,
              "#fdca26"
             ],
             [
              1,
              "#f0f921"
             ]
            ],
            "type": "heatmap"
           }
          ],
          "heatmapgl": [
           {
            "colorbar": {
             "outlinewidth": 0,
             "ticks": ""
            },
            "colorscale": [
             [
              0,
              "#0d0887"
             ],
             [
              0.1111111111111111,
              "#46039f"
             ],
             [
              0.2222222222222222,
              "#7201a8"
             ],
             [
              0.3333333333333333,
              "#9c179e"
             ],
             [
              0.4444444444444444,
              "#bd3786"
             ],
             [
              0.5555555555555556,
              "#d8576b"
             ],
             [
              0.6666666666666666,
              "#ed7953"
             ],
             [
              0.7777777777777778,
              "#fb9f3a"
             ],
             [
              0.8888888888888888,
              "#fdca26"
             ],
             [
              1,
              "#f0f921"
             ]
            ],
            "type": "heatmapgl"
           }
          ],
          "histogram": [
           {
            "marker": {
             "pattern": {
              "fillmode": "overlay",
              "size": 10,
              "solidity": 0.2
             }
            },
            "type": "histogram"
           }
          ],
          "histogram2d": [
           {
            "colorbar": {
             "outlinewidth": 0,
             "ticks": ""
            },
            "colorscale": [
             [
              0,
              "#0d0887"
             ],
             [
              0.1111111111111111,
              "#46039f"
             ],
             [
              0.2222222222222222,
              "#7201a8"
             ],
             [
              0.3333333333333333,
              "#9c179e"
             ],
             [
              0.4444444444444444,
              "#bd3786"
             ],
             [
              0.5555555555555556,
              "#d8576b"
             ],
             [
              0.6666666666666666,
              "#ed7953"
             ],
             [
              0.7777777777777778,
              "#fb9f3a"
             ],
             [
              0.8888888888888888,
              "#fdca26"
             ],
             [
              1,
              "#f0f921"
             ]
            ],
            "type": "histogram2d"
           }
          ],
          "histogram2dcontour": [
           {
            "colorbar": {
             "outlinewidth": 0,
             "ticks": ""
            },
            "colorscale": [
             [
              0,
              "#0d0887"
             ],
             [
              0.1111111111111111,
              "#46039f"
             ],
             [
              0.2222222222222222,
              "#7201a8"
             ],
             [
              0.3333333333333333,
              "#9c179e"
             ],
             [
              0.4444444444444444,
              "#bd3786"
             ],
             [
              0.5555555555555556,
              "#d8576b"
             ],
             [
              0.6666666666666666,
              "#ed7953"
             ],
             [
              0.7777777777777778,
              "#fb9f3a"
             ],
             [
              0.8888888888888888,
              "#fdca26"
             ],
             [
              1,
              "#f0f921"
             ]
            ],
            "type": "histogram2dcontour"
           }
          ],
          "mesh3d": [
           {
            "colorbar": {
             "outlinewidth": 0,
             "ticks": ""
            },
            "type": "mesh3d"
           }
          ],
          "parcoords": [
           {
            "line": {
             "colorbar": {
              "outlinewidth": 0,
              "ticks": ""
             }
            },
            "type": "parcoords"
           }
          ],
          "pie": [
           {
            "automargin": true,
            "type": "pie"
           }
          ],
          "scatter": [
           {
            "marker": {
             "colorbar": {
              "outlinewidth": 0,
              "ticks": ""
             }
            },
            "type": "scatter"
           }
          ],
          "scatter3d": [
           {
            "line": {
             "colorbar": {
              "outlinewidth": 0,
              "ticks": ""
             }
            },
            "marker": {
             "colorbar": {
              "outlinewidth": 0,
              "ticks": ""
             }
            },
            "type": "scatter3d"
           }
          ],
          "scattercarpet": [
           {
            "marker": {
             "colorbar": {
              "outlinewidth": 0,
              "ticks": ""
             }
            },
            "type": "scattercarpet"
           }
          ],
          "scattergeo": [
           {
            "marker": {
             "colorbar": {
              "outlinewidth": 0,
              "ticks": ""
             }
            },
            "type": "scattergeo"
           }
          ],
          "scattergl": [
           {
            "marker": {
             "colorbar": {
              "outlinewidth": 0,
              "ticks": ""
             }
            },
            "type": "scattergl"
           }
          ],
          "scattermapbox": [
           {
            "marker": {
             "colorbar": {
              "outlinewidth": 0,
              "ticks": ""
             }
            },
            "type": "scattermapbox"
           }
          ],
          "scatterpolar": [
           {
            "marker": {
             "colorbar": {
              "outlinewidth": 0,
              "ticks": ""
             }
            },
            "type": "scatterpolar"
           }
          ],
          "scatterpolargl": [
           {
            "marker": {
             "colorbar": {
              "outlinewidth": 0,
              "ticks": ""
             }
            },
            "type": "scatterpolargl"
           }
          ],
          "scatterternary": [
           {
            "marker": {
             "colorbar": {
              "outlinewidth": 0,
              "ticks": ""
             }
            },
            "type": "scatterternary"
           }
          ],
          "surface": [
           {
            "colorbar": {
             "outlinewidth": 0,
             "ticks": ""
            },
            "colorscale": [
             [
              0,
              "#0d0887"
             ],
             [
              0.1111111111111111,
              "#46039f"
             ],
             [
              0.2222222222222222,
              "#7201a8"
             ],
             [
              0.3333333333333333,
              "#9c179e"
             ],
             [
              0.4444444444444444,
              "#bd3786"
             ],
             [
              0.5555555555555556,
              "#d8576b"
             ],
             [
              0.6666666666666666,
              "#ed7953"
             ],
             [
              0.7777777777777778,
              "#fb9f3a"
             ],
             [
              0.8888888888888888,
              "#fdca26"
             ],
             [
              1,
              "#f0f921"
             ]
            ],
            "type": "surface"
           }
          ],
          "table": [
           {
            "cells": {
             "fill": {
              "color": "#EBF0F8"
             },
             "line": {
              "color": "white"
             }
            },
            "header": {
             "fill": {
              "color": "#C8D4E3"
             },
             "line": {
              "color": "white"
             }
            },
            "type": "table"
           }
          ]
         },
         "layout": {
          "annotationdefaults": {
           "arrowcolor": "#2a3f5f",
           "arrowhead": 0,
           "arrowwidth": 1
          },
          "autotypenumbers": "strict",
          "coloraxis": {
           "colorbar": {
            "outlinewidth": 0,
            "ticks": ""
           }
          },
          "colorscale": {
           "diverging": [
            [
             0,
             "#8e0152"
            ],
            [
             0.1,
             "#c51b7d"
            ],
            [
             0.2,
             "#de77ae"
            ],
            [
             0.3,
             "#f1b6da"
            ],
            [
             0.4,
             "#fde0ef"
            ],
            [
             0.5,
             "#f7f7f7"
            ],
            [
             0.6,
             "#e6f5d0"
            ],
            [
             0.7,
             "#b8e186"
            ],
            [
             0.8,
             "#7fbc41"
            ],
            [
             0.9,
             "#4d9221"
            ],
            [
             1,
             "#276419"
            ]
           ],
           "sequential": [
            [
             0,
             "#0d0887"
            ],
            [
             0.1111111111111111,
             "#46039f"
            ],
            [
             0.2222222222222222,
             "#7201a8"
            ],
            [
             0.3333333333333333,
             "#9c179e"
            ],
            [
             0.4444444444444444,
             "#bd3786"
            ],
            [
             0.5555555555555556,
             "#d8576b"
            ],
            [
             0.6666666666666666,
             "#ed7953"
            ],
            [
             0.7777777777777778,
             "#fb9f3a"
            ],
            [
             0.8888888888888888,
             "#fdca26"
            ],
            [
             1,
             "#f0f921"
            ]
           ],
           "sequentialminus": [
            [
             0,
             "#0d0887"
            ],
            [
             0.1111111111111111,
             "#46039f"
            ],
            [
             0.2222222222222222,
             "#7201a8"
            ],
            [
             0.3333333333333333,
             "#9c179e"
            ],
            [
             0.4444444444444444,
             "#bd3786"
            ],
            [
             0.5555555555555556,
             "#d8576b"
            ],
            [
             0.6666666666666666,
             "#ed7953"
            ],
            [
             0.7777777777777778,
             "#fb9f3a"
            ],
            [
             0.8888888888888888,
             "#fdca26"
            ],
            [
             1,
             "#f0f921"
            ]
           ]
          },
          "colorway": [
           "#636efa",
           "#EF553B",
           "#00cc96",
           "#ab63fa",
           "#FFA15A",
           "#19d3f3",
           "#FF6692",
           "#B6E880",
           "#FF97FF",
           "#FECB52"
          ],
          "font": {
           "color": "#2a3f5f"
          },
          "geo": {
           "bgcolor": "white",
           "lakecolor": "white",
           "landcolor": "#E5ECF6",
           "showlakes": true,
           "showland": true,
           "subunitcolor": "white"
          },
          "hoverlabel": {
           "align": "left"
          },
          "hovermode": "closest",
          "mapbox": {
           "style": "light"
          },
          "paper_bgcolor": "white",
          "plot_bgcolor": "#E5ECF6",
          "polar": {
           "angularaxis": {
            "gridcolor": "white",
            "linecolor": "white",
            "ticks": ""
           },
           "bgcolor": "#E5ECF6",
           "radialaxis": {
            "gridcolor": "white",
            "linecolor": "white",
            "ticks": ""
           }
          },
          "scene": {
           "xaxis": {
            "backgroundcolor": "#E5ECF6",
            "gridcolor": "white",
            "gridwidth": 2,
            "linecolor": "white",
            "showbackground": true,
            "ticks": "",
            "zerolinecolor": "white"
           },
           "yaxis": {
            "backgroundcolor": "#E5ECF6",
            "gridcolor": "white",
            "gridwidth": 2,
            "linecolor": "white",
            "showbackground": true,
            "ticks": "",
            "zerolinecolor": "white"
           },
           "zaxis": {
            "backgroundcolor": "#E5ECF6",
            "gridcolor": "white",
            "gridwidth": 2,
            "linecolor": "white",
            "showbackground": true,
            "ticks": "",
            "zerolinecolor": "white"
           }
          },
          "shapedefaults": {
           "line": {
            "color": "#2a3f5f"
           }
          },
          "ternary": {
           "aaxis": {
            "gridcolor": "white",
            "linecolor": "white",
            "ticks": ""
           },
           "baxis": {
            "gridcolor": "white",
            "linecolor": "white",
            "ticks": ""
           },
           "bgcolor": "#E5ECF6",
           "caxis": {
            "gridcolor": "white",
            "linecolor": "white",
            "ticks": ""
           }
          },
          "title": {
           "x": 0.05
          },
          "xaxis": {
           "automargin": true,
           "gridcolor": "white",
           "linecolor": "white",
           "ticks": "",
           "title": {
            "standoff": 15
           },
           "zerolinecolor": "white",
           "zerolinewidth": 2
          },
          "yaxis": {
           "automargin": true,
           "gridcolor": "white",
           "linecolor": "white",
           "ticks": "",
           "title": {
            "standoff": 15
           },
           "zerolinecolor": "white",
           "zerolinewidth": 2
          }
         }
        },
        "title": {
         "text": "Сезонность покупок для всех категорий пользователей по месяцам",
         "x": 0.5
        },
        "width": 980,
        "xaxis": {
         "anchor": "y",
         "domain": [
          0,
          1
         ],
         "tickangle": -45,
         "title": {
          "text": "Месяц"
         },
         "type": "category"
        },
        "yaxis": {
         "anchor": "x",
         "domain": [
          0,
          1
         ],
         "title": {
          "text": "Сезонность"
         }
        }
       }
      },
      "text/html": [
       "<div>                            <div id=\"ce28c217-766d-4a1d-be85-789e886efd8a\" class=\"plotly-graph-div\" style=\"height:700px; width:980px;\"></div>            <script type=\"text/javascript\">                require([\"plotly\"], function(Plotly) {                    window.PLOTLYENV=window.PLOTLYENV || {};                                    if (document.getElementById(\"ce28c217-766d-4a1d-be85-789e886efd8a\")) {                    Plotly.newPlot(                        \"ce28c217-766d-4a1d-be85-789e886efd8a\",                        [{\"hovertemplate\":\"\\u043a\\u0430\\u0442\\u0435\\u0433\\u043e\\u0440\\u0438\\u044f \\u043a\\u043b\\u0438\\u0435\\u043d\\u0442\\u043e\\u0432=\\u041b\\u0443\\u0447\\u0448\\u0438\\u0435 \\u043a\\u043b\\u0438\\u0435\\u043d\\u0442\\u044b, \\u043e\\u043f\\u0442<br>\\u041c\\u0435\\u0441\\u044f\\u0446=%{x}<br>\\u0421\\u0435\\u0437\\u043e\\u043d\\u043d\\u043e\\u0441\\u0442\\u044c=%{y}<extra></extra>\",\"legendgroup\":\"\\u041b\\u0443\\u0447\\u0448\\u0438\\u0435 \\u043a\\u043b\\u0438\\u0435\\u043d\\u0442\\u044b, \\u043e\\u043f\\u0442\",\"line\":{\"color\":\"rgb(141,211,199)\",\"dash\":\"solid\"},\"marker\":{\"symbol\":\"circle\"},\"mode\":\"markers+lines\",\"name\":\"\\u041b\\u0443\\u0447\\u0448\\u0438\\u0435 \\u043a\\u043b\\u0438\\u0435\\u043d\\u0442\\u044b, \\u043e\\u043f\\u0442\",\"orientation\":\"v\",\"showlegend\":true,\"x\":[\"2018-10\",\"2018-11\",\"2018-12\",\"2019-01\",\"2019-02\",\"2019-03\",\"2019-04\",\"2019-05\",\"2019-06\",\"2019-07\",\"2019-08\",\"2019-09\"],\"xaxis\":\"x\",\"y\":[0.0,0.0,0.0,0.0,0.0,0.0,0.61,0.16,0.0,0.13,0.0,0.11],\"yaxis\":\"y\",\"type\":\"scatter\"},{\"hovertemplate\":\"\\u043a\\u0430\\u0442\\u0435\\u0433\\u043e\\u0440\\u0438\\u044f \\u043a\\u043b\\u0438\\u0435\\u043d\\u0442\\u043e\\u0432=\\u041b\\u0443\\u0447\\u0448\\u0438\\u0435 \\u043a\\u043b\\u0438\\u0435\\u043d\\u0442\\u044b, \\u0440\\u043e\\u0437\\u043d\\u0438\\u0446\\u0430<br>\\u041c\\u0435\\u0441\\u044f\\u0446=%{x}<br>\\u0421\\u0435\\u0437\\u043e\\u043d\\u043d\\u043e\\u0441\\u0442\\u044c=%{y}<extra></extra>\",\"legendgroup\":\"\\u041b\\u0443\\u0447\\u0448\\u0438\\u0435 \\u043a\\u043b\\u0438\\u0435\\u043d\\u0442\\u044b, \\u0440\\u043e\\u0437\\u043d\\u0438\\u0446\\u0430\",\"line\":{\"color\":\"rgb(190,186,218)\",\"dash\":\"solid\"},\"marker\":{\"symbol\":\"circle\"},\"mode\":\"markers+lines\",\"name\":\"\\u041b\\u0443\\u0447\\u0448\\u0438\\u0435 \\u043a\\u043b\\u0438\\u0435\\u043d\\u0442\\u044b, \\u0440\\u043e\\u0437\\u043d\\u0438\\u0446\\u0430\",\"orientation\":\"v\",\"showlegend\":true,\"x\":[\"2018-10\",\"2018-11\",\"2018-12\",\"2019-01\",\"2019-02\",\"2019-03\",\"2019-04\",\"2019-05\",\"2019-06\",\"2019-07\",\"2019-08\",\"2019-09\"],\"xaxis\":\"x\",\"y\":[0.0,0.0,0.0,0.01,0.02,0.02,0.45,0.28,0.1,0.02,0.04,0.02],\"yaxis\":\"y\",\"type\":\"scatter\"},{\"hovertemplate\":\"\\u043a\\u0430\\u0442\\u0435\\u0433\\u043e\\u0440\\u0438\\u044f \\u043a\\u043b\\u0438\\u0435\\u043d\\u0442\\u043e\\u0432=\\u041d\\u043e\\u0432\\u044b\\u0435 \\u043a\\u043b\\u0438\\u0435\\u043d\\u0442\\u044b, \\u043e\\u043f\\u0442<br>\\u041c\\u0435\\u0441\\u044f\\u0446=%{x}<br>\\u0421\\u0435\\u0437\\u043e\\u043d\\u043d\\u043e\\u0441\\u0442\\u044c=%{y}<extra></extra>\",\"legendgroup\":\"\\u041d\\u043e\\u0432\\u044b\\u0435 \\u043a\\u043b\\u0438\\u0435\\u043d\\u0442\\u044b, \\u043e\\u043f\\u0442\",\"line\":{\"color\":\"rgb(141,160,203)\",\"dash\":\"solid\"},\"marker\":{\"symbol\":\"circle\"},\"mode\":\"markers+lines\",\"name\":\"\\u041d\\u043e\\u0432\\u044b\\u0435 \\u043a\\u043b\\u0438\\u0435\\u043d\\u0442\\u044b, \\u043e\\u043f\\u0442\",\"orientation\":\"v\",\"showlegend\":true,\"x\":[\"2018-10\",\"2018-11\",\"2018-12\",\"2019-01\",\"2019-02\",\"2019-03\",\"2019-04\",\"2019-05\",\"2019-06\",\"2019-07\",\"2019-08\",\"2019-09\"],\"xaxis\":\"x\",\"y\":[0.0,0.0,0.0,0.0,0.0,0.0,0.08,0.17,0.47,0.03,0.03,0.07],\"yaxis\":\"y\",\"type\":\"scatter\"},{\"hovertemplate\":\"\\u043a\\u0430\\u0442\\u0435\\u0433\\u043e\\u0440\\u0438\\u044f \\u043a\\u043b\\u0438\\u0435\\u043d\\u0442\\u043e\\u0432=\\u041d\\u043e\\u0432\\u044b\\u0435 \\u043a\\u043b\\u0438\\u0435\\u043d\\u0442\\u044b, \\u0440\\u043e\\u0437\\u043d\\u0438\\u0446\\u0430<br>\\u041c\\u0435\\u0441\\u044f\\u0446=%{x}<br>\\u0421\\u0435\\u0437\\u043e\\u043d\\u043d\\u043e\\u0441\\u0442\\u044c=%{y}<extra></extra>\",\"legendgroup\":\"\\u041d\\u043e\\u0432\\u044b\\u0435 \\u043a\\u043b\\u0438\\u0435\\u043d\\u0442\\u044b, \\u0440\\u043e\\u0437\\u043d\\u0438\\u0446\\u0430\",\"line\":{\"color\":\"rgb(251,128,114)\",\"dash\":\"solid\"},\"marker\":{\"symbol\":\"circle\"},\"mode\":\"markers+lines\",\"name\":\"\\u041d\\u043e\\u0432\\u044b\\u0435 \\u043a\\u043b\\u0438\\u0435\\u043d\\u0442\\u044b, \\u0440\\u043e\\u0437\\u043d\\u0438\\u0446\\u0430\",\"orientation\":\"v\",\"showlegend\":true,\"x\":[\"2018-10\",\"2018-11\",\"2018-12\",\"2019-01\",\"2019-02\",\"2019-03\",\"2019-04\",\"2019-05\",\"2019-06\",\"2019-07\",\"2019-08\",\"2019-09\"],\"xaxis\":\"x\",\"y\":[0.0,0.0,0.0,0.0,0.0,0.0,0.23,0.28,0.12,0.14,0.09,0.08],\"yaxis\":\"y\",\"type\":\"scatter\"},{\"hovertemplate\":\"\\u043a\\u0430\\u0442\\u0435\\u0433\\u043e\\u0440\\u0438\\u044f \\u043a\\u043b\\u0438\\u0435\\u043d\\u0442\\u043e\\u0432=\\u041f\\u0435\\u0440\\u0441\\u043f\\u0435\\u043a\\u0442\\u0438\\u0432\\u043d\\u044b\\u0435 \\u043a\\u043b\\u0438\\u0435\\u043d\\u0442\\u044b, \\u043e\\u043f\\u0442<br>\\u041c\\u0435\\u0441\\u044f\\u0446=%{x}<br>\\u0421\\u0435\\u0437\\u043e\\u043d\\u043d\\u043e\\u0441\\u0442\\u044c=%{y}<extra></extra>\",\"legendgroup\":\"\\u041f\\u0435\\u0440\\u0441\\u043f\\u0435\\u043a\\u0442\\u0438\\u0432\\u043d\\u044b\\u0435 \\u043a\\u043b\\u0438\\u0435\\u043d\\u0442\\u044b, \\u043e\\u043f\\u0442\",\"line\":{\"color\":\"rgb(128,177,211)\",\"dash\":\"solid\"},\"marker\":{\"symbol\":\"circle\"},\"mode\":\"markers+lines\",\"name\":\"\\u041f\\u0435\\u0440\\u0441\\u043f\\u0435\\u043a\\u0442\\u0438\\u0432\\u043d\\u044b\\u0435 \\u043a\\u043b\\u0438\\u0435\\u043d\\u0442\\u044b, \\u043e\\u043f\\u0442\",\"orientation\":\"v\",\"showlegend\":true,\"x\":[\"2018-10\",\"2018-11\",\"2018-12\",\"2019-01\",\"2019-02\",\"2019-03\",\"2019-04\",\"2019-05\",\"2019-06\",\"2019-07\",\"2019-08\",\"2019-09\"],\"xaxis\":\"x\",\"y\":[0.0,0.0,0.0,0.0,0.0,0.0,0.0,0.0,0.0,0.58,0.0,0.0],\"yaxis\":\"y\",\"type\":\"scatter\"},{\"hovertemplate\":\"\\u043a\\u0430\\u0442\\u0435\\u0433\\u043e\\u0440\\u0438\\u044f \\u043a\\u043b\\u0438\\u0435\\u043d\\u0442\\u043e\\u0432=\\u041f\\u0435\\u0440\\u0441\\u043f\\u0435\\u043a\\u0442\\u0438\\u0432\\u043d\\u044b\\u0435 \\u043a\\u043b\\u0438\\u0435\\u043d\\u0442\\u044b, \\u0440\\u043e\\u0437\\u043d\\u0438\\u0446\\u0430<br>\\u041c\\u0435\\u0441\\u044f\\u0446=%{x}<br>\\u0421\\u0435\\u0437\\u043e\\u043d\\u043d\\u043e\\u0441\\u0442\\u044c=%{y}<extra></extra>\",\"legendgroup\":\"\\u041f\\u0435\\u0440\\u0441\\u043f\\u0435\\u043a\\u0442\\u0438\\u0432\\u043d\\u044b\\u0435 \\u043a\\u043b\\u0438\\u0435\\u043d\\u0442\\u044b, \\u0440\\u043e\\u0437\\u043d\\u0438\\u0446\\u0430\",\"line\":{\"color\":\"rgb(253,180,98)\",\"dash\":\"solid\"},\"marker\":{\"symbol\":\"circle\"},\"mode\":\"markers+lines\",\"name\":\"\\u041f\\u0435\\u0440\\u0441\\u043f\\u0435\\u043a\\u0442\\u0438\\u0432\\u043d\\u044b\\u0435 \\u043a\\u043b\\u0438\\u0435\\u043d\\u0442\\u044b, \\u0440\\u043e\\u0437\\u043d\\u0438\\u0446\\u0430\",\"orientation\":\"v\",\"showlegend\":true,\"x\":[\"2018-10\",\"2018-11\",\"2018-12\",\"2019-01\",\"2019-02\",\"2019-03\",\"2019-04\",\"2019-05\",\"2019-06\",\"2019-07\",\"2019-08\",\"2019-09\"],\"xaxis\":\"x\",\"y\":[0.0,0.0,0.0,0.0,0.0,0.01,0.48,0.04,0.04,0.12,0.05,0.09],\"yaxis\":\"y\",\"type\":\"scatter\"},{\"hovertemplate\":\"\\u043a\\u0430\\u0442\\u0435\\u0433\\u043e\\u0440\\u0438\\u044f \\u043a\\u043b\\u0438\\u0435\\u043d\\u0442\\u043e\\u0432=\\u041f\\u043e\\u0442\\u0435\\u0440\\u044f\\u043d\\u043d\\u044b\\u0435 \\u043a\\u043b\\u0438\\u0435\\u043d\\u0442\\u044b, \\u043e\\u043f\\u0442<br>\\u041c\\u0435\\u0441\\u044f\\u0446=%{x}<br>\\u0421\\u0435\\u0437\\u043e\\u043d\\u043d\\u043e\\u0441\\u0442\\u044c=%{y}<extra></extra>\",\"legendgroup\":\"\\u041f\\u043e\\u0442\\u0435\\u0440\\u044f\\u043d\\u043d\\u044b\\u0435 \\u043a\\u043b\\u0438\\u0435\\u043d\\u0442\\u044b, \\u043e\\u043f\\u0442\",\"line\":{\"color\":\"rgb(179,222,105)\",\"dash\":\"solid\"},\"marker\":{\"symbol\":\"circle\"},\"mode\":\"markers+lines\",\"name\":\"\\u041f\\u043e\\u0442\\u0435\\u0440\\u044f\\u043d\\u043d\\u044b\\u0435 \\u043a\\u043b\\u0438\\u0435\\u043d\\u0442\\u044b, \\u043e\\u043f\\u0442\",\"orientation\":\"v\",\"showlegend\":true,\"x\":[\"2018-10\",\"2018-11\",\"2018-12\",\"2019-01\",\"2019-02\",\"2019-03\",\"2019-04\",\"2019-05\",\"2019-06\",\"2019-07\",\"2019-08\",\"2019-09\"],\"xaxis\":\"x\",\"y\":[0.16,0.15,0.06,0.05,0.27,0.26,0.04,0.0,0.0,0.0,0.0,0.0],\"yaxis\":\"y\",\"type\":\"scatter\"},{\"hovertemplate\":\"\\u043a\\u0430\\u0442\\u0435\\u0433\\u043e\\u0440\\u0438\\u044f \\u043a\\u043b\\u0438\\u0435\\u043d\\u0442\\u043e\\u0432=\\u041f\\u043e\\u0442\\u0435\\u0440\\u044f\\u043d\\u043d\\u044b\\u0435 \\u043a\\u043b\\u0438\\u0435\\u043d\\u0442\\u044b, \\u0440\\u043e\\u0437\\u043d\\u0438\\u0446\\u0430<br>\\u041c\\u0435\\u0441\\u044f\\u0446=%{x}<br>\\u0421\\u0435\\u0437\\u043e\\u043d\\u043d\\u043e\\u0441\\u0442\\u044c=%{y}<extra></extra>\",\"legendgroup\":\"\\u041f\\u043e\\u0442\\u0435\\u0440\\u044f\\u043d\\u043d\\u044b\\u0435 \\u043a\\u043b\\u0438\\u0435\\u043d\\u0442\\u044b, \\u0440\\u043e\\u0437\\u043d\\u0438\\u0446\\u0430\",\"line\":{\"color\":\"rgb(252,205,229)\",\"dash\":\"solid\"},\"marker\":{\"symbol\":\"circle\"},\"mode\":\"markers+lines\",\"name\":\"\\u041f\\u043e\\u0442\\u0435\\u0440\\u044f\\u043d\\u043d\\u044b\\u0435 \\u043a\\u043b\\u0438\\u0435\\u043d\\u0442\\u044b, \\u0440\\u043e\\u0437\\u043d\\u0438\\u0446\\u0430\",\"orientation\":\"v\",\"showlegend\":true,\"x\":[\"2018-10\",\"2018-11\",\"2018-12\",\"2019-01\",\"2019-02\",\"2019-03\",\"2019-04\",\"2019-05\",\"2019-06\",\"2019-07\",\"2019-08\",\"2019-09\"],\"xaxis\":\"x\",\"y\":[0.15,0.17,0.17,0.1,0.18,0.21,0.01,0.0,0.0,0.0,0.0,0.0],\"yaxis\":\"y\",\"type\":\"scatter\"},{\"hovertemplate\":\"\\u043a\\u0430\\u0442\\u0435\\u0433\\u043e\\u0440\\u0438\\u044f \\u043a\\u043b\\u0438\\u0435\\u043d\\u0442\\u043e\\u0432=\\u0421\\u0442\\u0430\\u0440\\u044b\\u0435 \\u043a\\u043b\\u0438\\u0435\\u043d\\u0442\\u044b \\u043d\\u0430 \\u043f\\u043e\\u0440\\u043e\\u0433\\u0435 \\u043e\\u0442\\u0442\\u043e\\u043a\\u0430, \\u043e\\u043f\\u0442<br>\\u041c\\u0435\\u0441\\u044f\\u0446=%{x}<br>\\u0421\\u0435\\u0437\\u043e\\u043d\\u043d\\u043e\\u0441\\u0442\\u044c=%{y}<extra></extra>\",\"legendgroup\":\"\\u0421\\u0442\\u0430\\u0440\\u044b\\u0435 \\u043a\\u043b\\u0438\\u0435\\u043d\\u0442\\u044b \\u043d\\u0430 \\u043f\\u043e\\u0440\\u043e\\u0433\\u0435 \\u043e\\u0442\\u0442\\u043e\\u043a\\u0430, \\u043e\\u043f\\u0442\",\"line\":{\"color\":\"rgb(217,217,217)\",\"dash\":\"solid\"},\"marker\":{\"symbol\":\"circle\"},\"mode\":\"markers+lines\",\"name\":\"\\u0421\\u0442\\u0430\\u0440\\u044b\\u0435 \\u043a\\u043b\\u0438\\u0435\\u043d\\u0442\\u044b \\u043d\\u0430 \\u043f\\u043e\\u0440\\u043e\\u0433\\u0435 \\u043e\\u0442\\u0442\\u043e\\u043a\\u0430, \\u043e\\u043f\\u0442\",\"orientation\":\"v\",\"showlegend\":true,\"x\":[\"2018-10\",\"2018-11\",\"2018-12\",\"2019-01\",\"2019-02\",\"2019-03\",\"2019-04\",\"2019-05\",\"2019-06\",\"2019-07\",\"2019-08\",\"2019-09\"],\"xaxis\":\"x\",\"y\":[0.2,0.22,0.2,0.11,0.12,0.15,0.0,0.0,0.0,0.0,0.0,0.0],\"yaxis\":\"y\",\"type\":\"scatter\"},{\"hovertemplate\":\"\\u043a\\u0430\\u0442\\u0435\\u0433\\u043e\\u0440\\u0438\\u044f \\u043a\\u043b\\u0438\\u0435\\u043d\\u0442\\u043e\\u0432=\\u0421\\u0442\\u0430\\u0440\\u044b\\u0435 \\u043a\\u043b\\u0438\\u0435\\u043d\\u0442\\u044b \\u043d\\u0430 \\u043f\\u043e\\u0440\\u043e\\u0433\\u0435 \\u043e\\u0442\\u0442\\u043e\\u043a\\u0430, \\u0440\\u043e\\u0437\\u043d\\u0438\\u0446\\u0430<br>\\u041c\\u0435\\u0441\\u044f\\u0446=%{x}<br>\\u0421\\u0435\\u0437\\u043e\\u043d\\u043d\\u043e\\u0441\\u0442\\u044c=%{y}<extra></extra>\",\"legendgroup\":\"\\u0421\\u0442\\u0430\\u0440\\u044b\\u0435 \\u043a\\u043b\\u0438\\u0435\\u043d\\u0442\\u044b \\u043d\\u0430 \\u043f\\u043e\\u0440\\u043e\\u0433\\u0435 \\u043e\\u0442\\u0442\\u043e\\u043a\\u0430, \\u0440\\u043e\\u0437\\u043d\\u0438\\u0446\\u0430\",\"line\":{\"color\":\"rgb(188,128,189)\",\"dash\":\"solid\"},\"marker\":{\"symbol\":\"circle\"},\"mode\":\"markers+lines\",\"name\":\"\\u0421\\u0442\\u0430\\u0440\\u044b\\u0435 \\u043a\\u043b\\u0438\\u0435\\u043d\\u0442\\u044b \\u043d\\u0430 \\u043f\\u043e\\u0440\\u043e\\u0433\\u0435 \\u043e\\u0442\\u0442\\u043e\\u043a\\u0430, \\u0440\\u043e\\u0437\\u043d\\u0438\\u0446\\u0430\",\"orientation\":\"v\",\"showlegend\":true,\"x\":[\"2018-10\",\"2018-11\",\"2018-12\",\"2019-01\",\"2019-02\",\"2019-03\",\"2019-04\",\"2019-05\",\"2019-06\",\"2019-07\",\"2019-08\",\"2019-09\"],\"xaxis\":\"x\",\"y\":[0.35,0.18,0.12,0.07,0.13,0.14,0.01,0.0,0.0,0.0,0.0,0.0],\"yaxis\":\"y\",\"type\":\"scatter\"}],                        {\"template\":{\"data\":{\"bar\":[{\"error_x\":{\"color\":\"#2a3f5f\"},\"error_y\":{\"color\":\"#2a3f5f\"},\"marker\":{\"line\":{\"color\":\"#E5ECF6\",\"width\":0.5},\"pattern\":{\"fillmode\":\"overlay\",\"size\":10,\"solidity\":0.2}},\"type\":\"bar\"}],\"barpolar\":[{\"marker\":{\"line\":{\"color\":\"#E5ECF6\",\"width\":0.5},\"pattern\":{\"fillmode\":\"overlay\",\"size\":10,\"solidity\":0.2}},\"type\":\"barpolar\"}],\"carpet\":[{\"aaxis\":{\"endlinecolor\":\"#2a3f5f\",\"gridcolor\":\"white\",\"linecolor\":\"white\",\"minorgridcolor\":\"white\",\"startlinecolor\":\"#2a3f5f\"},\"baxis\":{\"endlinecolor\":\"#2a3f5f\",\"gridcolor\":\"white\",\"linecolor\":\"white\",\"minorgridcolor\":\"white\",\"startlinecolor\":\"#2a3f5f\"},\"type\":\"carpet\"}],\"choropleth\":[{\"colorbar\":{\"outlinewidth\":0,\"ticks\":\"\"},\"type\":\"choropleth\"}],\"contour\":[{\"colorbar\":{\"outlinewidth\":0,\"ticks\":\"\"},\"colorscale\":[[0.0,\"#0d0887\"],[0.1111111111111111,\"#46039f\"],[0.2222222222222222,\"#7201a8\"],[0.3333333333333333,\"#9c179e\"],[0.4444444444444444,\"#bd3786\"],[0.5555555555555556,\"#d8576b\"],[0.6666666666666666,\"#ed7953\"],[0.7777777777777778,\"#fb9f3a\"],[0.8888888888888888,\"#fdca26\"],[1.0,\"#f0f921\"]],\"type\":\"contour\"}],\"contourcarpet\":[{\"colorbar\":{\"outlinewidth\":0,\"ticks\":\"\"},\"type\":\"contourcarpet\"}],\"heatmap\":[{\"colorbar\":{\"outlinewidth\":0,\"ticks\":\"\"},\"colorscale\":[[0.0,\"#0d0887\"],[0.1111111111111111,\"#46039f\"],[0.2222222222222222,\"#7201a8\"],[0.3333333333333333,\"#9c179e\"],[0.4444444444444444,\"#bd3786\"],[0.5555555555555556,\"#d8576b\"],[0.6666666666666666,\"#ed7953\"],[0.7777777777777778,\"#fb9f3a\"],[0.8888888888888888,\"#fdca26\"],[1.0,\"#f0f921\"]],\"type\":\"heatmap\"}],\"heatmapgl\":[{\"colorbar\":{\"outlinewidth\":0,\"ticks\":\"\"},\"colorscale\":[[0.0,\"#0d0887\"],[0.1111111111111111,\"#46039f\"],[0.2222222222222222,\"#7201a8\"],[0.3333333333333333,\"#9c179e\"],[0.4444444444444444,\"#bd3786\"],[0.5555555555555556,\"#d8576b\"],[0.6666666666666666,\"#ed7953\"],[0.7777777777777778,\"#fb9f3a\"],[0.8888888888888888,\"#fdca26\"],[1.0,\"#f0f921\"]],\"type\":\"heatmapgl\"}],\"histogram\":[{\"marker\":{\"pattern\":{\"fillmode\":\"overlay\",\"size\":10,\"solidity\":0.2}},\"type\":\"histogram\"}],\"histogram2d\":[{\"colorbar\":{\"outlinewidth\":0,\"ticks\":\"\"},\"colorscale\":[[0.0,\"#0d0887\"],[0.1111111111111111,\"#46039f\"],[0.2222222222222222,\"#7201a8\"],[0.3333333333333333,\"#9c179e\"],[0.4444444444444444,\"#bd3786\"],[0.5555555555555556,\"#d8576b\"],[0.6666666666666666,\"#ed7953\"],[0.7777777777777778,\"#fb9f3a\"],[0.8888888888888888,\"#fdca26\"],[1.0,\"#f0f921\"]],\"type\":\"histogram2d\"}],\"histogram2dcontour\":[{\"colorbar\":{\"outlinewidth\":0,\"ticks\":\"\"},\"colorscale\":[[0.0,\"#0d0887\"],[0.1111111111111111,\"#46039f\"],[0.2222222222222222,\"#7201a8\"],[0.3333333333333333,\"#9c179e\"],[0.4444444444444444,\"#bd3786\"],[0.5555555555555556,\"#d8576b\"],[0.6666666666666666,\"#ed7953\"],[0.7777777777777778,\"#fb9f3a\"],[0.8888888888888888,\"#fdca26\"],[1.0,\"#f0f921\"]],\"type\":\"histogram2dcontour\"}],\"mesh3d\":[{\"colorbar\":{\"outlinewidth\":0,\"ticks\":\"\"},\"type\":\"mesh3d\"}],\"parcoords\":[{\"line\":{\"colorbar\":{\"outlinewidth\":0,\"ticks\":\"\"}},\"type\":\"parcoords\"}],\"pie\":[{\"automargin\":true,\"type\":\"pie\"}],\"scatter\":[{\"marker\":{\"colorbar\":{\"outlinewidth\":0,\"ticks\":\"\"}},\"type\":\"scatter\"}],\"scatter3d\":[{\"line\":{\"colorbar\":{\"outlinewidth\":0,\"ticks\":\"\"}},\"marker\":{\"colorbar\":{\"outlinewidth\":0,\"ticks\":\"\"}},\"type\":\"scatter3d\"}],\"scattercarpet\":[{\"marker\":{\"colorbar\":{\"outlinewidth\":0,\"ticks\":\"\"}},\"type\":\"scattercarpet\"}],\"scattergeo\":[{\"marker\":{\"colorbar\":{\"outlinewidth\":0,\"ticks\":\"\"}},\"type\":\"scattergeo\"}],\"scattergl\":[{\"marker\":{\"colorbar\":{\"outlinewidth\":0,\"ticks\":\"\"}},\"type\":\"scattergl\"}],\"scattermapbox\":[{\"marker\":{\"colorbar\":{\"outlinewidth\":0,\"ticks\":\"\"}},\"type\":\"scattermapbox\"}],\"scatterpolar\":[{\"marker\":{\"colorbar\":{\"outlinewidth\":0,\"ticks\":\"\"}},\"type\":\"scatterpolar\"}],\"scatterpolargl\":[{\"marker\":{\"colorbar\":{\"outlinewidth\":0,\"ticks\":\"\"}},\"type\":\"scatterpolargl\"}],\"scatterternary\":[{\"marker\":{\"colorbar\":{\"outlinewidth\":0,\"ticks\":\"\"}},\"type\":\"scatterternary\"}],\"surface\":[{\"colorbar\":{\"outlinewidth\":0,\"ticks\":\"\"},\"colorscale\":[[0.0,\"#0d0887\"],[0.1111111111111111,\"#46039f\"],[0.2222222222222222,\"#7201a8\"],[0.3333333333333333,\"#9c179e\"],[0.4444444444444444,\"#bd3786\"],[0.5555555555555556,\"#d8576b\"],[0.6666666666666666,\"#ed7953\"],[0.7777777777777778,\"#fb9f3a\"],[0.8888888888888888,\"#fdca26\"],[1.0,\"#f0f921\"]],\"type\":\"surface\"}],\"table\":[{\"cells\":{\"fill\":{\"color\":\"#EBF0F8\"},\"line\":{\"color\":\"white\"}},\"header\":{\"fill\":{\"color\":\"#C8D4E3\"},\"line\":{\"color\":\"white\"}},\"type\":\"table\"}]},\"layout\":{\"annotationdefaults\":{\"arrowcolor\":\"#2a3f5f\",\"arrowhead\":0,\"arrowwidth\":1},\"autotypenumbers\":\"strict\",\"coloraxis\":{\"colorbar\":{\"outlinewidth\":0,\"ticks\":\"\"}},\"colorscale\":{\"diverging\":[[0,\"#8e0152\"],[0.1,\"#c51b7d\"],[0.2,\"#de77ae\"],[0.3,\"#f1b6da\"],[0.4,\"#fde0ef\"],[0.5,\"#f7f7f7\"],[0.6,\"#e6f5d0\"],[0.7,\"#b8e186\"],[0.8,\"#7fbc41\"],[0.9,\"#4d9221\"],[1,\"#276419\"]],\"sequential\":[[0.0,\"#0d0887\"],[0.1111111111111111,\"#46039f\"],[0.2222222222222222,\"#7201a8\"],[0.3333333333333333,\"#9c179e\"],[0.4444444444444444,\"#bd3786\"],[0.5555555555555556,\"#d8576b\"],[0.6666666666666666,\"#ed7953\"],[0.7777777777777778,\"#fb9f3a\"],[0.8888888888888888,\"#fdca26\"],[1.0,\"#f0f921\"]],\"sequentialminus\":[[0.0,\"#0d0887\"],[0.1111111111111111,\"#46039f\"],[0.2222222222222222,\"#7201a8\"],[0.3333333333333333,\"#9c179e\"],[0.4444444444444444,\"#bd3786\"],[0.5555555555555556,\"#d8576b\"],[0.6666666666666666,\"#ed7953\"],[0.7777777777777778,\"#fb9f3a\"],[0.8888888888888888,\"#fdca26\"],[1.0,\"#f0f921\"]]},\"colorway\":[\"#636efa\",\"#EF553B\",\"#00cc96\",\"#ab63fa\",\"#FFA15A\",\"#19d3f3\",\"#FF6692\",\"#B6E880\",\"#FF97FF\",\"#FECB52\"],\"font\":{\"color\":\"#2a3f5f\"},\"geo\":{\"bgcolor\":\"white\",\"lakecolor\":\"white\",\"landcolor\":\"#E5ECF6\",\"showlakes\":true,\"showland\":true,\"subunitcolor\":\"white\"},\"hoverlabel\":{\"align\":\"left\"},\"hovermode\":\"closest\",\"mapbox\":{\"style\":\"light\"},\"paper_bgcolor\":\"white\",\"plot_bgcolor\":\"#E5ECF6\",\"polar\":{\"angularaxis\":{\"gridcolor\":\"white\",\"linecolor\":\"white\",\"ticks\":\"\"},\"bgcolor\":\"#E5ECF6\",\"radialaxis\":{\"gridcolor\":\"white\",\"linecolor\":\"white\",\"ticks\":\"\"}},\"scene\":{\"xaxis\":{\"backgroundcolor\":\"#E5ECF6\",\"gridcolor\":\"white\",\"gridwidth\":2,\"linecolor\":\"white\",\"showbackground\":true,\"ticks\":\"\",\"zerolinecolor\":\"white\"},\"yaxis\":{\"backgroundcolor\":\"#E5ECF6\",\"gridcolor\":\"white\",\"gridwidth\":2,\"linecolor\":\"white\",\"showbackground\":true,\"ticks\":\"\",\"zerolinecolor\":\"white\"},\"zaxis\":{\"backgroundcolor\":\"#E5ECF6\",\"gridcolor\":\"white\",\"gridwidth\":2,\"linecolor\":\"white\",\"showbackground\":true,\"ticks\":\"\",\"zerolinecolor\":\"white\"}},\"shapedefaults\":{\"line\":{\"color\":\"#2a3f5f\"}},\"ternary\":{\"aaxis\":{\"gridcolor\":\"white\",\"linecolor\":\"white\",\"ticks\":\"\"},\"baxis\":{\"gridcolor\":\"white\",\"linecolor\":\"white\",\"ticks\":\"\"},\"bgcolor\":\"#E5ECF6\",\"caxis\":{\"gridcolor\":\"white\",\"linecolor\":\"white\",\"ticks\":\"\"}},\"title\":{\"x\":0.05},\"xaxis\":{\"automargin\":true,\"gridcolor\":\"white\",\"linecolor\":\"white\",\"ticks\":\"\",\"title\":{\"standoff\":15},\"zerolinecolor\":\"white\",\"zerolinewidth\":2},\"yaxis\":{\"automargin\":true,\"gridcolor\":\"white\",\"linecolor\":\"white\",\"ticks\":\"\",\"title\":{\"standoff\":15},\"zerolinecolor\":\"white\",\"zerolinewidth\":2}}},\"xaxis\":{\"anchor\":\"y\",\"domain\":[0.0,1.0],\"title\":{\"text\":\"\\u041c\\u0435\\u0441\\u044f\\u0446\"},\"tickangle\":-45,\"type\":\"category\"},\"yaxis\":{\"anchor\":\"x\",\"domain\":[0.0,1.0],\"title\":{\"text\":\"\\u0421\\u0435\\u0437\\u043e\\u043d\\u043d\\u043e\\u0441\\u0442\\u044c\"}},\"legend\":{\"title\":{\"text\":\"\\u043a\\u0430\\u0442\\u0435\\u0433\\u043e\\u0440\\u0438\\u044f \\u043a\\u043b\\u0438\\u0435\\u043d\\u0442\\u043e\\u0432\"},\"tracegroupgap\":0,\"orientation\":\"h\",\"x\":0.1,\"y\":-0.2},\"margin\":{\"t\":60},\"title\":{\"x\":0.5,\"text\":\"\\u0421\\u0435\\u0437\\u043e\\u043d\\u043d\\u043e\\u0441\\u0442\\u044c \\u043f\\u043e\\u043a\\u0443\\u043f\\u043e\\u043a \\u0434\\u043b\\u044f \\u0432\\u0441\\u0435\\u0445 \\u043a\\u0430\\u0442\\u0435\\u0433\\u043e\\u0440\\u0438\\u0439 \\u043f\\u043e\\u043b\\u044c\\u0437\\u043e\\u0432\\u0430\\u0442\\u0435\\u043b\\u0435\\u0439 \\u043f\\u043e \\u043c\\u0435\\u0441\\u044f\\u0446\\u0430\\u043c\"},\"autosize\":false,\"width\":980,\"height\":700},                        {\"responsive\": true}                    ).then(function(){\n",
       "                            \n",
       "var gd = document.getElementById('ce28c217-766d-4a1d-be85-789e886efd8a');\n",
       "var x = new MutationObserver(function (mutations, observer) {{\n",
       "        var display = window.getComputedStyle(gd).display;\n",
       "        if (!display || display === 'none') {{\n",
       "            console.log([gd, 'removed!']);\n",
       "            Plotly.purge(gd);\n",
       "            observer.disconnect();\n",
       "        }}\n",
       "}});\n",
       "\n",
       "// Listen for the removal of the full notebook cells\n",
       "var notebookContainer = gd.closest('#notebook-container');\n",
       "if (notebookContainer) {{\n",
       "    x.observe(notebookContainer, {childList: true});\n",
       "}}\n",
       "\n",
       "// Listen for the clearing of the current output cell\n",
       "var outputEl = gd.closest('.output');\n",
       "if (outputEl) {{\n",
       "    x.observe(outputEl, {childList: true});\n",
       "}}\n",
       "\n",
       "                        })                };                });            </script>        </div>"
      ]
     },
     "metadata": {},
     "output_type": "display_data"
    }
   ],
   "source": [
    "# график сезонности покупок всех категорий пользователй\n",
    "season = seasonality[pd.Series(v for v in seasonality.columns[:-1])].T\n",
    "fig = px.line(season,\n",
    "              markers=True,\n",
    "              labels={'value': 'Сезонность', 'month': 'Месяц', 'clients_category': 'категория клиентов'},\n",
    "              color_discrete_sequence=[px.colors.qualitative.Set3[0], px.colors.qualitative.Set3[2], \\\n",
    "                                     px.colors.qualitative.Set2[2], px.colors.qualitative.Set3[3], \\\n",
    "                                     px.colors.qualitative.Set3[4], px.colors.qualitative.Set3[5], \\\n",
    "                                     px.colors.qualitative.Set3[6], px.colors.qualitative.Set3[7], \\\n",
    "                                     px.colors.qualitative.Set3[8], px.colors.qualitative.Set3[9], \\\n",
    "                                     px.colors.qualitative.Set3[10], px.colors.qualitative.Set2[0]])\n",
    "fig.update_layout(title_x = 0.5, xaxis_tickangle=-45)\n",
    "fig.update_xaxes(type='category'),\n",
    "fig.update_layout(autosize=False,\n",
    "                  width=980,\n",
    "                  height=700,\n",
    "                  legend_orientation='h', \n",
    "                  legend=dict(x=.1, y=-.2),\n",
    "                  title_text='Сезонность покупок для всех категорий пользователей по месяцам'\n",
    "                  )\n",
    "fig.show()"
   ]
  },
  {
   "cell_type": "markdown",
   "id": "e252e25a",
   "metadata": {},
   "source": [
    "График показывает, что:\n",
    "- розничные покупатели из категорий Лучшие, Новые и Перспективные клиенты половину от общего количества товаров купили в апреле и мае 2019 года;\n",
    "- розничные покупатели из категории Старые клиенты на пороге оттока имели пиковую активность в октябре 2018 года, а минимальную в январе 2019 года;\n",
    "- оптовые покупатели из категории Лучшие клиенты имели пиковую активность в апреле 2019 года, а минимальную в июне и августе 2019 года;\n",
    "- оптовые покупатели из категории Перспективные клиенты имели активность только в июле 2019 года;\n",
    "- оптовые покупатели из категории Старые клиенты на пороге оттока имели основную активность в 2018 году;\n",
    "- оптовые покупатели из категории Новые клиенты имели высокую активность мае-июне 2019 года."
   ]
  },
  {
   "cell_type": "markdown",
   "id": "9bde471f",
   "metadata": {},
   "source": [
    "<a id='p6'></a>\n",
    "### [Статистический анализ гипотез](#section_id6)"
   ]
  },
  {
   "cell_type": "markdown",
   "id": "889c33f8",
   "metadata": {},
   "source": [
    "Все три гипотезы проверять будем при помощи U-критерия Манна-Уитни, уровень статистической значимости примем равным 0,05.\n",
    "\n",
    "Данный критерий непараметрический и выбран он потому что:\n",
    "- нам нужно именно сравнить две независимые выборки между собой, а не оценить параметры предполагаемого распределения одной из них;\n",
    "- для непараметрических тестов не принципиально нормальное распределение значений в выборках, т. к. они сравнивают именно присваиваемые ранги, а не сами значения.\n",
    "\n",
    "Уровень статистической значимости выбран таким потому что:\n",
    "- это наиболее оптимальное значение в большинстве случаев;\n",
    "- нам не нужно применять поправки к нему, т. к. тесты не множественные."
   ]
  },
  {
   "cell_type": "markdown",
   "id": "ebe24722",
   "metadata": {},
   "source": [
    "**Первая гипотеза:** \n",
    "\n",
    "Нулевая: различий в частоте заказов у оптовых и розничных покупателей нет.\n",
    "<br>Альтернативная: разница в частоте заказов у оптовых и розничных покупателей есть."
   ]
  },
  {
   "cell_type": "code",
   "execution_count": 50,
   "id": "c31d24c1",
   "metadata": {},
   "outputs": [
    {
     "name": "stdout",
     "output_type": "stream",
     "text": [
      "p-value: 0.031746031746031744\n",
      "Отвергаем нулевую гипотезу\n"
     ]
    }
   ],
   "source": [
    "# списки категорий оптовиков и розничных покупателей\n",
    "opt = [\"Старые клиенты на пороге оттока, опт\", \\\n",
    "       \"Новые клиенты, опт\", \\\n",
    "       \"Лучшие клиенты, опт\", \\\n",
    "       \"Потерянные клиенты, опт\", \\\n",
    "       \"Перспективные клиенты, опт\"]\n",
    "ret = [\"Старые клиенты на пороге оттока, розница\", \\\n",
    "       \"Новые клиенты, розница\", \\\n",
    "       \"Лучшие клиенты, розница\", \\\n",
    "       \"Потерянные клиенты, розница\", \\\n",
    "       \"Перспективные клиенты, розница\"]\n",
    "\n",
    "rfm = rfm.rename(columns={'Категория клиентов': 'clients_category', 'Количество заказов': 'order_id', \\\n",
    "                          'Средний чек': 'avg_check'})\n",
    "\n",
    "opt_dt = rfm.query('clients_category in @opt')['order_id'] \n",
    "ret_dt = rfm.query('clients_category in @ret')['order_id']\n",
    "\n",
    "alpha = 0.05\n",
    "\n",
    "# применим критерий Манна-Уитни\n",
    "\n",
    "results = st.mannwhitneyu(opt_dt, ret_dt)\n",
    "\n",
    "print(f\"p-value: {results.pvalue}\")\n",
    "\n",
    "if results.pvalue < alpha:\n",
    "    print('Отвергаем нулевую гипотезу')\n",
    "else:\n",
    "    print('Не получилось отвергнуть нулевую гипотезу')"
   ]
  },
  {
   "cell_type": "markdown",
   "id": "0b130985",
   "metadata": {},
   "source": [
    "По итогам проверки первой гипотезы, установлено, что **есть разница** в частоте заказов оптовых и розничных покупателей.\n",
    "\n",
    "Следовательно, разделение клиентов на оптовых и розничных было произведено верно. Т.к., с точки зрения жизненного опыта, чаще всего, действительно, есть большая разница в частоте заказов этих двух групп покупателей."
   ]
  },
  {
   "cell_type": "markdown",
   "id": "ec5f6a5d",
   "metadata": {},
   "source": [
    "**Вторая гипотеза:** \n",
    "\n",
    "Нулевая: различий в среднем чеке заказов у оптовых и розничных покупателей нет.\n",
    "<br>Альтернативная: разница в среднем чеке заказов у оптовых и розничных покупателей есть."
   ]
  },
  {
   "cell_type": "code",
   "execution_count": 46,
   "id": "d5711cf1",
   "metadata": {},
   "outputs": [
    {
     "name": "stdout",
     "output_type": "stream",
     "text": [
      "p-value: 0.30952380952380953\n",
      "Не получилось отвергнуть нулевую гипотезу\n"
     ]
    }
   ],
   "source": [
    "opt_dt = rfm.query('clients_category in @opt')['avg_check'] \n",
    "ret_dt = rfm.query('clients_category in @ret')['avg_check']\n",
    "\n",
    "\n",
    "alpha = 0.05\n",
    "\n",
    "# применим критерий Манна-Уитни\n",
    "\n",
    "results = st.mannwhitneyu(opt_dt, ret_dt)\n",
    "\n",
    "print(f\"p-value: {results.pvalue}\")\n",
    "\n",
    "if results.pvalue < alpha:\n",
    "    print('Отвергаем нулевую гипотезу')\n",
    "else:\n",
    "    print('Не получилось отвергнуть нулевую гипотезу')"
   ]
  },
  {
   "cell_type": "markdown",
   "id": "f9062339",
   "metadata": {},
   "source": [
    "По итогам проверки второй гипотезы, установлено, что **нет разницы** (статистически значимой) в среднем чеке заказов оптовых и розничных покупателей."
   ]
  },
  {
   "cell_type": "markdown",
   "id": "1d7a6fec",
   "metadata": {},
   "source": [
    "Исходя из этого можно сделать вывод, что оптовики *некоторых категорий*, несмотря на то, что покупают больше товаров по количеству штук, выручки от этого больше не приносят. Т. е. делают много заказов в оптовых количествах, но более дешевых товаров."
   ]
  },
  {
   "cell_type": "markdown",
   "id": "535282c0",
   "metadata": {},
   "source": [
    "**Третья гипотеза:** \n",
    "\n",
    "Нулевая: различий в предпочтениях категорий товаров у оптовых и розничных покупателей нет.\n",
    "<br>Альтернативная: различия в предпочтениях категорий товаров у оптовых и розничных покупателей есть."
   ]
  },
  {
   "cell_type": "code",
   "execution_count": 47,
   "id": "2f38ac57",
   "metadata": {},
   "outputs": [
    {
     "data": {
      "text/html": [
       "<div>\n",
       "<style scoped>\n",
       "    .dataframe tbody tr th:only-of-type {\n",
       "        vertical-align: middle;\n",
       "    }\n",
       "\n",
       "    .dataframe tbody tr th {\n",
       "        vertical-align: top;\n",
       "    }\n",
       "\n",
       "    .dataframe thead th {\n",
       "        text-align: right;\n",
       "    }\n",
       "</style>\n",
       "<table border=\"1\" class=\"dataframe\">\n",
       "  <thead>\n",
       "    <tr style=\"text-align: right;\">\n",
       "      <th>products_category</th>\n",
       "      <th>Декор и текстиль</th>\n",
       "      <th>Кухонные принадлежности</th>\n",
       "      <th>Растения и рассада</th>\n",
       "      <th>Стройматериалы и бытовая техника</th>\n",
       "      <th>Хозтовары</th>\n",
       "    </tr>\n",
       "    <tr>\n",
       "      <th>clients_category</th>\n",
       "      <th></th>\n",
       "      <th></th>\n",
       "      <th></th>\n",
       "      <th></th>\n",
       "      <th></th>\n",
       "    </tr>\n",
       "  </thead>\n",
       "  <tbody>\n",
       "    <tr>\n",
       "      <th>Лучшие клиенты, опт</th>\n",
       "      <td>0.17</td>\n",
       "      <td>0.32</td>\n",
       "      <td>0.18</td>\n",
       "      <td>0.00</td>\n",
       "      <td>0.33</td>\n",
       "    </tr>\n",
       "    <tr>\n",
       "      <th>Лучшие клиенты, розница</th>\n",
       "      <td>0.04</td>\n",
       "      <td>0.00</td>\n",
       "      <td>0.81</td>\n",
       "      <td>0.03</td>\n",
       "      <td>0.11</td>\n",
       "    </tr>\n",
       "    <tr>\n",
       "      <th>Новые клиенты, опт</th>\n",
       "      <td>0.22</td>\n",
       "      <td>0.08</td>\n",
       "      <td>0.06</td>\n",
       "      <td>0.09</td>\n",
       "      <td>0.55</td>\n",
       "    </tr>\n",
       "    <tr>\n",
       "      <th>Новые клиенты, розница</th>\n",
       "      <td>0.09</td>\n",
       "      <td>0.04</td>\n",
       "      <td>0.64</td>\n",
       "      <td>0.05</td>\n",
       "      <td>0.18</td>\n",
       "    </tr>\n",
       "    <tr>\n",
       "      <th>Перспективные клиенты, опт</th>\n",
       "      <td>0.58</td>\n",
       "      <td>0.00</td>\n",
       "      <td>0.00</td>\n",
       "      <td>0.42</td>\n",
       "      <td>0.00</td>\n",
       "    </tr>\n",
       "    <tr>\n",
       "      <th>Перспективные клиенты, розница</th>\n",
       "      <td>0.06</td>\n",
       "      <td>0.03</td>\n",
       "      <td>0.76</td>\n",
       "      <td>0.05</td>\n",
       "      <td>0.10</td>\n",
       "    </tr>\n",
       "    <tr>\n",
       "      <th>Потерянные клиенты, опт</th>\n",
       "      <td>0.30</td>\n",
       "      <td>0.12</td>\n",
       "      <td>0.36</td>\n",
       "      <td>0.12</td>\n",
       "      <td>0.09</td>\n",
       "    </tr>\n",
       "    <tr>\n",
       "      <th>Потерянные клиенты, розница</th>\n",
       "      <td>0.17</td>\n",
       "      <td>0.15</td>\n",
       "      <td>0.39</td>\n",
       "      <td>0.03</td>\n",
       "      <td>0.25</td>\n",
       "    </tr>\n",
       "    <tr>\n",
       "      <th>Старые клиенты на пороге оттока, опт</th>\n",
       "      <td>0.28</td>\n",
       "      <td>0.09</td>\n",
       "      <td>0.06</td>\n",
       "      <td>0.24</td>\n",
       "      <td>0.33</td>\n",
       "    </tr>\n",
       "    <tr>\n",
       "      <th>Старые клиенты на пороге оттока, розница</th>\n",
       "      <td>0.13</td>\n",
       "      <td>0.11</td>\n",
       "      <td>0.27</td>\n",
       "      <td>0.14</td>\n",
       "      <td>0.35</td>\n",
       "    </tr>\n",
       "  </tbody>\n",
       "</table>\n",
       "</div>"
      ],
      "text/plain": [
       "products_category                         Декор и текстиль  \\\n",
       "clients_category                                             \n",
       "Лучшие клиенты, опт                                   0.17   \n",
       "Лучшие клиенты, розница                               0.04   \n",
       "Новые клиенты, опт                                    0.22   \n",
       "Новые клиенты, розница                                0.09   \n",
       "Перспективные клиенты, опт                            0.58   \n",
       "Перспективные клиенты, розница                        0.06   \n",
       "Потерянные клиенты, опт                               0.30   \n",
       "Потерянные клиенты, розница                           0.17   \n",
       "Старые клиенты на пороге оттока, опт                  0.28   \n",
       "Старые клиенты на пороге оттока, розница              0.13   \n",
       "\n",
       "products_category                         Кухонные принадлежности  \\\n",
       "clients_category                                                    \n",
       "Лучшие клиенты, опт                                          0.32   \n",
       "Лучшие клиенты, розница                                      0.00   \n",
       "Новые клиенты, опт                                           0.08   \n",
       "Новые клиенты, розница                                       0.04   \n",
       "Перспективные клиенты, опт                                   0.00   \n",
       "Перспективные клиенты, розница                               0.03   \n",
       "Потерянные клиенты, опт                                      0.12   \n",
       "Потерянные клиенты, розница                                  0.15   \n",
       "Старые клиенты на пороге оттока, опт                         0.09   \n",
       "Старые клиенты на пороге оттока, розница                     0.11   \n",
       "\n",
       "products_category                         Растения и рассада  \\\n",
       "clients_category                                               \n",
       "Лучшие клиенты, опт                                     0.18   \n",
       "Лучшие клиенты, розница                                 0.81   \n",
       "Новые клиенты, опт                                      0.06   \n",
       "Новые клиенты, розница                                  0.64   \n",
       "Перспективные клиенты, опт                              0.00   \n",
       "Перспективные клиенты, розница                          0.76   \n",
       "Потерянные клиенты, опт                                 0.36   \n",
       "Потерянные клиенты, розница                             0.39   \n",
       "Старые клиенты на пороге оттока, опт                    0.06   \n",
       "Старые клиенты на пороге оттока, розница                0.27   \n",
       "\n",
       "products_category                         Стройматериалы и бытовая техника  \\\n",
       "clients_category                                                             \n",
       "Лучшие клиенты, опт                                                   0.00   \n",
       "Лучшие клиенты, розница                                               0.03   \n",
       "Новые клиенты, опт                                                    0.09   \n",
       "Новые клиенты, розница                                                0.05   \n",
       "Перспективные клиенты, опт                                            0.42   \n",
       "Перспективные клиенты, розница                                        0.05   \n",
       "Потерянные клиенты, опт                                               0.12   \n",
       "Потерянные клиенты, розница                                           0.03   \n",
       "Старые клиенты на пороге оттока, опт                                  0.24   \n",
       "Старые клиенты на пороге оттока, розница                              0.14   \n",
       "\n",
       "products_category                         Хозтовары  \n",
       "clients_category                                     \n",
       "Лучшие клиенты, опт                            0.33  \n",
       "Лучшие клиенты, розница                        0.11  \n",
       "Новые клиенты, опт                             0.55  \n",
       "Новые клиенты, розница                         0.18  \n",
       "Перспективные клиенты, опт                     0.00  \n",
       "Перспективные клиенты, розница                 0.10  \n",
       "Потерянные клиенты, опт                        0.09  \n",
       "Потерянные клиенты, розница                    0.25  \n",
       "Старые клиенты на пороге оттока, опт           0.33  \n",
       "Старые клиенты на пороге оттока, розница       0.35  "
      ]
     },
     "execution_count": 47,
     "metadata": {},
     "output_type": "execute_result"
    }
   ],
   "source": [
    "ca = cat['Название категории'].to_list()\n",
    "\n",
    "# сводная таблица предпочтений каждой категории покупателей\n",
    "seasonality = (orders.query('products_category in @ca') \n",
    "                    .pivot_table(index='products_category', columns='clients_category', \n",
    "                                 values='quantity', aggfunc='sum', fill_value=0, \\\n",
    "                                 margins=True, \\\n",
    "                                 margins_name='Количество продаж за весь период')).T\n",
    "\n",
    "for categor in seasonality.columns:   \n",
    "    seasonality[categor] = round(seasonality[categor]/seasonality['Количество продаж за весь период'], 2)\n",
    "seasonality = seasonality.T[:-1].T[:-1]\n",
    "seasonality"
   ]
  },
  {
   "cell_type": "code",
   "execution_count": 48,
   "id": "b0e5dedc",
   "metadata": {},
   "outputs": [
    {
     "name": "stdout",
     "output_type": "stream",
     "text": [
      "p-value: 0.015970696353780123\n",
      "Отвергаем нулевую гипотезу для категории Старые клиенты на пороге оттока\n",
      "\n",
      "p-value: 0.6004018480969686\n",
      "Не получилось отвергнуть нулевую гипотезу для категории Новые клиенты\n",
      "\n",
      "p-value: 0.021176657854316622\n",
      "Отвергаем нулевую гипотезу для категории Лучшие клиенты\n",
      "\n",
      "p-value: 0.2933255737660211\n",
      "Не получилось отвергнуть нулевую гипотезу для категории Потерянные клиенты\n",
      "\n",
      "p-value: 1.0\n",
      "Не получилось отвергнуть нулевую гипотезу для категории Перспективные клиенты\n",
      "\n"
     ]
    }
   ],
   "source": [
    "# таблицы предпочтений для оптовиков и розничных покупателей\n",
    "opt_seas = seasonality.query('clients_category in @opt')\n",
    "ret_seas = seasonality.query('clients_category in @ret')\n",
    "\n",
    "alpha = 0.05\n",
    "\n",
    "# применим критерий Манна-Уитни\n",
    "\n",
    "results = st.mannwhitneyu(opt_seas, ret_seas)\n",
    "\n",
    "category = ''\n",
    "for i in range(len(results.pvalue)):\n",
    "    category = opt[i].split(', ')[0]\n",
    "    if results.pvalue[i] < alpha:\n",
    "        print(f'p-value: {results.pvalue[i]}', f'Отвергаем нулевую гипотезу для категории {category}', sep='\\n', end='\\n\\n')\n",
    "    else:\n",
    "        print(f'p-value: {results.pvalue[i]}', f'Не получилось отвергнуть нулевую гипотезу для категории {category}', \\\n",
    "                                                                                                         sep='\\n', end='\\n\\n')"
   ]
  },
  {
   "cell_type": "markdown",
   "id": "c9a49644",
   "metadata": {},
   "source": [
    "По итогам проверки третьей гипотезы, установлено, что:\n",
    "- для категорий Лучшие клиенты и Старые клиенты на пороге оттока **есть различия** в предпочтениях категорий товаров среди оптовиков и розничных покупателей;\n",
    "- для категорий Новые, Перспективные и Потерянные клиенты  **нет различий** в предпочтениях категорий товаров среди оптовиков и розничных покупателей."
   ]
  },
  {
   "cell_type": "markdown",
   "id": "493154ca",
   "metadata": {},
   "source": [
    "Отсюда следует, что для категорий Лучшие клиенты и Старые клиенты на порге оттока предпочтительнее разделять покупателей на оптовых и розничных для проведения маркетинговых кампаний."
   ]
  },
  {
   "cell_type": "markdown",
   "id": "2d6a93ed",
   "metadata": {},
   "source": [
    "<a id='p7'></a>\n",
    "### [Выводы](#section_id7)"
   ]
  },
  {
   "cell_type": "markdown",
   "id": "243c9496",
   "metadata": {},
   "source": [
    "Интернет-магазин товаров для дома \"Пока все ещё тут\" обратился с проблемой непонимания куда дальше развиваться и просьбой помочь обнаружить и решить текущие неполадки в системе менеджмента. <br>В предоставленном для анализа датасете были приведены данные о дате и идентификаторе заказа, идентификаторе покупателя, а также названии, количестве и цене товаров за период с 2018-10-01 по 2019-10-31.\n",
    "\n",
    "**Задачами** исследования было:\n",
    "- проведение исследовательского анализа данных;\n",
    "- сегментация покупателей на основе информации об их покупках;\n",
    "- анализ выделенных сегментов пользователей;\n",
    "- формулирование и проверка статистических гипотез.\n",
    "\n",
    "**В ходе предобработки:** \n",
    "- *обнаружено и удалено* 1886 неявных дубликатов и 29 строк, соответствующих идентификаторам заказов, оформленных на нескольких покупателей, вероятнее всего, заказчик делал выгрузку с разных источников сбора информации о заказах и некоторые из них дублировались;\n",
    "- для удобства дальнейших расчетов *добавлены столбцы* с месяцем и годом заказа, стоимостью и категориями товаров;\n",
    "- товары разделены на категории: хозтовары, кухонные принадлежности, стройматериалы и бытовая техника, декор и текстиль, растения и рассада;\n",
    "- *выявлены и удалены* выбросы по цене количеству товара в заказе.\n",
    "\n",
    "**В ходе исследовательского анализа выявлено:**\n",
    "- с января 2019 года выручка магазина резко сократилась в 1,5 раза, но в феврале и апреле наблюдаются скачки;\n",
    "- максимальные средний чек, выручка и средняя выручка с покупателя были в ноябре 2018 года;\n",
    "- в октябре, декабре и апреле (остальных лидерах по выручке) было большее количество заказов и клиентов, нежели в ноябре, а выручку они принесли в итоге такую же;\n",
    "- разница средних чеков при одинаковой прибыли между октябрем и ноябрем 2018 года (в ноябре средний чек выше) обусловлена большим количеством заказов в октябре;\n",
    "- одним из лидеров по среднему чеку является июнь, несмотря на низкую (относительно других месяцев) выручку, следовательно, в этом месяце имело место меньшее количество заказов на бо́льшие суммы;\n",
    "- низкая выручка в остальные месяцы не связана с количеством покупателей и заказов, там преобладает влияние других факторов.\n",
    "<br>Для исследования сезонности товаров был выделен топ-10 товаров по суммарной выручке за весь период.\n",
    "\n",
    "**При исследовании сезонности товаров выявлено:**\n",
    "- 4 из 10 наиболее товаров, принесших максимальную прибыль, были куплены всего один раз, это означает, что в месяц покупки они формировали от 5 до 30% процентов выручки месяца. \n",
    "- у остальных товаров наблюдается динамика спроса по месяцам, которая объясняется с точки зрения жизненного опыта, например, сумки-тележки имеют больший спрос в преддверии и в конце огородного сезона, муляжи скорей всего закупил какой-нибудь предприниматель для украшения заведения;\n",
    "- категория Хозтовары со значительным отрывом лидирует *по выручке*;\n",
    "- категория Растения и рассада лидирует *по количеству* купленных товаров;\n",
    "- наименьшее количество куплено товаров категории Кухонные принадлежности, они же принесли наименьшую прибыль;\n",
    "\n",
    "Далее, для достижения поставленных задач была произведена сегментация пользователей на кластеры с помощью RFM-анализа. \n",
    "<br>**Покупатели разделены по 4 критериям:**\n",
    "- количество дней с последнего заказа пользователя до 31 октября 2019 года (до этой даты представлены данные);\n",
    "- количество заказов пользователя;\n",
    "- суммарная выручка с пользователя;\n",
    "- среднее количество товаров в заказах пользователя.\n",
    "\n",
    "Далее получившиеся 16 кластеров покупателей были объединены в категории:\n",
    "- Лучшие клиенты - приносящие большую прибыль, часто делающие заказы, недавно сделавшие последний заказ;\n",
    "- Перспективные клиенты - приносящие меньшую прибыль, часто делающие заказы, недавно сделавшие последний заказ;\n",
    "- Новые клиенты - один раз недавно сделавшие заказ;\n",
    "- Старые клиенты на пороге оттока - давно сделавшие последний заказ;\n",
    "- Потерянные клиенты - принесшие малую прибыль единожды, давно.\n",
    "\n",
    "И каждая из этих категорий подразделялась на оптовиков и розничных покупателей.\n",
    "\n",
    "Самая многочисленная категория - Новые клиенты. Но также выявлено, что присутствует большой процент потерянных клиентов и покупателей на грани оттока.\n",
    "\n",
    "**Из анализа категорий покупателей:**\n",
    "- розничные покупатели всех категорий больше всего (по количеству) покупают товары категорий Растения и рассада и Хозтовары;\n",
    "- розничные покупатели категорий Лучшие, Перспективные и Новые клиенты наибольшее количество денег приносят в категориях Растения и рассада и Хозтовары;\n",
    "- розничные покупатели категории Старые клиенты на пороге оттока наибольшее количество денег принесли в категориях Стройматериалы и бытовая техника и Хозтовары;\n",
    "- оптовые покупатели из категории Лучшие клиенты купили наибольшее количество штук товара категорий Кухонные принадлежности и Хозтовары и принесли наибольшую прибыль в категориях Декор и текстиль и Кухонные принадлежности;\n",
    "- оптовые покупатели из категории Перспективные клиенты купили наибольшее количество товара категорий Декор и текстиль и Стройматериалы и бытовая техника и принесли наибольшую прибыль в них же;\n",
    "- оптовые покупатели из категорий Старые клиенты на пороге оттока и Новые клиенты наибольшее количество штук товара купили категорий Декор и текстиль и Хозтовары и принесли наибольшую прибыль в них же;\n",
    "\n",
    "**Из анализа сезонностей покупки категорий товаров категориями покупателей:**\n",
    "\n",
    "Розничные покупатели из категорий Лучшие, Новые и Перспективные клиенты половину от общего количества товаров купили в апреле и мае 2019 года:\n",
    "- в эти месяцы очень высокую сезонность имеют товары категории Растения и рассада;\n",
    "- также достаточно высокую сезонность имеют товары из категорий Кухонные принадлежности и Декор и текстиль.\n",
    "\n",
    "Розничные и оптовые покупатели из категории Старые клиенты на пороге оттока имели пиковую активность в октябре 2018 года, а минимальную в январе 2019 года:\n",
    "- в октябре очень высокий спрос пришелся на товары категории Стройматериалы и бытовая техника;\n",
    "- также достаточно высокую сезонность имеют товары из категории Хозтовары;\n",
    "- в январе наблюдается спад сезонности по всем категориям товаров.\n",
    "\n",
    "Оптовые покупатели из категории Лучшие клиенты имели пиковую активность в апреле 2019 года, а минимальную в июне и августе 2019 года:\n",
    "- в апреле очень высокую сезонность имеют товары категории Растения и рассада;\n",
    "- также достаточно высокую сезонность имеют товары из категорий Кухонные принадлежности;\n",
    "- в августе наблюдается максимальный спад сезонности по всем категориям товаров.\n",
    "\n",
    "Оптовые покупатели из категории Новые клиенты имели высокую активность мае-июне 2019 года:\n",
    "- в эти месяцы очень высокую сезонность имеют товары категории Растения и рассада;\n",
    "- также достаточно высокую сезонность имеют товары из категорий Хозтовары.\n",
    "\n",
    "Оптовые покупатели из категории Перспективные клиенты имели активность только в июле 2019 года:\n",
    "- в июле наблюдается спад сезонности всех категорий товаров, но наиболее выделяются категории Растения и рассада и Декор и текстиль.\n",
    "\n",
    "<br>Далее были выдвинуты три гипотезы и произведены их проверки с помощью критерия Манна-Уитни, уровень статистической значимости принят 0,05. \n",
    "<br>**По итогам проверки гипотез, установлено, что:**\n",
    "- **есть разница** в частоте заказов оптовых и розничных покупателей;\n",
    "- **нет разницы** (статистически значимой) в среднем чеке заказов оптовых и розничных покупателей;\n",
    "- для категорий Лучшие клиенты и Старые клиенты на пороге оттока **есть различия** в предпочтениях категорий товаров среди оптовиков и розничных покупателей;\n",
    "- для категорий Новые, Перспективные и Потерянные клиенты  **нет различия** в предпочтениях категорий товаров среди оптовиков и розничных покупателей.\n",
    "\n",
    "**Выводы из проверки гипотез:**\n",
    "- разделение клиентов на оптовых и розничных было произведено верно;\n",
    "- оптовики *некоторых категорий*, несмотря на то, что покупают больше товаров по количеству штук, выручки от этого больше не приносят, т. е. делают много заказов в оптовых количествах, но более дешевых товаров;\n",
    "- для категорий Лучшие клиенты и Старые клиенты на порге оттока предпочтительнее разделять покупателей на оптовых и розничных для проведения маркетинговых кампаний."
   ]
  },
  {
   "cell_type": "markdown",
   "id": "dcb39552",
   "metadata": {},
   "source": [
    "<a id='p8'></a>\n",
    "### [Рекомендации](#section_id8)"
   ]
  },
  {
   "cell_type": "markdown",
   "id": "bd6e71e8",
   "metadata": {},
   "source": [
    "Для пользователей, входящих в категории **Лучших клиентов**, можно ввести сисему лояльности, \"приведи друга\". \n",
    "\n",
    "У розничных покупателей данной категории пользуются спросом товары категорий: Растения и рассада, Хозтовары.\n",
    "<br>У оптовых: Кухонные принадлежности.\n",
    "<br>Для повышения интереса данного сегмента покупателей можно расширить ассортимент товаров данных категорий.\n",
    "\n",
    "<br>Покупателям, входящим в категорию **Старые клиенты на пороге оттока**, нужно каким-то образом напомнить о себе. Например, сделать рассылку с персональной акцией или запустить всеобщую акцию и дать рекламу. \n",
    "\n",
    "У розничных покупателей данной категории пользуются спросом товары категорий: Хозтовары.\n",
    "<br>У оптовых: Декор и текстиль, Хозтовары.\n",
    "\n",
    "<br>Покупателей, входящих в категорию **Новых клиентов**, нужно простимулировать к новым покупкам. Можно ввести сисему лояльности для постоянных покупателей, смс- или email - рассылки. <br>Высокий спрос у этих пользователей имеют товары категории Растения и рассада, а их пик активности приходится на апрель-июнь.\n",
    "\n",
    "<br>Покупателей, входящих в категорию **Перспективных клиентов**, нужно стимулировать к повышению среднего чека покупок. <br>Для этого можно на время высокой активности этих клиентов: розничные покупатели - апрель, май, оптовики - июль, повышать цены на категории товаров, имеющих у них высокий спрос. <br>Высокий спрос у розничных Перспективных клиентов имеют Растения и рассада, а у оптовых - Декор и текстиль и Стройматериалы и бытовая техника.\n",
    "\n",
    "<br>Для покупателей, которые попали в категорию **Потерянных клиентов** можно уже не затрачивать средства на привлечение. Разве что устраивать всеобщие акции и давать рекламу и они вернутся сами."
   ]
  }
 ],
 "metadata": {
  "ExecuteTimeLog": [
   {
    "duration": 1607,
    "start_time": "2023-03-11T16:40:01.286Z"
   },
   {
    "duration": 3,
    "start_time": "2023-03-11T16:40:02.895Z"
   },
   {
    "duration": 154,
    "start_time": "2023-03-11T16:40:02.900Z"
   },
   {
    "duration": 14,
    "start_time": "2023-03-11T16:40:03.057Z"
   },
   {
    "duration": 12,
    "start_time": "2023-03-11T16:40:03.073Z"
   },
   {
    "duration": 22,
    "start_time": "2023-03-11T16:40:03.087Z"
   },
   {
    "duration": 19,
    "start_time": "2023-03-11T16:40:03.110Z"
   },
   {
    "duration": 9,
    "start_time": "2023-03-11T16:40:03.131Z"
   },
   {
    "duration": 18,
    "start_time": "2023-03-11T16:40:03.169Z"
   },
   {
    "duration": 5,
    "start_time": "2023-03-11T16:40:03.190Z"
   },
   {
    "duration": 45,
    "start_time": "2023-03-11T16:40:03.197Z"
   },
   {
    "duration": 34096,
    "start_time": "2023-03-11T16:40:03.244Z"
   },
   {
    "duration": 131,
    "start_time": "2023-03-11T16:40:37.342Z"
   },
   {
    "duration": 19,
    "start_time": "2023-03-11T16:40:37.475Z"
   },
   {
    "duration": 17,
    "start_time": "2023-03-11T16:40:37.496Z"
   },
   {
    "duration": 266,
    "start_time": "2023-03-11T16:40:37.514Z"
   },
   {
    "duration": 10,
    "start_time": "2023-03-11T16:40:37.782Z"
   },
   {
    "duration": 6,
    "start_time": "2023-03-11T16:40:37.794Z"
   },
   {
    "duration": 20,
    "start_time": "2023-03-11T16:40:37.801Z"
   },
   {
    "duration": 629,
    "start_time": "2023-03-11T16:40:37.823Z"
   },
   {
    "duration": 23,
    "start_time": "2023-03-11T16:40:38.454Z"
   },
   {
    "duration": 140,
    "start_time": "2023-03-11T16:40:38.478Z"
   },
   {
    "duration": 74,
    "start_time": "2023-03-11T16:40:38.620Z"
   },
   {
    "duration": 111,
    "start_time": "2023-03-11T16:40:38.695Z"
   },
   {
    "duration": 27,
    "start_time": "2023-03-11T16:40:38.808Z"
   },
   {
    "duration": 87,
    "start_time": "2023-03-11T16:40:38.838Z"
   },
   {
    "duration": 133,
    "start_time": "2023-03-11T16:40:38.928Z"
   },
   {
    "duration": 21,
    "start_time": "2023-03-11T16:40:39.066Z"
   },
   {
    "duration": 66,
    "start_time": "2023-03-11T16:40:39.089Z"
   },
   {
    "duration": 78,
    "start_time": "2023-03-11T16:40:39.170Z"
   },
   {
    "duration": 79,
    "start_time": "2023-03-11T16:40:39.250Z"
   },
   {
    "duration": 12,
    "start_time": "2023-03-11T16:40:39.331Z"
   },
   {
    "duration": 110,
    "start_time": "2023-03-11T16:40:39.344Z"
   },
   {
    "duration": 24,
    "start_time": "2023-03-11T16:40:39.469Z"
   },
   {
    "duration": 147,
    "start_time": "2023-03-11T16:40:39.495Z"
   },
   {
    "duration": 29,
    "start_time": "2023-03-11T16:40:39.644Z"
   },
   {
    "duration": 29,
    "start_time": "2023-03-11T16:40:39.675Z"
   },
   {
    "duration": 85,
    "start_time": "2023-03-11T16:40:39.707Z"
   },
   {
    "duration": 104,
    "start_time": "2023-03-11T16:40:39.795Z"
   },
   {
    "duration": 52,
    "start_time": "2023-03-11T16:40:39.901Z"
   },
   {
    "duration": 103,
    "start_time": "2023-03-11T16:40:39.970Z"
   },
   {
    "duration": 23,
    "start_time": "2023-03-11T16:40:40.075Z"
   },
   {
    "duration": 89,
    "start_time": "2023-03-11T16:40:40.101Z"
   },
   {
    "duration": 97,
    "start_time": "2023-03-11T16:40:40.192Z"
   },
   {
    "duration": 12,
    "start_time": "2023-03-11T16:40:40.291Z"
   },
   {
    "duration": 70,
    "start_time": "2023-03-11T16:40:40.304Z"
   },
   {
    "duration": 14,
    "start_time": "2023-03-11T16:40:40.376Z"
   },
   {
    "duration": 114,
    "start_time": "2023-03-11T16:58:40.346Z"
   }
  ],
  "kernelspec": {
   "display_name": "Python 3 (ipykernel)",
   "language": "python",
   "name": "python3"
  },
  "language_info": {
   "codemirror_mode": {
    "name": "ipython",
    "version": 3
   },
   "file_extension": ".py",
   "mimetype": "text/x-python",
   "name": "python",
   "nbconvert_exporter": "python",
   "pygments_lexer": "ipython3",
   "version": "3.9.12"
  },
  "toc": {
   "base_numbering": 1,
   "nav_menu": {},
   "number_sections": true,
   "sideBar": true,
   "skip_h1_title": true,
   "title_cell": "Table of Contents",
   "title_sidebar": "Contents",
   "toc_cell": false,
   "toc_position": {},
   "toc_section_display": true,
   "toc_window_display": false
  }
 },
 "nbformat": 4,
 "nbformat_minor": 5
}
