{
 "cells": [
  {
   "cell_type": "markdown",
   "id": "3b74513c",
   "metadata": {},
   "source": [
    "# Анализ поведения пользователей мобильного приложения"
   ]
  },
  {
   "cell_type": "markdown",
   "id": "dabb6b96",
   "metadata": {},
   "source": [
    "Целью исследования является изучение поведения пользователей мобильного приложения стартапа, продающего продукты питания. <br>\n",
    "Для этого был предоставлен датасет с логами, в которых зафиксированы все действия, совершенные пользователями. <br>\n",
    "\n",
    "Наша задача изучить воронку событий и исследовать результаты A/A/B-эксперимента. "
   ]
  },
  {
   "cell_type": "markdown",
   "id": "1e7e2f90",
   "metadata": {},
   "source": [
    "**Оглавление**\n",
    "* [[Загрузка и предобработка данных](#p1)](#section_id)<a id='section_id1'></a>\n",
    "* [[Изучение и проверка данных](#p2)](#section_id)<a id='section_id2'></a>\n",
    "* [[Изучение воронки событий](#p3)](#section_id)<a id='section_id3'></a>\n",
    "* [[Изучение результатов эксперимента](#p4)](#section_id)<a id='section_id4'></a>\n",
    "* [[Вывод](#p5)](#section_id)<a id='section_id5'></a>"
   ]
  },
  {
   "cell_type": "markdown",
   "id": "c122bc34",
   "metadata": {},
   "source": [
    "<a id='p1'></a> \n",
    "## [Загрузка и предобработка данных](#section_id1)"
   ]
  },
  {
   "cell_type": "code",
   "execution_count": 1,
   "id": "c062590d",
   "metadata": {},
   "outputs": [],
   "source": [
    "import pandas as pd\n",
    "import datetime as dt\n",
    "import numpy as np\n",
    "import matplotlib.pyplot as plt\n",
    "import scipy.stats as stats\n",
    "import math as mth\n",
    "from plotly import graph_objects as go\n",
    "import warnings"
   ]
  },
  {
   "cell_type": "code",
   "execution_count": 2,
   "id": "695b3b0a",
   "metadata": {},
   "outputs": [],
   "source": [
    "try:\n",
    "    logs = pd.read_csv('/datasets/logs_exp.csv', sep='\\t')\n",
    "except:\n",
    "    logs = pd.read_csv(r'C:\\Users\\spk-s\\Downloads\\logs_exp.csv', sep='\\t')    "
   ]
  },
  {
   "cell_type": "code",
   "execution_count": 3,
   "id": "4e587bfc",
   "metadata": {},
   "outputs": [],
   "source": [
    "# отключение предупреждений об ошибках\n",
    "warnings.filterwarnings('ignore')"
   ]
  },
  {
   "cell_type": "code",
   "execution_count": 4,
   "id": "cdab2d52",
   "metadata": {},
   "outputs": [
    {
     "data": {
      "text/html": [
       "<div>\n",
       "<style scoped>\n",
       "    .dataframe tbody tr th:only-of-type {\n",
       "        vertical-align: middle;\n",
       "    }\n",
       "\n",
       "    .dataframe tbody tr th {\n",
       "        vertical-align: top;\n",
       "    }\n",
       "\n",
       "    .dataframe thead th {\n",
       "        text-align: right;\n",
       "    }\n",
       "</style>\n",
       "<table border=\"1\" class=\"dataframe\">\n",
       "  <thead>\n",
       "    <tr style=\"text-align: right;\">\n",
       "      <th></th>\n",
       "      <th>EventName</th>\n",
       "      <th>DeviceIDHash</th>\n",
       "      <th>EventTimestamp</th>\n",
       "      <th>ExpId</th>\n",
       "    </tr>\n",
       "  </thead>\n",
       "  <tbody>\n",
       "    <tr>\n",
       "      <th>80690</th>\n",
       "      <td>MainScreenAppear</td>\n",
       "      <td>9085753110677473382</td>\n",
       "      <td>1564819422</td>\n",
       "      <td>246</td>\n",
       "    </tr>\n",
       "    <tr>\n",
       "      <th>92561</th>\n",
       "      <td>MainScreenAppear</td>\n",
       "      <td>659501983999336229</td>\n",
       "      <td>1564838133</td>\n",
       "      <td>248</td>\n",
       "    </tr>\n",
       "    <tr>\n",
       "      <th>165047</th>\n",
       "      <td>CartScreenAppear</td>\n",
       "      <td>5530248251237125348</td>\n",
       "      <td>1565019084</td>\n",
       "      <td>247</td>\n",
       "    </tr>\n",
       "    <tr>\n",
       "      <th>56657</th>\n",
       "      <td>MainScreenAppear</td>\n",
       "      <td>1449633191757318122</td>\n",
       "      <td>1564749687</td>\n",
       "      <td>248</td>\n",
       "    </tr>\n",
       "    <tr>\n",
       "      <th>230808</th>\n",
       "      <td>MainScreenAppear</td>\n",
       "      <td>6991683592829765144</td>\n",
       "      <td>1565187169</td>\n",
       "      <td>248</td>\n",
       "    </tr>\n",
       "  </tbody>\n",
       "</table>\n",
       "</div>"
      ],
      "text/plain": [
       "               EventName         DeviceIDHash  EventTimestamp  ExpId\n",
       "80690   MainScreenAppear  9085753110677473382      1564819422    246\n",
       "92561   MainScreenAppear   659501983999336229      1564838133    248\n",
       "165047  CartScreenAppear  5530248251237125348      1565019084    247\n",
       "56657   MainScreenAppear  1449633191757318122      1564749687    248\n",
       "230808  MainScreenAppear  6991683592829765144      1565187169    248"
      ]
     },
     "execution_count": 4,
     "metadata": {},
     "output_type": "execute_result"
    }
   ],
   "source": [
    "# просмотр общего вида датасета\n",
    "logs.sample(5)"
   ]
  },
  {
   "cell_type": "code",
   "execution_count": 5,
   "id": "1439ed29",
   "metadata": {},
   "outputs": [],
   "source": [
    "# приведение названия столбцов к нужному виду\n",
    "logs = logs.rename(columns={'EventName': 'event_name', 'DeviceIDHash': 'device_id_hash', \\\n",
    "                            'EventTimestamp': 'event_timestamp', 'ExpId': 'exp_id'})"
   ]
  },
  {
   "cell_type": "code",
   "execution_count": 6,
   "id": "4e439411",
   "metadata": {},
   "outputs": [
    {
     "name": "stdout",
     "output_type": "stream",
     "text": [
      "<class 'pandas.core.frame.DataFrame'>\n",
      "RangeIndex: 244126 entries, 0 to 244125\n",
      "Data columns (total 4 columns):\n",
      " #   Column           Non-Null Count   Dtype \n",
      "---  ------           --------------   ----- \n",
      " 0   event_name       244126 non-null  object\n",
      " 1   device_id_hash   244126 non-null  int64 \n",
      " 2   event_timestamp  244126 non-null  int64 \n",
      " 3   exp_id           244126 non-null  int64 \n",
      "dtypes: int64(3), object(1)\n",
      "memory usage: 7.5+ MB\n"
     ]
    }
   ],
   "source": [
    "# проверка наличия пропусков и типов данных столбцов\n",
    "logs.info()"
   ]
  },
  {
   "cell_type": "code",
   "execution_count": 7,
   "id": "1b62bf98",
   "metadata": {},
   "outputs": [
    {
     "name": "stdout",
     "output_type": "stream",
     "text": [
      "Выявлено и удалено 413 дубликатов.\n"
     ]
    }
   ],
   "source": [
    "# проверка наличия дубликатов и удаление\n",
    "print(f'Выявлено и удалено {logs.duplicated().sum()} дубликатов.')\n",
    "logs = logs.drop_duplicates()"
   ]
  },
  {
   "cell_type": "code",
   "execution_count": 8,
   "id": "2d5453e3",
   "metadata": {},
   "outputs": [],
   "source": [
    "# приведение дат к нужному виду\n",
    "logs['event_timestamp'] = pd.to_datetime(logs['event_timestamp'], unit='s')\n",
    "\n",
    "# создание столбца только с датой\n",
    "logs['date'] = logs['event_timestamp'].dt.date"
   ]
  },
  {
   "cell_type": "code",
   "execution_count": 9,
   "id": "262efd31",
   "metadata": {},
   "outputs": [
    {
     "data": {
      "text/plain": [
       "0        2019-07-25 04:43:36\n",
       "1        2019-07-25 11:11:42\n",
       "2        2019-07-25 11:28:47\n",
       "3        2019-07-25 11:28:47\n",
       "4        2019-07-25 11:48:42\n",
       "                 ...        \n",
       "244121   2019-08-07 21:12:25\n",
       "244122   2019-08-07 21:13:59\n",
       "244123   2019-08-07 21:14:43\n",
       "244124   2019-08-07 21:14:58\n",
       "244125   2019-08-07 21:15:17\n",
       "Name: event_timestamp, Length: 243713, dtype: datetime64[ns]"
      ]
     },
     "execution_count": 9,
     "metadata": {},
     "output_type": "execute_result"
    }
   ],
   "source": [
    "logs['event_timestamp']"
   ]
  },
  {
   "cell_type": "markdown",
   "id": "de23beb6",
   "metadata": {},
   "source": [
    "В ходе предобработки названия столбцов были изменены на соответствующие \"змеиному\" регистру, столбец с датами преобразован необходимому виду, пропусков в данных не выявлено, выявленные дубликаты удалены."
   ]
  },
  {
   "cell_type": "markdown",
   "id": "0feecd91",
   "metadata": {},
   "source": [
    "<a id='p2'></a> \n",
    "## [Изучение и проверка данных](#section_id2)"
   ]
  },
  {
   "cell_type": "code",
   "execution_count": 10,
   "id": "6794bf91",
   "metadata": {},
   "outputs": [
    {
     "name": "stdout",
     "output_type": "stream",
     "text": [
      "Количество событий в логе: 243713\n"
     ]
    }
   ],
   "source": [
    "# подсчет количества событий в логе\n",
    "count_event = logs['event_name'].count()\n",
    "print(f'Количество событий в логе: {count_event}')"
   ]
  },
  {
   "cell_type": "code",
   "execution_count": 11,
   "id": "568bab2f",
   "metadata": {},
   "outputs": [
    {
     "name": "stdout",
     "output_type": "stream",
     "text": [
      "Количество уникальных пользователей в логе: 7551\n"
     ]
    }
   ],
   "source": [
    "# подсчет количества пользователй в логе\n",
    "count_user = logs['device_id_hash'].nunique()\n",
    "print(f'Количество уникальных пользователей в логе: {count_user}')"
   ]
  },
  {
   "cell_type": "code",
   "execution_count": 12,
   "id": "71794042",
   "metadata": {},
   "outputs": [
    {
     "name": "stdout",
     "output_type": "stream",
     "text": [
      "Среднее количество событий на пользователя: 20\n"
     ]
    }
   ],
   "source": [
    "# подсчет среднего количества событий на пользоватееля\n",
    "counts = []\n",
    "for us_id in logs['device_id_hash'].unique():\n",
    "    counts.append(logs.query('device_id_hash == @us_id').event_name.count())\n",
    "print(f'Среднее количество событий на пользователя: {round(np.median(counts))}')"
   ]
  },
  {
   "cell_type": "code",
   "execution_count": 13,
   "id": "9a3f107b",
   "metadata": {},
   "outputs": [
    {
     "name": "stdout",
     "output_type": "stream",
     "text": [
      "Начало периода: 2019-07-25\n",
      "Конец периода:  2019-08-07\n"
     ]
    }
   ],
   "source": [
    "# определение временного периода предоставленных данных\n",
    "print(f'Начало периода: {logs[\"date\"].min()}')\n",
    "print(f'Конец периода:  {logs[\"date\"].max()}')"
   ]
  },
  {
   "cell_type": "code",
   "execution_count": 14,
   "id": "9e2fea4e",
   "metadata": {},
   "outputs": [
    {
     "data": {
      "image/png": "[encoded data removed]",
      "text/plain": [
       "<Figure size 1080x576 with 1 Axes>"
      ]
     },
     "metadata": {
      "needs_background": "light"
     },
     "output_type": "display_data"
    }
   ],
   "source": [
    "# построение гистограммы распределения количесвта событий по датам\n",
    "plt.figure(figsize=(15, 8))\n",
    "plt.hist(logs['event_timestamp'], bins=14, ec='black')\n",
    "\n",
    "plt.xticks(np.arange(min(logs['date']), max(logs['date']), 1), rotation = 45)\n",
    "plt.suptitle('Гистограмма распределения количества событий по дням', fontsize=15)\n",
    "plt.xlabel('\\n' + 'Дата', fontsize=12)\n",
    "plt.ylabel('Количество событий' + '\\n', fontsize=12);"
   ]
  },
  {
   "cell_type": "markdown",
   "id": "88642ff2",
   "metadata": {},
   "source": [
    "По приведенному графику отчетливо видно, что данные за июль не являются релевантными, т. к. содержат неполные данные. Для корректной дальнейшей работы отбросим их."
   ]
  },
  {
   "cell_type": "code",
   "execution_count": 15,
   "id": "e0404d9f",
   "metadata": {},
   "outputs": [],
   "source": [
    "# удаление данных \n",
    "logs = logs.query('date > @pd.to_datetime(\"2019-07-31\")')"
   ]
  },
  {
   "cell_type": "code",
   "execution_count": 17,
   "id": "64f32abb",
   "metadata": {},
   "outputs": [
    {
     "name": "stdout",
     "output_type": "stream",
     "text": [
      "Доля удаленных событий в логе: 1.2%.\n",
      "Доля уникальных пользователей в логе: 0.2%.\n"
     ]
    }
   ],
   "source": [
    "# расчет доли удаленных событий\n",
    "count_event_1 = logs['event_name'].count()\n",
    "print(f'Доля удаленных событий в логе: {round((1 - count_event_1/count_event), 3) * 100}%.')\n",
    "\n",
    "# расчет доли удаленных пользователей\n",
    "count_user_1 = logs['device_id_hash'].nunique()\n",
    "print(f'Доля уникальных пользователей в логе: {round((1 - count_user_1/count_user), 3) * 100}%.')"
   ]
  },
  {
   "cell_type": "markdown",
   "id": "750d8e24",
   "metadata": {},
   "source": [
    "Итого, отброшенно не более 1,5% данных датасета, что вполне приемлемо."
   ]
  },
  {
   "cell_type": "code",
   "execution_count": 18,
   "id": "6cf2423b",
   "metadata": {},
   "outputs": [
    {
     "data": {
      "text/plain": [
       "array([246, 247, 248], dtype=int64)"
      ]
     },
     "execution_count": 18,
     "metadata": {},
     "output_type": "execute_result"
    }
   ],
   "source": [
    "# проверка уникальных значений столбца с номерами контрольных групп\n",
    "logs['exp_id'].unique()"
   ]
  },
  {
   "cell_type": "markdown",
   "id": "8c767db9",
   "metadata": {},
   "source": [
    "В таблице есть представители всех трех экспериментальных групп."
   ]
  },
  {
   "cell_type": "markdown",
   "id": "f9951046",
   "metadata": {},
   "source": [
    "В ходе изучения данных выяснено:\n",
    "- в исследовании участвует 7551 пользователь;\n",
    "- на одного человека, в среднем, приходится 20 событий;\n",
    "- данные предоставлены за период с 25 июля по 7 августа 2019 года, однако релевантные данные только за август;\n",
    "- в датасете присутствуют представители всех трех исследуемых групп."
   ]
  },
  {
   "cell_type": "markdown",
   "id": "299f1938",
   "metadata": {},
   "source": [
    "<a id='p3'></a> \n",
    "## [Изучение воронки событий](#section_id3)"
   ]
  },
  {
   "cell_type": "code",
   "execution_count": 19,
   "id": "fe5e92ed",
   "metadata": {},
   "outputs": [
    {
     "data": {
      "text/plain": [
       "MainScreenAppear           117328\n",
       "OffersScreenAppear          46333\n",
       "CartScreenAppear            42303\n",
       "PaymentScreenSuccessful     33918\n",
       "Tutorial                     1005\n",
       "Name: event_name, dtype: int64"
      ]
     },
     "execution_count": 19,
     "metadata": {},
     "output_type": "execute_result"
    }
   ],
   "source": [
    "# частотa происхождения всех событий датасета\n",
    "logs.event_name.value_counts().sort_values(ascending=False)"
   ]
  },
  {
   "cell_type": "code",
   "execution_count": 20,
   "id": "71a2702f",
   "metadata": {},
   "outputs": [
    {
     "data": {
      "text/html": [
       "<div>\n",
       "<style scoped>\n",
       "    .dataframe tbody tr th:only-of-type {\n",
       "        vertical-align: middle;\n",
       "    }\n",
       "\n",
       "    .dataframe tbody tr th {\n",
       "        vertical-align: top;\n",
       "    }\n",
       "\n",
       "    .dataframe thead th {\n",
       "        text-align: right;\n",
       "    }\n",
       "</style>\n",
       "<table border=\"1\" class=\"dataframe\">\n",
       "  <thead>\n",
       "    <tr style=\"text-align: right;\">\n",
       "      <th></th>\n",
       "      <th>event</th>\n",
       "      <th>amount_users</th>\n",
       "      <th>frac_of_all, %</th>\n",
       "    </tr>\n",
       "  </thead>\n",
       "  <tbody>\n",
       "    <tr>\n",
       "      <th>0</th>\n",
       "      <td>MainScreenAppear</td>\n",
       "      <td>7419</td>\n",
       "      <td>98.47</td>\n",
       "    </tr>\n",
       "    <tr>\n",
       "      <th>1</th>\n",
       "      <td>OffersScreenAppear</td>\n",
       "      <td>4593</td>\n",
       "      <td>60.96</td>\n",
       "    </tr>\n",
       "    <tr>\n",
       "      <th>2</th>\n",
       "      <td>CartScreenAppear</td>\n",
       "      <td>3734</td>\n",
       "      <td>49.56</td>\n",
       "    </tr>\n",
       "    <tr>\n",
       "      <th>3</th>\n",
       "      <td>PaymentScreenSuccessful</td>\n",
       "      <td>3539</td>\n",
       "      <td>46.97</td>\n",
       "    </tr>\n",
       "    <tr>\n",
       "      <th>4</th>\n",
       "      <td>Tutorial</td>\n",
       "      <td>840</td>\n",
       "      <td>11.15</td>\n",
       "    </tr>\n",
       "  </tbody>\n",
       "</table>\n",
       "</div>"
      ],
      "text/plain": [
       "                     event  amount_users  frac_of_all, %\n",
       "0         MainScreenAppear          7419           98.47\n",
       "1       OffersScreenAppear          4593           60.96\n",
       "2         CartScreenAppear          3734           49.56\n",
       "3  PaymentScreenSuccessful          3539           46.97\n",
       "4                 Tutorial           840           11.15"
      ]
     },
     "execution_count": 20,
     "metadata": {},
     "output_type": "execute_result"
    }
   ],
   "source": [
    "# количество пользователей, совершивших каждое из событий\n",
    "count_users = logs.pivot_table(index='event_name', values='device_id_hash', aggfunc='nunique') \\\n",
    "                  .rename(columns={'device_id_hash': 'amount_users'}) \\\n",
    "                  .sort_values(by='amount_users', ascending=False) \\\n",
    "                  .reset_index()\n",
    "count_users.columns = ['event', 'amount_users']\n",
    "\n",
    "# доли пользователей, совершивших каждое из событий\n",
    "count_all_users = logs['device_id_hash'].nunique()\n",
    "count_users['frac_of_all, %'] = round((count_users['amount_users']/count_all_users) * 100, 2)\n",
    "\n",
    "count_users"
   ]
  },
  {
   "cell_type": "markdown",
   "id": "6a454ee7",
   "metadata": {},
   "source": [
    "Следуя логике, события должны выстраиваться в цепочку:\n",
    "- открытие главного экрана;\n",
    "- открытие экрана с товарами;\n",
    "- открытие корзины;\n",
    "- появление отчета об успешной оплате.\n",
    "\n",
    "Tutorial (инструкция, обучение) не встраивается в эту последовательность, мы не можем четко определить когда пользователю использовать этот раздел. Это же подтверждают предыдущие вычисления - эту страницу посещают намного реже остальных. Скорей всего, потому что ее можно пропустить (не является обязательной).\n"
   ]
  },
  {
   "cell_type": "code",
   "execution_count": 21,
   "id": "d95bdb61",
   "metadata": {},
   "outputs": [
    {
     "data": {
      "text/html": [
       "<div>\n",
       "<style scoped>\n",
       "    .dataframe tbody tr th:only-of-type {\n",
       "        vertical-align: middle;\n",
       "    }\n",
       "\n",
       "    .dataframe tbody tr th {\n",
       "        vertical-align: top;\n",
       "    }\n",
       "\n",
       "    .dataframe thead th {\n",
       "        text-align: right;\n",
       "    }\n",
       "</style>\n",
       "<table border=\"1\" class=\"dataframe\">\n",
       "  <thead>\n",
       "    <tr style=\"text-align: right;\">\n",
       "      <th></th>\n",
       "      <th>event</th>\n",
       "      <th>amount_users</th>\n",
       "      <th>frac_of_all, %</th>\n",
       "      <th>frac_of_step, %</th>\n",
       "    </tr>\n",
       "  </thead>\n",
       "  <tbody>\n",
       "    <tr>\n",
       "      <th>0</th>\n",
       "      <td>MainScreenAppear</td>\n",
       "      <td>7419</td>\n",
       "      <td>98.47</td>\n",
       "      <td>100.0</td>\n",
       "    </tr>\n",
       "    <tr>\n",
       "      <th>1</th>\n",
       "      <td>OffersScreenAppear</td>\n",
       "      <td>4593</td>\n",
       "      <td>60.96</td>\n",
       "      <td>61.9</td>\n",
       "    </tr>\n",
       "    <tr>\n",
       "      <th>2</th>\n",
       "      <td>CartScreenAppear</td>\n",
       "      <td>3734</td>\n",
       "      <td>49.56</td>\n",
       "      <td>81.3</td>\n",
       "    </tr>\n",
       "    <tr>\n",
       "      <th>3</th>\n",
       "      <td>PaymentScreenSuccessful</td>\n",
       "      <td>3539</td>\n",
       "      <td>46.97</td>\n",
       "      <td>94.8</td>\n",
       "    </tr>\n",
       "  </tbody>\n",
       "</table>\n",
       "</div>"
      ],
      "text/plain": [
       "                     event  amount_users  frac_of_all, %  frac_of_step, %\n",
       "0         MainScreenAppear          7419           98.47            100.0\n",
       "1       OffersScreenAppear          4593           60.96             61.9\n",
       "2         CartScreenAppear          3734           49.56             81.3\n",
       "3  PaymentScreenSuccessful          3539           46.97             94.8"
      ]
     },
     "execution_count": 21,
     "metadata": {},
     "output_type": "execute_result"
    }
   ],
   "source": [
    "# исключение туториала из воронки\n",
    "logs = logs.query('event_name != \"Tutorial\"')\n",
    "count_users = count_users.query('event != \"Tutorial\"')\n",
    "\n",
    "# добавление столбца с долей перешедших на каждый шаг пользователей (относительно предыдущего)\n",
    "count_users['frac_of_step, %'] = round((count_users['amount_users']/count_users['amount_users'].shift(1)) * 100, 1).fillna(100)\n",
    "count_users\n",
    "\n",
    "# amount_users - количество пользователей, совершивших данное событие\n",
    "# frac_of_all - доля от общего числа пользователей\n",
    "# frac_of_step - доля пользователей, перешедших с предыдущего шага"
   ]
  },
  {
   "cell_type": "markdown",
   "id": "1794c7f0",
   "metadata": {},
   "source": [
    "По таблице видно, что наибольшее количество пользователей (~40%) теряется на этапе перехода с главной страницы на страницу с товарами."
   ]
  },
  {
   "attachments": {
    "newplot.png": {
     "image/png": "[encoded data removed]"
    }
   },
   "cell_type": "markdown",
   "id": "4c349deb",
   "metadata": {},
   "source": [
    "![newplot.png](attachment:newplot.png)"
   ]
  },
  {
   "cell_type": "code",
   "execution_count": 45,
   "id": "d772ef87",
   "metadata": {},
   "outputs": [
    {
     "name": "stdout",
     "output_type": "stream",
     "text": [
      "От открытия главной страницы до оплаты товара дошли 48.0% пользователей приложения.\n"
     ]
    }
   ],
   "source": [
    "# вычисление доли пользователей, дошедших от первого события до оплаты\n",
    "print(f\"От открытия главной страницы до оплаты товара дошли {round(count_users['amount_users'][3]/count_users['amount_users'][0], 2) * 100}% пользователей приложения.\")"
   ]
  },
  {
   "cell_type": "markdown",
   "id": "12341e85",
   "metadata": {},
   "source": [
    "<a id='p4'></a> \n",
    "## [Изучение результатов эксперимента](#section_id4)\n",
    "* [Проверка статистической разницы между контрольными группами 246 и 247](#p4s1) \n",
    "* [Проверка статистической разницы между контрольными группами 246 и 248](#p4s2)\n",
    "* [Проверка статистической разницы между контрольными группами 247 и 248](#p4s3)\n",
    "* [Проверка статистической разницы между контрольными группами 246_and_247 и 248](#p4s4)"
   ]
  },
  {
   "cell_type": "code",
   "execution_count": 46,
   "id": "8420be01",
   "metadata": {},
   "outputs": [
    {
     "data": {
      "text/html": [
       "<div>\n",
       "<style scoped>\n",
       "    .dataframe tbody tr th:only-of-type {\n",
       "        vertical-align: middle;\n",
       "    }\n",
       "\n",
       "    .dataframe tbody tr th {\n",
       "        vertical-align: top;\n",
       "    }\n",
       "\n",
       "    .dataframe thead th {\n",
       "        text-align: right;\n",
       "    }\n",
       "</style>\n",
       "<table border=\"1\" class=\"dataframe\">\n",
       "  <thead>\n",
       "    <tr style=\"text-align: right;\">\n",
       "      <th></th>\n",
       "      <th>group</th>\n",
       "      <th>count_users</th>\n",
       "    </tr>\n",
       "  </thead>\n",
       "  <tbody>\n",
       "    <tr>\n",
       "      <th>0</th>\n",
       "      <td>246</td>\n",
       "      <td>2483</td>\n",
       "    </tr>\n",
       "    <tr>\n",
       "      <th>1</th>\n",
       "      <td>247</td>\n",
       "      <td>2512</td>\n",
       "    </tr>\n",
       "    <tr>\n",
       "      <th>2</th>\n",
       "      <td>248</td>\n",
       "      <td>2535</td>\n",
       "    </tr>\n",
       "    <tr>\n",
       "      <th>3</th>\n",
       "      <td>246_and_247</td>\n",
       "      <td>4995</td>\n",
       "    </tr>\n",
       "  </tbody>\n",
       "</table>\n",
       "</div>"
      ],
      "text/plain": [
       "         group  count_users\n",
       "0          246         2483\n",
       "1          247         2512\n",
       "2          248         2535\n",
       "3  246_and_247         4995"
      ]
     },
     "execution_count": 46,
     "metadata": {},
     "output_type": "execute_result"
    }
   ],
   "source": [
    "# подсчет количества пользователей в каждой экспериментальной группе\n",
    "group_users = logs.pivot_table(index=['exp_id'], values='device_id_hash', aggfunc=['nunique']).reset_index()\n",
    "group_users.columns = ['group', 'count_users']\n",
    "group_users.loc[3] = ['246_and_247', group_users['count_users'][0]+group_users['count_users'][1]]\n",
    "group_users"
   ]
  },
  {
   "cell_type": "code",
   "execution_count": 47,
   "id": "6e581d84",
   "metadata": {},
   "outputs": [
    {
     "name": "stdout",
     "output_type": "stream",
     "text": [
      "Количество пользователей, попавших более, чем в одну группу: 0\n"
     ]
    }
   ],
   "source": [
    "# проверка групп на наличие пересекающихся пользователей\n",
    "duplicated_users = logs.groupby('device_id_hash').agg({'exp_id': ['nunique']})\n",
    "duplicated_users.columns = ['exp_id']\n",
    "duplicated_users = duplicated_users.query('exp_id > 1')\n",
    "print(f'Количество пользователей, попавших более, чем в одну группу: {len(duplicated_users)}')"
   ]
  },
  {
   "cell_type": "code",
   "execution_count": 48,
   "id": "f5dac7e7",
   "metadata": {},
   "outputs": [
    {
     "data": {
      "text/html": [
       "<div>\n",
       "<style scoped>\n",
       "    .dataframe tbody tr th:only-of-type {\n",
       "        vertical-align: middle;\n",
       "    }\n",
       "\n",
       "    .dataframe tbody tr th {\n",
       "        vertical-align: top;\n",
       "    }\n",
       "\n",
       "    .dataframe thead th {\n",
       "        text-align: right;\n",
       "    }\n",
       "</style>\n",
       "<table border=\"1\" class=\"dataframe\">\n",
       "  <thead>\n",
       "    <tr style=\"text-align: right;\">\n",
       "      <th></th>\n",
       "      <th>event</th>\n",
       "      <th>246</th>\n",
       "      <th>247</th>\n",
       "      <th>248</th>\n",
       "      <th>246_and_247</th>\n",
       "      <th>246, %</th>\n",
       "      <th>247, %</th>\n",
       "      <th>248, %</th>\n",
       "      <th>246_and_247, %</th>\n",
       "    </tr>\n",
       "  </thead>\n",
       "  <tbody>\n",
       "    <tr>\n",
       "      <th>1</th>\n",
       "      <td>MainScreenAppear</td>\n",
       "      <td>2450</td>\n",
       "      <td>2476</td>\n",
       "      <td>2493</td>\n",
       "      <td>4926</td>\n",
       "      <td>98.67</td>\n",
       "      <td>98.57</td>\n",
       "      <td>98.34</td>\n",
       "      <td>98.62</td>\n",
       "    </tr>\n",
       "    <tr>\n",
       "      <th>2</th>\n",
       "      <td>OffersScreenAppear</td>\n",
       "      <td>1542</td>\n",
       "      <td>1520</td>\n",
       "      <td>1531</td>\n",
       "      <td>3062</td>\n",
       "      <td>62.10</td>\n",
       "      <td>60.51</td>\n",
       "      <td>60.39</td>\n",
       "      <td>61.30</td>\n",
       "    </tr>\n",
       "    <tr>\n",
       "      <th>0</th>\n",
       "      <td>CartScreenAppear</td>\n",
       "      <td>1266</td>\n",
       "      <td>1238</td>\n",
       "      <td>1230</td>\n",
       "      <td>2504</td>\n",
       "      <td>50.99</td>\n",
       "      <td>49.28</td>\n",
       "      <td>48.52</td>\n",
       "      <td>50.13</td>\n",
       "    </tr>\n",
       "    <tr>\n",
       "      <th>3</th>\n",
       "      <td>PaymentScreenSuccessful</td>\n",
       "      <td>1200</td>\n",
       "      <td>1158</td>\n",
       "      <td>1181</td>\n",
       "      <td>2358</td>\n",
       "      <td>48.33</td>\n",
       "      <td>46.10</td>\n",
       "      <td>46.59</td>\n",
       "      <td>47.21</td>\n",
       "    </tr>\n",
       "  </tbody>\n",
       "</table>\n",
       "</div>"
      ],
      "text/plain": [
       "                     event   246   247   248  246_and_247  246, %  247, %  \\\n",
       "1         MainScreenAppear  2450  2476  2493         4926   98.67   98.57   \n",
       "2       OffersScreenAppear  1542  1520  1531         3062   62.10   60.51   \n",
       "0         CartScreenAppear  1266  1238  1230         2504   50.99   49.28   \n",
       "3  PaymentScreenSuccessful  1200  1158  1181         2358   48.33   46.10   \n",
       "\n",
       "   248, %  246_and_247, %  \n",
       "1   98.34           98.62  \n",
       "2   60.39           61.30  \n",
       "0   48.52           50.13  \n",
       "3   46.59           47.21  "
      ]
     },
     "execution_count": 48,
     "metadata": {},
     "output_type": "execute_result"
    }
   ],
   "source": [
    "# подсчет количества пользователей каждой группы, дошедшего до каждого этапа\n",
    "groups = logs.pivot_table(index='event_name', columns='exp_id', values='device_id_hash', aggfunc='nunique').reset_index()\n",
    "groups.columns = ['event', '246', '247', '248']\n",
    "groups['246_and_247'] = groups['246'] + groups['247']\n",
    "\n",
    "# добавление столбцов с долями пользователей совершивших каждое действие (относительно всех в данной группе)\n",
    "groups['246, %'] = round((groups['246']/group_users['count_users'][0]) * 100, 2)\n",
    "groups['247, %'] = round((groups['247']/group_users['count_users'][1]) * 100, 2)\n",
    "groups['248, %'] = round((groups['248']/group_users['count_users'][2]) * 100, 2)\n",
    "groups['246_and_247, %'] = round((groups['246_and_247']/group_users['count_users'][3]) * 100, 2)\n",
    "groups = groups.sort_values(by='246', ascending=False)\n",
    "groups"
   ]
  },
  {
   "cell_type": "markdown",
   "id": "2b8dc924",
   "metadata": {},
   "source": [
    "Для проверки групп будет использован уровень значимости α = 0.05. Но из-за того, что нам придется сделать 16 тестов, нужно использовать поправку по методу Шидака, чтобы избежать ошибки первого рода по множественном сравнении. Этот метод выбран потому что он наиболее подходящий при большом количестве проверок."
   ]
  },
  {
   "cell_type": "code",
   "execution_count": 49,
   "id": "de252481",
   "metadata": {},
   "outputs": [],
   "source": [
    "# функция проверки наличия статистической разницы между контрольными группами по каждому событию\n",
    "\n",
    "def stat_check(step_count_1, step_count_2, all_count_1, all_count_2):\n",
    "    \n",
    "    alpha = 1 - (1 - 0.05)**(1/16) # критический уровень статистической значимости с поправакой Шидака для множественных сравнений\n",
    "\n",
    "    successes = np.array([step_count_1, step_count_2])\n",
    "    trials = np.array([all_count_1, all_count_2])\n",
    "\n",
    "    # пропорция успехов в первой группе:\n",
    "    p1 = successes[0]/trials[0]\n",
    "\n",
    "    # пропорция успехов во второй группе:\n",
    "    p2 = successes[1]/trials[1]\n",
    "\n",
    "    # пропорция успехов в комбинированном датасете:\n",
    "    p_combined = (successes[0] + successes[1]) / (trials[0] + trials[1])\n",
    "\n",
    "    # разница пропорций в датасетах\n",
    "    difference = p1 - p2 \n",
    "\n",
    "    # считаем статистику в ст.отклонениях стандартного нормального распределения\n",
    "    z_value = difference / mth.sqrt(p_combined * (1 - p_combined) * (1/trials[0] + 1/trials[1]))\n",
    "\n",
    "    # задаем стандартное нормальное распределение (среднее 0, ст.отклонение 1)\n",
    "    distr = stats.norm(0, 1)  \n",
    "\n",
    "    p_value = (1 - distr.cdf(abs(z_value))) * 2\n",
    "\n",
    "    print('p-значение: ', p_value)\n",
    "\n",
    "    if p_value < alpha:\n",
    "        return ('Отвергаем нулевую гипотезу: между долями есть значимая разница.')\n",
    "    else:\n",
    "        return (\n",
    "        'Не получилось отвергнуть нулевую гипотезу, нет оснований считать доли разными.'\n",
    "        ) "
   ]
  },
  {
   "cell_type": "markdown",
   "id": "52c25be1",
   "metadata": {},
   "source": [
    "<a id='p4s1'></a>\n",
    "### Проверка статистической разницы между контрольными группами 246 и 247"
   ]
  },
  {
   "cell_type": "markdown",
   "id": "23bc5902",
   "metadata": {},
   "source": [
    "Сформулируем гипотезы: <br> Нулевая: различий в пропорциях количества пользователей, выполнивших данное действие, ко всем пользователям группы между группами нет; <br> Альтернативная: различия количества пользователей, выполнивших данное действие, ко всем пользователям группы в пропорциях  между группами есть."
   ]
  },
  {
   "cell_type": "code",
   "execution_count": 50,
   "id": "47d6188a",
   "metadata": {},
   "outputs": [],
   "source": [
    "step_count_1 = groups['246'][0]"
   ]
  },
  {
   "cell_type": "code",
   "execution_count": 51,
   "id": "ef337fa9",
   "metadata": {},
   "outputs": [
    {
     "name": "stdout",
     "output_type": "stream",
     "text": [
      "p-значение:  0.22867643757335676\n",
      "Не получилось отвергнуть нулевую гипотезу, нет оснований считать доли разными.\n"
     ]
    }
   ],
   "source": [
    "# проверка статистически значимых различий между группами 246, 247 на шаге MainScreenAppear\n",
    "step_count_1 = groups['246'][0]\n",
    "step_count_2 = groups['247'][0]\n",
    "all_count_1 = group_users['count_users'][0]\n",
    "all_count_2 = group_users['count_users'][1]\n",
    "\n",
    "print(stat_check(step_count_1, step_count_2, all_count_1, all_count_2))"
   ]
  },
  {
   "cell_type": "code",
   "execution_count": 52,
   "id": "2bcec48d",
   "metadata": {},
   "outputs": [
    {
     "name": "stdout",
     "output_type": "stream",
     "text": [
      "p-значение:  0.7526703436483038\n",
      "Не получилось отвергнуть нулевую гипотезу, нет оснований считать доли разными.\n"
     ]
    }
   ],
   "source": [
    "# проверка статистически значимых различий между группами 246, 247 на шаге OffersScreenAppear  \n",
    "step_count_1 = groups['246'][1]\n",
    "step_count_2 = groups['247'][1]\n",
    "all_count_1 = group_users['count_users'][0]\n",
    "all_count_2 = group_users['count_users'][1]\n",
    "\n",
    "print(stat_check(step_count_1, step_count_2, all_count_1, all_count_2))"
   ]
  },
  {
   "cell_type": "code",
   "execution_count": 53,
   "id": "e999cebc",
   "metadata": {},
   "outputs": [
    {
     "name": "stdout",
     "output_type": "stream",
     "text": [
      "p-значение:  0.24786096925282264\n",
      "Не получилось отвергнуть нулевую гипотезу, нет оснований считать доли разными.\n"
     ]
    }
   ],
   "source": [
    "# проверка статистически значимых различий между группами 246, 247 на шаге CartScreenAppear\n",
    "step_count_1 = groups['246'][2]\n",
    "step_count_2 = groups['247'][2]\n",
    "all_count_1 = group_users['count_users'][0]\n",
    "all_count_2 = group_users['count_users'][1]\n",
    "\n",
    "print(stat_check(step_count_1, step_count_2, all_count_1, all_count_2))"
   ]
  },
  {
   "cell_type": "code",
   "execution_count": 54,
   "id": "899b0197",
   "metadata": {},
   "outputs": [
    {
     "name": "stdout",
     "output_type": "stream",
     "text": [
      "p-значение:  0.11446627829276612\n",
      "Не получилось отвергнуть нулевую гипотезу, нет оснований считать доли разными.\n"
     ]
    }
   ],
   "source": [
    "# проверка статистически значимых различий между группами 246, 247 на шаге PaymentScreenSuccessful \n",
    "step_count_1 = groups['246'][3]\n",
    "step_count_2 = groups['247'][3]\n",
    "all_count_1 = group_users['count_users'][0]\n",
    "all_count_2 = group_users['count_users'][1]\n",
    "\n",
    "print(stat_check(step_count_1, step_count_2, all_count_1, all_count_2))"
   ]
  },
  {
   "cell_type": "markdown",
   "id": "00eaf48f",
   "metadata": {},
   "source": [
    "Между контрольными группами ни на одном этапе не обнаружилось статистически значимых различий, значит, что можно переходить к A/B-тестированию, теперь можно быть уверенным, что на точность дальнейших результатов это не повлияет."
   ]
  },
  {
   "cell_type": "markdown",
   "id": "c0177249",
   "metadata": {},
   "source": [
    "<a id='p4s2'></a>\n",
    "### Проверка статистической разницы между контрольными группами 246 и 248"
   ]
  },
  {
   "cell_type": "markdown",
   "id": "fec07fa8",
   "metadata": {},
   "source": [
    "Гипотезы прежние: <br> Нулевая: различий в пропорциях количества пользователей, выполнивших данное действие, ко всем пользователям группы между группами нет; <br> Альтернативная: различия количества пользователей, выполнивших данное действие, ко всем пользователям группы в пропорциях  между группами есть."
   ]
  },
  {
   "cell_type": "code",
   "execution_count": 55,
   "id": "7991eadd",
   "metadata": {},
   "outputs": [
    {
     "name": "stdout",
     "output_type": "stream",
     "text": [
      "p-значение:  0.08067367598823139\n",
      "Не получилось отвергнуть нулевую гипотезу, нет оснований считать доли разными.\n"
     ]
    }
   ],
   "source": [
    "# проверка статистически значимых различий между группами 246, 248 на шаге MainScreenAppear\n",
    "step_count_1 = groups['246'][0]\n",
    "step_count_2 = groups['248'][0]\n",
    "all_count_1 = group_users['count_users'][0]\n",
    "all_count_2 = group_users['count_users'][2]\n",
    "\n",
    "print(stat_check(step_count_1, step_count_2, all_count_1, all_count_2))"
   ]
  },
  {
   "cell_type": "code",
   "execution_count": 56,
   "id": "de82f993",
   "metadata": {},
   "outputs": [
    {
     "name": "stdout",
     "output_type": "stream",
     "text": [
      "p-значение:  0.3387114076159288\n",
      "Не получилось отвергнуть нулевую гипотезу, нет оснований считать доли разными.\n"
     ]
    }
   ],
   "source": [
    "# проверка статистически значимых различий между группами 246, 248 на шаге OffersScreenAppear \n",
    "step_count_1 = groups['246'][1]\n",
    "step_count_2 = groups['248'][1]\n",
    "all_count_1 = group_users['count_users'][0]\n",
    "all_count_2 = group_users['count_users'][2]\n",
    "\n",
    "print(stat_check(step_count_1, step_count_2, all_count_1, all_count_2))"
   ]
  },
  {
   "cell_type": "code",
   "execution_count": 57,
   "id": "ca412dde",
   "metadata": {},
   "outputs": [
    {
     "name": "stdout",
     "output_type": "stream",
     "text": [
      "p-значение:  0.21442476639710506\n",
      "Не получилось отвергнуть нулевую гипотезу, нет оснований считать доли разными.\n"
     ]
    }
   ],
   "source": [
    "# проверка статистически значимых различий между группами 246, 248 на шаге CartScreenAppear\n",
    "step_count_1 = groups['246'][2]\n",
    "step_count_2 = groups['248'][2]\n",
    "all_count_1 = group_users['count_users'][0]\n",
    "all_count_2 = group_users['count_users'][2]\n",
    "\n",
    "print(stat_check(step_count_1, step_count_2, all_count_1, all_count_2))"
   ]
  },
  {
   "cell_type": "code",
   "execution_count": 58,
   "id": "eee4059c",
   "metadata": {},
   "outputs": [
    {
     "name": "stdout",
     "output_type": "stream",
     "text": [
      "p-значение:  0.21693033984516674\n",
      "Не получилось отвергнуть нулевую гипотезу, нет оснований считать доли разными.\n"
     ]
    }
   ],
   "source": [
    "# проверка статистически значимых различий между группами 246, 248 на шаге PaymentScreenSuccessful \n",
    "step_count_1 = groups['246'][3]\n",
    "step_count_2 = groups['248'][3]\n",
    "all_count_1 = group_users['count_users'][0]\n",
    "all_count_2 = group_users['count_users'][2]\n",
    "\n",
    "print(stat_check(step_count_1, step_count_2, all_count_1, all_count_2))"
   ]
  },
  {
   "cell_type": "markdown",
   "id": "468ebb86",
   "metadata": {},
   "source": [
    "<a id='p4s3'></a>\n",
    "### Проверка статистической разницы между контрольными группами 247 и 248"
   ]
  },
  {
   "cell_type": "markdown",
   "id": "c22b0d05",
   "metadata": {},
   "source": [
    "Гипотезы прежние: <br> Нулевая: различий в пропорциях количества пользователей, выполнивших данное действие, ко всем пользователям группы между группами нет; <br> Альтернативная: различия количества пользователей, выполнивших данное действие, ко всем пользователям группы в пропорциях  между группами есть."
   ]
  },
  {
   "cell_type": "code",
   "execution_count": 59,
   "id": "f52ea189",
   "metadata": {},
   "outputs": [
    {
     "name": "stdout",
     "output_type": "stream",
     "text": [
      "p-значение:  0.5878284605111943\n",
      "Не получилось отвергнуть нулевую гипотезу, нет оснований считать доли разными.\n"
     ]
    }
   ],
   "source": [
    "# проверка статистически значимых различий между группами 247, 248 на шаге MainScreenAppear  \n",
    "step_count_1 = groups['247'][0]\n",
    "step_count_2 = groups['248'][0]\n",
    "all_count_1 = group_users['count_users'][1]\n",
    "all_count_2 = group_users['count_users'][2]\n",
    "\n",
    "print(stat_check(step_count_1, step_count_2, all_count_1, all_count_2))"
   ]
  },
  {
   "cell_type": "code",
   "execution_count": 60,
   "id": "4f80967b",
   "metadata": {},
   "outputs": [
    {
     "name": "stdout",
     "output_type": "stream",
     "text": [
      "p-значение:  0.5194964354051703\n",
      "Не получилось отвергнуть нулевую гипотезу, нет оснований считать доли разными.\n"
     ]
    }
   ],
   "source": [
    "# проверка статистически значимых различий между группами 247, 248 на шаге OffersScreenAppear \n",
    "step_count_1 = groups['247'][1]\n",
    "step_count_2 = groups['248'][1]\n",
    "all_count_1 = group_users['count_users'][1]\n",
    "all_count_2 = group_users['count_users'][2]\n",
    "\n",
    "print(stat_check(step_count_1, step_count_2, all_count_1, all_count_2))"
   ]
  },
  {
   "cell_type": "code",
   "execution_count": 61,
   "id": "9de39027",
   "metadata": {},
   "outputs": [
    {
     "name": "stdout",
     "output_type": "stream",
     "text": [
      "p-значение:  0.9333751305879443\n",
      "Не получилось отвергнуть нулевую гипотезу, нет оснований считать доли разными.\n"
     ]
    }
   ],
   "source": [
    "# проверка статистически значимых различий между группами 247, 248 на шаге CartScreenAppear \n",
    "step_count_1 = groups['247'][2]\n",
    "step_count_2 = groups['248'][2]\n",
    "all_count_1 = group_users['count_users'][1]\n",
    "all_count_2 = group_users['count_users'][2]\n",
    "\n",
    "print(stat_check(step_count_1, step_count_2, all_count_1, all_count_2))"
   ]
  },
  {
   "cell_type": "code",
   "execution_count": 62,
   "id": "0db3bcad",
   "metadata": {},
   "outputs": [
    {
     "name": "stdout",
     "output_type": "stream",
     "text": [
      "p-значение:  0.7275718682261119\n",
      "Не получилось отвергнуть нулевую гипотезу, нет оснований считать доли разными.\n"
     ]
    }
   ],
   "source": [
    "# проверка статистически значимых различий между группами 247, 248 на шаге PaymentScreenSuccessful \n",
    "step_count_1 = groups['247'][3]\n",
    "step_count_2 = groups['248'][3]\n",
    "all_count_1 = group_users['count_users'][1]\n",
    "all_count_2 = group_users['count_users'][2]\n",
    "\n",
    "print(stat_check(step_count_1, step_count_2, all_count_1, all_count_2))"
   ]
  },
  {
   "cell_type": "markdown",
   "id": "2c7e7c8b",
   "metadata": {},
   "source": [
    "<a id='p4s4'></a>\n",
    "### Проверка статистической разницы между объединенной контрольной 246_and_247 и экспериментальой 248 группами"
   ]
  },
  {
   "cell_type": "markdown",
   "id": "0f51df72",
   "metadata": {},
   "source": [
    "Гипотезы прежние: <br> Нулевая: различий в пропорциях количества пользователей, выполнивших данное действие, ко всем пользователям группы между группами нет; <br> Альтернативная: различия количества пользователей, выполнивших данное действие, ко всем пользователям группы в пропорциях  между группами есть."
   ]
  },
  {
   "cell_type": "code",
   "execution_count": 63,
   "id": "8b3af9df",
   "metadata": {},
   "outputs": [
    {
     "name": "stdout",
     "output_type": "stream",
     "text": [
      "p-значение:  0.18683558686831558\n",
      "Не получилось отвергнуть нулевую гипотезу, нет оснований считать доли разными.\n"
     ]
    }
   ],
   "source": [
    "# проверка статистически значимых различий между группами 246_and_247, 248 на шаге MainScreenAppear\n",
    "step_count_1 = groups['246_and_247'][0]\n",
    "step_count_2 = groups['248'][0]\n",
    "all_count_1 = group_users['count_users'][3]\n",
    "all_count_2 = group_users['count_users'][2]\n",
    "\n",
    "print(stat_check(step_count_1, step_count_2, all_count_1, all_count_2))"
   ]
  },
  {
   "cell_type": "code",
   "execution_count": 64,
   "id": "f51d462e",
   "metadata": {},
   "outputs": [
    {
     "name": "stdout",
     "output_type": "stream",
     "text": [
      "p-значение:  0.3486684291093256\n",
      "Не получилось отвергнуть нулевую гипотезу, нет оснований считать доли разными.\n"
     ]
    }
   ],
   "source": [
    "# проверка статистически значимых различий между группами 246_and_247, 248 на шаге OffersScreenAppear \n",
    "step_count_1 = groups['246_and_247'][1]\n",
    "step_count_2 = groups['248'][1]\n",
    "all_count_1 = group_users['count_users'][3]\n",
    "all_count_2 = group_users['count_users'][2]\n",
    "\n",
    "print(stat_check(step_count_1, step_count_2, all_count_1, all_count_2))"
   ]
  },
  {
   "cell_type": "code",
   "execution_count": 65,
   "id": "b7b91cfd",
   "metadata": {},
   "outputs": [
    {
     "name": "stdout",
     "output_type": "stream",
     "text": [
      "p-значение:  0.44582745409482394\n",
      "Не получилось отвергнуть нулевую гипотезу, нет оснований считать доли разными.\n"
     ]
    }
   ],
   "source": [
    "# проверка статистически значимых различий между группами 246_and_247, 248 на шаге CartScreenAppear \n",
    "step_count_1 = groups['246_and_247'][2]\n",
    "step_count_2 = groups['248'][2]\n",
    "all_count_1 = group_users['count_users'][3]\n",
    "all_count_2 = group_users['count_users'][2]\n",
    "\n",
    "print(stat_check(step_count_1, step_count_2, all_count_1, all_count_2))"
   ]
  },
  {
   "cell_type": "code",
   "execution_count": 66,
   "id": "90bdd1b6",
   "metadata": {},
   "outputs": [
    {
     "name": "stdout",
     "output_type": "stream",
     "text": [
      "p-значение:  0.6107918742187335\n",
      "Не получилось отвергнуть нулевую гипотезу, нет оснований считать доли разными.\n"
     ]
    }
   ],
   "source": [
    "# проверка статистически значимых различий между группами 246_and_247, 248 на шаге PaymentScreenSuccessful \n",
    "step_count_1 = groups['246_and_247'][3]\n",
    "step_count_2 = groups['248'][3]\n",
    "all_count_1 = group_users['count_users'][3]\n",
    "all_count_2 = group_users['count_users'][2]\n",
    "\n",
    "print(stat_check(step_count_1, step_count_2, all_count_1, all_count_2))"
   ]
  },
  {
   "cell_type": "markdown",
   "id": "243f6151",
   "metadata": {},
   "source": [
    "Как мы можем видеть из проведенных тестов, ни одну из 16 нулевых гипотез не удалось опровергнуть. А это значит, что ни в одном из событий не достигнута статистически значимая разница между группами. Следовательно, проверяемая гипотеза о влиянии шрифтов в приложении на пользователей не подтвердилась."
   ]
  },
  {
   "cell_type": "markdown",
   "id": "ed8fcdba",
   "metadata": {},
   "source": [
    "<a id='p5'></a> \n",
    "### [Вывод](#section_id5)"
   ]
  },
  {
   "cell_type": "markdown",
   "id": "3c32849a",
   "metadata": {},
   "source": [
    "Целью исследования было изучение поведения пользователей мобильного приложения стартапа, продающего продукты питания.\n",
    "Для этого был предоставлен датасет с логами, в которых зафиксированы все события, совершенные пользователями.\n",
    "<br> Нашей задачей было изучить воронку событий и исследовать результаты A/A/B-эксперимента.\n",
    "<br> В ходе предобработки полученных данных, названия столбцов были изменены на соответствующие \"змеиному\" регистру, а столбец с датами преобразован. Пропусков в данных не выявлено, а найденные дубликаты удалены.\n",
    "<br> В процессе изучения данных выяснено:\n",
    "- в эксперименте участвует 7551 пользователь;\n",
    "- на одного человека, в среднем, приходится 20 событий;\n",
    "- данные предоставлены за период с 25 июля по 7 августа 2019 года, однако релевантные данные только за август;\n",
    "- в датасете присутствуют представители всех трех исследуемых групп.\n",
    "\n",
    "Исходя из выстроенной воронки событий, выстроилась логическая цепочка действий, которые должен производить пользователь:\n",
    "-\tоткрытие главного экрана;\n",
    "-\tоткрытие экрана с товарами;\n",
    "-\tоткрытие корзины;\n",
    "-\tпоявление отчета об успешной оплате.\n",
    "\n",
    "Tutorial (инструкция, обучение) же в эту последовательность не встраивается, т. к. мы не можем четко определить когда пользователю использовать этот раздел. Эта страница является аутсайдером по посещениям. Для дальнейших исследований он был исключен.\n",
    "<br> Далее было замечено, что около 40% пользователей «теряется» на этапе перехода с главной страницы на страницу с товарами. Вероятно, есть возможность попасть на страницу с товарами минуя главный экран. Либо же имеет место неудобное (интуитивно не понятное) оформление приложения.\n",
    "<br> Также замечено, что от открытия главной страницы до оплаты товара дошли ~48% пользователей приложения.\n",
    "\n",
    "Для проверки групп изначально был использован уровень значимости α = 0.05. Но т.к. нужно было провести 16 проверок, была внесена поправка по методу Шидака, чтобы избежать ошибки первого рода по множественном сравнении. \n",
    "<br> Гипотезы для всех проверок были сформулированы одинаково:\n",
    "<br> Нулевая: различий в пропорциях количества пользователей, выполнивших данное действие, ко всем пользователям группы между группами нет.\n",
    "<br> Альтернативная: различия количества пользователей, выполнивших данное действие, ко всем пользователям группы в пропорциях между группами есть.\n",
    "<br> Между контрольными группами (246 и 247) ни на одном этапе не обнаружилось статистически значимых различий, это означало, что один весомый фактор влияния на точность дальнейшего эксперимента был отсечен.\n",
    "<br> Однако, в итоге, ни одну из 16 нулевых гипотез не удалось опровергнуть. А это значит, что ни в одном из событий при сравнении всех групп не достигнута статистически значимая разница между группами. Следовательно, проверяемая гипотеза о влиянии шрифтов в приложении на пользователей не подтвердилась."
   ]
  }
 ],
 "metadata": {
  "ExecuteTimeLog": [
   {
    "duration": 1037,
    "start_time": "2023-01-20T08:34:06.772Z"
   },
   {
    "duration": 147,
    "start_time": "2023-01-20T08:34:07.811Z"
   },
   {
    "duration": 4,
    "start_time": "2023-01-20T08:34:07.960Z"
   },
   {
    "duration": 41,
    "start_time": "2023-01-20T08:34:07.968Z"
   },
   {
    "duration": 3,
    "start_time": "2023-01-20T08:34:08.011Z"
   },
   {
    "duration": 28,
    "start_time": "2023-01-20T08:34:08.015Z"
   },
   {
    "duration": 17,
    "start_time": "2023-01-20T08:34:08.045Z"
   },
   {
    "duration": 141,
    "start_time": "2023-01-20T08:34:08.064Z"
   },
   {
    "duration": 80,
    "start_time": "2023-01-20T08:34:08.207Z"
   },
   {
    "duration": 22,
    "start_time": "2023-01-20T08:34:08.289Z"
   },
   {
    "duration": 18,
    "start_time": "2023-01-20T08:34:08.315Z"
   },
   {
    "duration": 16834,
    "start_time": "2023-01-20T08:34:08.335Z"
   },
   {
    "duration": 25,
    "start_time": "2023-01-20T08:34:25.171Z"
   },
   {
    "duration": 358,
    "start_time": "2023-01-20T08:34:25.198Z"
   },
   {
    "duration": 27,
    "start_time": "2023-01-20T08:34:25.558Z"
   },
   {
    "duration": 3,
    "start_time": "2023-01-20T08:34:25.587Z"
   },
   {
    "duration": 55,
    "start_time": "2023-01-20T08:34:25.591Z"
   },
   {
    "duration": 76,
    "start_time": "2023-01-20T08:34:25.648Z"
   },
   {
    "duration": 119,
    "start_time": "2023-01-20T08:34:25.725Z"
   },
   {
    "duration": 25,
    "start_time": "2023-01-20T08:34:25.846Z"
   },
   {
    "duration": 277,
    "start_time": "2023-01-20T08:34:25.873Z"
   },
   {
    "duration": 3,
    "start_time": "2023-01-20T08:34:26.152Z"
   },
   {
    "duration": 105,
    "start_time": "2023-01-20T08:34:26.156Z"
   },
   {
    "duration": 52,
    "start_time": "2023-01-20T08:34:26.263Z"
   },
   {
    "duration": 84,
    "start_time": "2023-01-20T08:34:26.338Z"
   },
   {
    "duration": 16,
    "start_time": "2023-01-20T08:34:26.424Z"
   },
   {
    "duration": 30,
    "start_time": "2023-01-20T08:34:26.442Z"
   },
   {
    "duration": 55,
    "start_time": "2023-01-20T08:34:26.475Z"
   },
   {
    "duration": 22,
    "start_time": "2023-01-20T08:34:26.532Z"
   },
   {
    "duration": 18,
    "start_time": "2023-01-20T08:34:26.556Z"
   },
   {
    "duration": 36,
    "start_time": "2023-01-20T08:34:26.576Z"
   },
   {
    "duration": 13,
    "start_time": "2023-01-20T08:34:26.614Z"
   },
   {
    "duration": 22,
    "start_time": "2023-01-20T08:34:26.628Z"
   },
   {
    "duration": 29,
    "start_time": "2023-01-20T08:34:26.651Z"
   },
   {
    "duration": 33,
    "start_time": "2023-01-20T08:34:26.681Z"
   },
   {
    "duration": 38,
    "start_time": "2023-01-20T08:34:26.716Z"
   },
   {
    "duration": 20,
    "start_time": "2023-01-20T08:34:26.756Z"
   },
   {
    "duration": 32,
    "start_time": "2023-01-20T08:34:26.778Z"
   },
   {
    "duration": 24,
    "start_time": "2023-01-20T08:34:26.812Z"
   },
   {
    "duration": 35,
    "start_time": "2023-01-20T08:34:26.838Z"
   },
   {
    "duration": 42,
    "start_time": "2023-01-20T08:34:26.875Z"
   },
   {
    "duration": 26,
    "start_time": "2023-01-20T08:34:26.919Z"
   },
   {
    "duration": 1295,
    "start_time": "2023-01-20T08:41:14.825Z"
   },
   {
    "duration": 519,
    "start_time": "2023-01-20T08:41:16.122Z"
   },
   {
    "duration": 3,
    "start_time": "2023-01-20T08:41:16.642Z"
   },
   {
    "duration": 21,
    "start_time": "2023-01-20T08:41:16.647Z"
   },
   {
    "duration": 3,
    "start_time": "2023-01-20T08:41:17.093Z"
   },
   {
    "duration": 11,
    "start_time": "2023-01-20T08:41:17.715Z"
   },
   {
    "duration": 27,
    "start_time": "2023-01-20T08:41:18.307Z"
   },
   {
    "duration": 114,
    "start_time": "2023-01-20T08:41:20.084Z"
   },
   {
    "duration": 84,
    "start_time": "2023-01-20T08:41:20.830Z"
   },
   {
    "duration": 24,
    "start_time": "2023-01-20T08:41:30.262Z"
   },
   {
    "duration": 9,
    "start_time": "2023-01-20T08:41:30.766Z"
   },
   {
    "duration": 14439,
    "start_time": "2023-01-20T08:41:31.428Z"
   },
   {
    "duration": 31,
    "start_time": "2023-01-20T08:41:45.869Z"
   },
   {
    "duration": 384,
    "start_time": "2023-01-20T08:41:45.902Z"
   },
   {
    "duration": 37,
    "start_time": "2023-01-20T08:41:46.288Z"
   },
   {
    "duration": 4,
    "start_time": "2023-01-20T08:41:46.327Z"
   },
   {
    "duration": 6,
    "start_time": "2023-01-20T08:41:57.992Z"
   },
   {
    "duration": 23,
    "start_time": "2023-01-20T08:42:10.571Z"
   },
   {
    "duration": 61,
    "start_time": "2023-01-20T08:42:10.935Z"
   },
   {
    "duration": 25,
    "start_time": "2023-01-20T08:42:12.496Z"
   },
   {
    "duration": 168,
    "start_time": "2023-01-20T08:42:14.575Z"
   },
   {
    "duration": 4,
    "start_time": "2023-01-20T08:42:19.723Z"
   },
   {
    "duration": 46,
    "start_time": "2023-01-20T08:42:36.180Z"
   },
   {
    "duration": 50,
    "start_time": "2023-01-20T08:42:37.030Z"
   },
   {
    "duration": 89,
    "start_time": "2023-01-20T08:42:41.074Z"
   },
   {
    "duration": 5,
    "start_time": "2023-01-20T08:42:43.457Z"
   },
   {
    "duration": 5,
    "start_time": "2023-01-20T08:42:45.180Z"
   },
   {
    "duration": 5,
    "start_time": "2023-01-20T08:42:45.676Z"
   },
   {
    "duration": 5,
    "start_time": "2023-01-20T08:42:46.164Z"
   },
   {
    "duration": 5,
    "start_time": "2023-01-20T08:42:46.543Z"
   },
   {
    "duration": 6,
    "start_time": "2023-01-20T08:42:47.424Z"
   },
   {
    "duration": 5,
    "start_time": "2023-01-20T08:42:47.587Z"
   },
   {
    "duration": 5,
    "start_time": "2023-01-20T08:42:47.760Z"
   },
   {
    "duration": 5,
    "start_time": "2023-01-20T08:42:47.928Z"
   },
   {
    "duration": 5,
    "start_time": "2023-01-20T08:42:48.598Z"
   },
   {
    "duration": 5,
    "start_time": "2023-01-20T08:42:48.761Z"
   },
   {
    "duration": 5,
    "start_time": "2023-01-20T08:42:48.937Z"
   },
   {
    "duration": 5,
    "start_time": "2023-01-20T08:42:49.118Z"
   },
   {
    "duration": 6,
    "start_time": "2023-01-20T08:42:49.622Z"
   },
   {
    "duration": 5,
    "start_time": "2023-01-20T08:42:49.816Z"
   },
   {
    "duration": 5,
    "start_time": "2023-01-20T08:42:49.970Z"
   },
   {
    "duration": 5,
    "start_time": "2023-01-20T08:42:50.142Z"
   },
   {
    "duration": 55,
    "start_time": "2023-01-20T08:43:46.641Z"
   },
   {
    "duration": 18,
    "start_time": "2023-01-20T08:57:37.500Z"
   },
   {
    "duration": 17,
    "start_time": "2023-01-20T08:58:02.157Z"
   },
   {
    "duration": 17,
    "start_time": "2023-01-20T08:58:32.081Z"
   },
   {
    "duration": 248,
    "start_time": "2023-01-20T09:00:20.236Z"
   },
   {
    "duration": 3,
    "start_time": "2023-01-20T09:00:30.737Z"
   },
   {
    "duration": 211,
    "start_time": "2023-01-20T09:00:31.001Z"
   },
   {
    "duration": 2,
    "start_time": "2023-01-20T09:00:31.283Z"
   },
   {
    "duration": 13,
    "start_time": "2023-01-20T09:00:31.535Z"
   },
   {
    "duration": 8,
    "start_time": "2023-01-20T09:00:31.777Z"
   },
   {
    "duration": 33,
    "start_time": "2023-01-20T09:00:32.049Z"
   },
   {
    "duration": 104,
    "start_time": "2023-01-20T09:00:32.452Z"
   },
   {
    "duration": 69,
    "start_time": "2023-01-20T09:00:33.781Z"
   },
   {
    "duration": 22,
    "start_time": "2023-01-20T09:00:36.367Z"
   },
   {
    "duration": 8,
    "start_time": "2023-01-20T09:00:37.150Z"
   },
   {
    "duration": 14463,
    "start_time": "2023-01-20T09:00:37.639Z"
   },
   {
    "duration": 32,
    "start_time": "2023-01-20T09:00:52.104Z"
   },
   {
    "duration": 304,
    "start_time": "2023-01-20T09:00:52.138Z"
   },
   {
    "duration": 29,
    "start_time": "2023-01-20T09:00:56.024Z"
   },
   {
    "duration": 16,
    "start_time": "2023-01-20T09:00:58.420Z"
   },
   {
    "duration": 6,
    "start_time": "2023-01-20T09:01:34.096Z"
   },
   {
    "duration": 37,
    "start_time": "2023-01-20T09:01:41.451Z"
   },
   {
    "duration": 74,
    "start_time": "2023-01-20T09:01:42.138Z"
   },
   {
    "duration": 29,
    "start_time": "2023-01-20T09:01:44.084Z"
   },
   {
    "duration": 77,
    "start_time": "2023-01-20T09:01:45.556Z"
   },
   {
    "duration": 3,
    "start_time": "2023-01-20T09:01:46.395Z"
   },
   {
    "duration": 45,
    "start_time": "2023-01-20T09:01:48.543Z"
   },
   {
    "duration": 44,
    "start_time": "2023-01-20T09:01:49.184Z"
   },
   {
    "duration": 106,
    "start_time": "2023-01-20T09:01:50.400Z"
   },
   {
    "duration": 5,
    "start_time": "2023-01-20T09:01:51.550Z"
   },
   {
    "duration": 6,
    "start_time": "2023-01-20T09:01:53.522Z"
   },
   {
    "duration": 5,
    "start_time": "2023-01-20T09:01:54.087Z"
   },
   {
    "duration": 7,
    "start_time": "2023-01-20T09:01:54.790Z"
   },
   {
    "duration": 6,
    "start_time": "2023-01-20T09:01:55.392Z"
   },
   {
    "duration": 5,
    "start_time": "2023-01-20T09:01:57.812Z"
   },
   {
    "duration": 5,
    "start_time": "2023-01-20T09:01:58.481Z"
   },
   {
    "duration": 5,
    "start_time": "2023-01-20T09:02:01.082Z"
   },
   {
    "duration": 5,
    "start_time": "2023-01-20T09:02:04.286Z"
   },
   {
    "duration": 5,
    "start_time": "2023-01-20T09:02:06.852Z"
   },
   {
    "duration": 7,
    "start_time": "2023-01-20T09:02:07.558Z"
   },
   {
    "duration": 5,
    "start_time": "2023-01-20T09:02:08.181Z"
   },
   {
    "duration": 5,
    "start_time": "2023-01-20T09:02:08.760Z"
   },
   {
    "duration": 10,
    "start_time": "2023-01-20T09:02:10.372Z"
   },
   {
    "duration": 5,
    "start_time": "2023-01-20T09:02:10.932Z"
   },
   {
    "duration": 5,
    "start_time": "2023-01-20T09:02:11.498Z"
   },
   {
    "duration": 5,
    "start_time": "2023-01-20T09:02:12.020Z"
   },
   {
    "duration": 1347,
    "start_time": "2023-03-04T08:51:43.632Z"
   },
   {
    "duration": 714,
    "start_time": "2023-03-04T08:51:44.981Z"
   },
   {
    "duration": 3,
    "start_time": "2023-03-04T08:51:45.697Z"
   },
   {
    "duration": 18,
    "start_time": "2023-03-04T08:51:45.702Z"
   },
   {
    "duration": 9,
    "start_time": "2023-03-04T08:51:45.721Z"
   },
   {
    "duration": 20,
    "start_time": "2023-03-04T08:51:45.731Z"
   },
   {
    "duration": 143,
    "start_time": "2023-03-04T08:51:45.752Z"
   },
   {
    "duration": 80,
    "start_time": "2023-03-04T08:51:45.897Z"
   },
   {
    "duration": 6,
    "start_time": "2023-03-04T08:51:45.979Z"
   },
   {
    "duration": 1096,
    "start_time": "2023-03-13T12:24:16.019Z"
   },
   {
    "duration": 1023,
    "start_time": "2023-03-13T12:24:17.117Z"
   },
   {
    "duration": 5,
    "start_time": "2023-03-13T12:24:18.142Z"
   },
   {
    "duration": 25,
    "start_time": "2023-03-13T12:24:18.149Z"
   },
   {
    "duration": 10,
    "start_time": "2023-03-13T12:24:18.175Z"
   },
   {
    "duration": 20,
    "start_time": "2023-03-13T12:24:18.187Z"
   },
   {
    "duration": 144,
    "start_time": "2023-03-13T12:24:18.209Z"
   },
   {
    "duration": 77,
    "start_time": "2023-03-13T12:24:18.355Z"
   },
   {
    "duration": 22,
    "start_time": "2023-03-13T12:24:18.433Z"
   },
   {
    "duration": 10,
    "start_time": "2023-03-13T12:24:19.030Z"
   },
   {
    "duration": 8,
    "start_time": "2023-03-13T12:24:19.273Z"
   },
   {
    "duration": 19140,
    "start_time": "2023-03-13T12:24:19.489Z"
   },
   {
    "duration": 27,
    "start_time": "2023-03-13T12:24:38.632Z"
   },
   {
    "duration": 364,
    "start_time": "2023-03-13T12:24:38.661Z"
   },
   {
    "duration": 38,
    "start_time": "2023-03-13T12:24:39.027Z"
   },
   {
    "duration": 116,
    "start_time": "2023-03-13T12:24:39.067Z"
   },
   {
    "duration": 0,
    "start_time": "2023-03-13T12:24:39.185Z"
   },
   {
    "duration": 0,
    "start_time": "2023-03-13T12:24:39.186Z"
   },
   {
    "duration": 0,
    "start_time": "2023-03-13T12:24:39.187Z"
   },
   {
    "duration": 0,
    "start_time": "2023-03-13T12:24:39.188Z"
   },
   {
    "duration": 0,
    "start_time": "2023-03-13T12:24:39.189Z"
   },
   {
    "duration": 8,
    "start_time": "2023-03-13T12:24:47.566Z"
   },
   {
    "duration": 25,
    "start_time": "2023-03-13T12:24:51.929Z"
   },
   {
    "duration": 27,
    "start_time": "2023-03-13T12:24:52.706Z"
   },
   {
    "duration": 1123,
    "start_time": "2023-03-13T12:25:07.602Z"
   },
   {
    "duration": 151,
    "start_time": "2023-03-13T12:25:08.727Z"
   },
   {
    "duration": 2,
    "start_time": "2023-03-13T12:25:08.880Z"
   },
   {
    "duration": 19,
    "start_time": "2023-03-13T12:25:08.887Z"
   },
   {
    "duration": 10,
    "start_time": "2023-03-13T12:25:09.372Z"
   },
   {
    "duration": 20,
    "start_time": "2023-03-13T12:25:09.836Z"
   },
   {
    "duration": 122,
    "start_time": "2023-03-13T12:25:10.285Z"
   },
   {
    "duration": 73,
    "start_time": "2023-03-13T12:25:10.763Z"
   },
   {
    "duration": 6,
    "start_time": "2023-03-13T12:25:11.217Z"
   },
   {
    "duration": 12,
    "start_time": "2023-03-13T12:25:12.863Z"
   },
   {
    "duration": 7,
    "start_time": "2023-03-13T12:25:13.202Z"
   },
   {
    "duration": 18420,
    "start_time": "2023-03-13T12:25:13.636Z"
   },
   {
    "duration": 27,
    "start_time": "2023-03-13T12:25:32.058Z"
   },
   {
    "duration": 397,
    "start_time": "2023-03-13T12:25:32.087Z"
   },
   {
    "duration": 29,
    "start_time": "2023-03-13T12:25:32.486Z"
   },
   {
    "duration": 128,
    "start_time": "2023-03-13T12:25:32.517Z"
   },
   {
    "duration": 1155,
    "start_time": "2023-03-13T15:33:41.460Z"
   },
   {
    "duration": 151,
    "start_time": "2023-03-13T15:33:42.617Z"
   },
   {
    "duration": 3,
    "start_time": "2023-03-13T15:33:42.770Z"
   },
   {
    "duration": 36,
    "start_time": "2023-03-13T15:33:42.775Z"
   },
   {
    "duration": 10,
    "start_time": "2023-03-13T15:33:42.814Z"
   },
   {
    "duration": 33,
    "start_time": "2023-03-13T15:33:42.826Z"
   },
   {
    "duration": 139,
    "start_time": "2023-03-13T15:33:42.861Z"
   },
   {
    "duration": 91,
    "start_time": "2023-03-13T15:33:43.001Z"
   },
   {
    "duration": 7,
    "start_time": "2023-03-13T15:33:43.094Z"
   },
   {
    "duration": 19,
    "start_time": "2023-03-13T15:33:43.104Z"
   },
   {
    "duration": 29,
    "start_time": "2023-03-13T15:33:43.125Z"
   },
   {
    "duration": 21257,
    "start_time": "2023-03-13T15:33:43.156Z"
   },
   {
    "duration": 39,
    "start_time": "2023-03-13T15:34:04.415Z"
   },
   {
    "duration": 367,
    "start_time": "2023-03-13T15:34:04.460Z"
   },
   {
    "duration": 42,
    "start_time": "2023-03-13T15:34:04.829Z"
   },
   {
    "duration": 120,
    "start_time": "2023-03-13T15:34:04.873Z"
   },
   {
    "duration": 0,
    "start_time": "2023-03-13T15:34:04.995Z"
   },
   {
    "duration": 0,
    "start_time": "2023-03-13T15:34:04.999Z"
   },
   {
    "duration": 0,
    "start_time": "2023-03-13T15:34:05.000Z"
   },
   {
    "duration": 0,
    "start_time": "2023-03-13T15:34:05.001Z"
   },
   {
    "duration": 0,
    "start_time": "2023-03-13T15:34:05.003Z"
   },
   {
    "duration": 0,
    "start_time": "2023-03-13T15:34:05.004Z"
   },
   {
    "duration": 0,
    "start_time": "2023-03-13T15:34:05.006Z"
   },
   {
    "duration": 0,
    "start_time": "2023-03-13T15:34:05.008Z"
   },
   {
    "duration": 0,
    "start_time": "2023-03-13T15:34:05.009Z"
   },
   {
    "duration": 0,
    "start_time": "2023-03-13T15:34:05.011Z"
   },
   {
    "duration": 0,
    "start_time": "2023-03-13T15:34:05.012Z"
   },
   {
    "duration": 0,
    "start_time": "2023-03-13T15:34:05.013Z"
   },
   {
    "duration": 0,
    "start_time": "2023-03-13T15:34:05.015Z"
   },
   {
    "duration": 0,
    "start_time": "2023-03-13T15:34:05.016Z"
   },
   {
    "duration": 0,
    "start_time": "2023-03-13T15:34:05.018Z"
   },
   {
    "duration": 0,
    "start_time": "2023-03-13T15:34:05.018Z"
   },
   {
    "duration": 0,
    "start_time": "2023-03-13T15:34:05.019Z"
   },
   {
    "duration": 0,
    "start_time": "2023-03-13T15:34:05.020Z"
   },
   {
    "duration": 0,
    "start_time": "2023-03-13T15:34:05.020Z"
   },
   {
    "duration": 0,
    "start_time": "2023-03-13T15:34:05.021Z"
   },
   {
    "duration": 0,
    "start_time": "2023-03-13T15:34:05.021Z"
   },
   {
    "duration": 0,
    "start_time": "2023-03-13T15:34:05.054Z"
   },
   {
    "duration": 0,
    "start_time": "2023-03-13T15:34:05.056Z"
   },
   {
    "duration": 0,
    "start_time": "2023-03-13T15:34:05.057Z"
   },
   {
    "duration": 0,
    "start_time": "2023-03-13T15:34:05.058Z"
   },
   {
    "duration": 0,
    "start_time": "2023-03-13T15:34:05.059Z"
   },
   {
    "duration": 87,
    "start_time": "2023-03-13T20:58:50.335Z"
   },
   {
    "duration": 1115,
    "start_time": "2023-03-13T20:59:04.219Z"
   },
   {
    "duration": 172,
    "start_time": "2023-03-13T20:59:05.336Z"
   },
   {
    "duration": 3,
    "start_time": "2023-03-13T20:59:05.510Z"
   },
   {
    "duration": 27,
    "start_time": "2023-03-13T20:59:05.515Z"
   },
   {
    "duration": 27,
    "start_time": "2023-03-13T20:59:05.544Z"
   },
   {
    "duration": 20,
    "start_time": "2023-03-13T20:59:05.573Z"
   },
   {
    "duration": 142,
    "start_time": "2023-03-13T20:59:05.595Z"
   },
   {
    "duration": 90,
    "start_time": "2023-03-13T20:59:05.738Z"
   },
   {
    "duration": 7,
    "start_time": "2023-03-13T20:59:05.829Z"
   },
   {
    "duration": 28,
    "start_time": "2023-03-13T20:59:05.838Z"
   },
   {
    "duration": 7,
    "start_time": "2023-03-13T20:59:05.868Z"
   },
   {
    "duration": 18453,
    "start_time": "2023-03-13T20:59:05.877Z"
   },
   {
    "duration": 40,
    "start_time": "2023-03-13T20:59:24.332Z"
   },
   {
    "duration": 339,
    "start_time": "2023-03-13T20:59:24.374Z"
   },
   {
    "duration": 30,
    "start_time": "2023-03-13T20:59:24.714Z"
   },
   {
    "duration": 120,
    "start_time": "2023-03-13T20:59:24.753Z"
   },
   {
    "duration": 0,
    "start_time": "2023-03-13T20:59:24.875Z"
   },
   {
    "duration": 0,
    "start_time": "2023-03-13T20:59:24.876Z"
   },
   {
    "duration": 0,
    "start_time": "2023-03-13T20:59:24.877Z"
   },
   {
    "duration": 0,
    "start_time": "2023-03-13T20:59:24.879Z"
   },
   {
    "duration": 0,
    "start_time": "2023-03-13T20:59:24.880Z"
   },
   {
    "duration": 0,
    "start_time": "2023-03-13T20:59:24.882Z"
   },
   {
    "duration": 0,
    "start_time": "2023-03-13T20:59:24.883Z"
   },
   {
    "duration": 0,
    "start_time": "2023-03-13T20:59:24.884Z"
   },
   {
    "duration": 0,
    "start_time": "2023-03-13T20:59:24.885Z"
   },
   {
    "duration": 0,
    "start_time": "2023-03-13T20:59:24.887Z"
   },
   {
    "duration": 0,
    "start_time": "2023-03-13T20:59:24.888Z"
   },
   {
    "duration": 0,
    "start_time": "2023-03-13T20:59:24.889Z"
   },
   {
    "duration": 0,
    "start_time": "2023-03-13T20:59:24.890Z"
   },
   {
    "duration": 0,
    "start_time": "2023-03-13T20:59:24.891Z"
   },
   {
    "duration": 0,
    "start_time": "2023-03-13T20:59:24.892Z"
   },
   {
    "duration": 0,
    "start_time": "2023-03-13T20:59:24.893Z"
   },
   {
    "duration": 0,
    "start_time": "2023-03-13T20:59:24.894Z"
   },
   {
    "duration": 0,
    "start_time": "2023-03-13T20:59:24.895Z"
   },
   {
    "duration": 0,
    "start_time": "2023-03-13T20:59:24.896Z"
   },
   {
    "duration": 0,
    "start_time": "2023-03-13T20:59:24.897Z"
   },
   {
    "duration": 0,
    "start_time": "2023-03-13T20:59:24.898Z"
   },
   {
    "duration": 0,
    "start_time": "2023-03-13T20:59:24.899Z"
   },
   {
    "duration": 0,
    "start_time": "2023-03-13T20:59:24.900Z"
   },
   {
    "duration": 0,
    "start_time": "2023-03-13T20:59:24.901Z"
   },
   {
    "duration": 0,
    "start_time": "2023-03-13T20:59:24.902Z"
   },
   {
    "duration": 0,
    "start_time": "2023-03-13T20:59:24.903Z"
   },
   {
    "duration": 9,
    "start_time": "2023-03-13T20:59:35.077Z"
   }
  ],
  "kernelspec": {
   "display_name": "Python 3 (ipykernel)",
   "language": "python",
   "name": "python3"
  },
  "language_info": {
   "codemirror_mode": {
    "name": "ipython",
    "version": 3
   },
   "file_extension": ".py",
   "mimetype": "text/x-python",
   "name": "python",
   "nbconvert_exporter": "python",
   "pygments_lexer": "ipython3",
   "version": "3.9.12"
  },
  "toc": {
   "base_numbering": 1,
   "nav_menu": {},
   "number_sections": true,
   "sideBar": true,
   "skip_h1_title": true,
   "title_cell": "Table of Contents",
   "title_sidebar": "Contents",
   "toc_cell": false,
   "toc_position": {},
   "toc_section_display": true,
   "toc_window_display": false
  }
 },
 "nbformat": 4,
 "nbformat_minor": 5
}
